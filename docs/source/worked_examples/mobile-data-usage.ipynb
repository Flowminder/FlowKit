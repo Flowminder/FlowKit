{
 "cells": [
  {
   "cell_type": "markdown",
   "metadata": {
    "pycharm": {}
   },
   "source": [
    "# Analysis using FlowMachine directly\n",
    "\n",
    "## Mobile Data Usage\n",
    "\n",
    "In this worked example we assume the role of an analyst within the MNO who has been granted access to use FlowMachine directly without going through FlowAPI. Our aim is to investigate how the number of mobile data session (MDS) events varies with the time of day.\n",
    "\n",
    "### Load FlowMachine and connect to FlowDB\n",
    "\n",
    "We start by importing the FlowMachine library. We also import [geopandas](http://geopandas.org/) and [mapboxgl](https://mapbox-mapboxgl-jupyter.readthedocs-hosted.com/en/latest/), which we will use later to to visualise the data.\n",
    "\n",
    "Mapbox requires an [access token](https://www.mapbox.com/account/), which should be set as the environment variable `MAPBOX_ACCESS_TOKEN`."
   ]
  },
  {
   "cell_type": "code",
   "execution_count": null,
   "metadata": {
    "pycharm": {}
   },
   "outputs": [],
   "source": [
    "import flowmachine\n",
    "import os\n",
    "import geopandas as gpd\n",
    "import mapboxgl\n",
    "from mapboxgl.utils import (\n",
    "    create_color_stops,\n",
    "    create_weight_stops,\n",
    "    df_to_geojson,\n",
    ")\n",
    "\n",
    "mapbox_token = os.getenv(\"MAPBOX_ACCESS_TOKEN\")"
   ]
  },
  {
   "cell_type": "markdown",
   "metadata": {
    "pycharm": {}
   },
   "source": [
    "Next, we connect FlowMachine to FlowDB."
   ]
  },
  {
   "cell_type": "code",
   "execution_count": null,
   "metadata": {
    "pycharm": {}
   },
   "outputs": [],
   "source": [
    "flowmachine.connect()"
   ]
  },
  {
   "cell_type": "markdown",
   "metadata": {
    "pycharm": {}
   },
   "source": [
    "### Get MDS event counts\n",
    "\n",
    "We create a `TotalLocationEvents` query to calculate the number of MDS events per cell tower, at hourly intervals over the first 6 days of 2016."
   ]
  },
  {
   "cell_type": "code",
   "execution_count": null,
   "metadata": {
    "pycharm": {}
   },
   "outputs": [],
   "source": [
    "data_events_query = flowmachine.features.TotalLocationEvents(\n",
    "    start=\"2016-01-01\",\n",
    "    stop=\"2016-01-07\",\n",
    "    table=\"events.mds\",\n",
    "    level=\"versioned-cell\",\n",
    "    interval=\"hour\",\n",
    "    size=10,\n",
    ")"
   ]
  },
  {
   "cell_type": "markdown",
   "metadata": {
    "pycharm": {}
   },
   "source": [
    "Then we call the `get_dataframe` method to run this query and get the result as a `pandas` DataFrame."
   ]
  },
  {
   "cell_type": "code",
   "execution_count": null,
   "metadata": {
    "pycharm": {}
   },
   "outputs": [],
   "source": [
    "data_events = data_events_query.get_dataframe()"
   ]
  },
  {
   "cell_type": "markdown",
   "metadata": {
    "pycharm": {}
   },
   "source": [
    "Next, we sum over the six days to get total hourly counts per cell tower location."
   ]
  },
  {
   "cell_type": "code",
   "execution_count": null,
   "metadata": {
    "pycharm": {}
   },
   "outputs": [],
   "source": [
    "events_per_hour = (\n",
    "    data_events.groupby([\"lon\", \"lat\", \"hour\"]).sum().reset_index()\n",
    ")"
   ]
  },
  {
   "cell_type": "markdown",
   "metadata": {},
   "source": [
    "### Visualise data events on a heatmap\n",
    "\n",
    "We can easily view the total MDS event count per hour using the `plot` method of `events_per_hour`."
   ]
  },
  {
   "cell_type": "code",
   "execution_count": null,
   "metadata": {},
   "outputs": [],
   "source": [
    "%matplotlib inline\n",
    "\n",
    "events_per_hour.groupby(\"hour\").sum().plot(y=\"total\")"
   ]
  },
  {
   "cell_type": "markdown",
   "metadata": {},
   "source": [
    "We can use the `Mapbox GL` library to display a heatmap of our MDS event counts for a particular hour."
   ]
  },
  {
   "cell_type": "code",
   "execution_count": null,
   "metadata": {},
   "outputs": [],
   "source": [
    "hour_to_show = 0\n",
    "\n",
    "events_per_hour_geodataframe = gpd.GeoDataFrame(\n",
    "    events_per_hour,\n",
    "    geometry=gpd.points_from_xy(events_per_hour.lon, events_per_hour.lat),\n",
    ")\n",
    "\n",
    "heatmap_viz = mapboxgl.HeatmapViz(\n",
    "    events_per_hour_geodataframe[\n",
    "        events_per_hour_geodataframe.hour == hour_to_show\n",
    "    ].__geo_interface__,\n",
    "    access_token=mapbox_token,\n",
    "    weight_property=\"total\",\n",
    "    weight_stops=create_weight_stops([0, 0.2, 2, 20, 200]),\n",
    "    color_stops=create_color_stops([0.01, 0.25, 0.5, 0.75, 1], colors=\"RdPu\"),\n",
    "    radius_stops=[[0, 0], [5.5, 16], [15, 200]],  # increase radius with zoom\n",
    "    opacity=0.8,\n",
    "    below_layer=\"waterway-label\",\n",
    "    center=(84.1, 28.4),\n",
    "    zoom=5.5,\n",
    ")\n",
    "\n",
    "heatmap_viz.show()"
   ]
  }
 ],
 "metadata": {
  "kernelspec": {
   "display_name": "Python 3",
   "language": "python",
   "name": "python3"
  },
  "language_info": {
   "codemirror_mode": {
    "name": "ipython",
    "version": 3
   },
   "file_extension": ".py",
   "mimetype": "text/x-python",
   "name": "python",
   "nbconvert_exporter": "python",
   "pygments_lexer": "ipython3",
   "version": "3.7.0"
  }
 },
 "nbformat": 4,
 "nbformat_minor": 2
}
