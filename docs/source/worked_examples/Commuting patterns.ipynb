{
 "cells": [
  {
   "cell_type": "markdown",
   "metadata": {},
   "source": [
    "# Commuting patterns\n",
    "\n",
    "In this worked example we demonstrate the use of FlowKit to investigate commuting patterns. We will use `meaningful_locations_aggregate` queries to calculate subscribers' home and work locations, following methods developed by [Isaacman et al.](https://doi.org/10.1007/978-3-642-21726-5_9) and [Zagatti et al.](https://doi.org/10.1016/j.deveng.2018.03.002).\n",
    "\n",
    "### Load FlowClient and connect to FlowAPI\n",
    "\n",
    "We start by importing FlowClient. We also import [folium](https://python-visualization.github.io/folium/), which we will use later to to visualise the data."
   ]
  },
  {
   "cell_type": "code",
   "execution_count": null,
   "metadata": {},
   "outputs": [],
   "source": [
    "import flowclient, folium"
   ]
  },
  {
   "cell_type": "markdown",
   "metadata": {},
   "source": [
    "We must next generate an API access token using [FlowAuth](../../index.html#flowauth), and paste the token here as `TOKEN`. Once we have a token, we can start a connection to the FlowAPI system."
   ]
  },
  {
   "cell_type": "code",
   "execution_count": null,
   "metadata": {},
   "outputs": [],
   "source": [
    "conn = flowclient.connect(\"http://localhost:9090\", TOKEN)"
   ]
  },
  {
   "cell_type": "markdown",
   "metadata": {},
   "source": [
    "### Create meaningful locations queries\n",
    "\n",
    "We assign a day-of-week score of +1 to events which occur on weekdays (Monday-Friday), and a score of -1 to weekends (Saturday, Sunday). We assign an hour-of-day score of +1 to events during \"working hours\", which we define here as 08:00-17:00, and a score of -1 to evening hours 19:00-07:00. We then define two labels: we label locations with a positive hour-of-day score as `\"daytime\"`, and locations with a negative hour-of-day score as `\"evening\"`."
   ]
  },
  {
   "cell_type": "code",
   "execution_count": null,
   "metadata": {},
   "outputs": [],
   "source": [
    "tower_day_of_week_scores = {\n",
    "    \"monday\": 1,\n",
    "    \"tuesday\": 1,\n",
    "    \"wednesday\": 1,\n",
    "    \"thursday\": 1,\n",
    "    \"friday\": 1,\n",
    "    \"saturday\": -1,\n",
    "    \"sunday\": -1,\n",
    "}\n",
    "\n",
    "tower_hour_of_day_scores=[-1, -1, -1, -1, -1, -1, -1, 0, 1, 1, 1, 1, 1, 1, 1, 1, 1, 0, 0, -1, -1, -1, -1, -1]\n",
    "\n",
    "meaningful_locations_labels={\n",
    "    \"evening\": {\n",
    "        \"type\": \"Polygon\",\n",
    "        \"coordinates\": [\n",
    "            [[-1, 1], [-1, -1], [-1e-06, -1], [-1e-06, 1]]\n",
    "        ],\n",
    "    },\n",
    "    \"daytime\": {\n",
    "        \"type\": \"Polygon\",\n",
    "        \"coordinates\": [\n",
    "            [[0, 1], [0, -1], [1, -1], [1, 1]]\n",
    "        ],\n",
    "    },\n",
    "}"
   ]
  },
  {
   "cell_type": "markdown",
   "metadata": {},
   "source": [
    "Having defined our labels, we now pass these to the `meaningful_locations_aggregate` function to create parameter dictionaries for two meaningful locations queries: a \"home location\", which will count the number of subscribers with \"evening\" locations in each level 3 adminstrative region, and a \"work location\", which will instead count \"daytime\" locations."
   ]
  },
  {
   "cell_type": "code",
   "execution_count": null,
   "metadata": {},
   "outputs": [],
   "source": [
    "home_locations_spec = flowclient.meaningful_locations_aggregate(\n",
    "    \"2016-01-01\",\n",
    "    \"2016-01-07\",\n",
    "    \"evening\",\n",
    "    labels=meaningful_locations_labels,\n",
    "    tower_day_of_week_scores=tower_day_of_week_scores,\n",
    "    tower_hour_of_day_scores=tower_hour_of_day_scores,\n",
    "    aggregation_unit=\"admin3\"\n",
    ")\n",
    "work_locations_spec = flowclient.meaningful_locations_aggregate(\n",
    "    \"2016-01-01\",\n",
    "    \"2016-01-07\",\n",
    "    \"daytime\",\n",
    "    labels=meaningful_locations_labels,\n",
    "    tower_day_of_week_scores=tower_day_of_week_scores,\n",
    "    tower_hour_of_day_scores=tower_hour_of_day_scores,\n",
    "    aggregation_unit=\"admin3\"\n",
    ")"
   ]
  },
  {
   "cell_type": "markdown",
   "metadata": {},
   "source": [
    "We pass these parameters to the `get_result` function, to get the results of the queries as `pandas` DataFrames."
   ]
  },
  {
   "cell_type": "code",
   "execution_count": null,
   "metadata": {},
   "outputs": [],
   "source": [
    "home_locations = flowclient.get_result(conn, home_locations_spec)"
   ]
  },
  {
   "cell_type": "code",
   "execution_count": null,
   "metadata": {},
   "outputs": [],
   "source": [
    "work_locations = flowclient.get_result(conn, work_locations_spec)"
   ]
  },
  {
   "cell_type": "markdown",
   "metadata": {},
   "source": [
    "### Visualise the distributions of home/work locations\n",
    "\n",
    "We use the `get_geography` function to download the geography for the level 3 administrative regions."
   ]
  },
  {
   "cell_type": "code",
   "execution_count": null,
   "metadata": {},
   "outputs": [],
   "source": [
    "regions = flowclient.get_geography(conn, \"admin3\")"
   ]
  },
  {
   "cell_type": "markdown",
   "metadata": {},
   "source": [
    "We can now combine the geography data with the results of our meaningful locations queries to create choropleth maps showing the distribution of home/work locations, using the `folium` library for visualisation."
   ]
  },
  {
   "cell_type": "code",
   "execution_count": null,
   "metadata": {},
   "outputs": [],
   "source": [
    "m = folium.Map(location=[27.96834547, 85.960067737], zoom_start=7, tiles='cartodbpositron')\n",
    "\n",
    "folium.Choropleth(\n",
    "    geo_data=regions,\n",
    "    name='Home locations',\n",
    "    data=home_locations,\n",
    "    columns=['pcod', 'total'],\n",
    "    key_on='feature.properties.admin3pcod',\n",
    "    fill_color='YlGn',\n",
    "    fill_opacity=0.7,\n",
    "    line_opacity=0.2,\n",
    "    nan_fill_color='grey',\n",
    "    legend_name='Number of subscribers (home locations)',\n",
    "    highlight=True,\n",
    ").add_to(m)\n",
    "\n",
    "folium.Choropleth(\n",
    "    geo_data=regions,\n",
    "    name='Work locations',\n",
    "    data=work_locations,\n",
    "    columns=['pcod', 'total'],\n",
    "    key_on='feature.properties.admin3pcod',\n",
    "    fill_color='YlGn',\n",
    "    fill_opacity=0.7,\n",
    "    line_opacity=0.2,\n",
    "    nan_fill_color='grey',\n",
    "    legend_name='Number of subscribers (work locations)',\n",
    "    highlight=True,\n",
    "    show=False,\n",
    ").add_to(m)\n",
    "\n",
    "folium.LayerControl().add_to(m)\n",
    "\n",
    "m"
   ]
  },
  {
   "cell_type": "code",
   "execution_count": null,
   "metadata": {},
   "outputs": [],
   "source": [
    "od_matrix_spec = flowclient.meaningful_locations_between_label_od_matrix(\n",
    "    \"2016-01-01\",\n",
    "    \"2016-01-07\",\n",
    "    \"evening\",\n",
    "    \"day\",\n",
    "    labels=meaningful_locations_labels,\n",
    "    tower_day_of_week_scores=tower_day_of_week_scores,\n",
    "    tower_hour_of_day_scores=tower_hour_of_day_scores,\n",
    "    aggregation_unit=\"admin3\"\n",
    ")"
   ]
  },
  {
   "cell_type": "code",
   "execution_count": null,
   "metadata": {},
   "outputs": [],
   "source": [
    "od_matrix = flowclient.get_result(conn, od_matrix_spec)"
   ]
  },
  {
   "cell_type": "code",
   "execution_count": null,
   "metadata": {},
   "outputs": [],
   "source": [
    "commuters_within_region = od_matrix[\n",
    "    od_matrix.pcod_from==od_matrix.pcod_to\n",
    "].drop(columns=[\"label_from\", \"label_to\", \"pcod_from\"]).rename(columns={\"pcod_to\": \"pcod\"}).set_index(\"pcod\")\n",
    "\n",
    "commuters_into_region = (od_matrix.groupby(\"pcod_to\").sum() - commuters_within_region).dropna().reset_index()\n",
    "commuters_out_from_region = (od_matrix.groupby(\"pcod_from\").sum() - commuters_within_region).dropna().reset_index()"
   ]
  },
  {
   "cell_type": "code",
   "execution_count": null,
   "metadata": {},
   "outputs": [],
   "source": [
    "m = folium.Map(location=[27.96834547, 85.960067737], zoom_start=7, tiles='cartodbpositron')\n",
    "\n",
    "folium.Choropleth(\n",
    "    geo_data=regions,\n",
    "    name='inflow',\n",
    "    data=commuters_into_region,\n",
    "    columns=['pcod_to', 'total'],\n",
    "    key_on='feature.properties.admin3pcod',\n",
    "    fill_color='YlGn',\n",
    "    fill_opacity=0.7,\n",
    "    line_opacity=0.2,\n",
    "    nan_fill_color='grey',\n",
    "    legend_name='inflow',\n",
    "    highlight=True,\n",
    ").add_to(m)\n",
    "\n",
    "folium.Choropleth(\n",
    "    geo_data=regions,\n",
    "    name='outflow',\n",
    "    data=commuters_out_from_region,\n",
    "    columns=['pcod_from', 'total'],\n",
    "    key_on='feature.properties.admin3pcod',\n",
    "    fill_color='YlGn',\n",
    "    fill_opacity=0.7,\n",
    "    line_opacity=0.2,\n",
    "    nan_fill_color='grey',\n",
    "    legend_name='outflow',\n",
    "    highlight=True,\n",
    "    show=False,\n",
    ").add_to(m)\n",
    "\n",
    "folium.LayerControl().add_to(m)\n",
    "\n",
    "m"
   ]
  },
  {
   "cell_type": "code",
   "execution_count": null,
   "metadata": {},
   "outputs": [],
   "source": []
  }
 ],
 "metadata": {
  "kernelspec": {
   "display_name": "Python 3",
   "language": "python",
   "name": "python3"
  },
  "language_info": {
   "codemirror_mode": {
    "name": "ipython",
    "version": 3
   },
   "file_extension": ".py",
   "mimetype": "text/x-python",
   "name": "python",
   "nbconvert_exporter": "python",
   "pygments_lexer": "ipython3",
   "version": "3.7.0"
  }
 },
 "nbformat": 4,
 "nbformat_minor": 2
}
