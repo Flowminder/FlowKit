{
 "cells": [
  {
   "cell_type": "code",
   "execution_count": 1,
   "metadata": {},
   "outputs": [],
   "source": [
    "import os, sys\n",
    "from dotenv import find_dotenv\n",
    "from datetime import timedelta\n",
    "\n",
    "path_to_utils_module = os.path.join(\n",
    "    os.path.dirname(find_dotenv()), \"..\", \"integration_tests\", \"tests\"\n",
    ")\n",
    "sys.path.insert(0, path_to_utils_module)\n",
    "from utils import make_token\n",
    "# Create an API access token\n",
    "\n",
    "claims = {\n",
    "    \"daily_location\": {\n",
    "        \"permissions\": {\"run\": True, \"poll\": True, \"get_result\": True},\n",
    "        \"spatial_aggregation\": [\"admin3\", \"admin2\"],\n",
    "    },\n",
    "    \"modal_location\": {\n",
    "        \"permissions\": {\"run\": True, \"poll\": True, \"get_result\": True},\n",
    "        \"spatial_aggregation\": [\"admin3\", \"admin2\"],\n",
    "    },\n",
    "    \"flows\": {\n",
    "        \"permissions\": {\"run\": True, \"poll\": True, \"get_result\": True},\n",
    "        \"spatial_aggregation\": [\"admin3\", \"admin2\", \"admin1\"],\n",
    "    },\n",
    "    \"location_event_counts\": {\n",
    "        \"permissions\": {\"run\": True, \"poll\": True, \"get_result\": True},\n",
    "        \"spatial_aggregation\": [\"admin3\", \"admin2\", \"admin1\"],\n",
    "    },\n",
    "    \"meaningful_locations_aggregate\": {\n",
    "        \"permissions\": {\"run\": True, \"poll\": True, \"get_result\": True},\n",
    "        \"spatial_aggregation\": [\"admin3\", \"admin2\", \"admin1\"],\n",
    "    },\n",
    "    \"meaningful_locations_od_matrix\": {\n",
    "        \"permissions\": {\"run\": True, \"poll\": True, \"get_result\": True},\n",
    "        \"spatial_aggregation\": [\"admin3\", \"admin2\", \"admin1\"],\n",
    "    },\n",
    "    \"geography\": {\n",
    "        \"permissions\": {\"run\": True, \"poll\": True, \"get_result\": True},\n",
    "        \"spatial_aggregation\": [\"admin3\", \"admin2\", \"admin1\"],\n",
    "    }\n",
    "}\n",
    "\n",
    "TOKEN = make_token(\n",
    "    username=\"testuser\", secret_key=\"secret\", lifetime=timedelta(days=1), claims=claims\n",
    ")"
   ]
  },
  {
   "cell_type": "code",
   "execution_count": 2,
   "metadata": {},
   "outputs": [],
   "source": [
    "import flowclient, folium"
   ]
  },
  {
   "cell_type": "code",
   "execution_count": 21,
   "metadata": {},
   "outputs": [
    {
     "name": "stderr",
     "output_type": "stream",
     "text": [
      "/Users/jono/code/FlowKit/flowclient/flowclient/client.py:200: UserWarning: Communications with this server are NOT SECURE.\n",
      "  return Connection(url, token, api_version, ssl_certificate)\n"
     ]
    }
   ],
   "source": [
    "conn = flowclient.connect(\"http://localhost:5000\", TOKEN)"
   ]
  },
  {
   "cell_type": "code",
   "execution_count": 4,
   "metadata": {},
   "outputs": [],
   "source": [
    "regions = flowclient.get_geography(conn, \"admin3\")"
   ]
  },
  {
   "cell_type": "code",
   "execution_count": 27,
   "metadata": {},
   "outputs": [],
   "source": [
    "meaningful_locations_spec = flowclient.meaningful_locations_aggregate(\"2016-01-01\", \"2016-01-07\", \"evening\", labels={\n",
    "                    \"evening\": {\n",
    "                        \"type\": \"Polygon\",\n",
    "                        \"coordinates\": [\n",
    "                            [[1, 1], [1, -1], [1e-06, -1], [1e-06, 1]]\n",
    "                        ],\n",
    "                    },\n",
    "                    \"day\": {\n",
    "                        \"type\": \"Polygon\",\n",
    "                        \"coordinates\": [\n",
    "                            [[0, 1], [0, -1], [-1, -1], [-1, 1]]\n",
    "                        ],\n",
    "                    },\n",
    "                }, tower_day_of_week_scores={\n",
    "                    \"monday\": 1,\n",
    "                    \"tuesday\": 1,\n",
    "                    \"wednesday\": 1,\n",
    "                    \"thursday\": 0,\n",
    "                    \"friday\": -1,\n",
    "                    \"saturday\": -1,\n",
    "                    \"sunday\": -1,\n",
    "                }, tower_hour_of_day_scores=[\n",
    "                    -1,\n",
    "                    -1,\n",
    "                    -1,\n",
    "                    -1,\n",
    "                    -1,\n",
    "                    -1,\n",
    "                    -1,\n",
    "                    0,\n",
    "                    0,\n",
    "                    1,\n",
    "                    1,\n",
    "                    1,\n",
    "                    1,\n",
    "                    1,\n",
    "                    1,\n",
    "                    1,\n",
    "                    1,\n",
    "                    0,\n",
    "                    0,\n",
    "                    0,\n",
    "                    0,\n",
    "                    -1,\n",
    "                    -1,\n",
    "                    -1,\n",
    "                ], aggregation_unit=\"admin3\")"
   ]
  },
  {
   "cell_type": "code",
   "execution_count": null,
   "metadata": {},
   "outputs": [],
   "source": [
    "flowclient.get_result(conn, meaningful_locations_spec)"
   ]
  },
  {
   "cell_type": "code",
   "execution_count": 18,
   "metadata": {},
   "outputs": [
    {
     "data": {
      "text/html": [
       "<div>\n",
       "<style scoped>\n",
       "    .dataframe tbody tr th:only-of-type {\n",
       "        vertical-align: middle;\n",
       "    }\n",
       "\n",
       "    .dataframe tbody tr th {\n",
       "        vertical-align: top;\n",
       "    }\n",
       "\n",
       "    .dataframe thead th {\n",
       "        text-align: right;\n",
       "    }\n",
       "</style>\n",
       "<table border=\"1\" class=\"dataframe\">\n",
       "  <thead>\n",
       "    <tr style=\"text-align: right;\">\n",
       "      <th></th>\n",
       "      <th>label</th>\n",
       "      <th>pcod</th>\n",
       "      <th>total</th>\n",
       "    </tr>\n",
       "  </thead>\n",
       "  <tbody>\n",
       "    <tr>\n",
       "      <th>0</th>\n",
       "      <td>day</td>\n",
       "      <td>524 1 02 09</td>\n",
       "      <td>16.0</td>\n",
       "    </tr>\n",
       "    <tr>\n",
       "      <th>1</th>\n",
       "      <td>day</td>\n",
       "      <td>524 4 12 62</td>\n",
       "      <td>20.0</td>\n",
       "    </tr>\n",
       "    <tr>\n",
       "      <th>2</th>\n",
       "      <td>day</td>\n",
       "      <td>524 4 12 66</td>\n",
       "      <td>16.0</td>\n",
       "    </tr>\n",
       "  </tbody>\n",
       "</table>\n",
       "</div>"
      ],
      "text/plain": [
       "  label         pcod  total\n",
       "0   day  524 1 02 09   16.0\n",
       "1   day  524 4 12 62   20.0\n",
       "2   day  524 4 12 66   16.0"
      ]
     },
     "execution_count": 18,
     "metadata": {},
     "output_type": "execute_result"
    }
   ],
   "source": [
    "flowclient.get_result(conn, meaningful_locations_spec)"
   ]
  },
  {
   "cell_type": "code",
   "execution_count": 24,
   "metadata": {},
   "outputs": [],
   "source": [
    "meaningful_locations_spec = flowclient.meaningful_locations_between_label_od_matrix(\"2016-01-01\", \"2016-01-07\", \"evening\", \"day\", labels={\n",
    "                    \"evening\": {\n",
    "                        \"type\": \"Polygon\",\n",
    "                        \"coordinates\": [\n",
    "                            [[1, 1], [1, -1], [1e-06, -1], [1e-06, 1]]\n",
    "                        ],\n",
    "                    },\n",
    "                    \"day\": {\n",
    "                        \"type\": \"Polygon\",\n",
    "                        \"coordinates\": [\n",
    "                            [[0, 1], [0, -1], [-1, -1], [-1, 1]]\n",
    "                        ],\n",
    "                    },\n",
    "                }, tower_day_of_week_scores={\n",
    "                    \"monday\": 1,\n",
    "                    \"tuesday\": 1,\n",
    "                    \"wednesday\": 1,\n",
    "                    \"thursday\": 0,\n",
    "                    \"friday\": -1,\n",
    "                    \"saturday\": -1,\n",
    "                    \"sunday\": -1,\n",
    "                }, tower_hour_of_day_scores=[\n",
    "                    -1,\n",
    "                    -1,\n",
    "                    -1,\n",
    "                    -1,\n",
    "                    -1,\n",
    "                    -1,\n",
    "                    -1,\n",
    "                    0,\n",
    "                    0,\n",
    "                    1,\n",
    "                    1,\n",
    "                    1,\n",
    "                    1,\n",
    "                    1,\n",
    "                    1,\n",
    "                    1,\n",
    "                    1,\n",
    "                    0,\n",
    "                    0,\n",
    "                    0,\n",
    "                    0,\n",
    "                    -1,\n",
    "                    -1,\n",
    "                    -1,\n",
    "                ], aggregation_unit=\"admin3\")"
   ]
  },
  {
   "cell_type": "code",
   "execution_count": 26,
   "metadata": {},
   "outputs": [
    {
     "data": {
      "text/html": [
       "<div>\n",
       "<style scoped>\n",
       "    .dataframe tbody tr th:only-of-type {\n",
       "        vertical-align: middle;\n",
       "    }\n",
       "\n",
       "    .dataframe tbody tr th {\n",
       "        vertical-align: top;\n",
       "    }\n",
       "\n",
       "    .dataframe thead th {\n",
       "        text-align: right;\n",
       "    }\n",
       "</style>\n",
       "<table border=\"1\" class=\"dataframe\">\n",
       "  <thead>\n",
       "    <tr style=\"text-align: right;\">\n",
       "      <th></th>\n",
       "    </tr>\n",
       "  </thead>\n",
       "  <tbody>\n",
       "  </tbody>\n",
       "</table>\n",
       "</div>"
      ],
      "text/plain": [
       "Empty DataFrame\n",
       "Columns: []\n",
       "Index: []"
      ]
     },
     "execution_count": 26,
     "metadata": {},
     "output_type": "execute_result"
    }
   ],
   "source": [
    "flowclient.get_result(conn, meaningful_locations_spec)"
   ]
  },
  {
   "cell_type": "code",
   "execution_count": null,
   "metadata": {},
   "outputs": [],
   "source": []
  }
 ],
 "metadata": {
  "kernelspec": {
   "display_name": "Python 3",
   "language": "python",
   "name": "python3"
  },
  "language_info": {
   "codemirror_mode": {
    "name": "ipython",
    "version": 3
   },
   "file_extension": ".py",
   "mimetype": "text/x-python",
   "name": "python",
   "nbconvert_exporter": "python",
   "pygments_lexer": "ipython3",
   "version": "3.7.1"
  }
 },
 "nbformat": 4,
 "nbformat_minor": 2
}
