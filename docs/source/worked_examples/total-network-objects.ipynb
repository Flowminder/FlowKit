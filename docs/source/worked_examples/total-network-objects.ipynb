{
 "cells": [
  {
   "cell_type": "markdown",
   "metadata": {
    "pycharm": {}
   },
   "source": [
    "# Total Network Objects\n",
    "\n",
    "## Counting the number of cell towers per region\n",
    "\n",
    "In this worked example we use FlowClient to count the number of cell towers per region. This is designed as a simple example to demonstrate that a FlowKit system has been successfully deployed.\n",
    "\n",
    "The Jupyter notebook for this worked example can be downloaded [here](https://github.com/Flowminder/FlowKit/raw/master/docs/source/worked_examples/total-network-objects.ipynb), or can be run using the [quick start setup](../install.md#quickinstall).\n",
    "\n",
    "### Load FlowClient and connect to FlowAPI\n",
    "\n",
    "We start by importing FlowClient. We also import [geopandas](http://geopandas.org/) and [mapboxgl](https://mapbox-mapboxgl-jupyter.readthedocs-hosted.com/en/latest/), which we will use later to to visualise the data.\n",
    "\n",
    "Mapbox requires an [access token](https://www.mapbox.com/account/), which should be set as the environment variable `MAPBOX_ACCESS_TOKEN`."
   ]
  },
  {
   "cell_type": "code",
   "execution_count": null,
   "metadata": {
    "pycharm": {}
   },
   "outputs": [],
   "source": [
    "import flowclient\n",
    "import os\n",
    "import numpy as np\n",
    "import geopandas as gpd\n",
    "import mapboxgl\n",
    "from mapboxgl.utils import create_color_stops\n",
    "\n",
    "mapbox_token = os.environ[\"MAPBOX_ACCESS_TOKEN\"]"
   ]
  },
  {
   "cell_type": "markdown",
   "metadata": {
    "pycharm": {}
   },
   "source": [
    "We must next generate a FlowAPI access token using [FlowAuth](../analyst.md#flowauth), and paste the token here as `TOKEN`. Once we have a token, we can start a connection to the FlowAPI system."
   ]
  },
  {
   "cell_type": "code",
   "execution_count": null,
   "metadata": {
    "pycharm": {}
   },
   "outputs": [],
   "source": [
    "conn = flowclient.connect(\n",
    "    url=os.getenv(\"FLOWAPI_URL\", \"http://localhost:9090\"), token=TOKEN\n",
    ")"
   ]
  },
  {
   "cell_type": "markdown",
   "metadata": {
    "pycharm": {}
   },
   "source": [
    "### Get tower counts\n",
    "\n",
    "We can get cell tower counts using a `total_network_objects` query. We start by creating a specification for a `total_network_objects` query to count towers per level 3 administrative unit during the first week of 2016."
   ]
  },
  {
   "cell_type": "code",
   "execution_count": null,
   "metadata": {
    "pycharm": {}
   },
   "outputs": [],
   "source": [
    "query_spec = flowclient.total_network_objects(\n",
    "    start_date=\"2016-01-01\",\n",
    "    end_date=\"2016-01-08\",\n",
    "    aggregation_unit=\"admin3\",\n",
    "    total_by=\"month\"\n",
    ")\n",
    "query_spec"
   ]
  },
  {
   "cell_type": "markdown",
   "metadata": {
    "pycharm": {}
   },
   "source": [
    "We run this query using `get_result`, which returns the result as a pandas `DataFrame`."
   ]
  },
  {
   "cell_type": "code",
   "execution_count": null,
   "metadata": {
    "pycharm": {}
   },
   "outputs": [],
   "source": [
    "towers_per_admin3 = flowclient.get_result(connection=conn, query=query_spec)\n",
    "towers_per_admin3.head()"
   ]
  },
  {
   "cell_type": "markdown",
   "metadata": {},
   "source": [
    "### Visualise tower counts on a choropleth map\n",
    "\n",
    "We use the `get_geography` function to download the geography for the level 3 administrative regions as GeoJSON."
   ]
  },
  {
   "cell_type": "code",
   "execution_count": null,
   "metadata": {},
   "outputs": [],
   "source": [
    "# Download geography data as GeoJSON.\n",
    "regions = flowclient.get_geography(connection=conn, aggregation_unit=\"admin3\")\n",
    "\n",
    "# Create a geopandas GeoDataFrame from the GeoJSON\n",
    "regions_geodataframe = gpd.GeoDataFrame.from_features(regions)"
   ]
  },
  {
   "cell_type": "markdown",
   "metadata": {},
   "source": [
    "We can now combine the result of the `total_network_objects` query with the geography data, and use the `Mapbox GL` library to create a choropleth showing the distribution of cell towers."
   ]
  },
  {
   "cell_type": "code",
   "execution_count": null,
   "metadata": {},
   "outputs": [],
   "source": [
    "towers_per_admin3_geodataframe = regions_geodataframe.join(\n",
    "        towers_per_admin3\n",
    "        .set_index(\"pcod\"),\n",
    "        on=\"admin3pcod\",\n",
    "        how=\"left\",\n",
    "    ).fillna(0).drop(columns=[\"centroid\", \"datetime\"]).rename(\n",
    "    columns={\"admin3pcod\": \"P-code\", \"admin3name\": \"Name\", \"value\": \"Number of towers\"}\n",
    ")"
   ]
  },
  {
   "cell_type": "code",
   "execution_count": null,
   "metadata": {},
   "outputs": [],
   "source": [
    "modal_locations_viz = mapboxgl.ChoroplethViz(\n",
    "    towers_per_admin3_geodataframe.__geo_interface__,\n",
    "    access_token=mapbox_token,\n",
    "    color_property=\"Number of towers\",\n",
    "    color_stops=create_color_stops(\n",
    "        np.linspace(1, towers_per_admin3_geodataframe[\"Number of towers\"].max(), 9), colors=\"YlGn\"\n",
    "    ),\n",
    "    opacity=0.8,\n",
    "    line_color=\"black\",\n",
    "    line_width=0.5,\n",
    "    legend_gradient=True,\n",
    "    legend_layout=\"horizontal\",\n",
    "    legend_text_numeric_precision=0,\n",
    "    below_layer=\"waterway-label\",\n",
    "    center=(84.1, 28.4),\n",
    "    zoom=5.5,\n",
    ")\n",
    "\n",
    "modal_locations_viz.show()"
   ]
  }
 ],
 "metadata": {
  "kernelspec": {
   "display_name": "Python 3",
   "language": "python",
   "name": "python3"
  },
  "language_info": {
   "codemirror_mode": {
    "name": "ipython",
    "version": 3
   },
   "file_extension": ".py",
   "mimetype": "text/x-python",
   "name": "python",
   "nbconvert_exporter": "python",
   "pygments_lexer": "ipython3",
   "version": "3.7.0"
  }
 },
 "nbformat": 4,
 "nbformat_minor": 4
}
