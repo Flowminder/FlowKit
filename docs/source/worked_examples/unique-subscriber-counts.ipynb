{
 "cells": [
  {
   "cell_type": "markdown",
   "metadata": {
    "pycharm": {}
   },
   "source": [
    "# Unique Subscriber Counts\n",
    "\n",
    "## Counting the number of subscribers per region\n",
    "\n",
    "In this worked example we use FlowClient to count the number of subscribers per region. This is designed as a simple example to demonstrate that a FlowKit system has been successfully deployed.\n",
    "\n",
    "The Jupyter notebook for this worked example can be downloaded [here](https://github.com/Flowminder/FlowKit/raw/master/docs/source/worked_examples/unique-subscriber-counts.ipynb), or can be run using the [quick start setup](../install.md#quickinstall).\n",
    "\n",
    "### Load FlowClient and connect to FlowAPI\n",
    "\n",
    "We start by importing FlowClient. We also import [geopandas](http://geopandas.org/) and [mapboxgl](https://mapbox-mapboxgl-jupyter.readthedocs-hosted.com/en/latest/), which we will use later to to visualise the data."
   ]
  },
  {
   "cell_type": "code",
   "execution_count": null,
   "metadata": {
    "pycharm": {}
   },
   "outputs": [],
   "source": [
    "import flowclient\n",
    "import os\n",
    "import numpy as np\n",
    "import geopandas as gpd\n",
    "import mapboxgl\n",
    "from mapboxgl.utils import create_color_stops"
   ]
  },
  {
   "cell_type": "markdown",
   "metadata": {
    "pycharm": {}
   },
   "source": [
    "We must next [generate a FlowAPI access token](../analyst.md#flowauth) using FlowAuth. If you are running this notebook using the [quick start setup](../install.md#quickinstall), generating a token requires the following steps:\n",
    "\n",
    "1. Visit the FlowAuth login page at [http://localhost:9091](http://localhost:9091/).\n",
    "2. Log in with username `TEST_USER` and password `DUMMY_PASSWORD`.\n",
    "3. Under \"My Servers\", select `TEST_SERVER`.\n",
    "4. Click the `+` button to create a new token.\n",
    "5. Give the new token a name, and click `SAVE`.\n",
    "6. Copy the token string using the `COPY` button.\n",
    "7. Paste the token in this notebook as `TOKEN`.\n",
    "\n",
    "The steps are the same in a production setup, but the FlowAuth URL, login details and server name will differ.\n",
    "\n",
    "Once we have a token, we can start a connection to the FlowAPI system."
   ]
  },
  {
   "cell_type": "code",
   "execution_count": null,
   "metadata": {
    "pycharm": {}
   },
   "outputs": [],
   "source": [
    "conn = flowclient.connect(\n",
    "    url=os.getenv(\"FLOWAPI_URL\", \"http://localhost:9090\"), token=TOKEN\n",
    ")"
   ]
  },
  {
   "cell_type": "markdown",
   "metadata": {
    "pycharm": {}
   },
   "source": [
    "### Get tower counts\n",
    "\n",
    "We can get subscriber counts using a `unique_subscriber_counts` query. We start by creating a specification for a `unique_subscriber_counts` query to count the number of subscribers per level 3 administrative unit during the first week of 2016."
   ]
  },
  {
   "cell_type": "code",
   "execution_count": null,
   "metadata": {
    "pycharm": {}
   },
   "outputs": [],
   "source": [
    "query_spec = flowclient.unique_subscriber_counts(\n",
    "    start_date=\"2016-01-01\", end_date=\"2016-01-08\", aggregation_unit=\"admin3\"\n",
    ")\n",
    "query_spec"
   ]
  },
  {
   "cell_type": "markdown",
   "metadata": {
    "pycharm": {}
   },
   "source": [
    "We run this query using `get_result`, which returns the result as a pandas `DataFrame`."
   ]
  },
  {
   "cell_type": "code",
   "execution_count": null,
   "metadata": {
    "pycharm": {}
   },
   "outputs": [],
   "source": [
    "subscribers_per_admin3 = flowclient.get_result(\n",
    "    connection=conn, query=query_spec\n",
    ")\n",
    "subscribers_per_admin3.head()"
   ]
  },
  {
   "cell_type": "markdown",
   "metadata": {},
   "source": [
    "### Visualise tower counts on a choropleth map\n",
    "\n",
    "We use the `get_geography` function to download the geography for the level 3 administrative regions as GeoJSON."
   ]
  },
  {
   "cell_type": "code",
   "execution_count": null,
   "metadata": {},
   "outputs": [],
   "source": [
    "# Download geography data as GeoJSON.\n",
    "regions = flowclient.get_geography(connection=conn, aggregation_unit=\"admin3\")\n",
    "\n",
    "# Create a geopandas GeoDataFrame from the GeoJSON\n",
    "regions_geodataframe = gpd.GeoDataFrame.from_features(regions)"
   ]
  },
  {
   "cell_type": "markdown",
   "metadata": {},
   "source": [
    "We can now combine the result of the `unique_subscriber_counts` query with the geography data, and use the `Mapbox GL` library to create a choropleth showing the distribution of subscribers.\n",
    "\n",
    "**Note:** Mapbox requires an [access token](https://www.mapbox.com/account/), which should be set as the environment variable `MAPBOX_ACCESS_TOKEN`. Note that this is only required for producing the Mapbox visualisations, which is completely separate from FlowKit."
   ]
  },
  {
   "cell_type": "code",
   "execution_count": null,
   "metadata": {},
   "outputs": [],
   "source": [
    "subscribers_per_admin3_geodataframe = (\n",
    "    regions_geodataframe.join(\n",
    "        subscribers_per_admin3.set_index(\"pcod\"), on=\"pcod\", how=\"left\"\n",
    "    )\n",
    "    .fillna(0)\n",
    "    .drop(columns=[\"centroid\"])\n",
    "    .rename(\n",
    "        columns={\n",
    "            \"pcod\": \"P-code\",\n",
    "            \"unique_subscriber_counts\": \"Number of subscribers\",\n",
    "        }\n",
    "    )\n",
    ")"
   ]
  },
  {
   "cell_type": "code",
   "execution_count": null,
   "metadata": {},
   "outputs": [],
   "source": [
    "mapbox_token = os.environ[\"MAPBOX_ACCESS_TOKEN\"]\n",
    "\n",
    "# Colour scale for legend\n",
    "color_stops = create_color_stops(\n",
    "    np.linspace(\n",
    "        1, subscribers_per_admin3_geodataframe[\"Number of subscribers\"].max(), 9\n",
    "    ),\n",
    "    colors=\"YlGn\",\n",
    ")\n",
    "\n",
    "modal_locations_viz = mapboxgl.ChoroplethViz(\n",
    "    subscribers_per_admin3_geodataframe.__geo_interface__,\n",
    "    access_token=mapbox_token,\n",
    "    color_property=\"Number of subscribers\",\n",
    "    color_stops=color_stops,\n",
    "    opacity=0.8,\n",
    "    line_color=\"black\",\n",
    "    line_width=0.5,\n",
    "    legend_gradient=True,\n",
    "    legend_layout=\"horizontal\",\n",
    "    legend_text_numeric_precision=0,\n",
    "    below_layer=\"waterway-label\",\n",
    "    center=(84.1, 28.4),\n",
    "    zoom=5.5,\n",
    ")\n",
    "\n",
    "modal_locations_viz.show()"
   ]
  }
 ],
 "metadata": {
  "kernelspec": {
   "display_name": "Python 3",
   "language": "python",
   "name": "python3"
  },
  "language_info": {
   "codemirror_mode": {
    "name": "ipython",
    "version": 3
   },
   "file_extension": ".py",
   "mimetype": "text/x-python",
   "name": "python",
   "nbconvert_exporter": "python",
   "pygments_lexer": "ipython3",
   "version": "3.7.0"
  }
 },
 "nbformat": 4,
 "nbformat_minor": 4
}
