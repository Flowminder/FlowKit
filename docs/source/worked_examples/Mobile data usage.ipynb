{
 "cells": [
  {
   "cell_type": "code",
   "execution_count": null,
   "metadata": {},
   "outputs": [],
   "source": [
    "import os, sys\n",
    "from dotenv import find_dotenv\n",
    "from datetime import timedelta\n",
    "\n",
    "path_to_utils_module = os.path.join(\n",
    "    os.path.dirname(find_dotenv()), \"..\", \"integration_tests\", \"tests\"\n",
    ")\n",
    "sys.path.insert(0, path_to_utils_module)\n",
    "from utils import make_token\n",
    "# Create an API access token\n",
    "\n",
    "claims = {\n",
    "    \"daily_location\": {\n",
    "        \"permissions\": {\"run\": True, \"poll\": True, \"get_result\": True},\n",
    "        \"spatial_aggregation\": [\"admin3\", \"admin2\"],\n",
    "    },\n",
    "    \"modal_location\": {\n",
    "        \"permissions\": {\"run\": True, \"poll\": True, \"get_result\": True},\n",
    "        \"spatial_aggregation\": [\"admin3\", \"admin2\"],\n",
    "    },\n",
    "    \"flows\": {\n",
    "        \"permissions\": {\"run\": True, \"poll\": True, \"get_result\": True},\n",
    "        \"spatial_aggregation\": [\"admin3\", \"admin2\", \"admin1\"],\n",
    "    },\n",
    "    \"location_event_counts\": {\n",
    "        \"permissions\": {\"run\": True, \"poll\": True, \"get_result\": True},\n",
    "        \"spatial_aggregation\": [\"admin3\", \"admin2\", \"admin1\"],\n",
    "    },\n",
    "    \"geography\": {\n",
    "        \"permissions\": {\"run\": True, \"poll\": True, \"get_result\": True},\n",
    "        \"spatial_aggregation\": [\"admin3\", \"admin2\", \"admin1\"],\n",
    "    }\n",
    "}\n",
    "\n",
    "TOKEN = make_token(\n",
    "    username=\"testuser\", secret_key=\"secret\", lifetime=timedelta(days=1), claims=claims\n",
    ")"
   ]
  }
 ],
 "metadata": {
  "kernelspec": {
   "display_name": "Python 3",
   "language": "python",
   "name": "python3"
  },
  "language_info": {
   "codemirror_mode": {
    "name": "ipython",
    "version": 3
   },
   "file_extension": ".py",
   "mimetype": "text/x-python",
   "name": "python",
   "nbconvert_exporter": "python",
   "pygments_lexer": "ipython3",
   "version": "3.7.1"
  }
 },
 "nbformat": 4,
 "nbformat_minor": 2
}
