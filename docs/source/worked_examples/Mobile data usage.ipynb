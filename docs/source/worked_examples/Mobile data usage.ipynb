{
 "cells": [
  {
   "cell_type": "code",
   "execution_count": null,
   "metadata": {},
   "outputs": [],
   "source": [
    "import flowmachine\n",
    "import pandas as pd\n",
    "import folium\n",
    "from folium.plugins import HeatMapWithTime"
   ]
  },
  {
   "cell_type": "code",
   "execution_count": null,
   "metadata": {},
   "outputs": [],
   "source": [
    "flowmachine.connect()"
   ]
  },
  {
   "cell_type": "code",
   "execution_count": null,
   "metadata": {},
   "outputs": [],
   "source": [
    "data_events_query = flowmachine.features.TotalLocationEvents(\n",
    "    start=\"2016-01-01\",\n",
    "    stop=\"2016-01-07\",\n",
    "    table=\"events.mds\",\n",
    "    level=\"versioned-cell\",\n",
    "    interval=\"hour\",\n",
    "    size=10,\n",
    ")"
   ]
  },
  {
   "cell_type": "code",
   "execution_count": null,
   "metadata": {},
   "outputs": [],
   "source": [
    "data_events = data_events_query.get_dataframe()"
   ]
  },
  {
   "cell_type": "code",
   "execution_count": null,
   "metadata": {},
   "outputs": [],
   "source": [
    "data_events.head(15)"
   ]
  },
  {
   "cell_type": "code",
   "execution_count": null,
   "metadata": {},
   "outputs": [],
   "source": [
    "events_per_hour = data_events.groupby([\"lon\", \"lat\", \"hour\"]).sum().reset_index()\n",
    "\n",
    "events_per_hour[\"weight\"] = events_per_hour[\"total\"]/(events_per_hour[\"total\"].max())\n",
    "\n",
    "hours = range(24)\n",
    "data_for_heatmap = [events_per_hour[events_per_hour.hour==hour][[\"lat\", \"lon\", \"weight\"]].values.tolist() for hour in hours]"
   ]
  },
  {
   "cell_type": "code",
   "execution_count": null,
   "metadata": {},
   "outputs": [],
   "source": [
    "m = folium.Map(location=[27.96834547, 85.960067737], zoom_start=7, tiles='cartodbpositron')\n",
    "\n",
    "HeatMapWithTime(data=data_for_heatmap, index=[str(hour) for hour in hours], radius=0.2, scale_radius=True).add_to(m)\n",
    "\n",
    "m"
   ]
  },
  {
   "cell_type": "code",
   "execution_count": null,
   "metadata": {},
   "outputs": [],
   "source": []
  }
 ],
 "metadata": {
  "kernelspec": {
   "display_name": "Python 3",
   "language": "python",
   "name": "python3"
  },
  "language_info": {
   "codemirror_mode": {
    "name": "ipython",
    "version": 3
   },
   "file_extension": ".py",
   "mimetype": "text/x-python",
   "name": "python",
   "nbconvert_exporter": "python",
   "pygments_lexer": "ipython3",
   "version": "3.7.0"
  }
 },
 "nbformat": 4,
 "nbformat_minor": 2
}
