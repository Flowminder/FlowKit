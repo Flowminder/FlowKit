{
 "cells": [
  {
   "cell_type": "markdown",
   "metadata": {},
   "source": [
    "# Analysis using FlowMachine directly\n",
    "\n",
    "## Mobile data usage\n",
    "\n",
    "In this worked example we assume the role of an analyst within the MNO who has been granted access to use FlowMachine directly without going through FlowAPI. Our aim is to investigate how the number of mobile data session (MDS) events varies with the time of day.\n",
    "\n",
    "### Load FlowMachine and connect to FlowDB\n",
    "\n",
    "We start by importing the FlowMachine library. We also import [folium](https://python-visualization.github.io/folium/) and the folium `HeatMapWithTime` plugin, which we will use later to to visualise the data."
   ]
  },
  {
   "cell_type": "code",
   "execution_count": null,
   "metadata": {},
   "outputs": [],
   "source": [
    "import flowmachine\n",
    "import folium\n",
    "from folium.plugins import HeatMapWithTime"
   ]
  },
  {
   "cell_type": "markdown",
   "metadata": {},
   "source": [
    "Next, we connect FlowMachine to FlowDB."
   ]
  },
  {
   "cell_type": "code",
   "execution_count": null,
   "metadata": {},
   "outputs": [],
   "source": [
    "flowmachine.connect()"
   ]
  },
  {
   "cell_type": "markdown",
   "metadata": {},
   "source": [
    "### Get MDS event counts\n",
    "\n",
    "We create a `TotalLocationEvents` query to calculate the number of MDS events per cell tower, at hourly intervals over the first 6 days of 2016."
   ]
  },
  {
   "cell_type": "code",
   "execution_count": null,
   "metadata": {},
   "outputs": [],
   "source": [
    "data_events_query = flowmachine.features.TotalLocationEvents(\n",
    "    start=\"2016-01-01\",\n",
    "    stop=\"2016-01-07\",\n",
    "    table=\"events.mds\",\n",
    "    level=\"versioned-cell\",\n",
    "    interval=\"hour\",\n",
    "    size=10,\n",
    ")"
   ]
  },
  {
   "cell_type": "markdown",
   "metadata": {},
   "source": [
    "Then we call the `get_dataframe` method to run this query and get the result as a `pandas` DataFrame."
   ]
  },
  {
   "cell_type": "code",
   "execution_count": null,
   "metadata": {},
   "outputs": [],
   "source": [
    "data_events = data_events_query.get_dataframe()"
   ]
  },
  {
   "cell_type": "markdown",
   "metadata": {},
   "source": [
    "Next, we sum over the six days to get total hourly counts per cell tower location."
   ]
  },
  {
   "cell_type": "code",
   "execution_count": null,
   "metadata": {},
   "outputs": [],
   "source": [
    "events_per_hour = data_events.groupby([\"lon\", \"lat\", \"hour\"]).sum().reset_index()"
   ]
  },
  {
   "cell_type": "markdown",
   "metadata": {},
   "source": [
    "### Visualise data events on a heatmap\n",
    "\n",
    "We will use the folium `HeatMapWithTime` plugin to display a heatmap of our MDS event counts. This plugin expects location weights between 0 and 1, so we first scale our event counts by the maximum event count. We then transform our DataFrame into a list of lists of lists that `HeatMapWithTime` will accept as an input, and finally display our heatmap."
   ]
  },
  {
   "cell_type": "code",
   "execution_count": null,
   "metadata": {},
   "outputs": [],
   "source": [
    "events_per_hour[\"weight\"] = events_per_hour[\"total\"]/(events_per_hour[\"total\"].max())\n",
    "\n",
    "hours = range(24)\n",
    "data_for_heatmap = [events_per_hour[events_per_hour.hour==hour][[\"lat\", \"lon\", \"weight\"]].values.tolist() for hour in hours]"
   ]
  },
  {
   "cell_type": "code",
   "execution_count": null,
   "metadata": {},
   "outputs": [],
   "source": [
    "m = folium.Map(location=[27.96834547, 85.960067737], zoom_start=7, tiles='cartodbpositron')\n",
    "\n",
    "HeatMapWithTime(data=data_for_heatmap, index=[str(hour) for hour in hours], radius=0.2, scale_radius=True).add_to(m)\n",
    "\n",
    "m"
   ]
  },
  {
   "cell_type": "code",
   "execution_count": null,
   "metadata": {},
   "outputs": [],
   "source": []
  }
 ],
 "metadata": {
  "kernelspec": {
   "display_name": "Python 3",
   "language": "python",
   "name": "python3"
  },
  "language_info": {
   "codemirror_mode": {
    "name": "ipython",
    "version": 3
   },
   "file_extension": ".py",
   "mimetype": "text/x-python",
   "name": "python",
   "nbconvert_exporter": "python",
   "pygments_lexer": "ipython3",
   "version": "3.7.0"
  }
 },
 "nbformat": 4,
 "nbformat_minor": 2
}
