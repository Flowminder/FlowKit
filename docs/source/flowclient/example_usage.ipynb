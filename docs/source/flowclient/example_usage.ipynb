{
 "cells": [
  {
   "cell_type": "markdown",
   "metadata": {
    "pycharm": {}
   },
   "source": [
    "Example usage of FlowClient to run daily location, modal location and flow queries."
   ]
  },
  {
   "cell_type": "code",
   "execution_count": 2,
   "metadata": {
    "pycharm": {}
   },
   "outputs": [],
   "source": [
    "import flowclient"
   ]
  },
  {
   "cell_type": "markdown",
   "metadata": {
    "pycharm": {}
   },
   "source": [
    "## Create an access token\n",
    "Generate an API access token using [FlowAuth](../../analyst/#flowauth)."
   ]
  },
  {
   "cell_type": "markdown",
   "metadata": {
    "pycharm": {}
   },
   "source": [
    "## Create an API connection\n",
    "Paste the access token from FlowAuth here as `TOKEN`"
   ]
  },
  {
   "cell_type": "code",
   "execution_count": 3,
   "metadata": {
    "pycharm": {}
   },
   "outputs": [],
   "source": [
    "conn = flowclient.connect(url=\"http://localhost:9090\", token=TOKEN)"
   ]
  },
  {
   "cell_type": "markdown",
   "metadata": {
    "pycharm": {}
   },
   "source": [
    "## Daily location"
   ]
  },
  {
   "cell_type": "markdown",
   "metadata": {
    "pycharm": {}
   },
   "source": [
    "### Specify query parameters"
   ]
  },
  {
   "cell_type": "code",
   "execution_count": 4,
   "metadata": {
    "pycharm": {}
   },
   "outputs": [
    {
     "data": {
      "text/markdown": [
       "><div class=\"codehilite\"><pre>{'locations': {'aggregation_unit': 'admin3',\n",
       "               'date': '2016-01-01',\n",
       "               'method': 'last',\n",
       "               'query_kind': 'daily_location',\n",
       "               'subscriber_subset': None},\n",
       " 'query_kind': 'spatial_aggregate'}</pre></div>"
      ],
      "text/plain": [
       "{'query_kind': 'spatial_aggregate',\n",
       " 'locations': {'query_kind': 'daily_location',\n",
       "  'date': '2016-01-01',\n",
       "  'aggregation_unit': 'admin3',\n",
       "  'method': 'last',\n",
       "  'subscriber_subset': None}}"
      ]
     },
     "execution_count": 4,
     "metadata": {},
     "output_type": "execute_result"
    }
   ],
   "source": [
    "query_spec = flowclient.spatial_aggregate(\n",
    "    locations=flowclient.daily_location(\n",
    "        date=\"2016-01-01\",\n",
    "        aggregation_unit=\"admin3\",\n",
    "        method=\"last\",\n",
    "        subscriber_subset=None,\n",
    "    )\n",
    ")\n",
    "\n",
    "query_spec"
   ]
  },
  {
   "cell_type": "markdown",
   "metadata": {
    "pycharm": {}
   },
   "source": [
    "### Set query running"
   ]
  },
  {
   "cell_type": "code",
   "execution_count": 5,
   "metadata": {
    "pycharm": {}
   },
   "outputs": [
    {
     "data": {
      "text/markdown": [
       ">`34061bc5e4bccbcf5f53bda5a2173939`"
      ],
      "text/plain": [
       "'34061bc5e4bccbcf5f53bda5a2173939'"
      ]
     },
     "execution_count": 5,
     "metadata": {},
     "output_type": "execute_result"
    }
   ],
   "source": [
    "query_id = flowclient.run_query(connection=conn, query=query_spec)\n",
    "query_id"
   ]
  },
  {
   "cell_type": "markdown",
   "metadata": {
    "pycharm": {}
   },
   "source": [
    "### Check status of query"
   ]
  },
  {
   "cell_type": "code",
   "execution_count": 6,
   "metadata": {
    "pycharm": {}
   },
   "outputs": [
    {
     "data": {
      "text/markdown": [
       ">`Finished`"
      ],
      "text/plain": [
       "'Finished'"
      ]
     },
     "execution_count": 6,
     "metadata": {},
     "output_type": "execute_result"
    }
   ],
   "source": [
    "flowclient.get_status(connection=conn, query_id=query_id)"
   ]
  },
  {
   "cell_type": "markdown",
   "metadata": {
    "pycharm": {}
   },
   "source": [
    "### Get query result"
   ]
  },
  {
   "cell_type": "code",
   "execution_count": 7,
   "metadata": {
    "pycharm": {}
   },
   "outputs": [
    {
     "data": {
      "text/html": [
       "|    | pcod        |   total |\n",
       "|---:|:------------|--------:|\n",
       "|  0 | 524 1 01 01 |    1188 |\n",
       "|  1 | 524 1 01 02 |      65 |\n",
       "|  2 | 524 1 01 03 |     619 |\n",
       "|  3 | 524 1 02 05 |    1170 |\n",
       "|  4 | 524 1 02 06 |      25 |"
      ],
      "text/plain": [
       "          pcod  total\n",
       "0  524 1 01 01   1188\n",
       "1  524 1 01 02     65\n",
       "2  524 1 01 03    619\n",
       "3  524 1 02 05   1170\n",
       "4  524 1 02 06     25"
      ]
     },
     "execution_count": 7,
     "metadata": {},
     "output_type": "execute_result"
    }
   ],
   "source": [
    "df = flowclient.get_result_by_query_id(connection=conn, query_id=query_id)\n",
    "df.head()"
   ]
  },
  {
   "cell_type": "markdown",
   "metadata": {
    "pycharm": {}
   },
   "source": [
    "Alternative (run query, wait for it to finish, and get result, in one function call):"
   ]
  },
  {
   "cell_type": "code",
   "execution_count": 8,
   "metadata": {
    "pycharm": {}
   },
   "outputs": [
    {
     "data": {
      "text/html": [
       "|    | pcod        |   total |\n",
       "|---:|:------------|--------:|\n",
       "|  0 | 524 1 01 01 |    1188 |\n",
       "|  1 | 524 1 01 02 |      65 |\n",
       "|  2 | 524 1 01 03 |     619 |\n",
       "|  3 | 524 1 02 05 |    1170 |\n",
       "|  4 | 524 1 02 06 |      25 |"
      ],
      "text/plain": [
       "          pcod  total\n",
       "0  524 1 01 01   1188\n",
       "1  524 1 01 02     65\n",
       "2  524 1 01 03    619\n",
       "3  524 1 02 05   1170\n",
       "4  524 1 02 06     25"
      ]
     },
     "execution_count": 8,
     "metadata": {},
     "output_type": "execute_result"
    }
   ],
   "source": [
    "df = flowclient.get_result(connection=conn, query=query_spec)\n",
    "df.head()"
   ]
  },
  {
   "cell_type": "markdown",
   "metadata": {
    "pycharm": {}
   },
   "source": [
    "## Modal location\n",
    "### Specify query parameters\n",
    "Either explicitly from a set of daily locations:"
   ]
  },
  {
   "cell_type": "code",
   "execution_count": 9,
   "metadata": {
    "pycharm": {}
   },
   "outputs": [
    {
     "data": {
      "text/markdown": [
       "><div class=\"codehilite\"><pre>{'aggregation_unit': 'admin3',\n",
       " 'locations': [{'aggregation_unit': 'admin3',\n",
       "                'date': '2016-01-01',\n",
       "                'method': 'last',\n",
       "                'query_kind': 'daily_location',\n",
       "                'subscriber_subset': None},\n",
       "               {'aggregation_unit': 'admin3',\n",
       "                'date': '2016-01-02',\n",
       "                'method': 'last',\n",
       "                'query_kind': 'daily_location',\n",
       "                'subscriber_subset': None}],\n",
       " 'query_kind': 'modal_location'}</pre></div>"
      ],
      "text/plain": [
       "{'query_kind': 'modal_location',\n",
       " 'aggregation_unit': 'admin3',\n",
       " 'locations': [{'query_kind': 'daily_location',\n",
       "   'date': '2016-01-01',\n",
       "   'aggregation_unit': 'admin3',\n",
       "   'method': 'last',\n",
       "   'subscriber_subset': None},\n",
       "  {'query_kind': 'daily_location',\n",
       "   'date': '2016-01-02',\n",
       "   'aggregation_unit': 'admin3',\n",
       "   'method': 'last',\n",
       "   'subscriber_subset': None}]}"
      ]
     },
     "execution_count": 9,
     "metadata": {},
     "output_type": "execute_result"
    }
   ],
   "source": [
    "dl1 = flowclient.daily_location(\n",
    "    date=\"2016-01-01\", aggregation_unit=\"admin3\", method=\"last\", subscriber_subset=None\n",
    ")\n",
    "dl2 = flowclient.daily_location(\n",
    "    date=\"2016-01-02\", aggregation_unit=\"admin3\", method=\"last\", subscriber_subset=None\n",
    ")\n",
    "ml = flowclient.modal_location(locations=[dl1, dl2], aggregation_unit=\"admin3\")\n",
    "\n",
    "ml"
   ]
  },
  {
   "cell_type": "markdown",
   "metadata": {
    "pycharm": {}
   },
   "source": [
    "Or from a date range:"
   ]
  },
  {
   "cell_type": "code",
   "execution_count": 10,
   "metadata": {
    "pycharm": {}
   },
   "outputs": [
    {
     "data": {
      "text/markdown": [
       "><div class=\"codehilite\"><pre>{'aggregation_unit': 'admin3',\n",
       " 'locations': [{'aggregation_unit': 'admin3',\n",
       "                'date': '2016-01-01',\n",
       "                'method': 'last',\n",
       "                'query_kind': 'daily_location',\n",
       "                'subscriber_subset': None},\n",
       "               {'aggregation_unit': 'admin3',\n",
       "                'date': '2016-01-02',\n",
       "                'method': 'last',\n",
       "                'query_kind': 'daily_location',\n",
       "                'subscriber_subset': None},\n",
       "               {'aggregation_unit': 'admin3',\n",
       "                'date': '2016-01-03',\n",
       "                'method': 'last',\n",
       "                'query_kind': 'daily_location',\n",
       "                'subscriber_subset': None}],\n",
       " 'query_kind': 'modal_location'}</pre></div>"
      ],
      "text/plain": [
       "{'query_kind': 'modal_location',\n",
       " 'aggregation_unit': 'admin3',\n",
       " 'locations': [{'query_kind': 'daily_location',\n",
       "   'date': '2016-01-01',\n",
       "   'aggregation_unit': 'admin3',\n",
       "   'method': 'last',\n",
       "   'subscriber_subset': None},\n",
       "  {'query_kind': 'daily_location',\n",
       "   'date': '2016-01-02',\n",
       "   'aggregation_unit': 'admin3',\n",
       "   'method': 'last',\n",
       "   'subscriber_subset': None},\n",
       "  {'query_kind': 'daily_location',\n",
       "   'date': '2016-01-03',\n",
       "   'aggregation_unit': 'admin3',\n",
       "   'method': 'last',\n",
       "   'subscriber_subset': None}]}"
      ]
     },
     "execution_count": 10,
     "metadata": {},
     "output_type": "execute_result"
    }
   ],
   "source": [
    "ml = flowclient.modal_location_from_dates(\n",
    "    start_date=\"2016-01-01\",\n",
    "    end_date=\"2016-01-03\",\n",
    "    aggregation_unit=\"admin3\",\n",
    "    method=\"last\",\n",
    "    subscriber_subset=None,\n",
    ")\n",
    "\n",
    "ml"
   ]
  },
  {
   "cell_type": "markdown",
   "metadata": {
    "pycharm": {}
   },
   "source": [
    "### Set query running"
   ]
  },
  {
   "cell_type": "code",
   "execution_count": 11,
   "metadata": {
    "pycharm": {}
   },
   "outputs": [
    {
     "data": {
      "text/markdown": [
       ">`017edf7186f5932f033f3abf45ef8b04`"
      ],
      "text/plain": [
       "'017edf7186f5932f033f3abf45ef8b04'"
      ]
     },
     "execution_count": 11,
     "metadata": {},
     "output_type": "execute_result"
    }
   ],
   "source": [
    "query_id = flowclient.run_query(\n",
    "    connection=conn, query=flowclient.spatial_aggregate(locations=ml)\n",
    ")\n",
    "query_id"
   ]
  },
  {
   "cell_type": "markdown",
   "metadata": {
    "pycharm": {}
   },
   "source": [
    "### Check status of query"
   ]
  },
  {
   "cell_type": "code",
   "execution_count": 12,
   "metadata": {
    "pycharm": {}
   },
   "outputs": [
    {
     "data": {
      "text/markdown": [
       ">`Finished`"
      ],
      "text/plain": [
       "'Finished'"
      ]
     },
     "execution_count": 12,
     "metadata": {},
     "output_type": "execute_result"
    }
   ],
   "source": [
    "flowclient.get_status(connection=conn, query_id=query_id)"
   ]
  },
  {
   "cell_type": "markdown",
   "metadata": {
    "pycharm": {}
   },
   "source": [
    "### Get query result"
   ]
  },
  {
   "cell_type": "code",
   "execution_count": 13,
   "metadata": {
    "pycharm": {}
   },
   "outputs": [
    {
     "data": {
      "text/html": [
       "|    | pcod        |   total |\n",
       "|---:|:------------|--------:|\n",
       "|  0 | 524 1 01 01 |    1398 |\n",
       "|  1 | 524 1 01 02 |      39 |\n",
       "|  2 | 524 1 01 03 |     732 |\n",
       "|  3 | 524 1 02 05 |    1420 |\n",
       "|  4 | 524 1 02 06 |      11 |"
      ],
      "text/plain": [
       "          pcod  total\n",
       "0  524 1 01 01   1398\n",
       "1  524 1 01 02     39\n",
       "2  524 1 01 03    732\n",
       "3  524 1 02 05   1420\n",
       "4  524 1 02 06     11"
      ]
     },
     "execution_count": 13,
     "metadata": {},
     "output_type": "execute_result"
    }
   ],
   "source": [
    "df = flowclient.get_result_by_query_id(connection=conn, query_id=query_id)\n",
    "df.head()"
   ]
  },
  {
   "cell_type": "markdown",
   "metadata": {
    "pycharm": {}
   },
   "source": [
    "Alternative:"
   ]
  },
  {
   "cell_type": "code",
   "execution_count": 14,
   "metadata": {
    "pycharm": {}
   },
   "outputs": [
    {
     "data": {
      "text/html": [
       "|    | pcod        |   total |\n",
       "|---:|:------------|--------:|\n",
       "|  0 | 524 1 01 01 |    1398 |\n",
       "|  1 | 524 1 01 02 |      39 |\n",
       "|  2 | 524 1 01 03 |     732 |\n",
       "|  3 | 524 1 02 05 |    1420 |\n",
       "|  4 | 524 1 02 06 |      11 |"
      ],
      "text/plain": [
       "          pcod  total\n",
       "0  524 1 01 01   1398\n",
       "1  524 1 01 02     39\n",
       "2  524 1 01 03    732\n",
       "3  524 1 02 05   1420\n",
       "4  524 1 02 06     11"
      ]
     },
     "execution_count": 14,
     "metadata": {},
     "output_type": "execute_result"
    }
   ],
   "source": [
    "df = flowclient.get_result(\n",
    "    connection=conn, query=flowclient.spatial_aggregate(locations=ml)\n",
    ")\n",
    "df.head()"
   ]
  },
  {
   "cell_type": "markdown",
   "metadata": {
    "pycharm": {}
   },
   "source": [
    "## Flow\n",
    "### Specify query parameters\n",
    "Specify parameters for two location queries:"
   ]
  },
  {
   "cell_type": "code",
   "execution_count": 15,
   "metadata": {
    "pycharm": {}
   },
   "outputs": [],
   "source": [
    "aggregation_unit = \"admin1\"\n",
    "dl_past = flowclient.daily_location(\n",
    "    date=\"2016-01-01\",\n",
    "    aggregation_unit=aggregation_unit,\n",
    "    method=\"last\",\n",
    "    subscriber_subset=None,\n",
    ")\n",
    "dl_present = flowclient.daily_location(\n",
    "    date=\"2016-01-07\",\n",
    "    aggregation_unit=aggregation_unit,\n",
    "    method=\"last\",\n",
    "    subscriber_subset=None,\n",
    ")"
   ]
  },
  {
   "cell_type": "markdown",
   "metadata": {
    "pycharm": {}
   },
   "source": [
    "Specify parameters for flow query:"
   ]
  },
  {
   "cell_type": "code",
   "execution_count": 16,
   "metadata": {
    "pycharm": {}
   },
   "outputs": [
    {
     "data": {
      "text/markdown": [
       "><div class=\"codehilite\"><pre>{'aggregation_unit': 'admin1',\n",
       " 'from_location': {'aggregation_unit': 'admin1',\n",
       "                   'date': '2016-01-01',\n",
       "                   'method': 'last',\n",
       "                   'query_kind': 'daily_location',\n",
       "                   'subscriber_subset': None},\n",
       " 'query_kind': 'flows',\n",
       " 'to_location': {'aggregation_unit': 'admin1',\n",
       "                 'date': '2016-01-07',\n",
       "                 'method': 'last',\n",
       "                 'query_kind': 'daily_location',\n",
       "                 'subscriber_subset': None}}</pre></div>"
      ],
      "text/plain": [
       "{'query_kind': 'flows',\n",
       " 'from_location': {'query_kind': 'daily_location',\n",
       "  'date': '2016-01-01',\n",
       "  'aggregation_unit': 'admin1',\n",
       "  'method': 'last',\n",
       "  'subscriber_subset': None},\n",
       " 'to_location': {'query_kind': 'daily_location',\n",
       "  'date': '2016-01-07',\n",
       "  'aggregation_unit': 'admin1',\n",
       "  'method': 'last',\n",
       "  'subscriber_subset': None},\n",
       " 'aggregation_unit': 'admin1'}"
      ]
     },
     "execution_count": 16,
     "metadata": {},
     "output_type": "execute_result"
    }
   ],
   "source": [
    "flow = flowclient.flows(\n",
    "    from_location=dl_past, to_location=dl_present, aggregation_unit=aggregation_unit\n",
    ")\n",
    "flow"
   ]
  },
  {
   "cell_type": "markdown",
   "metadata": {
    "pycharm": {}
   },
   "source": [
    "### Set query running"
   ]
  },
  {
   "cell_type": "code",
   "execution_count": 17,
   "metadata": {
    "pycharm": {}
   },
   "outputs": [
    {
     "data": {
      "text/markdown": [
       ">`ec1bc4f2e47dcc2cf441e766e532572b`"
      ],
      "text/plain": [
       "'ec1bc4f2e47dcc2cf441e766e532572b'"
      ]
     },
     "execution_count": 17,
     "metadata": {},
     "output_type": "execute_result"
    }
   ],
   "source": [
    "query_id = flowclient.run_query(connection=conn, query=flow)\n",
    "query_id"
   ]
  },
  {
   "cell_type": "markdown",
   "metadata": {
    "pycharm": {}
   },
   "source": [
    "### Check status of query"
   ]
  },
  {
   "cell_type": "code",
   "execution_count": 18,
   "metadata": {
    "pycharm": {},
    "scrolled": true
   },
   "outputs": [
    {
     "data": {
      "text/markdown": [
       ">`Finished`"
      ],
      "text/plain": [
       "'Finished'"
      ]
     },
     "execution_count": 18,
     "metadata": {},
     "output_type": "execute_result"
    }
   ],
   "source": [
    "flowclient.get_status(connection=conn, query_id=query_id)"
   ]
  },
  {
   "cell_type": "markdown",
   "metadata": {
    "pycharm": {}
   },
   "source": [
    "### Get query result"
   ]
  },
  {
   "cell_type": "code",
   "execution_count": 19,
   "metadata": {
    "pycharm": {}
   },
   "outputs": [
    {
     "data": {
      "text/html": [
       "|    |   count | pcod_from   | pcod_to   |\n",
       "|---:|--------:|:------------|:----------|\n",
       "|  0 |     557 | 524 1       | 524 5     |\n",
       "|  1 |    1390 | 524 1       | 524 4     |\n",
       "|  2 |     823 | 524 1       | 524 3     |\n",
       "|  3 |     729 | 524 1       | 524 2     |\n",
       "|  4 |    4246 | 524 1       | 524 1     |"
      ],
      "text/plain": [
       "   count pcod_from pcod_to\n",
       "0    557     524 1   524 5\n",
       "1   1390     524 1   524 4\n",
       "2    823     524 1   524 3\n",
       "3    729     524 1   524 2\n",
       "4   4246     524 1   524 1"
      ]
     },
     "execution_count": 19,
     "metadata": {},
     "output_type": "execute_result"
    }
   ],
   "source": [
    "df = flowclient.get_result_by_query_id(connection=conn, query_id=query_id)\n",
    "df.head()"
   ]
  },
  {
   "cell_type": "markdown",
   "metadata": {
    "pycharm": {}
   },
   "source": [
    "## Counts of Events by Location"
   ]
  },
  {
   "cell_type": "code",
   "execution_count": 20,
   "metadata": {
    "pycharm": {}
   },
   "outputs": [
    {
     "data": {
      "text/html": [
       "|    | date       |   hour | pcod        |   total |\n",
       "|---:|:-----------|-------:|:------------|--------:|\n",
       "|  0 | 2016-01-01 |      0 | 524 1 01 01 |     112 |\n",
       "|  1 | 2016-01-01 |      1 | 524 1 01 01 |     133 |\n",
       "|  2 | 2016-01-01 |      2 | 524 1 01 01 |     136 |\n",
       "|  3 | 2016-01-01 |      3 | 524 1 01 01 |     132 |\n",
       "|  4 | 2016-01-01 |      4 | 524 1 01 01 |     114 |"
      ],
      "text/plain": [
       "         date  hour         pcod  total\n",
       "0  2016-01-01   0.0  524 1 01 01    112\n",
       "1  2016-01-01   1.0  524 1 01 01    133\n",
       "2  2016-01-01   2.0  524 1 01 01    136\n",
       "3  2016-01-01   3.0  524 1 01 01    132\n",
       "4  2016-01-01   4.0  524 1 01 01    114"
      ]
     },
     "execution_count": 20,
     "metadata": {},
     "output_type": "execute_result"
    }
   ],
   "source": [
    "df = flowclient.get_result(\n",
    "    connection=conn,\n",
    "    query=flowclient.location_event_counts(\n",
    "        start_date=\"2016-01-01\",\n",
    "        end_date=\"2016-01-08\",\n",
    "        aggregation_unit=\"admin3\",\n",
    "        count_interval=\"hour\",\n",
    "    ),\n",
    ")\n",
    "df.head()"
   ]
  },
  {
   "cell_type": "code",
   "execution_count": null,
   "metadata": {},
   "outputs": [],
   "source": []
  }
 ],
 "metadata": {
  "kernelspec": {
   "display_name": "Python 3",
   "language": "python",
   "name": "python3"
  },
  "language_info": {
   "codemirror_mode": {
    "name": "ipython",
    "version": 3
   },
   "file_extension": ".py",
   "mimetype": "text/x-python",
   "name": "python",
   "nbconvert_exporter": "python",
   "pygments_lexer": "ipython3",
   "version": "3.7.0"
  }
 },
 "nbformat": 4,
 "nbformat_minor": 2
}
