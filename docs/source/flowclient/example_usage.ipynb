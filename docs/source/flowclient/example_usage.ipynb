{
 "cells": [
  {
   "cell_type": "markdown",
   "metadata": {},
   "source": [
    "Example usage of FlowClient to run daily location, modal location and flow queries."
   ]
  },
  {
   "cell_type": "code",
   "execution_count": 2,
   "metadata": {},
   "outputs": [],
   "source": [
    "import flowclient"
   ]
  },
  {
   "cell_type": "markdown",
   "metadata": {},
   "source": [
    "## Create an access token\n",
    "Generate an API access token using [FlowAuth](../../index.html#flowauth)."
   ]
  },
  {
   "cell_type": "markdown",
   "metadata": {},
   "source": [
    "## Create an API connection\n",
    "Paste the access token from FlowAuth here as `TOKEN`"
   ]
  },
  {
   "cell_type": "code",
   "execution_count": 3,
   "metadata": {},
   "outputs": [],
   "source": [
    "conn = flowclient.connect(\"http://localhost:9090\", TOKEN)"
   ]
  },
  {
   "cell_type": "markdown",
   "metadata": {},
   "source": [
    "## Daily location"
   ]
  },
  {
   "cell_type": "markdown",
   "metadata": {},
   "source": [
    "### Specify query parameters"
   ]
  },
  {
   "cell_type": "code",
   "execution_count": 4,
   "metadata": {},
   "outputs": [
    {
     "data": {
      "text/markdown": [
       "><div class=\"codehilite\"><pre>{'params': {'aggregation_unit': 'admin3',\n",
       "            'daily_location_method': 'last',\n",
       "            'date': '2016-01-01',\n",
       "            'subscriber_subset': 'all'},\n",
       " 'query_kind': 'daily_location'}</pre></div>"
      ],
      "text/plain": [
       "{'query_kind': 'daily_location',\n",
       " 'params': {'date': '2016-01-01',\n",
       "  'aggregation_unit': 'admin3',\n",
       "  'daily_location_method': 'last',\n",
       "  'subscriber_subset': 'all'}}"
      ]
     },
     "execution_count": 4,
     "metadata": {},
     "output_type": "execute_result"
    }
   ],
   "source": [
    "query_spec = flowclient.daily_location(\n",
    "    date=\"2016-01-01\",\n",
    "    aggregation_unit=\"admin3\",\n",
    "    method=\"last\",\n",
    "    subscriber_subset=None,\n",
    ")\n",
    "\n",
    "query_spec"
   ]
  },
  {
   "cell_type": "markdown",
   "metadata": {},
   "source": [
    "### Set query running"
   ]
  },
  {
   "cell_type": "code",
   "execution_count": 5,
   "metadata": {},
   "outputs": [
    {
     "data": {
      "text/markdown": [
       ">`3c875ae11876e660b3cbda68612bdb76`"
      ],
      "text/plain": [
       "'3c875ae11876e660b3cbda68612bdb76'"
      ]
     },
     "execution_count": 5,
     "metadata": {},
     "output_type": "execute_result"
    }
   ],
   "source": [
    "query_id = flowclient.run_query(conn, query_spec)\n",
    "query_id"
   ]
  },
  {
   "cell_type": "markdown",
   "metadata": {},
   "source": [
    "### Check status of query"
   ]
  },
  {
   "cell_type": "code",
   "execution_count": 6,
   "metadata": {},
   "outputs": [
    {
     "data": {
      "text/markdown": [
       ">`Finished`"
      ],
      "text/plain": [
       "'Finished'"
      ]
     },
     "execution_count": 6,
     "metadata": {},
     "output_type": "execute_result"
    }
   ],
   "source": [
    "flowclient.get_status(conn, query_id)"
   ]
  },
  {
   "cell_type": "markdown",
   "metadata": {},
   "source": [
    "### Get query result"
   ]
  },
  {
   "cell_type": "code",
   "execution_count": 7,
   "metadata": {},
   "outputs": [
    {
     "data": {
      "text/html": [
       "|    | pcod        |   total |\n",
       "|---:|:------------|--------:|\n",
       "|  0 | 524 4 11 60 |    1277 |\n",
       "|  1 | 524 3 09 50 |      11 |\n",
       "|  2 | 524 1 03 11 |     649 |\n",
       "|  3 | 524 3 07 40 |     538 |\n",
       "|  4 | 524 1 03 14 |    1282 |"
      ],
      "text/plain": [
       "          pcod  total\n",
       "0  524 4 11 60   1277\n",
       "1  524 3 09 50     11\n",
       "2  524 1 03 11    649\n",
       "3  524 3 07 40    538\n",
       "4  524 1 03 14   1282"
      ]
     },
     "execution_count": 7,
     "metadata": {},
     "output_type": "execute_result"
    }
   ],
   "source": [
    "df = flowclient.get_result_by_query_id(conn, query_id)\n",
    "df.head()"
   ]
  },
  {
   "cell_type": "markdown",
   "metadata": {},
   "source": [
    "Alternative (run query, wait for it to finish, and get result, in one function call):"
   ]
  },
  {
   "cell_type": "code",
   "execution_count": 8,
   "metadata": {},
   "outputs": [
    {
     "data": {
      "text/html": [
       "|    | pcod        |   total |\n",
       "|---:|:------------|--------:|\n",
       "|  0 | 524 4 11 60 |    1277 |\n",
       "|  1 | 524 3 09 50 |      11 |\n",
       "|  2 | 524 1 03 11 |     649 |\n",
       "|  3 | 524 3 07 40 |     538 |\n",
       "|  4 | 524 1 03 14 |    1282 |"
      ],
      "text/plain": [
       "          pcod  total\n",
       "0  524 4 11 60   1277\n",
       "1  524 3 09 50     11\n",
       "2  524 1 03 11    649\n",
       "3  524 3 07 40    538\n",
       "4  524 1 03 14   1282"
      ]
     },
     "execution_count": 8,
     "metadata": {},
     "output_type": "execute_result"
    }
   ],
   "source": [
    "df = flowclient.get_result(conn, query_spec)\n",
    "df.head()"
   ]
  },
  {
   "cell_type": "markdown",
   "metadata": {},
   "source": [
    "## Modal location\n",
    "### Specify query parameters\n",
    "Either explicitly from a set of daily locations:"
   ]
  },
  {
   "cell_type": "code",
   "execution_count": 9,
   "metadata": {},
   "outputs": [
    {
     "data": {
      "text/markdown": [
       "><div class=\"codehilite\"><pre>{'params': {'aggregation_unit': 'admin3',\n",
       "            'locations': ({'params': {'aggregation_unit': 'admin3',\n",
       "                                      'daily_location_method': 'last',\n",
       "                                      'date': '2016-01-01',\n",
       "                                      'subscriber_subset': 'all'},\n",
       "                           'query_kind': 'daily_location'},\n",
       "                          {'params': {'aggregation_unit': 'admin3',\n",
       "                                      'daily_location_method': 'last',\n",
       "                                      'date': '2016-01-02',\n",
       "                                      'subscriber_subset': 'all'},\n",
       "                           'query_kind': 'daily_location'})},\n",
       " 'query_kind': 'modal_location'}</pre></div>"
      ],
      "text/plain": [
       "{'query_kind': 'modal_location',\n",
       " 'params': {'locations': ({'query_kind': 'daily_location',\n",
       "    'params': {'date': '2016-01-01',\n",
       "     'aggregation_unit': 'admin3',\n",
       "     'daily_location_method': 'last',\n",
       "     'subscriber_subset': 'all'}},\n",
       "   {'query_kind': 'daily_location',\n",
       "    'params': {'date': '2016-01-02',\n",
       "     'aggregation_unit': 'admin3',\n",
       "     'daily_location_method': 'last',\n",
       "     'subscriber_subset': 'all'}}),\n",
       "  'aggregation_unit': 'admin3'}}"
      ]
     },
     "execution_count": 9,
     "metadata": {},
     "output_type": "execute_result"
    }
   ],
   "source": [
    "dl1 = flowclient.daily_location(\n",
    "    date=\"2016-01-01\",\n",
    "    aggregation_unit=\"admin3\",\n",
    "    method=\"last\",\n",
    "    subscriber_subset=None,\n",
    ")\n",
    "dl2 = flowclient.daily_location(\n",
    "    date=\"2016-01-02\",\n",
    "    aggregation_unit=\"admin3\",\n",
    "    method=\"last\",\n",
    "    subscriber_subset=None,\n",
    ")\n",
    "ml = flowclient.modal_location(dl1, dl2, aggregation_unit=\"admin3\")\n",
    "\n",
    "ml"
   ]
  },
  {
   "cell_type": "markdown",
   "metadata": {},
   "source": [
    "Or from a date range:"
   ]
  },
  {
   "cell_type": "code",
   "execution_count": 10,
   "metadata": {},
   "outputs": [
    {
     "data": {
      "text/markdown": [
       "><div class=\"codehilite\"><pre>{'params': {'aggregation_unit': 'admin3',\n",
       "            'locations': ({'params': {'aggregation_unit': 'admin3',\n",
       "                                      'daily_location_method': 'last',\n",
       "                                      'date': '2016-01-01',\n",
       "                                      'subscriber_subset': 'all'},\n",
       "                           'query_kind': 'daily_location'},\n",
       "                          {'params': {'aggregation_unit': 'admin3',\n",
       "                                      'daily_location_method': 'last',\n",
       "                                      'date': '2016-01-02',\n",
       "                                      'subscriber_subset': 'all'},\n",
       "                           'query_kind': 'daily_location'},\n",
       "                          {'params': {'aggregation_unit': 'admin3',\n",
       "                                      'daily_location_method': 'last',\n",
       "                                      'date': '2016-01-03',\n",
       "                                      'subscriber_subset': 'all'},\n",
       "                           'query_kind': 'daily_location'})},\n",
       " 'query_kind': 'modal_location'}</pre></div>"
      ],
      "text/plain": [
       "{'query_kind': 'modal_location',\n",
       " 'params': {'locations': ({'query_kind': 'daily_location',\n",
       "    'params': {'date': '2016-01-01',\n",
       "     'aggregation_unit': 'admin3',\n",
       "     'daily_location_method': 'last',\n",
       "     'subscriber_subset': 'all'}},\n",
       "   {'query_kind': 'daily_location',\n",
       "    'params': {'date': '2016-01-02',\n",
       "     'aggregation_unit': 'admin3',\n",
       "     'daily_location_method': 'last',\n",
       "     'subscriber_subset': 'all'}},\n",
       "   {'query_kind': 'daily_location',\n",
       "    'params': {'date': '2016-01-03',\n",
       "     'aggregation_unit': 'admin3',\n",
       "     'daily_location_method': 'last',\n",
       "     'subscriber_subset': 'all'}}),\n",
       "  'aggregation_unit': 'admin3'}}"
      ]
     },
     "execution_count": 10,
     "metadata": {},
     "output_type": "execute_result"
    }
   ],
   "source": [
    "ml = flowclient.modal_location_from_dates(\n",
    "    \"2016-01-01\",\n",
    "    \"2016-01-03\",\n",
    "    aggregation_unit=\"admin3\",\n",
    "    method=\"last\",\n",
    "    subscriber_subset=None,\n",
    ")\n",
    "\n",
    "ml"
   ]
  },
  {
   "cell_type": "markdown",
   "metadata": {},
   "source": [
    "### Set query running"
   ]
  },
  {
   "cell_type": "code",
   "execution_count": 11,
   "metadata": {},
   "outputs": [
    {
     "data": {
      "text/markdown": [
       ">`3cc88943b5fd2cd356e2d71443cc6bfd`"
      ],
      "text/plain": [
       "'3cc88943b5fd2cd356e2d71443cc6bfd'"
      ]
     },
     "execution_count": 11,
     "metadata": {},
     "output_type": "execute_result"
    }
   ],
   "source": [
    "query_id = flowclient.run_query(conn, ml)\n",
    "query_id"
   ]
  },
  {
   "cell_type": "markdown",
   "metadata": {},
   "source": [
    "### Check status of query"
   ]
  },
  {
   "cell_type": "code",
   "execution_count": 12,
   "metadata": {},
   "outputs": [
    {
     "data": {
      "text/markdown": [
       ">`executing`"
      ],
      "text/plain": [
       "'executing'"
      ]
     },
     "execution_count": 12,
     "metadata": {},
     "output_type": "execute_result"
    }
   ],
   "source": [
    "flowclient.get_status(conn, query_id)"
   ]
  },
  {
   "cell_type": "markdown",
   "metadata": {},
   "source": [
    "### Get query result"
   ]
  },
  {
   "cell_type": "code",
   "execution_count": 13,
   "metadata": {},
   "outputs": [
    {
     "data": {
      "text/html": [
       "|    | pcod        |   total |\n",
       "|---:|:------------|--------:|\n",
       "|  0 | 524 4 11 60 |    1506 |\n",
       "|  1 | 524 3 09 50 |       7 |\n",
       "|  2 | 524 1 03 11 |     750 |\n",
       "|  3 | 524 3 07 40 |     664 |\n",
       "|  4 | 524 1 03 14 |    1506 |"
      ],
      "text/plain": [
       "          pcod  total\n",
       "0  524 4 11 60   1506\n",
       "1  524 3 09 50      7\n",
       "2  524 1 03 11    750\n",
       "3  524 3 07 40    664\n",
       "4  524 1 03 14   1506"
      ]
     },
     "execution_count": 13,
     "metadata": {},
     "output_type": "execute_result"
    }
   ],
   "source": [
    "df = flowclient.get_result_by_query_id(conn, query_id)\n",
    "df.head()"
   ]
  },
  {
   "cell_type": "markdown",
   "metadata": {},
   "source": [
    "Alternative:"
   ]
  },
  {
   "cell_type": "code",
   "execution_count": 14,
   "metadata": {},
   "outputs": [
    {
     "data": {
      "text/html": [
       "|    | pcod        |   total |\n",
       "|---:|:------------|--------:|\n",
       "|  0 | 524 4 11 60 |    1506 |\n",
       "|  1 | 524 3 09 50 |       7 |\n",
       "|  2 | 524 1 03 11 |     750 |\n",
       "|  3 | 524 3 07 40 |     664 |\n",
       "|  4 | 524 1 03 14 |    1506 |"
      ],
      "text/plain": [
       "          pcod  total\n",
       "0  524 4 11 60   1506\n",
       "1  524 3 09 50      7\n",
       "2  524 1 03 11    750\n",
       "3  524 3 07 40    664\n",
       "4  524 1 03 14   1506"
      ]
     },
     "execution_count": 14,
     "metadata": {},
     "output_type": "execute_result"
    }
   ],
   "source": [
    "df = flowclient.get_result(conn, ml)\n",
    "df.head()"
   ]
  },
  {
   "cell_type": "markdown",
   "metadata": {},
   "source": [
    "## Flow\n",
    "### Specify query parameters\n",
    "Specify parameters for two location queries:"
   ]
  },
  {
   "cell_type": "code",
   "execution_count": 15,
   "metadata": {},
   "outputs": [],
   "source": [
    "aggregation_unit = \"admin1\"\n",
    "dl_past = flowclient.daily_location(\n",
    "    \"2016-01-01\",\n",
    "    aggregation_unit=aggregation_unit,\n",
    "    method=\"last\",\n",
    "    subscriber_subset=None,\n",
    ")\n",
    "dl_present = flowclient.daily_location(\n",
    "    \"2016-01-07\",\n",
    "    aggregation_unit=aggregation_unit,\n",
    "    method=\"last\",\n",
    "    subscriber_subset=None,\n",
    ")"
   ]
  },
  {
   "cell_type": "code",
   "execution_count": 16,
   "metadata": {},
   "outputs": [
    {
     "data": {
      "text/markdown": [
       ">`fbb40425fe8b3a86f430f6e9b330721c`"
      ],
      "text/plain": [
       "'fbb40425fe8b3a86f430f6e9b330721c'"
      ]
     },
     "execution_count": 16,
     "metadata": {},
     "output_type": "execute_result"
    }
   ],
   "source": [
    "flowclient.run_query(conn, dl_past)\n",
    "flowclient.run_query(conn, dl_present)"
   ]
  },
  {
   "cell_type": "markdown",
   "metadata": {},
   "source": [
    "Specify parameters for flow query:"
   ]
  },
  {
   "cell_type": "code",
   "execution_count": 17,
   "metadata": {},
   "outputs": [
    {
     "data": {
      "text/markdown": [
       "><div class=\"codehilite\"><pre>{'params': {'aggregation_unit': 'admin1',\n",
       "            'from_location': {'params': {'aggregation_unit': 'admin1',\n",
       "                                         'daily_location_method': 'last',\n",
       "                                         'date': '2016-01-01',\n",
       "                                         'subscriber_subset': 'all'},\n",
       "                              'query_kind': 'daily_location'},\n",
       "            'to_location': {'params': {'aggregation_unit': 'admin1',\n",
       "                                       'daily_location_method': 'last',\n",
       "                                       'date': '2016-01-07',\n",
       "                                       'subscriber_subset': 'all'},\n",
       "                            'query_kind': 'daily_location'}},\n",
       " 'query_kind': 'flows'}</pre></div>"
      ],
      "text/plain": [
       "{'query_kind': 'flows',\n",
       " 'params': {'from_location': {'query_kind': 'daily_location',\n",
       "   'params': {'date': '2016-01-01',\n",
       "    'aggregation_unit': 'admin1',\n",
       "    'daily_location_method': 'last',\n",
       "    'subscriber_subset': 'all'}},\n",
       "  'to_location': {'query_kind': 'daily_location',\n",
       "   'params': {'date': '2016-01-07',\n",
       "    'aggregation_unit': 'admin1',\n",
       "    'daily_location_method': 'last',\n",
       "    'subscriber_subset': 'all'}},\n",
       "  'aggregation_unit': 'admin1'}}"
      ]
     },
     "execution_count": 17,
     "metadata": {},
     "output_type": "execute_result"
    }
   ],
   "source": [
    "flow = flowclient.flows(dl_past, dl_present, aggregation_unit=aggregation_unit)\n",
    "flow"
   ]
  },
  {
   "cell_type": "markdown",
   "metadata": {},
   "source": [
    "### Set query running"
   ]
  },
  {
   "cell_type": "code",
   "execution_count": 18,
   "metadata": {},
   "outputs": [
    {
     "data": {
      "text/markdown": [
       ">`93267e62aec9891645b33d078a6f3dd2`"
      ],
      "text/plain": [
       "'93267e62aec9891645b33d078a6f3dd2'"
      ]
     },
     "execution_count": 18,
     "metadata": {},
     "output_type": "execute_result"
    }
   ],
   "source": [
    "query_id = flowclient.run_query(conn, flow)\n",
    "query_id"
   ]
  },
  {
   "cell_type": "markdown",
   "metadata": {},
   "source": [
    "### Check status of query"
   ]
  },
  {
   "cell_type": "code",
   "execution_count": 19,
   "metadata": {
    "scrolled": true
   },
   "outputs": [
    {
     "data": {
      "text/markdown": [
       ">`Finished`"
      ],
      "text/plain": [
       "'Finished'"
      ]
     },
     "execution_count": 19,
     "metadata": {},
     "output_type": "execute_result"
    }
   ],
   "source": [
    "flowclient.get_status(conn, query_id)"
   ]
  },
  {
   "cell_type": "markdown",
   "metadata": {},
   "source": [
    "### Get query result"
   ]
  },
  {
   "cell_type": "code",
   "execution_count": 20,
   "metadata": {},
   "outputs": [
    {
     "data": {
      "text/html": [
       "|    |   count | pcod_from   | pcod_to   |\n",
       "|---:|--------:|:------------|:----------|\n",
       "|  0 |     329 | 524 1       | 524 5     |\n",
       "|  1 |     608 | 524 1       | 524 4     |\n",
       "|  2 |     434 | 524 1       | 524 3     |\n",
       "|  3 |     448 | 524 1       | 524 2     |\n",
       "|  4 |    5063 | 524 1       | 524 1     |"
      ],
      "text/plain": [
       "   count pcod_from pcod_to\n",
       "0    329     524 1   524 5\n",
       "1    608     524 1   524 4\n",
       "2    434     524 1   524 3\n",
       "3    448     524 1   524 2\n",
       "4   5063     524 1   524 1"
      ]
     },
     "execution_count": 20,
     "metadata": {},
     "output_type": "execute_result"
    }
   ],
   "source": [
    "df = flowclient.get_result_by_query_id(conn, query_id)\n",
    "df.head()"
   ]
  },
  {
   "cell_type": "markdown",
   "metadata": {},
   "source": [
    "## Counts of Events by Location"
   ]
  },
  {
   "cell_type": "code",
   "execution_count": 21,
   "metadata": {},
   "outputs": [
    {
     "data": {
      "text/html": [
       "|    | date       |   hour | pcod        |   total |\n",
       "|---:|:-----------|-------:|:------------|--------:|\n",
       "|  0 | 2016-01-01 |      0 | 524 1 01 01 |     122 |\n",
       "|  1 | 2016-01-01 |      1 | 524 1 01 01 |     130 |\n",
       "|  2 | 2016-01-01 |      2 | 524 1 01 01 |     128 |\n",
       "|  3 | 2016-01-01 |      3 | 524 1 01 01 |     114 |\n",
       "|  4 | 2016-01-01 |      4 | 524 1 01 01 |     106 |"
      ],
      "text/plain": [
       "         date  hour         pcod  total\n",
       "0  2016-01-01   0.0  524 1 01 01    122\n",
       "1  2016-01-01   1.0  524 1 01 01    130\n",
       "2  2016-01-01   2.0  524 1 01 01    128\n",
       "3  2016-01-01   3.0  524 1 01 01    114\n",
       "4  2016-01-01   4.0  524 1 01 01    106"
      ]
     },
     "execution_count": 21,
     "metadata": {},
     "output_type": "execute_result"
    }
   ],
   "source": [
    "df = flowclient.get_result(conn, flowclient.location_event_counts(\"2016-01-01\", \"2016-01-08\", \"admin3\", \"hour\"))\n",
    "df.head()"
   ]
  },
  {
   "cell_type": "code",
   "execution_count": null,
   "metadata": {},
   "outputs": [],
   "source": []
  }
 ],
 "metadata": {
  "kernelspec": {
   "display_name": "Python 3",
   "language": "python",
   "name": "python3"
  },
  "language_info": {
   "codemirror_mode": {
    "name": "ipython",
    "version": 3
   },
   "file_extension": ".py",
   "mimetype": "text/x-python",
   "name": "python",
   "nbconvert_exporter": "python",
   "pygments_lexer": "ipython3",
   "version": "3.7.0"
  }
 },
 "nbformat": 4,
 "nbformat_minor": 2
}
