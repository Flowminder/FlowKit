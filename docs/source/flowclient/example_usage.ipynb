{
  "cells": [
    {
      "cell_type": "markdown",
      "metadata": {
        "pycharm": {}
      },
      "source": [
        "Example usage of FlowClient to run daily location, modal location and flow queries."
      ]
    },
    {
      "cell_type": "code",
      "execution_count": 2,
      "metadata": {
        "pycharm": {}
      },
      "outputs": [],
      "source": [
        "import flowclient"
      ]
    },
    {
      "cell_type": "markdown",
      "metadata": {
        "pycharm": {}
      },
      "source": [
        "## Create an access token\n",
        "Generate an API access token using [FlowAuth](../../index.html#flowauth)."
      ]
    },
    {
      "cell_type": "markdown",
      "metadata": {
        "pycharm": {}
      },
      "source": [
        "## Create an API connection\n",
        "Paste the access token from FlowAuth here as `TOKEN`"
      ]
    },
    {
      "cell_type": "code",
      "execution_count": 3,
      "metadata": {
        "pycharm": {}
      },
      "outputs": [],
      "source": [
        "conn \u003d flowclient.connect(\"http://localhost:9090\", TOKEN)"
      ]
    },
    {
      "cell_type": "markdown",
      "metadata": {
        "pycharm": {}
      },
      "source": [
        "## Daily location"
      ]
    },
    {
      "cell_type": "markdown",
      "metadata": {
        "pycharm": {}
      },
      "source": [
        "### Specify query parameters"
      ]
    },
    {
      "cell_type": "code",
      "execution_count": 4,
      "metadata": {
        "pycharm": {}
      },
      "outputs": [
        {
          "data": {
            "text/markdown": [
              "\u003e\u003cdiv class\u003d\"codehilite\"\u003e\u003cpre\u003e{\u0027aggregation_unit\u0027: \u0027admin3\u0027,\n",
              " \u0027date\u0027: \u00272016-01-01\u0027,\n",
              " \u0027method\u0027: \u0027last\u0027,\n",
              " \u0027query_kind\u0027: \u0027daily_location\u0027,\n",
              " \u0027subscriber_subset\u0027: None}\u003c/pre\u003e\u003c/div\u003e"
            ],
            "text/plain": [
              "{\u0027query_kind\u0027: \u0027daily_location\u0027,\n",
              " \u0027date\u0027: \u00272016-01-01\u0027,\n",
              " \u0027aggregation_unit\u0027: \u0027admin3\u0027,\n",
              " \u0027method\u0027: \u0027last\u0027,\n",
              " \u0027subscriber_subset\u0027: None}"
            ]
          },
          "execution_count": 4,
          "metadata": {},
          "output_type": "execute_result"
        }
      ],
      "source": "query_spec \u003d flowclient.spatial_aggregate(flowclient.daily_location(\n    date\u003d\"2016-01-01\",\n    aggregation_unit\u003d\"admin3\",\n    method\u003d\"last\",\n    subscriber_subset\u003dNone,\n))\n\nquery_spec"
    },
    {
      "cell_type": "markdown",
      "metadata": {
        "pycharm": {}
      },
      "source": [
        "### Set query running"
      ]
    },
    {
      "cell_type": "code",
      "execution_count": 5,
      "metadata": {
        "pycharm": {}
      },
      "outputs": [
        {
          "data": {
            "text/markdown": [
              "\u003e`3c875ae11876e660b3cbda68612bdb76`"
            ],
            "text/plain": [
              "\u00273c875ae11876e660b3cbda68612bdb76\u0027"
            ]
          },
          "execution_count": 5,
          "metadata": {},
          "output_type": "execute_result"
        }
      ],
      "source": [
        "query_id \u003d flowclient.run_query(conn, query_spec)\n",
        "query_id"
      ]
    },
    {
      "cell_type": "markdown",
      "metadata": {
        "pycharm": {}
      },
      "source": [
        "### Check status of query"
      ]
    },
    {
      "cell_type": "code",
      "execution_count": 6,
      "metadata": {
        "pycharm": {}
      },
      "outputs": [
        {
          "data": {
            "text/markdown": [
              "\u003e`Finished`"
            ],
            "text/plain": [
              "\u0027Finished\u0027"
            ]
          },
          "execution_count": 6,
          "metadata": {},
          "output_type": "execute_result"
        }
      ],
      "source": [
        "flowclient.get_status(conn, query_id)"
      ]
    },
    {
      "cell_type": "markdown",
      "metadata": {
        "pycharm": {}
      },
      "source": [
        "### Get query result"
      ]
    },
    {
      "cell_type": "code",
      "execution_count": 7,
      "metadata": {
        "pycharm": {}
      },
      "outputs": [
        {
          "data": {
            "text/html": [
              "|    | pcod        |   total |\n",
              "|---:|:------------|--------:|\n",
              "|  0 | 524 4 11 60 |     575 |\n",
              "|  1 | 524 3 09 50 |     597 |\n",
              "|  2 | 524 1 03 11 |    1236 |\n",
              "|  3 | 524 3 07 40 |      45 |\n",
              "|  4 | 524 1 03 14 |    1153 |"
            ],
            "text/plain": [
              "          pcod  total\n",
              "0  524 4 11 60    575\n",
              "1  524 3 09 50    597\n",
              "2  524 1 03 11   1236\n",
              "3  524 3 07 40     45\n",
              "4  524 1 03 14   1153"
            ]
          },
          "execution_count": 7,
          "metadata": {},
          "output_type": "execute_result"
        }
      ],
      "source": [
        "df \u003d flowclient.get_result_by_query_id(conn, query_id)\n",
        "df.head()"
      ]
    },
    {
      "cell_type": "markdown",
      "metadata": {
        "pycharm": {}
      },
      "source": [
        "Alternative (run query, wait for it to finish, and get result, in one function call):"
      ]
    },
    {
      "cell_type": "code",
      "execution_count": 8,
      "metadata": {
        "pycharm": {}
      },
      "outputs": [
        {
          "data": {
            "text/html": [
              "|    | pcod        |   total |\n",
              "|---:|:------------|--------:|\n",
              "|  0 | 524 4 11 60 |     575 |\n",
              "|  1 | 524 3 09 50 |     597 |\n",
              "|  2 | 524 1 03 11 |    1236 |\n",
              "|  3 | 524 3 07 40 |      45 |\n",
              "|  4 | 524 1 03 14 |    1153 |"
            ],
            "text/plain": [
              "          pcod  total\n",
              "0  524 4 11 60    575\n",
              "1  524 3 09 50    597\n",
              "2  524 1 03 11   1236\n",
              "3  524 3 07 40     45\n",
              "4  524 1 03 14   1153"
            ]
          },
          "execution_count": 8,
          "metadata": {},
          "output_type": "execute_result"
        }
      ],
      "source": [
        "df \u003d flowclient.get_result(conn, query_spec)\n",
        "df.head()"
      ]
    },
    {
      "cell_type": "markdown",
      "metadata": {
        "pycharm": {}
      },
      "source": [
        "## Modal location\n",
        "### Specify query parameters\n",
        "Either explicitly from a set of daily locations:"
      ]
    },
    {
      "cell_type": "code",
      "execution_count": 9,
      "metadata": {
        "pycharm": {}
      },
      "outputs": [
        {
          "data": {
            "text/markdown": [
              "\u003e\u003cdiv class\u003d\"codehilite\"\u003e\u003cpre\u003e{\u0027aggregation_unit\u0027: \u0027admin3\u0027,\n",
              " \u0027locations\u0027: ({\u0027aggregation_unit\u0027: \u0027admin3\u0027,\n",
              "                \u0027date\u0027: \u00272016-01-01\u0027,\n",
              "                \u0027method\u0027: \u0027last\u0027,\n",
              "                \u0027query_kind\u0027: \u0027daily_location\u0027,\n",
              "                \u0027subscriber_subset\u0027: None},\n",
              "               {\u0027aggregation_unit\u0027: \u0027admin3\u0027,\n",
              "                \u0027date\u0027: \u00272016-01-02\u0027,\n",
              "                \u0027method\u0027: \u0027last\u0027,\n",
              "                \u0027query_kind\u0027: \u0027daily_location\u0027,\n",
              "                \u0027subscriber_subset\u0027: None}),\n",
              " \u0027query_kind\u0027: \u0027modal_location\u0027}\u003c/pre\u003e\u003c/div\u003e"
            ],
            "text/plain": [
              "{\u0027query_kind\u0027: \u0027modal_location\u0027,\n",
              " \u0027aggregation_unit\u0027: \u0027admin3\u0027,\n",
              " \u0027locations\u0027: ({\u0027query_kind\u0027: \u0027daily_location\u0027,\n",
              "   \u0027date\u0027: \u00272016-01-01\u0027,\n",
              "   \u0027aggregation_unit\u0027: \u0027admin3\u0027,\n",
              "   \u0027method\u0027: \u0027last\u0027,\n",
              "   \u0027subscriber_subset\u0027: None},\n",
              "  {\u0027query_kind\u0027: \u0027daily_location\u0027,\n",
              "   \u0027date\u0027: \u00272016-01-02\u0027,\n",
              "   \u0027aggregation_unit\u0027: \u0027admin3\u0027,\n",
              "   \u0027method\u0027: \u0027last\u0027,\n",
              "   \u0027subscriber_subset\u0027: None})}"
            ]
          },
          "execution_count": 9,
          "metadata": {},
          "output_type": "execute_result"
        }
      ],
      "source": [
        "dl1 \u003d flowclient.daily_location(\n",
        "    date\u003d\"2016-01-01\",\n",
        "    aggregation_unit\u003d\"admin3\",\n",
        "    method\u003d\"last\",\n",
        "    subscriber_subset\u003dNone,\n",
        ")\n",
        "dl2 \u003d flowclient.daily_location(\n",
        "    date\u003d\"2016-01-02\",\n",
        "    aggregation_unit\u003d\"admin3\",\n",
        "    method\u003d\"last\",\n",
        "    subscriber_subset\u003dNone,\n",
        ")\n",
        "ml \u003d flowclient.modal_location(dl1, dl2, aggregation_unit\u003d\"admin3\")\n",
        "\n",
        "ml"
      ]
    },
    {
      "cell_type": "markdown",
      "metadata": {
        "pycharm": {}
      },
      "source": [
        "Or from a date range:"
      ]
    },
    {
      "cell_type": "code",
      "execution_count": 10,
      "metadata": {
        "pycharm": {}
      },
      "outputs": [
        {
          "data": {
            "text/markdown": [
              "\u003e\u003cdiv class\u003d\"codehilite\"\u003e\u003cpre\u003e{\u0027aggregation_unit\u0027: \u0027admin3\u0027,\n",
              " \u0027locations\u0027: ({\u0027aggregation_unit\u0027: \u0027admin3\u0027,\n",
              "                \u0027date\u0027: \u00272016-01-01\u0027,\n",
              "                \u0027method\u0027: \u0027last\u0027,\n",
              "                \u0027query_kind\u0027: \u0027daily_location\u0027,\n",
              "                \u0027subscriber_subset\u0027: None},\n",
              "               {\u0027aggregation_unit\u0027: \u0027admin3\u0027,\n",
              "                \u0027date\u0027: \u00272016-01-02\u0027,\n",
              "                \u0027method\u0027: \u0027last\u0027,\n",
              "                \u0027query_kind\u0027: \u0027daily_location\u0027,\n",
              "                \u0027subscriber_subset\u0027: None},\n",
              "               {\u0027aggregation_unit\u0027: \u0027admin3\u0027,\n",
              "                \u0027date\u0027: \u00272016-01-03\u0027,\n",
              "                \u0027method\u0027: \u0027last\u0027,\n",
              "                \u0027query_kind\u0027: \u0027daily_location\u0027,\n",
              "                \u0027subscriber_subset\u0027: None}),\n",
              " \u0027query_kind\u0027: \u0027modal_location\u0027}\u003c/pre\u003e\u003c/div\u003e"
            ],
            "text/plain": [
              "{\u0027query_kind\u0027: \u0027modal_location\u0027,\n",
              " \u0027aggregation_unit\u0027: \u0027admin3\u0027,\n",
              " \u0027locations\u0027: ({\u0027query_kind\u0027: \u0027daily_location\u0027,\n",
              "   \u0027date\u0027: \u00272016-01-01\u0027,\n",
              "   \u0027aggregation_unit\u0027: \u0027admin3\u0027,\n",
              "   \u0027method\u0027: \u0027last\u0027,\n",
              "   \u0027subscriber_subset\u0027: None},\n",
              "  {\u0027query_kind\u0027: \u0027daily_location\u0027,\n",
              "   \u0027date\u0027: \u00272016-01-02\u0027,\n",
              "   \u0027aggregation_unit\u0027: \u0027admin3\u0027,\n",
              "   \u0027method\u0027: \u0027last\u0027,\n",
              "   \u0027subscriber_subset\u0027: None},\n",
              "  {\u0027query_kind\u0027: \u0027daily_location\u0027,\n",
              "   \u0027date\u0027: \u00272016-01-03\u0027,\n",
              "   \u0027aggregation_unit\u0027: \u0027admin3\u0027,\n",
              "   \u0027method\u0027: \u0027last\u0027,\n",
              "   \u0027subscriber_subset\u0027: None})}"
            ]
          },
          "execution_count": 10,
          "metadata": {},
          "output_type": "execute_result"
        }
      ],
      "source": [
        "ml \u003d flowclient.modal_location_from_dates(\n",
        "    \"2016-01-01\",\n",
        "    \"2016-01-03\",\n",
        "    aggregation_unit\u003d\"admin3\",\n",
        "    method\u003d\"last\",\n",
        "    subscriber_subset\u003dNone,\n",
        ")\n",
        "\n",
        "ml"
      ]
    },
    {
      "cell_type": "markdown",
      "metadata": {
        "pycharm": {}
      },
      "source": [
        "### Set query running"
      ]
    },
    {
      "cell_type": "code",
      "execution_count": 11,
      "metadata": {
        "pycharm": {}
      },
      "outputs": [
        {
          "data": {
            "text/markdown": [
              "\u003e`3cc88943b5fd2cd356e2d71443cc6bfd`"
            ],
            "text/plain": [
              "\u00273cc88943b5fd2cd356e2d71443cc6bfd\u0027"
            ]
          },
          "execution_count": 11,
          "metadata": {},
          "output_type": "execute_result"
        }
      ],
      "source": "query_id \u003d flowclient.run_query(conn, flowclient.spatial_aggregate(ml))\nquery_id"
    },
    {
      "cell_type": "markdown",
      "metadata": {
        "pycharm": {}
      },
      "source": [
        "### Check status of query"
      ]
    },
    {
      "cell_type": "code",
      "execution_count": 12,
      "metadata": {
        "pycharm": {}
      },
      "outputs": [
        {
          "data": {
            "text/markdown": [
              "\u003e`Finished`"
            ],
            "text/plain": [
              "\u0027Finished\u0027"
            ]
          },
          "execution_count": 12,
          "metadata": {},
          "output_type": "execute_result"
        }
      ],
      "source": [
        "flowclient.get_status(conn, query_id)"
      ]
    },
    {
      "cell_type": "markdown",
      "metadata": {
        "pycharm": {}
      },
      "source": [
        "### Get query result"
      ]
    },
    {
      "cell_type": "code",
      "execution_count": 13,
      "metadata": {
        "pycharm": {}
      },
      "outputs": [
        {
          "data": {
            "text/html": [
              "|    | pcod        |   total |\n",
              "|---:|:------------|--------:|\n",
              "|  0 | 524 4 11 60 |     677 |\n",
              "|  1 | 524 3 09 50 |     697 |\n",
              "|  2 | 524 1 03 11 |    1485 |\n",
              "|  3 | 524 3 07 40 |      15 |\n",
              "|  4 | 524 1 03 14 |    1351 |"
            ],
            "text/plain": [
              "          pcod  total\n",
              "0  524 4 11 60    677\n",
              "1  524 3 09 50    697\n",
              "2  524 1 03 11   1485\n",
              "3  524 3 07 40     15\n",
              "4  524 1 03 14   1351"
            ]
          },
          "execution_count": 13,
          "metadata": {},
          "output_type": "execute_result"
        }
      ],
      "source": [
        "df \u003d flowclient.get_result_by_query_id(conn, query_id)\n",
        "df.head()"
      ]
    },
    {
      "cell_type": "markdown",
      "metadata": {
        "pycharm": {}
      },
      "source": [
        "Alternative:"
      ]
    },
    {
      "cell_type": "code",
      "execution_count": 14,
      "metadata": {
        "pycharm": {}
      },
      "outputs": [
        {
          "data": {
            "text/html": [
              "|    | pcod        |   total |\n",
              "|---:|:------------|--------:|\n",
              "|  0 | 524 4 11 60 |     677 |\n",
              "|  1 | 524 3 09 50 |     697 |\n",
              "|  2 | 524 1 03 11 |    1485 |\n",
              "|  3 | 524 3 07 40 |      15 |\n",
              "|  4 | 524 1 03 14 |    1351 |"
            ],
            "text/plain": [
              "          pcod  total\n",
              "0  524 4 11 60    677\n",
              "1  524 3 09 50    697\n",
              "2  524 1 03 11   1485\n",
              "3  524 3 07 40     15\n",
              "4  524 1 03 14   1351"
            ]
          },
          "execution_count": 14,
          "metadata": {},
          "output_type": "execute_result"
        }
      ],
      "source": [
        "df \u003d flowclient.get_result(conn, ml)\n",
        "df.head()"
      ]
    },
    {
      "cell_type": "markdown",
      "metadata": {
        "pycharm": {}
      },
      "source": [
        "## Flow\n",
        "### Specify query parameters\n",
        "Specify parameters for two location queries:"
      ]
    },
    {
      "cell_type": "code",
      "execution_count": 15,
      "metadata": {
        "pycharm": {}
      },
      "outputs": [],
      "source": [
        "aggregation_unit \u003d \"admin1\"\n",
        "dl_past \u003d flowclient.daily_location(\n",
        "    \"2016-01-01\",\n",
        "    aggregation_unit\u003daggregation_unit,\n",
        "    method\u003d\"last\",\n",
        "    subscriber_subset\u003dNone,\n",
        ")\n",
        "dl_present \u003d flowclient.daily_location(\n",
        "    \"2016-01-07\",\n",
        "    aggregation_unit\u003daggregation_unit,\n",
        "    method\u003d\"last\",\n",
        "    subscriber_subset\u003dNone,\n",
        ")"
      ]
    },
    {
      "cell_type": "code",
      "execution_count": 16,
      "metadata": {
        "pycharm": {}
      },
      "outputs": [
        {
          "data": {
            "text/markdown": [
              "\u003e`fbb40425fe8b3a86f430f6e9b330721c`"
            ],
            "text/plain": [
              "\u0027fbb40425fe8b3a86f430f6e9b330721c\u0027"
            ]
          },
          "execution_count": 16,
          "metadata": {},
          "output_type": "execute_result"
        }
      ],
      "source": [
        "flowclient.run_query(conn, dl_past)\n",
        "flowclient.run_query(conn, dl_present)"
      ]
    },
    {
      "cell_type": "markdown",
      "metadata": {
        "pycharm": {}
      },
      "source": [
        "Specify parameters for flow query:"
      ]
    },
    {
      "cell_type": "code",
      "execution_count": 17,
      "metadata": {
        "pycharm": {}
      },
      "outputs": [
        {
          "data": {
            "text/markdown": [
              "\u003e\u003cdiv class\u003d\"codehilite\"\u003e\u003cpre\u003e{\u0027aggregation_unit\u0027: \u0027admin1\u0027,\n",
              " \u0027from_location\u0027: {\u0027aggregation_unit\u0027: \u0027admin1\u0027,\n",
              "                   \u0027date\u0027: \u00272016-01-01\u0027,\n",
              "                   \u0027method\u0027: \u0027last\u0027,\n",
              "                   \u0027query_kind\u0027: \u0027daily_location\u0027,\n",
              "                   \u0027subscriber_subset\u0027: None},\n",
              " \u0027query_kind\u0027: \u0027flows\u0027,\n",
              " \u0027to_location\u0027: {\u0027aggregation_unit\u0027: \u0027admin1\u0027,\n",
              "                 \u0027date\u0027: \u00272016-01-07\u0027,\n",
              "                 \u0027method\u0027: \u0027last\u0027,\n",
              "                 \u0027query_kind\u0027: \u0027daily_location\u0027,\n",
              "                 \u0027subscriber_subset\u0027: None}}\u003c/pre\u003e\u003c/div\u003e"
            ],
            "text/plain": [
              "{\u0027query_kind\u0027: \u0027flows\u0027,\n",
              " \u0027from_location\u0027: {\u0027query_kind\u0027: \u0027daily_location\u0027,\n",
              "  \u0027date\u0027: \u00272016-01-01\u0027,\n",
              "  \u0027aggregation_unit\u0027: \u0027admin1\u0027,\n",
              "  \u0027method\u0027: \u0027last\u0027,\n",
              "  \u0027subscriber_subset\u0027: None},\n",
              " \u0027to_location\u0027: {\u0027query_kind\u0027: \u0027daily_location\u0027,\n",
              "  \u0027date\u0027: \u00272016-01-07\u0027,\n",
              "  \u0027aggregation_unit\u0027: \u0027admin1\u0027,\n",
              "  \u0027method\u0027: \u0027last\u0027,\n",
              "  \u0027subscriber_subset\u0027: None},\n",
              " \u0027aggregation_unit\u0027: \u0027admin1\u0027}"
            ]
          },
          "execution_count": 17,
          "metadata": {},
          "output_type": "execute_result"
        }
      ],
      "source": [
        "flow \u003d flowclient.flows(dl_past, dl_present, aggregation_unit\u003daggregation_unit)\n",
        "flow"
      ]
    },
    {
      "cell_type": "markdown",
      "metadata": {
        "pycharm": {}
      },
      "source": [
        "### Set query running"
      ]
    },
    {
      "cell_type": "code",
      "execution_count": 18,
      "metadata": {
        "pycharm": {}
      },
      "outputs": [
        {
          "data": {
            "text/markdown": [
              "\u003e`93267e62aec9891645b33d078a6f3dd2`"
            ],
            "text/plain": [
              "\u002793267e62aec9891645b33d078a6f3dd2\u0027"
            ]
          },
          "execution_count": 18,
          "metadata": {},
          "output_type": "execute_result"
        }
      ],
      "source": [
        "query_id \u003d flowclient.run_query(conn, flow)\n",
        "query_id"
      ]
    },
    {
      "cell_type": "markdown",
      "metadata": {
        "pycharm": {}
      },
      "source": [
        "### Check status of query"
      ]
    },
    {
      "cell_type": "code",
      "execution_count": 19,
      "metadata": {
        "scrolled": true,
        "pycharm": {}
      },
      "outputs": [
        {
          "data": {
            "text/markdown": [
              "\u003e`Finished`"
            ],
            "text/plain": [
              "\u0027Finished\u0027"
            ]
          },
          "execution_count": 19,
          "metadata": {},
          "output_type": "execute_result"
        }
      ],
      "source": [
        "flowclient.get_status(conn, query_id)"
      ]
    },
    {
      "cell_type": "markdown",
      "metadata": {
        "pycharm": {}
      },
      "source": [
        "### Get query result"
      ]
    },
    {
      "cell_type": "code",
      "execution_count": 20,
      "metadata": {
        "pycharm": {}
      },
      "outputs": [
        {
          "data": {
            "text/html": [
              "|    |   count | pcod_from   | pcod_to   |\n",
              "|---:|--------:|:------------|:----------|\n",
              "|  0 |     267 | 524 1       | 524 5     |\n",
              "|  1 |     633 | 524 1       | 524 4     |\n",
              "|  2 |     382 | 524 1       | 524 3     |\n",
              "|  3 |     390 | 524 1       | 524 2     |\n",
              "|  4 |    4474 | 524 1       | 524 1     |"
            ],
            "text/plain": [
              "   count pcod_from pcod_to\n",
              "0    267     524 1   524 5\n",
              "1    633     524 1   524 4\n",
              "2    382     524 1   524 3\n",
              "3    390     524 1   524 2\n",
              "4   4474     524 1   524 1"
            ]
          },
          "execution_count": 20,
          "metadata": {},
          "output_type": "execute_result"
        }
      ],
      "source": [
        "df \u003d flowclient.get_result_by_query_id(conn, query_id)\n",
        "df.head()"
      ]
    },
    {
      "cell_type": "markdown",
      "metadata": {
        "pycharm": {}
      },
      "source": [
        "## Counts of Events by Location"
      ]
    },
    {
      "cell_type": "code",
      "execution_count": 21,
      "metadata": {
        "pycharm": {}
      },
      "outputs": [
        {
          "data": {
            "text/html": [
              "|    | date       |   hour | pcod        |   total |\n",
              "|---:|:-----------|-------:|:------------|--------:|\n",
              "|  0 | 2016-01-01 |      0 | 524 1 01 01 |     146 |\n",
              "|  1 | 2016-01-01 |      1 | 524 1 01 01 |     175 |\n",
              "|  2 | 2016-01-01 |      2 | 524 1 01 01 |     180 |\n",
              "|  3 | 2016-01-01 |      3 | 524 1 01 01 |     138 |\n",
              "|  4 | 2016-01-01 |      4 | 524 1 01 01 |     162 |"
            ],
            "text/plain": [
              "         date  hour         pcod  total\n",
              "0  2016-01-01   0.0  524 1 01 01    146\n",
              "1  2016-01-01   1.0  524 1 01 01    175\n",
              "2  2016-01-01   2.0  524 1 01 01    180\n",
              "3  2016-01-01   3.0  524 1 01 01    138\n",
              "4  2016-01-01   4.0  524 1 01 01    162"
            ]
          },
          "execution_count": 21,
          "metadata": {},
          "output_type": "execute_result"
        }
      ],
      "source": "df \u003d flowclient.get_result(conn, flowclient.location_event_counts(\"2016-01-01\", \"2016-01-08\", \"admin3\", \"hour\"))\ndf.head()\n"
    }
  ],
  "metadata": {
    "kernelspec": {
      "display_name": "Python 3",
      "language": "python",
      "name": "python3"
    },
    "language_info": {
      "codemirror_mode": {
        "name": "ipython",
        "version": 3
      },
      "file_extension": ".py",
      "mimetype": "text/x-python",
      "name": "python",
      "nbconvert_exporter": "python",
      "pygments_lexer": "ipython3",
      "version": "3.7.0"
    }
  },
  "nbformat": 4,
  "nbformat_minor": 2
}