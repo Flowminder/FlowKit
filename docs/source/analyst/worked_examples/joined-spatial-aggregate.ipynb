{
 "cells": [
  {
   "cell_type": "markdown",
   "metadata": {},
   "source": [
    "# Joined spatial aggregate\n",
    "## Comparing mobility with handset types\n",
    "This worked example demonstrates using [joined spatial aggregate](../../../flowclient/flowclient/client/#joined_spatial_aggregate) queries in FlowKit. A joined spatial aggregate query calculates a metric for each subscriber, and joins the metric values to subscribers' locations before aggregating the metric by region.\n",
    "\n",
    "Suppose we want to investigate whether there is a link between subscribers' mobility and their handset types. We can calculate two joined spatial aggregates:\n",
    "- Average radius of gyration per region. Radius of gyration is a measure of the spread of a subscriber's event locations - a subscriber with a large radius of gyration will have events spread over a larger area (for example, somebody who commutes over a long distance or regularly travels to regions away from their home).\n",
    "- Distribution of handset types (basic/feature/smartphone) per region.\n",
    "Once we have the results of these queries, we can investigate whether there is any correlation between the metrics.\n",
    "\n",
    "The Jupyter notebook for this worked example can be downloaded [here](https://github.com/Flowminder/FlowKit/raw/master/docs/source/analyst/worked_examples/joined-spatial-aggregate.ipynb), or can be run using the [quick start setup](../../install.md#quickinstall)."
   ]
  },
  {
   "cell_type": "code",
   "execution_count": null,
   "metadata": {},
   "outputs": [],
   "source": [
    "TOKEN = \"eyJ0eXAiOiJKV1QiLCJhbGciOiJSUzI1NiJ9.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.RRxMIfoS7oddhpGFFKkMh0372RDcLApXM_WkB70VRXpmDar4Z-kolfapbXwa_x9RzMoz3B2xBtB32D3nJATE7YjiHaA9CmarF7Z7iIXgt43umb0DveEIMc4eBAAAUXS_UOOXSYGqd4q6hHcJTigurGOf_R21WBPxMg_fXgcaDzcP9Cs-Tq9AwKv-3LSRz_5toyvlz-dbMuLK8M6f04WG5MQw0jdPd3Xwi_ydKlft5KQNI_L0Az-GSO-ktEzAXlfw3srFUDiAuQ_xsgAQmRlN-9tIuqMOTHXpOFerXpsLC8U1ASjPuywVNgfGqneJRZ_T40LMTjjXAoZKW8bqQm7b0YCHq2DcJ9NoioJvirSdiKMXvb10yWsEJV-8sf2QKpmfeOOpiyK_cta6AZrdFV5mV_GOzsNo96afe3G0VeUXIkYMOIQrNUcaVryQKWOouXVZwPyC-w3mzqvCIoo1H4-Q_cF4RzXmbZisIJaLOMnnD3RQCIhiHjF6hfyPuNsT3v7pw-33jpPjwMRTWb4yUCh-QwuOuhOE03GveYbKkrK-sC9aacUi_xv1JGB-CCI2VC_uzbyA1ccJv29vtvlQEA9DJ6GGJSEJRDA3pcBndzSUoQEyg4N-kt-wZYNeeItpxuzca7_R9Og_i-5JFPuRYbLKdEMfBz7sVclBCAs41CImY3A\""
   ]
  },
  {
   "cell_type": "markdown",
   "metadata": {},
   "source": [
    "### Load FlowClient and connect to FlowAPI\n",
    "We start by importing FlowClient. We also import [pandas](https://pandas.pydata.org/) and [geopandas](http://geopandas.org/), which we will use for performing further analysis of the outputs from FlowKit."
   ]
  },
  {
   "cell_type": "code",
   "execution_count": null,
   "metadata": {},
   "outputs": [],
   "source": [
    "import os\n",
    "\n",
    "import pandas as pd\n",
    "import geopandas as gpd\n",
    "\n",
    "import flowclient as fc"
   ]
  },
  {
   "cell_type": "markdown",
   "metadata": {},
   "source": [
    "We must next [generate a FlowAPI access token](../index.md#flowauth) using FlowAuth. If you are running this notebook using the [quick start setup](../../install.md#quickinstall), generating a token requires the following steps:\n",
    "\n",
    "1. Visit the FlowAuth login page at [http://localhost:9091](http://localhost:9091/).\n",
    "2. Log in with username `TEST_USER` and password `DUMMY_PASSWORD`.\n",
    "3. Under \\\"My Servers\\\", select `TEST_SERVER`.\n",
    "4. Click the `+` button to create a new token.\n",
    "5. Give the new token a name, and click `SAVE`.\n",
    "6. Copy the token string using the `COPY` button.\n",
    "7. Paste the token in this notebook as `TOKEN`.\n",
    "\n",
    "The steps are the same in a production setup, but the FlowAuth URL, login details and server name will differ.\n",
    "\n",
    "Once we have a token, we can start a connection to the FlowAPI system. If you are connecting to FlowAPI over https (recommended) and the system administrator has provided you with an SSL certificate file, you should provide the path to this file as the `ssl_certificate` argument to `flowclient.connect()` (in this example, you can set the path in the environment variable `SSL_CERTIFICATE_FILE`). If you are connecting over http, this argument is not required."
   ]
  },
  {
   "cell_type": "code",
   "execution_count": null,
   "metadata": {},
   "outputs": [],
   "source": [
    "conn = fc.connect(\n",
    "    url=os.getenv(\"FLOWAPI_URL\", \"http://localhost:9090\"),\n",
    "    token=TOKEN,\n",
    "    ssl_certificate=os.getenv(\"SSL_CERTIFICATE_FILE\"),\n",
    ")"
   ]
  },
  {
   "cell_type": "markdown",
   "metadata": {},
   "source": [
    "### Specify FlowKit queries\n",
    "\n",
    "Next, we create query specifications for the FlowKit queries we will run.\n",
    "\n",
    "#### Locations\n",
    "\n",
    "Joined spatial aggregate queries join a per-subscriber metric to the subscribers' locations, so we need a query that assigns a single location to each subscriber. Here we use a modal location query to estimate subscribers' home locations over the period of interest (first seven days of 2016), at administrative level 3."
   ]
  },
  {
   "cell_type": "code",
   "execution_count": null,
   "metadata": {},
   "outputs": [],
   "source": [
    "date_range = (\"2016-01-01\", \"2016-01-08\")\n",
    "modal_loc = fc.modal_location_from_dates(start_date=date_range[0], end_date=date_range[1], aggregation_unit=\"admin3\", method=\"last\")"
   ]
  },
  {
   "cell_type": "markdown",
   "metadata": {},
   "source": [
    "#### Radius of gyration\n",
    "\n",
    "We create a joined spatial aggregate query specification to calculate the average radius of gyration per region, using locations from the modal location query above."
   ]
  },
  {
   "cell_type": "code",
   "execution_count": null,
   "metadata": {},
   "outputs": [],
   "source": [
    "rog_query = fc.radius_of_gyration(start_date=date_range[0], end_date=date_range[1])\n",
    "jsa_rog_query = fc.joined_spatial_aggregate(locations=modal_loc, metric=rog_query, method=\"avg\")"
   ]
  },
  {
   "cell_type": "markdown",
   "metadata": {},
   "source": [
    "#### Handset type\n",
    "\n",
    "Finally, we specify a second joined spatial aggregate query, this time using a `handset` metric with the `\"hnd_type\"` (handset type) characteristic. The `handset` query will return a categorical variable (handset type is one of \"Basic\", \"Feature\" or \"Smart\"), so we must choose the `\"distr\"` method for the joined spatial aggregate, to get the distribution of handset types per region."
   ]
  },
  {
   "cell_type": "code",
   "execution_count": null,
   "metadata": {},
   "outputs": [],
   "source": [
    "handset_query = fc.handset(start_date=date_range[0], end_date=date_range[1], characteristic=\"hnd_type\", method=\"most-common\")\n",
    "jsa_handset_query = fc.joined_spatial_aggregate(locations=modal_loc, metric=handset_query, method=\"distr\")"
   ]
  },
  {
   "cell_type": "markdown",
   "metadata": {},
   "source": [
    "### Radius of gyration results\n",
    "\n",
    "Now that we have a FlowClient connection and we have specified our queries, we can run the queries and get the results using FlowClient's `get_result` function. First, we get the results of the radius of gyration query."
   ]
  },
  {
   "cell_type": "code",
   "execution_count": null,
   "metadata": {},
   "outputs": [],
   "source": [
    "rog_results = fc.get_result(connection=conn, query=jsa_rog_query)\n",
    "rog_results.head()"
   ]
  },
  {
   "cell_type": "markdown",
   "metadata": {},
   "source": [
    "The resulting dataframe has two columns: `pcod` (the P-code of each region) and `value` (the average radius of gyration, in km). Later, we will want to join with other results for the same regions, so let's set the `pcod` column as the index. We also rename the `value` column, to give it the more descriptive name `radius_of_gyration`."
   ]
  },
  {
   "cell_type": "code",
   "execution_count": null,
   "metadata": {},
   "outputs": [],
   "source": [
    "rog_results = rog_results.rename(columns={\"value\": \"radius_of_gyration\"}).set_index(\"pcod\")\n",
    "rog_results.head()"
   ]
  },
  {
   "cell_type": "markdown",
   "metadata": {},
   "source": [
    "We can get a summary of the data using the dataframe's `describe` method, and quickly see the distribution of values using `plot.hist`."
   ]
  },
  {
   "cell_type": "code",
   "execution_count": null,
   "metadata": {},
   "outputs": [],
   "source": [
    "rog_results.describe()"
   ]
  },
  {
   "cell_type": "code",
   "execution_count": null,
   "metadata": {},
   "outputs": [],
   "source": [
    "rog_results.plot.hist();"
   ]
  },
  {
   "cell_type": "markdown",
   "metadata": {},
   "source": [
    "To see the spatial distribution of radius of gyration, we need the geographic boundaries of the administrative regions. We can get these as GeoJSON using the FlowClient `get_geography` function, and load into a GeoPandas `GeoDataFrame` using the `GeoDataFrame.from_features` method."
   ]
  },
  {
   "cell_type": "code",
   "execution_count": null,
   "metadata": {},
   "outputs": [],
   "source": [
    "geog = gpd.GeoDataFrame.from_features(fc.get_geography(connection=conn, aggregation_unit=\"admin3\")).set_index(\"pcod\")"
   ]
  },
  {
   "cell_type": "code",
   "execution_count": null,
   "metadata": {},
   "outputs": [],
   "source": [
    "geog.head()"
   ]
  },
  {
   "cell_type": "markdown",
   "metadata": {},
   "source": [
    "The `plot` method is a quick way to see the regions described by this GeoDataFrame."
   ]
  },
  {
   "cell_type": "code",
   "execution_count": null,
   "metadata": {},
   "outputs": [],
   "source": [
    "geog.plot();"
   ]
  },
  {
   "cell_type": "markdown",
   "metadata": {},
   "source": [
    "Now we can join the geography data to the radius of gyration results, and create a choropleth map by plotting again using the `radius_of_gyration` column to colour the regions.  \n",
    "(Note: the order in which we join here is important - `rog_results.join(geog)` would produce a pandas `DataFrame`, not a geopandas `GeoDataFrame`, and the `plot` method would produce a different plot)."
   ]
  },
  {
   "cell_type": "code",
   "execution_count": null,
   "metadata": {},
   "outputs": [],
   "source": [
    "geog.join(rog_results).plot(column=\"radius_of_gyration\", legend=True);"
   ]
  },
  {
   "cell_type": "markdown",
   "metadata": {},
   "source": [
    "There are gaps in this choropleth map. Looking at the content of the joined dataframe, we can see why:"
   ]
  },
  {
   "cell_type": "code",
   "execution_count": null,
   "metadata": {},
   "outputs": [],
   "source": [
    "geog.join(rog_results).head()"
   ]
  },
  {
   "cell_type": "markdown",
   "metadata": {},
   "source": [
    "There are some regions for which we have no `radius_of_gyration` data, because these regions contained fewer than 15 subscribers so FlowKit redacted the results to preserve privacy. We can drop these rows using the `dropna` method. So that we can still see the shapes of the regions with no data, let's plot the `geog` data as a light grey background behind our choropleth map."
   ]
  },
  {
   "cell_type": "code",
   "execution_count": null,
   "metadata": {},
   "outputs": [],
   "source": [
    "background = geog.plot(color=\"lightgrey\")\n",
    "geog.join(rog_results).dropna().plot(ax=background, column=\"radius_of_gyration\", legend=True);"
   ]
  },
  {
   "cell_type": "markdown",
   "metadata": {},
   "source": [
    "### Handset type results\n",
    "Next we get the results of our handset-type query."
   ]
  },
  {
   "cell_type": "code",
   "execution_count": null,
   "metadata": {},
   "outputs": [],
   "source": [
    "handset_results = fc.get_result(connection=conn, query=jsa_handset_query)\n",
    "handset_results.head()"
   ]
  },
  {
   "cell_type": "markdown",
   "metadata": {},
   "source": [
    "This dataframe has four columns: `pcod` (the P-code, as above), `metric`, `key` (the handset type) and `value` (the proportion of subscribers in that region who have that handset type). The `metric` column just contains the value `\"value\"` in every row, which is not useful to us, so let's drop it. We'll also rename the `key` and `value` columns to `handset_type` and `proportion`, respectively.\n",
    "\n",
    "This time we have three rows per P-code, one for each handset type, so let's set a `MultiIndex` using the `pcod` and `handset_type` columns."
   ]
  },
  {
   "cell_type": "code",
   "execution_count": null,
   "metadata": {},
   "outputs": [],
   "source": [
    "handset_results = handset_results.rename(columns={\"key\": \"handset_type\", \"value\": \"proportion\"}).drop(columns=\"metric\").set_index([\"pcod\", \"handset_type\"])\n",
    "handset_results.head()"
   ]
  },
  {
   "cell_type": "markdown",
   "metadata": {},
   "source": [
    "We can get a summary of the data using the `describe` method, but let's first group by `handset_type` to get a summary per handset type."
   ]
  },
  {
   "cell_type": "code",
   "execution_count": null,
   "metadata": {},
   "outputs": [],
   "source": [
    "handset_results.groupby(\"handset_type\").describe()"
   ]
  },
  {
   "cell_type": "markdown",
   "metadata": {},
   "source": [
    "To plot histograms for the three handset types, it would be convenient if the proportion data for each handset type were in separate columns. Since we set a hierarchical index on the `handset_results` dataframe, we can use the `unstack` method to unpack the innermost level of the index (`handset_type`, in this case) into separate columns."
   ]
  },
  {
   "cell_type": "code",
   "execution_count": null,
   "metadata": {},
   "outputs": [],
   "source": [
    "handset_results.unstack().head()"
   ]
  },
  {
   "cell_type": "markdown",
   "metadata": {},
   "source": [
    "This produces a dataframe with a single-level index, and a `MultiIndex` as column headers. Now the `plot.hist` method plots all three histograms on the same axes. We set `alpha=0.5` to make them slightly transparent. In this dataset we can see that there is little difference between the distributions of the different handset types - the proportions of all handset types are approximately equal in all regions."
   ]
  },
  {
   "cell_type": "code",
   "execution_count": null,
   "metadata": {},
   "outputs": [],
   "source": [
    "handset_results.unstack().plot.hist(alpha=0.5);"
   ]
  },
  {
   "cell_type": "markdown",
   "metadata": {},
   "source": [
    "As with the radius of gyration results, we can also join to the geography data and plot choropleth maps of the handset type distributions. We use the `query` method to select the subset of rows for a given handset type."
   ]
  },
  {
   "cell_type": "code",
   "execution_count": null,
   "metadata": {},
   "outputs": [],
   "source": [
    "handset_results_with_geo = geog.join(handset_results).dropna()\n",
    "\n",
    "for htype in [\"Basic\", \"Feature\", \"Smart\"]:\n",
    "    ax = geog.plot(color=\"lightgrey\")\n",
    "    ax.set_title(f\"Proportion ({htype})\")\n",
    "    handset_results_with_geo.query(f\"handset_type == '{htype}'\").plot(ax=ax, column=\"proportion\", legend=True);"
   ]
  },
  {
   "cell_type": "markdown",
   "metadata": {},
   "source": [
    "### Comparing radius of gyration and handset types\n",
    "\n",
    "#### Join the dataframes\n",
    "Now that we have the results from both of our joined spatial aggregate queries, we can join them and compare the metrics."
   ]
  },
  {
   "cell_type": "code",
   "execution_count": null,
   "metadata": {},
   "outputs": [],
   "source": [
    "combined = rog_results.join(handset_results.unstack())\n",
    "combined.head()"
   ]
  },
  {
   "cell_type": "markdown",
   "metadata": {},
   "source": [
    "#### Correlation\n",
    "The `corr` method provides a quick way to calculate the correlation between all pairs of columns. We're interested in the correlation between radius of gyration and each of the proportion columns. From these results, there appears to be no significant correlation between handset type and radius of gyration."
   ]
  },
  {
   "cell_type": "code",
   "execution_count": null,
   "metadata": {},
   "outputs": [],
   "source": [
    "combined.corr()"
   ]
  },
  {
   "cell_type": "markdown",
   "metadata": {},
   "source": [
    "#### Scatter plot\n",
    "To see whether there is any relationship that's not apparent from the correlation, let's make a scatter plot of radius of gyration against proportion of subscribers who use a smartphone."
   ]
  },
  {
   "cell_type": "code",
   "execution_count": null,
   "metadata": {},
   "outputs": [],
   "source": [
    "combined.plot.scatter(x=\"radius_of_gyration\", y=(\"proportion\", \"Smart\"));"
   ]
  },
  {
   "cell_type": "markdown",
   "metadata": {},
   "source": [
    "We can use `matplotlib` to plot radius of gyration against proportion for each of the handset types on the same plot."
   ]
  },
  {
   "cell_type": "code",
   "execution_count": null,
   "metadata": {},
   "outputs": [],
   "source": [
    "import matplotlib.pyplot as plt\n",
    "\n",
    "fig, ax = plt.subplots()\n",
    "for htype in [\"Basic\", \"Feature\", \"Smart\"]:\n",
    "    ax.scatter(combined[\"radius_of_gyration\"], combined[(\"proportion\", htype)], label=htype)\n",
    "ax.set_xlabel(\"Radius of gyration (km)\")\n",
    "ax.set_ylabel(\"Handset type proportion\")\n",
    "ax.legend();"
   ]
  },
  {
   "cell_type": "markdown",
   "metadata": {},
   "source": [
    "There is no obvious pattern visible in these plots, so for this test dataset we have found no relationship between subscribers' handset types and their radius of gyration."
   ]
  }
 ],
 "metadata": {
  "kernelspec": {
   "display_name": "Python 3",
   "language": "python",
   "name": "python3"
  },
  "language_info": {
   "codemirror_mode": {
    "name": "ipython",
    "version": 3
   },
   "file_extension": ".py",
   "mimetype": "text/x-python",
   "name": "python",
   "nbconvert_exporter": "python",
   "pygments_lexer": "ipython3",
   "version": "3.7.0"
  }
 },
 "nbformat": 4,
 "nbformat_minor": 4
}
