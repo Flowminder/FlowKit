{
 "cells": [
  {
   "cell_type": "markdown",
   "metadata": {},
   "source": [
    "# Joined spatial aggregate\n",
    "## Comparing mobility with handset types\n",
    "This worked example demonstrates using [joined spatial aggregate](../../../flowclient/flowclient/client/#joined_spatial_aggregate) queries in FlowKit. A joined spatial aggregate query calculates a metric for each subscriber, and joins the metric values to subscribers' locations before aggregating the metric by region.\n",
    "\n",
    "Suppose we want to investigate whether there is a link between subscribers' mobility and their handset types. We can calculate two joined spatial aggregates:\n",
    "- Average radius of gyration per region. Radius of gyration is a measure of the spread of a subscriber's event locations - a subscriber with a large radius of gyration will have events spread over a larger area (for example, somebody who commutes over a long distance or regularly travels to regions away from their home).\n",
    "- Distribution of handset types (basic/feature/smartphone) per region.\n",
    "Once we have the results of these queries, we can investigate whether there is any correlation between the metrics.\n",
    "\n",
    "The Jupyter notebook for this worked example can be downloaded [here](https://github.com/Flowminder/FlowKit/raw/master/docs/source/analyst/worked_examples/joined-spatial-aggregate.ipynb), or can be run using the [quick start setup](../../install.md#quickinstall)."
   ]
  },
  {
   "cell_type": "markdown",
   "metadata": {},
   "source": [
    "### Load FlowClient and connect to FlowAPI\n",
    "We start by importing FlowClient. We also import [pandas](https://pandas.pydata.org/) and [geopandas](http://geopandas.org/), which we will use for performing further analysis of the outputs from FlowKit."
   ]
  },
  {
   "cell_type": "code",
   "execution_count": 2,
   "metadata": {},
   "outputs": [],
   "source": [
    "import os\n",
    "\n",
    "import pandas as pd\n",
    "import geopandas as gpd\n",
    "\n",
    "import flowclient as fc"
   ]
  },
  {
   "cell_type": "markdown",
   "metadata": {},
   "source": [
    "We must next [generate a FlowAPI access token](../index.md#flowauth) using FlowAuth. If you are running this notebook using the [quick start setup](../../install.md#quickinstall), generating a token requires the following steps:\n",
    "\n",
    "1. Visit the FlowAuth login page at [http://localhost:9091](http://localhost:9091/).\n",
    "2. Log in with username `TEST_USER` and password `DUMMY_PASSWORD`.\n",
    "3. Under \\\"My Servers\\\", select `TEST_SERVER`.\n",
    "4. Click the `+` button to create a new token.\n",
    "5. Give the new token a name, and click `SAVE`.\n",
    "6. Copy the token string using the `COPY` button.\n",
    "7. Paste the token in this notebook as `TOKEN`.\n",
    "\n",
    "The steps are the same in a production setup, but the FlowAuth URL, login details and server name will differ.\n",
    "\n",
    "Once we have a token, we can start a connection to the FlowAPI system. If you are connecting to FlowAPI over https (recommended) and the system administrator has provided you with an SSL certificate file, you should provide the path to this file as the `ssl_certificate` argument to `flowclient.connect()` (in this example, you can set the path in the environment variable `SSL_CERTIFICATE_FILE`). If you are connecting over http, this argument is not required."
   ]
  },
  {
   "cell_type": "code",
   "execution_count": 3,
   "metadata": {},
   "outputs": [
    {
     "name": "stderr",
     "output_type": "stream",
     "text": [
      "/Users/jamesharrison/Repositories/FlowKit/flowclient/flowclient/client.py:230: UserWarning: Communications with this server are NOT SECURE.\n",
      "  url=url, token=token, api_version=api_version, ssl_certificate=ssl_certificate\n"
     ]
    }
   ],
   "source": [
    "conn = fc.connect(\n",
    "    url=os.getenv(\"FLOWAPI_URL\", \"http://localhost:9090\"),\n",
    "    token=TOKEN,\n",
    "    ssl_certificate=os.getenv(\"SSL_CERTIFICATE_FILE\"),\n",
    ")"
   ]
  },
  {
   "cell_type": "markdown",
   "metadata": {},
   "source": [
    "### Specify FlowKit queries\n",
    "\n",
    "Next, we create query specifications for the FlowKit queries we will run.\n",
    "\n",
    "#### Locations\n",
    "\n",
    "Joined spatial aggregate queries join a per-subscriber metric to the subscribers' locations, so we need a query that assigns a single location to each subscriber. Here we use a modal location query to estimate subscribers' home locations over the period of interest (first seven days of 2016), at administrative level 3."
   ]
  },
  {
   "cell_type": "code",
   "execution_count": 4,
   "metadata": {},
   "outputs": [],
   "source": [
    "date_range = (\"2016-01-01\", \"2016-01-08\")\n",
    "modal_loc = fc.modal_location_from_dates(start_date=date_range[0], end_date=date_range[1], aggregation_unit=\"admin3\", method=\"last\")"
   ]
  },
  {
   "cell_type": "markdown",
   "metadata": {},
   "source": [
    "#### Radius of gyration\n",
    "\n",
    "We create a joined spatial aggregate query specification to calculate the average radius of gyration per region, using locations from the modal location query above."
   ]
  },
  {
   "cell_type": "code",
   "execution_count": 5,
   "metadata": {},
   "outputs": [],
   "source": [
    "rog_query = fc.radius_of_gyration(start_date=date_range[0], end_date=date_range[1])\n",
    "jsa_rog_query = fc.joined_spatial_aggregate(locations=modal_loc, metric=rog_query, method=\"avg\")"
   ]
  },
  {
   "cell_type": "markdown",
   "metadata": {},
   "source": [
    "#### Handset type\n",
    "\n",
    "Finally, we specify a second joined spatial aggregate query, this time using a `handset` metric with the `\"hnd_type\"` (handset type) characteristic. The `handset` query will return a categorical variable (handset type is one of \"Basic\", \"Feature\" or \"Smart\"), so we must choose the `\"distr\"` method for the joined spatial aggregate, to get the distribution of handset types per region."
   ]
  },
  {
   "cell_type": "code",
   "execution_count": 6,
   "metadata": {},
   "outputs": [],
   "source": [
    "handset_query = fc.handset(start_date=date_range[0], end_date=date_range[1], characteristic=\"hnd_type\", method=\"most-common\")\n",
    "jsa_handset_query = fc.joined_spatial_aggregate(locations=modal_loc, metric=handset_query, method=\"distr\")"
   ]
  },
  {
   "cell_type": "markdown",
   "metadata": {},
   "source": [
    "### Radius of gyration results\n",
    "\n",
    "Now that we have a FlowClient connection and we have specified our queries, we can run the queries and get the results using FlowClient's `get_result` function. First, we get the results of the radius of gyration query."
   ]
  },
  {
   "cell_type": "code",
   "execution_count": 7,
   "metadata": {},
   "outputs": [
    {
     "data": {
      "text/html": [
       "<div>\n",
       "<style scoped>\n",
       "    .dataframe tbody tr th:only-of-type {\n",
       "        vertical-align: middle;\n",
       "    }\n",
       "\n",
       "    .dataframe tbody tr th {\n",
       "        vertical-align: top;\n",
       "    }\n",
       "\n",
       "    .dataframe thead th {\n",
       "        text-align: right;\n",
       "    }\n",
       "</style>\n",
       "<table border=\"1\" class=\"dataframe\">\n",
       "  <thead>\n",
       "    <tr style=\"text-align: right;\">\n",
       "      <th></th>\n",
       "      <th>pcod</th>\n",
       "      <th>value</th>\n",
       "    </tr>\n",
       "  </thead>\n",
       "  <tbody>\n",
       "    <tr>\n",
       "      <th>0</th>\n",
       "      <td>524 4 11 57</td>\n",
       "      <td>105.684095</td>\n",
       "    </tr>\n",
       "    <tr>\n",
       "      <th>1</th>\n",
       "      <td>524 1 03 12</td>\n",
       "      <td>129.327924</td>\n",
       "    </tr>\n",
       "    <tr>\n",
       "      <th>2</th>\n",
       "      <td>524 1 03 11</td>\n",
       "      <td>127.186304</td>\n",
       "    </tr>\n",
       "    <tr>\n",
       "      <th>3</th>\n",
       "      <td>524 4 12 65</td>\n",
       "      <td>107.566444</td>\n",
       "    </tr>\n",
       "    <tr>\n",
       "      <th>4</th>\n",
       "      <td>524 4 10 54</td>\n",
       "      <td>90.875944</td>\n",
       "    </tr>\n",
       "  </tbody>\n",
       "</table>\n",
       "</div>"
      ],
      "text/plain": [
       "          pcod       value\n",
       "0  524 4 11 57  105.684095\n",
       "1  524 1 03 12  129.327924\n",
       "2  524 1 03 11  127.186304\n",
       "3  524 4 12 65  107.566444\n",
       "4  524 4 10 54   90.875944"
      ]
     },
     "execution_count": 7,
     "metadata": {},
     "output_type": "execute_result"
    }
   ],
   "source": [
    "rog_results = fc.get_result(connection=conn, query=jsa_rog_query)\n",
    "rog_results.head()"
   ]
  },
  {
   "cell_type": "markdown",
   "metadata": {},
   "source": [
    "The resulting dataframe has two columns: `pcod` (the P-code of each region) and `value` (the average radius of gyration, in km). Later, we will want to join with other results for the same regions, so let's set the `pcod` column as the index. We also rename the `value` column, to give it the more descriptive name `radius_of_gyration`."
   ]
  },
  {
   "cell_type": "code",
   "execution_count": 8,
   "metadata": {},
   "outputs": [
    {
     "data": {
      "text/html": [
       "<div>\n",
       "<style scoped>\n",
       "    .dataframe tbody tr th:only-of-type {\n",
       "        vertical-align: middle;\n",
       "    }\n",
       "\n",
       "    .dataframe tbody tr th {\n",
       "        vertical-align: top;\n",
       "    }\n",
       "\n",
       "    .dataframe thead th {\n",
       "        text-align: right;\n",
       "    }\n",
       "</style>\n",
       "<table border=\"1\" class=\"dataframe\">\n",
       "  <thead>\n",
       "    <tr style=\"text-align: right;\">\n",
       "      <th></th>\n",
       "      <th>radius_of_gyration</th>\n",
       "    </tr>\n",
       "    <tr>\n",
       "      <th>pcod</th>\n",
       "      <th></th>\n",
       "    </tr>\n",
       "  </thead>\n",
       "  <tbody>\n",
       "    <tr>\n",
       "      <th>524 4 11 57</th>\n",
       "      <td>105.684095</td>\n",
       "    </tr>\n",
       "    <tr>\n",
       "      <th>524 1 03 12</th>\n",
       "      <td>129.327924</td>\n",
       "    </tr>\n",
       "    <tr>\n",
       "      <th>524 1 03 11</th>\n",
       "      <td>127.186304</td>\n",
       "    </tr>\n",
       "    <tr>\n",
       "      <th>524 4 12 65</th>\n",
       "      <td>107.566444</td>\n",
       "    </tr>\n",
       "    <tr>\n",
       "      <th>524 4 10 54</th>\n",
       "      <td>90.875944</td>\n",
       "    </tr>\n",
       "  </tbody>\n",
       "</table>\n",
       "</div>"
      ],
      "text/plain": [
       "             radius_of_gyration\n",
       "pcod                           \n",
       "524 4 11 57          105.684095\n",
       "524 1 03 12          129.327924\n",
       "524 1 03 11          127.186304\n",
       "524 4 12 65          107.566444\n",
       "524 4 10 54           90.875944"
      ]
     },
     "execution_count": 8,
     "metadata": {},
     "output_type": "execute_result"
    }
   ],
   "source": [
    "rog_results = rog_results.rename(columns={\"value\": \"radius_of_gyration\"}).set_index(\"pcod\")\n",
    "rog_results.head()"
   ]
  },
  {
   "cell_type": "markdown",
   "metadata": {},
   "source": [
    "We can get a summary of the data using the dataframe's `describe` method, and quickly see the distribution of values using `plot.hist`."
   ]
  },
  {
   "cell_type": "code",
   "execution_count": 9,
   "metadata": {},
   "outputs": [
    {
     "data": {
      "text/html": [
       "<div>\n",
       "<style scoped>\n",
       "    .dataframe tbody tr th:only-of-type {\n",
       "        vertical-align: middle;\n",
       "    }\n",
       "\n",
       "    .dataframe tbody tr th {\n",
       "        vertical-align: top;\n",
       "    }\n",
       "\n",
       "    .dataframe thead th {\n",
       "        text-align: right;\n",
       "    }\n",
       "</style>\n",
       "<table border=\"1\" class=\"dataframe\">\n",
       "  <thead>\n",
       "    <tr style=\"text-align: right;\">\n",
       "      <th></th>\n",
       "      <th>radius_of_gyration</th>\n",
       "    </tr>\n",
       "  </thead>\n",
       "  <tbody>\n",
       "    <tr>\n",
       "      <th>count</th>\n",
       "      <td>42.000000</td>\n",
       "    </tr>\n",
       "    <tr>\n",
       "      <th>mean</th>\n",
       "      <td>111.865277</td>\n",
       "    </tr>\n",
       "    <tr>\n",
       "      <th>std</th>\n",
       "      <td>20.934204</td>\n",
       "    </tr>\n",
       "    <tr>\n",
       "      <th>min</th>\n",
       "      <td>83.577767</td>\n",
       "    </tr>\n",
       "    <tr>\n",
       "      <th>25%</th>\n",
       "      <td>94.196072</td>\n",
       "    </tr>\n",
       "    <tr>\n",
       "      <th>50%</th>\n",
       "      <td>107.592349</td>\n",
       "    </tr>\n",
       "    <tr>\n",
       "      <th>75%</th>\n",
       "      <td>128.115706</td>\n",
       "    </tr>\n",
       "    <tr>\n",
       "      <th>max</th>\n",
       "      <td>170.231436</td>\n",
       "    </tr>\n",
       "  </tbody>\n",
       "</table>\n",
       "</div>"
      ],
      "text/plain": [
       "       radius_of_gyration\n",
       "count           42.000000\n",
       "mean           111.865277\n",
       "std             20.934204\n",
       "min             83.577767\n",
       "25%             94.196072\n",
       "50%            107.592349\n",
       "75%            128.115706\n",
       "max            170.231436"
      ]
     },
     "execution_count": 9,
     "metadata": {},
     "output_type": "execute_result"
    }
   ],
   "source": [
    "rog_results.describe()"
   ]
  },
  {
   "cell_type": "code",
   "execution_count": 10,
   "metadata": {},
   "outputs": [
    {
     "data": {
      "image/png": "[encoded data removed]",
      "text/plain": [
       "<Figure size 432x288 with 1 Axes>"
      ]
     },
     "metadata": {
      "needs_background": "light"
     },
     "output_type": "display_data"
    }
   ],
   "source": [
    "rog_results.plot.hist();"
   ]
  },
  {
   "cell_type": "markdown",
   "metadata": {},
   "source": [
    "To see the spatial distribution of radius of gyration, we need the geographic boundaries of the administrative regions. We can get these as GeoJSON using the FlowClient `get_geography` function, and load into a GeoPandas `GeoDataFrame` using the `GeoDataFrame.from_features` method."
   ]
  },
  {
   "cell_type": "code",
   "execution_count": 11,
   "metadata": {},
   "outputs": [],
   "source": [
    "geog = gpd.GeoDataFrame.from_features(fc.get_geography(connection=conn, aggregation_unit=\"admin3\")).set_index(\"pcod\")"
   ]
  },
  {
   "cell_type": "code",
   "execution_count": 12,
   "metadata": {},
   "outputs": [
    {
     "data": {
      "text/html": [
       "<div>\n",
       "<style scoped>\n",
       "    .dataframe tbody tr th:only-of-type {\n",
       "        vertical-align: middle;\n",
       "    }\n",
       "\n",
       "    .dataframe tbody tr th {\n",
       "        vertical-align: top;\n",
       "    }\n",
       "\n",
       "    .dataframe thead th {\n",
       "        text-align: right;\n",
       "    }\n",
       "</style>\n",
       "<table border=\"1\" class=\"dataframe\">\n",
       "  <thead>\n",
       "    <tr style=\"text-align: right;\">\n",
       "      <th></th>\n",
       "      <th>geometry</th>\n",
       "      <th>centroid</th>\n",
       "    </tr>\n",
       "    <tr>\n",
       "      <th>pcod</th>\n",
       "      <th></th>\n",
       "      <th></th>\n",
       "    </tr>\n",
       "  </thead>\n",
       "  <tbody>\n",
       "    <tr>\n",
       "      <th>524 2 05 23</th>\n",
       "      <td>MULTIPOLYGON (((85.96007 27.96835, 85.95963 27...</td>\n",
       "      <td>{'type': 'Point', 'coordinates': [85.739489362...</td>\n",
       "    </tr>\n",
       "    <tr>\n",
       "      <th>524 2 05 24</th>\n",
       "      <td>MULTIPOLYGON (((85.64439 27.71841, 85.64494 27...</td>\n",
       "      <td>{'type': 'Point', 'coordinates': [85.619344091...</td>\n",
       "    </tr>\n",
       "    <tr>\n",
       "      <th>524 2 05 25</th>\n",
       "      <td>MULTIPOLYGON (((85.41301 27.60728, 85.41286 27...</td>\n",
       "      <td>{'type': 'Point', 'coordinates': [85.342550173...</td>\n",
       "    </tr>\n",
       "    <tr>\n",
       "      <th>524 2 05 26</th>\n",
       "      <td>MULTIPOLYGON (((85.51987 27.72881, 85.52070 27...</td>\n",
       "      <td>{'type': 'Point', 'coordinates': [85.440648407...</td>\n",
       "    </tr>\n",
       "    <tr>\n",
       "      <th>524 2 05 27</th>\n",
       "      <td>MULTIPOLYGON (((85.45037 27.81377, 85.45067 27...</td>\n",
       "      <td>{'type': 'Point', 'coordinates': [85.347212843...</td>\n",
       "    </tr>\n",
       "  </tbody>\n",
       "</table>\n",
       "</div>"
      ],
      "text/plain": [
       "                                                      geometry  \\\n",
       "pcod                                                             \n",
       "524 2 05 23  MULTIPOLYGON (((85.96007 27.96835, 85.95963 27...   \n",
       "524 2 05 24  MULTIPOLYGON (((85.64439 27.71841, 85.64494 27...   \n",
       "524 2 05 25  MULTIPOLYGON (((85.41301 27.60728, 85.41286 27...   \n",
       "524 2 05 26  MULTIPOLYGON (((85.51987 27.72881, 85.52070 27...   \n",
       "524 2 05 27  MULTIPOLYGON (((85.45037 27.81377, 85.45067 27...   \n",
       "\n",
       "                                                      centroid  \n",
       "pcod                                                            \n",
       "524 2 05 23  {'type': 'Point', 'coordinates': [85.739489362...  \n",
       "524 2 05 24  {'type': 'Point', 'coordinates': [85.619344091...  \n",
       "524 2 05 25  {'type': 'Point', 'coordinates': [85.342550173...  \n",
       "524 2 05 26  {'type': 'Point', 'coordinates': [85.440648407...  \n",
       "524 2 05 27  {'type': 'Point', 'coordinates': [85.347212843...  "
      ]
     },
     "execution_count": 12,
     "metadata": {},
     "output_type": "execute_result"
    }
   ],
   "source": [
    "geog.head()"
   ]
  },
  {
   "cell_type": "markdown",
   "metadata": {},
   "source": [
    "The `plot` method is a quick way to see the regions described by this GeoDataFrame."
   ]
  },
  {
   "cell_type": "code",
   "execution_count": 13,
   "metadata": {},
   "outputs": [
    {
     "data": {
      "image/png": "[encoded data removed]",
      "text/plain": [
       "<Figure size 432x288 with 1 Axes>"
      ]
     },
     "metadata": {
      "needs_background": "light"
     },
     "output_type": "display_data"
    }
   ],
   "source": [
    "geog.plot();"
   ]
  },
  {
   "cell_type": "markdown",
   "metadata": {},
   "source": [
    "Now we can join the geography data to the radius of gyration results, and create a choropleth map by plotting again using the `radius_of_gyration` column to colour the regions.  \n",
    "(Note: the order in which we join here is important - `rog_results.join(geog)` would produce a pandas `DataFrame`, not a geopandas `GeoDataFrame`, and the `plot` method would produce a different plot)."
   ]
  },
  {
   "cell_type": "code",
   "execution_count": 14,
   "metadata": {},
   "outputs": [
    {
     "name": "stderr",
     "output_type": "stream",
     "text": [
      "/Users/jamesharrison/.local/share/virtualenvs/flowclient-B4IHfIsc/lib/python3.7/site-packages/matplotlib/colors.py:527: RuntimeWarning: invalid value encountered in less\n",
      "  xa[xa < 0] = -1\n"
     ]
    },
    {
     "data": {
      "image/png": "[encoded data removed]",
      "text/plain": [
       "<Figure size 432x288 with 2 Axes>"
      ]
     },
     "metadata": {
      "needs_background": "light"
     },
     "output_type": "display_data"
    }
   ],
   "source": [
    "geog.join(rog_results).plot(column=\"radius_of_gyration\", legend=True);"
   ]
  },
  {
   "cell_type": "markdown",
   "metadata": {},
   "source": [
    "This looks like it worked, but we got a warning: `RuntimeWarning: invalid value encountered in less  xa[xa < 0] = -1`. Looking at the content of the joined dataframe, we can see why:"
   ]
  },
  {
   "cell_type": "code",
   "execution_count": 15,
   "metadata": {},
   "outputs": [
    {
     "data": {
      "text/html": [
       "<div>\n",
       "<style scoped>\n",
       "    .dataframe tbody tr th:only-of-type {\n",
       "        vertical-align: middle;\n",
       "    }\n",
       "\n",
       "    .dataframe tbody tr th {\n",
       "        vertical-align: top;\n",
       "    }\n",
       "\n",
       "    .dataframe thead th {\n",
       "        text-align: right;\n",
       "    }\n",
       "</style>\n",
       "<table border=\"1\" class=\"dataframe\">\n",
       "  <thead>\n",
       "    <tr style=\"text-align: right;\">\n",
       "      <th></th>\n",
       "      <th>geometry</th>\n",
       "      <th>centroid</th>\n",
       "      <th>radius_of_gyration</th>\n",
       "    </tr>\n",
       "    <tr>\n",
       "      <th>pcod</th>\n",
       "      <th></th>\n",
       "      <th></th>\n",
       "      <th></th>\n",
       "    </tr>\n",
       "  </thead>\n",
       "  <tbody>\n",
       "    <tr>\n",
       "      <th>524 2 05 23</th>\n",
       "      <td>MULTIPOLYGON (((85.96007 27.96835, 85.95963 27...</td>\n",
       "      <td>{'type': 'Point', 'coordinates': [85.739489362...</td>\n",
       "      <td>103.117901</td>\n",
       "    </tr>\n",
       "    <tr>\n",
       "      <th>524 2 05 24</th>\n",
       "      <td>MULTIPOLYGON (((85.64439 27.71841, 85.64494 27...</td>\n",
       "      <td>{'type': 'Point', 'coordinates': [85.619344091...</td>\n",
       "      <td>109.168188</td>\n",
       "    </tr>\n",
       "    <tr>\n",
       "      <th>524 2 05 25</th>\n",
       "      <td>MULTIPOLYGON (((85.41301 27.60728, 85.41286 27...</td>\n",
       "      <td>{'type': 'Point', 'coordinates': [85.342550173...</td>\n",
       "      <td>NaN</td>\n",
       "    </tr>\n",
       "    <tr>\n",
       "      <th>524 2 05 26</th>\n",
       "      <td>MULTIPOLYGON (((85.51987 27.72881, 85.52070 27...</td>\n",
       "      <td>{'type': 'Point', 'coordinates': [85.440648407...</td>\n",
       "      <td>NaN</td>\n",
       "    </tr>\n",
       "    <tr>\n",
       "      <th>524 2 05 27</th>\n",
       "      <td>MULTIPOLYGON (((85.45037 27.81377, 85.45067 27...</td>\n",
       "      <td>{'type': 'Point', 'coordinates': [85.347212843...</td>\n",
       "      <td>NaN</td>\n",
       "    </tr>\n",
       "  </tbody>\n",
       "</table>\n",
       "</div>"
      ],
      "text/plain": [
       "                                                      geometry  \\\n",
       "pcod                                                             \n",
       "524 2 05 23  MULTIPOLYGON (((85.96007 27.96835, 85.95963 27...   \n",
       "524 2 05 24  MULTIPOLYGON (((85.64439 27.71841, 85.64494 27...   \n",
       "524 2 05 25  MULTIPOLYGON (((85.41301 27.60728, 85.41286 27...   \n",
       "524 2 05 26  MULTIPOLYGON (((85.51987 27.72881, 85.52070 27...   \n",
       "524 2 05 27  MULTIPOLYGON (((85.45037 27.81377, 85.45067 27...   \n",
       "\n",
       "                                                      centroid  \\\n",
       "pcod                                                             \n",
       "524 2 05 23  {'type': 'Point', 'coordinates': [85.739489362...   \n",
       "524 2 05 24  {'type': 'Point', 'coordinates': [85.619344091...   \n",
       "524 2 05 25  {'type': 'Point', 'coordinates': [85.342550173...   \n",
       "524 2 05 26  {'type': 'Point', 'coordinates': [85.440648407...   \n",
       "524 2 05 27  {'type': 'Point', 'coordinates': [85.347212843...   \n",
       "\n",
       "             radius_of_gyration  \n",
       "pcod                             \n",
       "524 2 05 23          103.117901  \n",
       "524 2 05 24          109.168188  \n",
       "524 2 05 25                 NaN  \n",
       "524 2 05 26                 NaN  \n",
       "524 2 05 27                 NaN  "
      ]
     },
     "execution_count": 15,
     "metadata": {},
     "output_type": "execute_result"
    }
   ],
   "source": [
    "geog.join(rog_results).head()"
   ]
  },
  {
   "cell_type": "markdown",
   "metadata": {},
   "source": [
    "There are some regions for which we have no `radius_of_gyration` data, because these regions contained fewer than 15 subscribers so FlowKit redacted the results to preserve privacy. We can drop these rows using the `dropna` method. So that we can still see the shapes of the regions with no data, let's plot the `geog` data as a light grey background behind our choropleth map."
   ]
  },
  {
   "cell_type": "code",
   "execution_count": 16,
   "metadata": {},
   "outputs": [
    {
     "data": {
      "image/png": "[encoded data removed]",
      "text/plain": [
       "<Figure size 432x288 with 2 Axes>"
      ]
     },
     "metadata": {
      "needs_background": "light"
     },
     "output_type": "display_data"
    }
   ],
   "source": [
    "background = geog.plot(color=\"lightgrey\")\n",
    "geog.join(rog_results).dropna().plot(ax=background, column=\"radius_of_gyration\", legend=True);"
   ]
  },
  {
   "cell_type": "markdown",
   "metadata": {},
   "source": [
    "### Handset type results\n",
    "Next we get the results of our handset-type query."
   ]
  },
  {
   "cell_type": "code",
   "execution_count": 22,
   "metadata": {},
   "outputs": [
    {
     "data": {
      "text/html": [
       "<div>\n",
       "<style scoped>\n",
       "    .dataframe tbody tr th:only-of-type {\n",
       "        vertical-align: middle;\n",
       "    }\n",
       "\n",
       "    .dataframe tbody tr th {\n",
       "        vertical-align: top;\n",
       "    }\n",
       "\n",
       "    .dataframe thead th {\n",
       "        text-align: right;\n",
       "    }\n",
       "</style>\n",
       "<table border=\"1\" class=\"dataframe\">\n",
       "  <thead>\n",
       "    <tr style=\"text-align: right;\">\n",
       "      <th></th>\n",
       "      <th>pcod</th>\n",
       "      <th>metric</th>\n",
       "      <th>key</th>\n",
       "      <th>value</th>\n",
       "    </tr>\n",
       "  </thead>\n",
       "  <tbody>\n",
       "    <tr>\n",
       "      <th>0</th>\n",
       "      <td>524 1 01 01</td>\n",
       "      <td>value</td>\n",
       "      <td>Smart</td>\n",
       "      <td>0.313484</td>\n",
       "    </tr>\n",
       "    <tr>\n",
       "      <th>1</th>\n",
       "      <td>524 1 01 01</td>\n",
       "      <td>value</td>\n",
       "      <td>Basic</td>\n",
       "      <td>0.340862</td>\n",
       "    </tr>\n",
       "    <tr>\n",
       "      <th>2</th>\n",
       "      <td>524 1 01 01</td>\n",
       "      <td>value</td>\n",
       "      <td>Feature</td>\n",
       "      <td>0.345654</td>\n",
       "    </tr>\n",
       "    <tr>\n",
       "      <th>3</th>\n",
       "      <td>524 1 01 04</td>\n",
       "      <td>value</td>\n",
       "      <td>Feature</td>\n",
       "      <td>0.351020</td>\n",
       "    </tr>\n",
       "    <tr>\n",
       "      <th>4</th>\n",
       "      <td>524 1 01 04</td>\n",
       "      <td>value</td>\n",
       "      <td>Smart</td>\n",
       "      <td>0.307483</td>\n",
       "    </tr>\n",
       "  </tbody>\n",
       "</table>\n",
       "</div>"
      ],
      "text/plain": [
       "          pcod metric      key     value\n",
       "0  524 1 01 01  value    Smart  0.313484\n",
       "1  524 1 01 01  value    Basic  0.340862\n",
       "2  524 1 01 01  value  Feature  0.345654\n",
       "3  524 1 01 04  value  Feature  0.351020\n",
       "4  524 1 01 04  value    Smart  0.307483"
      ]
     },
     "execution_count": 22,
     "metadata": {},
     "output_type": "execute_result"
    }
   ],
   "source": [
    "handset_results = fc.get_result(connection=conn, query=jsa_handset_query)\n",
    "handset_results.head()"
   ]
  },
  {
   "cell_type": "markdown",
   "metadata": {},
   "source": [
    "This dataframe has four columns: `pcod` (the P-code, as above), `metric`, `key` (the handset type) and `value` (the proportion of subscribers in that region who have that handset type). The `metric` column just contains the value `\"value\"` in every row, which is not useful to us, so let's drop it. We'll also rename the `key` and `value` columns to `handset_type` and `proportion`, respectively.\n",
    "\n",
    "This time we have three rows per P-code, one for each handset type, so let's set a `MultiIndex` using the `pcod` and `handset_type` columns."
   ]
  },
  {
   "cell_type": "code",
   "execution_count": 23,
   "metadata": {},
   "outputs": [
    {
     "data": {
      "text/html": [
       "<div>\n",
       "<style scoped>\n",
       "    .dataframe tbody tr th:only-of-type {\n",
       "        vertical-align: middle;\n",
       "    }\n",
       "\n",
       "    .dataframe tbody tr th {\n",
       "        vertical-align: top;\n",
       "    }\n",
       "\n",
       "    .dataframe thead th {\n",
       "        text-align: right;\n",
       "    }\n",
       "</style>\n",
       "<table border=\"1\" class=\"dataframe\">\n",
       "  <thead>\n",
       "    <tr style=\"text-align: right;\">\n",
       "      <th></th>\n",
       "      <th></th>\n",
       "      <th>proportion</th>\n",
       "    </tr>\n",
       "    <tr>\n",
       "      <th>pcod</th>\n",
       "      <th>handset_type</th>\n",
       "      <th></th>\n",
       "    </tr>\n",
       "  </thead>\n",
       "  <tbody>\n",
       "    <tr>\n",
       "      <th rowspan=\"3\" valign=\"top\">524 1 01 01</th>\n",
       "      <th>Smart</th>\n",
       "      <td>0.313484</td>\n",
       "    </tr>\n",
       "    <tr>\n",
       "      <th>Basic</th>\n",
       "      <td>0.340862</td>\n",
       "    </tr>\n",
       "    <tr>\n",
       "      <th>Feature</th>\n",
       "      <td>0.345654</td>\n",
       "    </tr>\n",
       "    <tr>\n",
       "      <th rowspan=\"2\" valign=\"top\">524 1 01 04</th>\n",
       "      <th>Feature</th>\n",
       "      <td>0.351020</td>\n",
       "    </tr>\n",
       "    <tr>\n",
       "      <th>Smart</th>\n",
       "      <td>0.307483</td>\n",
       "    </tr>\n",
       "  </tbody>\n",
       "</table>\n",
       "</div>"
      ],
      "text/plain": [
       "                          proportion\n",
       "pcod        handset_type            \n",
       "524 1 01 01 Smart           0.313484\n",
       "            Basic           0.340862\n",
       "            Feature         0.345654\n",
       "524 1 01 04 Feature         0.351020\n",
       "            Smart           0.307483"
      ]
     },
     "execution_count": 23,
     "metadata": {},
     "output_type": "execute_result"
    }
   ],
   "source": [
    "handset_results = handset_results.rename(columns={\"key\": \"handset_type\", \"value\": \"proportion\"}).drop(columns=\"metric\").set_index([\"pcod\", \"handset_type\"])\n",
    "handset_results.head()"
   ]
  },
  {
   "cell_type": "markdown",
   "metadata": {},
   "source": [
    "We can get a summary of the data using the `describe` method, but let's first group by `handset_type` to get a summary per handset type."
   ]
  },
  {
   "cell_type": "code",
   "execution_count": 24,
   "metadata": {},
   "outputs": [
    {
     "data": {
      "text/html": [
       "<div>\n",
       "<style scoped>\n",
       "    .dataframe tbody tr th:only-of-type {\n",
       "        vertical-align: middle;\n",
       "    }\n",
       "\n",
       "    .dataframe tbody tr th {\n",
       "        vertical-align: top;\n",
       "    }\n",
       "\n",
       "    .dataframe thead tr th {\n",
       "        text-align: left;\n",
       "    }\n",
       "\n",
       "    .dataframe thead tr:last-of-type th {\n",
       "        text-align: right;\n",
       "    }\n",
       "</style>\n",
       "<table border=\"1\" class=\"dataframe\">\n",
       "  <thead>\n",
       "    <tr>\n",
       "      <th></th>\n",
       "      <th colspan=\"8\" halign=\"left\">proportion</th>\n",
       "    </tr>\n",
       "    <tr>\n",
       "      <th></th>\n",
       "      <th>count</th>\n",
       "      <th>mean</th>\n",
       "      <th>std</th>\n",
       "      <th>min</th>\n",
       "      <th>25%</th>\n",
       "      <th>50%</th>\n",
       "      <th>75%</th>\n",
       "      <th>max</th>\n",
       "    </tr>\n",
       "    <tr>\n",
       "      <th>handset_type</th>\n",
       "      <th></th>\n",
       "      <th></th>\n",
       "      <th></th>\n",
       "      <th></th>\n",
       "      <th></th>\n",
       "      <th></th>\n",
       "      <th></th>\n",
       "      <th></th>\n",
       "    </tr>\n",
       "  </thead>\n",
       "  <tbody>\n",
       "    <tr>\n",
       "      <th>Basic</th>\n",
       "      <td>42.0</td>\n",
       "      <td>0.336651</td>\n",
       "      <td>0.014786</td>\n",
       "      <td>0.305132</td>\n",
       "      <td>0.326712</td>\n",
       "      <td>0.339408</td>\n",
       "      <td>0.346986</td>\n",
       "      <td>0.371274</td>\n",
       "    </tr>\n",
       "    <tr>\n",
       "      <th>Feature</th>\n",
       "      <td>42.0</td>\n",
       "      <td>0.338004</td>\n",
       "      <td>0.015510</td>\n",
       "      <td>0.307487</td>\n",
       "      <td>0.329857</td>\n",
       "      <td>0.338537</td>\n",
       "      <td>0.346596</td>\n",
       "      <td>0.369771</td>\n",
       "    </tr>\n",
       "    <tr>\n",
       "      <th>Smart</th>\n",
       "      <td>42.0</td>\n",
       "      <td>0.325345</td>\n",
       "      <td>0.015310</td>\n",
       "      <td>0.292683</td>\n",
       "      <td>0.314722</td>\n",
       "      <td>0.325667</td>\n",
       "      <td>0.336672</td>\n",
       "      <td>0.353805</td>\n",
       "    </tr>\n",
       "  </tbody>\n",
       "</table>\n",
       "</div>"
      ],
      "text/plain": [
       "             proportion                                                    \\\n",
       "                  count      mean       std       min       25%       50%   \n",
       "handset_type                                                                \n",
       "Basic              42.0  0.336651  0.014786  0.305132  0.326712  0.339408   \n",
       "Feature            42.0  0.338004  0.015510  0.307487  0.329857  0.338537   \n",
       "Smart              42.0  0.325345  0.015310  0.292683  0.314722  0.325667   \n",
       "\n",
       "                                  \n",
       "                   75%       max  \n",
       "handset_type                      \n",
       "Basic         0.346986  0.371274  \n",
       "Feature       0.346596  0.369771  \n",
       "Smart         0.336672  0.353805  "
      ]
     },
     "execution_count": 24,
     "metadata": {},
     "output_type": "execute_result"
    }
   ],
   "source": [
    "handset_results.groupby(\"handset_type\").describe()"
   ]
  },
  {
   "cell_type": "markdown",
   "metadata": {},
   "source": [
    "Similarly, we can call the `plot.hist` method of the grouped data to produce a histogram for each handset type."
   ]
  },
  {
   "cell_type": "code",
   "execution_count": 25,
   "metadata": {},
   "outputs": [
    {
     "data": {
      "image/png": "[encoded data removed]",
      "text/plain": [
       "<Figure size 432x288 with 1 Axes>"
      ]
     },
     "metadata": {
      "needs_background": "light"
     },
     "output_type": "display_data"
    },
    {
     "data": {
      "image/png": "[encoded data removed]",
      "text/plain": [
       "<Figure size 432x288 with 1 Axes>"
      ]
     },
     "metadata": {
      "needs_background": "light"
     },
     "output_type": "display_data"
    },
    {
     "data": {
      "image/png": "[encoded data removed]",
      "text/plain": [
       "<Figure size 432x288 with 1 Axes>"
      ]
     },
     "metadata": {
      "needs_background": "light"
     },
     "output_type": "display_data"
    }
   ],
   "source": [
    "handset_results.groupby(\"handset_type\").plot.hist();"
   ]
  },
  {
   "cell_type": "markdown",
   "metadata": {},
   "source": [
    "It may be more useful to plot all three histograms on the same axes. This would be the default output from pandas if the proportion data for each handset type were in separate columns. Since we set a hierarchical index on the `handset_results` dataframe, we can use the `unstack` method to unpack the innermost level of the index (`handset_type`, in this case) into separate columns."
   ]
  },
  {
   "cell_type": "code",
   "execution_count": 26,
   "metadata": {},
   "outputs": [
    {
     "data": {
      "text/html": [
       "<div>\n",
       "<style scoped>\n",
       "    .dataframe tbody tr th:only-of-type {\n",
       "        vertical-align: middle;\n",
       "    }\n",
       "\n",
       "    .dataframe tbody tr th {\n",
       "        vertical-align: top;\n",
       "    }\n",
       "\n",
       "    .dataframe thead tr th {\n",
       "        text-align: left;\n",
       "    }\n",
       "\n",
       "    .dataframe thead tr:last-of-type th {\n",
       "        text-align: right;\n",
       "    }\n",
       "</style>\n",
       "<table border=\"1\" class=\"dataframe\">\n",
       "  <thead>\n",
       "    <tr>\n",
       "      <th></th>\n",
       "      <th colspan=\"3\" halign=\"left\">proportion</th>\n",
       "    </tr>\n",
       "    <tr>\n",
       "      <th>handset_type</th>\n",
       "      <th>Basic</th>\n",
       "      <th>Feature</th>\n",
       "      <th>Smart</th>\n",
       "    </tr>\n",
       "    <tr>\n",
       "      <th>pcod</th>\n",
       "      <th></th>\n",
       "      <th></th>\n",
       "      <th></th>\n",
       "    </tr>\n",
       "  </thead>\n",
       "  <tbody>\n",
       "    <tr>\n",
       "      <th>524 1 01 01</th>\n",
       "      <td>0.340862</td>\n",
       "      <td>0.345654</td>\n",
       "      <td>0.313484</td>\n",
       "    </tr>\n",
       "    <tr>\n",
       "      <th>524 1 01 04</th>\n",
       "      <td>0.341497</td>\n",
       "      <td>0.351020</td>\n",
       "      <td>0.307483</td>\n",
       "    </tr>\n",
       "    <tr>\n",
       "      <th>524 1 02 07</th>\n",
       "      <td>0.317872</td>\n",
       "      <td>0.335607</td>\n",
       "      <td>0.346521</td>\n",
       "    </tr>\n",
       "    <tr>\n",
       "      <th>524 1 02 08</th>\n",
       "      <td>0.311167</td>\n",
       "      <td>0.343789</td>\n",
       "      <td>0.345044</td>\n",
       "    </tr>\n",
       "    <tr>\n",
       "      <th>524 1 03 11</th>\n",
       "      <td>0.306506</td>\n",
       "      <td>0.364856</td>\n",
       "      <td>0.328638</td>\n",
       "    </tr>\n",
       "  </tbody>\n",
       "</table>\n",
       "</div>"
      ],
      "text/plain": [
       "             proportion                    \n",
       "handset_type      Basic   Feature     Smart\n",
       "pcod                                       \n",
       "524 1 01 01    0.340862  0.345654  0.313484\n",
       "524 1 01 04    0.341497  0.351020  0.307483\n",
       "524 1 02 07    0.317872  0.335607  0.346521\n",
       "524 1 02 08    0.311167  0.343789  0.345044\n",
       "524 1 03 11    0.306506  0.364856  0.328638"
      ]
     },
     "execution_count": 26,
     "metadata": {},
     "output_type": "execute_result"
    }
   ],
   "source": [
    "handset_results.unstack().head()"
   ]
  },
  {
   "cell_type": "markdown",
   "metadata": {},
   "source": [
    "This produces a dataframe with a single-level index, and a `MultiIndex` as column headers. Now the `plot.hist` method plots all three histograms on the same axes. We set `alpha=0.5` to make them slightly transparent. In this dataset we can see that there is little difference between the distributions of the different handset types - the proportions of all handset types are approximately equal in all regions."
   ]
  },
  {
   "cell_type": "code",
   "execution_count": 27,
   "metadata": {},
   "outputs": [
    {
     "data": {
      "image/png": "[encoded data removed]",
      "text/plain": [
       "<Figure size 432x288 with 1 Axes>"
      ]
     },
     "metadata": {
      "needs_background": "light"
     },
     "output_type": "display_data"
    }
   ],
   "source": [
    "handset_results.unstack().plot.hist(alpha=0.5);"
   ]
  },
  {
   "cell_type": "markdown",
   "metadata": {},
   "source": [
    "As with the radius of gyration results, we can also join to the geography data and plot choropleth maps of the handset type distributions."
   ]
  },
  {
   "cell_type": "code",
   "execution_count": 28,
   "metadata": {},
   "outputs": [
    {
     "data": {
      "image/png": "[encoded data removed]",
      "text/plain": [
       "<Figure size 432x288 with 2 Axes>"
      ]
     },
     "metadata": {
      "needs_background": "light"
     },
     "output_type": "display_data"
    },
    {
     "data": {
      "image/png": "[encoded data removed]",
      "text/plain": [
       "<Figure size 432x288 with 2 Axes>"
      ]
     },
     "metadata": {
      "needs_background": "light"
     },
     "output_type": "display_data"
    },
    {
     "data": {
      "image/png": "[encoded data removed]",
      "text/plain": [
       "<Figure size 432x288 with 2 Axes>"
      ]
     },
     "metadata": {
      "needs_background": "light"
     },
     "output_type": "display_data"
    }
   ],
   "source": [
    "geog.join(handset_results).groupby(\"handset_type\").plot(column=\"proportion\", legend=True);"
   ]
  },
  {
   "cell_type": "markdown",
   "metadata": {},
   "source": [
    "### Comparing radius of gyration and handset types\n",
    "\n",
    "#### Join the dataframes\n",
    "Now that we have the results from both of our joined spatial aggregate queries, we can join them and compare the metrics."
   ]
  },
  {
   "cell_type": "code",
   "execution_count": 29,
   "metadata": {},
   "outputs": [
    {
     "name": "stderr",
     "output_type": "stream",
     "text": [
      "/Users/jamesharrison/.local/share/virtualenvs/flowclient-B4IHfIsc/lib/python3.7/site-packages/pandas/core/reshape/merge.py:617: UserWarning: merging between different levels can give an unintended result (1 levels on the left, 2 on the right)\n",
      "  warnings.warn(msg, UserWarning)\n"
     ]
    },
    {
     "data": {
      "text/html": [
       "<div>\n",
       "<style scoped>\n",
       "    .dataframe tbody tr th:only-of-type {\n",
       "        vertical-align: middle;\n",
       "    }\n",
       "\n",
       "    .dataframe tbody tr th {\n",
       "        vertical-align: top;\n",
       "    }\n",
       "\n",
       "    .dataframe thead th {\n",
       "        text-align: right;\n",
       "    }\n",
       "</style>\n",
       "<table border=\"1\" class=\"dataframe\">\n",
       "  <thead>\n",
       "    <tr style=\"text-align: right;\">\n",
       "      <th></th>\n",
       "      <th>radius_of_gyration</th>\n",
       "      <th>(proportion, Basic)</th>\n",
       "      <th>(proportion, Feature)</th>\n",
       "      <th>(proportion, Smart)</th>\n",
       "    </tr>\n",
       "    <tr>\n",
       "      <th>pcod</th>\n",
       "      <th></th>\n",
       "      <th></th>\n",
       "      <th></th>\n",
       "      <th></th>\n",
       "    </tr>\n",
       "  </thead>\n",
       "  <tbody>\n",
       "    <tr>\n",
       "      <th>524 4 11 57</th>\n",
       "      <td>105.684095</td>\n",
       "      <td>0.350282</td>\n",
       "      <td>0.330508</td>\n",
       "      <td>0.319209</td>\n",
       "    </tr>\n",
       "    <tr>\n",
       "      <th>524 1 03 12</th>\n",
       "      <td>129.327924</td>\n",
       "      <td>0.355615</td>\n",
       "      <td>0.307487</td>\n",
       "      <td>0.336898</td>\n",
       "    </tr>\n",
       "    <tr>\n",
       "      <th>524 1 03 11</th>\n",
       "      <td>127.186304</td>\n",
       "      <td>0.306506</td>\n",
       "      <td>0.364856</td>\n",
       "      <td>0.328638</td>\n",
       "    </tr>\n",
       "    <tr>\n",
       "      <th>524 4 12 65</th>\n",
       "      <td>107.566444</td>\n",
       "      <td>0.337449</td>\n",
       "      <td>0.337449</td>\n",
       "      <td>0.325103</td>\n",
       "    </tr>\n",
       "    <tr>\n",
       "      <th>524 4 10 54</th>\n",
       "      <td>90.875944</td>\n",
       "      <td>0.333778</td>\n",
       "      <td>0.312417</td>\n",
       "      <td>0.353805</td>\n",
       "    </tr>\n",
       "  </tbody>\n",
       "</table>\n",
       "</div>"
      ],
      "text/plain": [
       "             radius_of_gyration  (proportion, Basic)  (proportion, Feature)  \\\n",
       "pcod                                                                          \n",
       "524 4 11 57          105.684095             0.350282               0.330508   \n",
       "524 1 03 12          129.327924             0.355615               0.307487   \n",
       "524 1 03 11          127.186304             0.306506               0.364856   \n",
       "524 4 12 65          107.566444             0.337449               0.337449   \n",
       "524 4 10 54           90.875944             0.333778               0.312417   \n",
       "\n",
       "             (proportion, Smart)  \n",
       "pcod                              \n",
       "524 4 11 57             0.319209  \n",
       "524 1 03 12             0.336898  \n",
       "524 1 03 11             0.328638  \n",
       "524 4 12 65             0.325103  \n",
       "524 4 10 54             0.353805  "
      ]
     },
     "execution_count": 29,
     "metadata": {},
     "output_type": "execute_result"
    }
   ],
   "source": [
    "combined = rog_results.join(handset_results.unstack())\n",
    "combined.head()"
   ]
  },
  {
   "cell_type": "markdown",
   "metadata": {},
   "source": [
    "#### Correlation\n",
    "The `corr` method provides a quick way to calculate the correlation between all pairs of columns. We're interested in the correlation between radius of gyration and each of the proportion columns. From these results, there appears to be no significant correlation between handset type and radius of gyration."
   ]
  },
  {
   "cell_type": "code",
   "execution_count": 30,
   "metadata": {},
   "outputs": [
    {
     "data": {
      "text/html": [
       "<div>\n",
       "<style scoped>\n",
       "    .dataframe tbody tr th:only-of-type {\n",
       "        vertical-align: middle;\n",
       "    }\n",
       "\n",
       "    .dataframe tbody tr th {\n",
       "        vertical-align: top;\n",
       "    }\n",
       "\n",
       "    .dataframe thead th {\n",
       "        text-align: right;\n",
       "    }\n",
       "</style>\n",
       "<table border=\"1\" class=\"dataframe\">\n",
       "  <thead>\n",
       "    <tr style=\"text-align: right;\">\n",
       "      <th></th>\n",
       "      <th>radius_of_gyration</th>\n",
       "      <th>(proportion, Basic)</th>\n",
       "      <th>(proportion, Feature)</th>\n",
       "      <th>(proportion, Smart)</th>\n",
       "    </tr>\n",
       "  </thead>\n",
       "  <tbody>\n",
       "    <tr>\n",
       "      <th>radius_of_gyration</th>\n",
       "      <td>1.000000</td>\n",
       "      <td>-0.070677</td>\n",
       "      <td>0.273707</td>\n",
       "      <td>-0.209038</td>\n",
       "    </tr>\n",
       "    <tr>\n",
       "      <th>(proportion, Basic)</th>\n",
       "      <td>-0.070677</td>\n",
       "      <td>1.000000</td>\n",
       "      <td>-0.490141</td>\n",
       "      <td>-0.469229</td>\n",
       "    </tr>\n",
       "    <tr>\n",
       "      <th>(proportion, Feature)</th>\n",
       "      <td>0.273707</td>\n",
       "      <td>-0.490141</td>\n",
       "      <td>1.000000</td>\n",
       "      <td>-0.539739</td>\n",
       "    </tr>\n",
       "    <tr>\n",
       "      <th>(proportion, Smart)</th>\n",
       "      <td>-0.209038</td>\n",
       "      <td>-0.469229</td>\n",
       "      <td>-0.539739</td>\n",
       "      <td>1.000000</td>\n",
       "    </tr>\n",
       "  </tbody>\n",
       "</table>\n",
       "</div>"
      ],
      "text/plain": [
       "                       radius_of_gyration  (proportion, Basic)  \\\n",
       "radius_of_gyration               1.000000            -0.070677   \n",
       "(proportion, Basic)             -0.070677             1.000000   \n",
       "(proportion, Feature)            0.273707            -0.490141   \n",
       "(proportion, Smart)             -0.209038            -0.469229   \n",
       "\n",
       "                       (proportion, Feature)  (proportion, Smart)  \n",
       "radius_of_gyration                  0.273707            -0.209038  \n",
       "(proportion, Basic)                -0.490141            -0.469229  \n",
       "(proportion, Feature)               1.000000            -0.539739  \n",
       "(proportion, Smart)                -0.539739             1.000000  "
      ]
     },
     "execution_count": 30,
     "metadata": {},
     "output_type": "execute_result"
    }
   ],
   "source": [
    "combined.corr()"
   ]
  },
  {
   "cell_type": "markdown",
   "metadata": {},
   "source": [
    "#### Scatter plot\n",
    "To see whether there is any relationship that's not apparent from the correlation, let's make a scatter plot of radius of gyration against proportion of subscribers who use a smartphone."
   ]
  },
  {
   "cell_type": "code",
   "execution_count": 31,
   "metadata": {},
   "outputs": [
    {
     "data": {
      "image/png": "[encoded data removed]",
      "text/plain": [
       "<Figure size 432x288 with 1 Axes>"
      ]
     },
     "metadata": {
      "needs_background": "light"
     },
     "output_type": "display_data"
    }
   ],
   "source": [
    "combined.plot.scatter(x=\"radius_of_gyration\", y=(\"proportion\", \"Smart\"));"
   ]
  },
  {
   "cell_type": "markdown",
   "metadata": {},
   "source": [
    "We can use `matplotlib` to plot radius of gyration against proportion for each of the handset types on the same plot."
   ]
  },
  {
   "cell_type": "code",
   "execution_count": 32,
   "metadata": {},
   "outputs": [
    {
     "data": {
      "image/png": "[encoded data removed]",
      "text/plain": [
       "<Figure size 432x288 with 1 Axes>"
      ]
     },
     "metadata": {
      "needs_background": "light"
     },
     "output_type": "display_data"
    }
   ],
   "source": [
    "import matplotlib.pyplot as plt\n",
    "\n",
    "fig, ax = plt.subplots()\n",
    "for htype in [\"Basic\", \"Feature\", \"Smart\"]:\n",
    "    ax.scatter(combined[\"radius_of_gyration\"], combined[(\"proportion\", htype)], label=htype)\n",
    "ax.set_xlabel(\"Radius of gyration (km)\")\n",
    "ax.set_ylabel(\"Handset type proportion\")\n",
    "ax.legend();"
   ]
  },
  {
   "cell_type": "markdown",
   "metadata": {},
   "source": [
    "There is no obvious pattern visible in these plots, so for this test dataset we have found no relationship between subscribers' handset types and their radius of gyration."
   ]
  }
 ],
 "metadata": {
  "kernelspec": {
   "display_name": "Python 3",
   "language": "python",
   "name": "python3"
  },
  "language_info": {
   "codemirror_mode": {
    "name": "ipython",
    "version": 3
   },
   "file_extension": ".py",
   "mimetype": "text/x-python",
   "name": "python",
   "nbconvert_exporter": "python",
   "pygments_lexer": "ipython3",
   "version": "3.7.0"
  }
 },
 "nbformat": 4,
 "nbformat_minor": 4
}
