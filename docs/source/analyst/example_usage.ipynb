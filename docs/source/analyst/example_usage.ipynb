{
 "cells": [
  {
   "cell_type": "markdown",
   "metadata": {},
   "source": [
    "Example usage of FlowClient to run daily location, modal location and flow queries.\n",
    "\n",
    "## Create an access token\n",
    "In actual usage, this would be done using [FlowAuth](../flowauth)."
   ]
  },
  {
   "cell_type": "code",
   "execution_count": 1,
   "metadata": {},
   "outputs": [],
   "source": [
    "import os\n",
    "import sys\n",
    "from dotenv import find_dotenv"
   ]
  },
  {
   "cell_type": "code",
   "execution_count": 2,
   "metadata": {},
   "outputs": [],
   "source": [
    "path_to_utils_module = os.path.join(\n",
    "    os.path.dirname(find_dotenv()), \"..\", \"integration_tests\", \"tests\"\n",
    ")\n",
    "sys.path.insert(0, path_to_utils_module)"
   ]
  },
  {
   "cell_type": "code",
   "execution_count": 3,
   "metadata": {},
   "outputs": [],
   "source": [
    "import flowclient\n",
    "from datetime import timedelta\n",
    "from utils import make_token"
   ]
  },
  {
   "cell_type": "code",
   "execution_count": 4,
   "metadata": {},
   "outputs": [],
   "source": [
    "claims = {\n",
    "    \"daily_location\": {\n",
    "        \"permissions\": {\"run\": True, \"poll\": True, \"get_result\": True},\n",
    "        \"spatial_aggregation\": [\"admin3\", \"admin2\"],\n",
    "    },\n",
    "    \"modal_location\": {\n",
    "        \"permissions\": {\"run\": True, \"poll\": True, \"get_result\": True},\n",
    "        \"spatial_aggregation\": [\"admin3\", \"admin2\"],\n",
    "    },\n",
    "    \"flows\": {\n",
    "        \"permissions\": {\"run\": True, \"poll\": True, \"get_result\": True},\n",
    "        \"spatial_aggregation\": [\"admin3\", \"admin2\", \"admin1\"],\n",
    "    },\n",
    "}"
   ]
  },
  {
   "cell_type": "code",
   "execution_count": 5,
   "metadata": {},
   "outputs": [],
   "source": [
    "TOKEN = make_token(\n",
    "    username=\"testuser\",\n",
    "    secret_key=\"secret\",\n",
    "    lifetime=timedelta(days=1),\n",
    "    claims=claims,\n",
    ")"
   ]
  },
  {
   "cell_type": "markdown",
   "metadata": {},
   "source": [
    "## Create an API connection"
   ]
  },
  {
   "cell_type": "code",
   "execution_count": 7,
   "metadata": {},
   "outputs": [
    {
     "name": "stderr",
     "output_type": "stream",
     "text": [
      "/Users/jamesharrison/Repositories/FlowKit/flowclient/flowclient/client.py:159: UserWarning: Communications with this server are NOT SECURE.\n",
      "  return Connection(url, token, api_version, ssl_certificate)\n"
     ]
    }
   ],
   "source": [
    "conn = flowclient.connect(\"http://localhost:9090\", TOKEN)"
   ]
  },
  {
   "cell_type": "markdown",
   "metadata": {},
   "source": [
    "## Daily location"
   ]
  },
  {
   "cell_type": "markdown",
   "metadata": {},
   "source": [
    "### Specify query parameters"
   ]
  },
  {
   "cell_type": "code",
   "execution_count": 8,
   "metadata": {},
   "outputs": [
    {
     "data": {
      "text/plain": [
       "{'query_kind': 'daily_location',\n",
       " 'params': {'date': '2016-01-01',\n",
       "  'aggregation_unit': 'admin3',\n",
       "  'daily_location_method': 'last',\n",
       "  'subscriber_subset': 'all'}}"
      ]
     },
     "execution_count": 8,
     "metadata": {},
     "output_type": "execute_result"
    }
   ],
   "source": [
    "query_spec = flowclient.daily_location(\n",
    "    date=\"2016-01-01\",\n",
    "    aggregation_unit=\"admin3\",\n",
    "    daily_location_method=\"last\",\n",
    "    subscriber_subset=None,\n",
    ")\n",
    "\n",
    "query_spec"
   ]
  },
  {
   "cell_type": "markdown",
   "metadata": {},
   "source": [
    "### Set query running"
   ]
  },
  {
   "cell_type": "code",
   "execution_count": 9,
   "metadata": {},
   "outputs": [
    {
     "name": "stdout",
     "output_type": "stream",
     "text": [
      "4a12fae60ce647d01b2bd5902b8a48e7\n"
     ]
    }
   ],
   "source": [
    "query_id = flowclient.run_query(conn, query_spec)\n",
    "query_id"
   ]
  },
  {
   "cell_type": "markdown",
   "metadata": {},
   "source": [
    "### Check status of query"
   ]
  },
  {
   "cell_type": "code",
   "execution_count": 10,
   "metadata": {},
   "outputs": [
    {
     "data": {
      "text/plain": [
       "(True, <Response [303]>)"
      ]
     },
     "execution_count": 10,
     "metadata": {},
     "output_type": "execute_result"
    }
   ],
   "source": [
    "flowclient.get_status(conn, query_id)"
   ]
  },
  {
   "cell_type": "markdown",
   "metadata": {},
   "source": [
    "### Get query result"
   ]
  },
  {
   "cell_type": "code",
   "execution_count": 11,
   "metadata": {},
   "outputs": [
    {
     "data": {
      "text/html": [
       "<div>\n",
       "<style scoped>\n",
       "    .dataframe tbody tr th:only-of-type {\n",
       "        vertical-align: middle;\n",
       "    }\n",
       "\n",
       "    .dataframe tbody tr th {\n",
       "        vertical-align: top;\n",
       "    }\n",
       "\n",
       "    .dataframe thead th {\n",
       "        text-align: right;\n",
       "    }\n",
       "</style>\n",
       "<table border=\"1\" class=\"dataframe\">\n",
       "  <thead>\n",
       "    <tr style=\"text-align: right;\">\n",
       "      <th></th>\n",
       "      <th>name</th>\n",
       "      <th>total</th>\n",
       "    </tr>\n",
       "  </thead>\n",
       "  <tbody>\n",
       "    <tr>\n",
       "      <th>0</th>\n",
       "      <td>Dolpa</td>\n",
       "      <td>43</td>\n",
       "    </tr>\n",
       "    <tr>\n",
       "      <th>1</th>\n",
       "      <td>Bajhang</td>\n",
       "      <td>17</td>\n",
       "    </tr>\n",
       "    <tr>\n",
       "      <th>2</th>\n",
       "      <td>Kavrepalanchok</td>\n",
       "      <td>14</td>\n",
       "    </tr>\n",
       "    <tr>\n",
       "      <th>3</th>\n",
       "      <td>Rolpa</td>\n",
       "      <td>12</td>\n",
       "    </tr>\n",
       "    <tr>\n",
       "      <th>4</th>\n",
       "      <td>Rukum</td>\n",
       "      <td>14</td>\n",
       "    </tr>\n",
       "  </tbody>\n",
       "</table>\n",
       "</div>"
      ],
      "text/plain": [
       "             name  total\n",
       "0           Dolpa     43\n",
       "1         Bajhang     17\n",
       "2  Kavrepalanchok     14\n",
       "3           Rolpa     12\n",
       "4           Rukum     14"
      ]
     },
     "execution_count": 11,
     "metadata": {},
     "output_type": "execute_result"
    }
   ],
   "source": [
    "df = flowclient.get_result_by_query_id(conn, query_id)\n",
    "df.head()"
   ]
  },
  {
   "cell_type": "markdown",
   "metadata": {},
   "source": [
    "Alternative (run query, wait for it to finish, and get result, in one function call):"
   ]
  },
  {
   "cell_type": "code",
   "execution_count": 12,
   "metadata": {},
   "outputs": [
    {
     "data": {
      "text/html": [
       "<div>\n",
       "<style scoped>\n",
       "    .dataframe tbody tr th:only-of-type {\n",
       "        vertical-align: middle;\n",
       "    }\n",
       "\n",
       "    .dataframe tbody tr th {\n",
       "        vertical-align: top;\n",
       "    }\n",
       "\n",
       "    .dataframe thead th {\n",
       "        text-align: right;\n",
       "    }\n",
       "</style>\n",
       "<table border=\"1\" class=\"dataframe\">\n",
       "  <thead>\n",
       "    <tr style=\"text-align: right;\">\n",
       "      <th></th>\n",
       "      <th>name</th>\n",
       "      <th>total</th>\n",
       "    </tr>\n",
       "  </thead>\n",
       "  <tbody>\n",
       "    <tr>\n",
       "      <th>0</th>\n",
       "      <td>Dolpa</td>\n",
       "      <td>43</td>\n",
       "    </tr>\n",
       "    <tr>\n",
       "      <th>1</th>\n",
       "      <td>Bajhang</td>\n",
       "      <td>17</td>\n",
       "    </tr>\n",
       "    <tr>\n",
       "      <th>2</th>\n",
       "      <td>Kavrepalanchok</td>\n",
       "      <td>14</td>\n",
       "    </tr>\n",
       "    <tr>\n",
       "      <th>3</th>\n",
       "      <td>Rolpa</td>\n",
       "      <td>12</td>\n",
       "    </tr>\n",
       "    <tr>\n",
       "      <th>4</th>\n",
       "      <td>Rukum</td>\n",
       "      <td>14</td>\n",
       "    </tr>\n",
       "  </tbody>\n",
       "</table>\n",
       "</div>"
      ],
      "text/plain": [
       "             name  total\n",
       "0           Dolpa     43\n",
       "1         Bajhang     17\n",
       "2  Kavrepalanchok     14\n",
       "3           Rolpa     12\n",
       "4           Rukum     14"
      ]
     },
     "execution_count": 12,
     "metadata": {},
     "output_type": "execute_result"
    }
   ],
   "source": [
    "df = flowclient.get_result(conn, query_spec)\n",
    "df.head()"
   ]
  },
  {
   "cell_type": "markdown",
   "metadata": {},
   "source": [
    "## Modal location\n",
    "### Specify query parameters\n",
    "Either explicitly from a set of daily locations:"
   ]
  },
  {
   "cell_type": "code",
   "execution_count": 13,
   "metadata": {},
   "outputs": [],
   "source": [
    "# dl1 = flowclient.daily_location(\n",
    "#     date=\"2016-01-01\",\n",
    "#     aggregation_unit=\"admin3\",\n",
    "#     daily_location_method=\"last\",\n",
    "#     subscriber_subset=None,\n",
    "# )\n",
    "# dl2 = flowclient.daily_location(\n",
    "#     date=\"2016-01-02\",\n",
    "#     aggregation_unit=\"admin3\",\n",
    "#     daily_location_method=\"last\",\n",
    "#     subscriber_subset=None,\n",
    "# )\n",
    "# ml = flowclient.modal_location(dl1, dl2, aggregation_unit=\"admin3\")\n",
    "\n",
    "# ml"
   ]
  },
  {
   "cell_type": "markdown",
   "metadata": {},
   "source": [
    "Or from a date range:"
   ]
  },
  {
   "cell_type": "code",
   "execution_count": 13,
   "metadata": {},
   "outputs": [
    {
     "data": {
      "text/plain": [
       "{'query_kind': 'modal_location',\n",
       " 'params': {'locations': ({'query_kind': 'daily_location',\n",
       "    'params': {'date': '2016-01-01',\n",
       "     'aggregation_unit': 'admin3',\n",
       "     'daily_location_method': 'last',\n",
       "     'subscriber_subset': 'all'}},\n",
       "   {'query_kind': 'daily_location',\n",
       "    'params': {'date': '2016-01-02',\n",
       "     'aggregation_unit': 'admin3',\n",
       "     'daily_location_method': 'last',\n",
       "     'subscriber_subset': 'all'}},\n",
       "   {'query_kind': 'daily_location',\n",
       "    'params': {'date': '2016-01-03',\n",
       "     'aggregation_unit': 'admin3',\n",
       "     'daily_location_method': 'last',\n",
       "     'subscriber_subset': 'all'}}),\n",
       "  'aggregation_unit': 'admin3'}}"
      ]
     },
     "execution_count": 13,
     "metadata": {},
     "output_type": "execute_result"
    }
   ],
   "source": [
    "ml = flowclient.modal_location_from_dates(\n",
    "    \"2016-01-01\",\n",
    "    \"2016-01-03\",\n",
    "    aggregation_unit=\"admin3\",\n",
    "    daily_location_method=\"last\",\n",
    "    subscriber_subset=None,\n",
    ")\n",
    "\n",
    "ml"
   ]
  },
  {
   "cell_type": "markdown",
   "metadata": {},
   "source": [
    "### Set query running"
   ]
  },
  {
   "cell_type": "code",
   "execution_count": 14,
   "metadata": {},
   "outputs": [
    {
     "name": "stdout",
     "output_type": "stream",
     "text": [
      "64148ac6a93121d8950ea1e70faaf4c8\n"
     ]
    }
   ],
   "source": [
    "query_id = flowclient.run_query(conn, ml)\n",
    "query_id"
   ]
  },
  {
   "cell_type": "markdown",
   "metadata": {},
   "source": [
    "### Check status of query"
   ]
  },
  {
   "cell_type": "code",
   "execution_count": 15,
   "metadata": {},
   "outputs": [
    {
     "data": {
      "text/plain": [
       "(True, <Response [303]>)"
      ]
     },
     "execution_count": 15,
     "metadata": {},
     "output_type": "execute_result"
    }
   ],
   "source": [
    "flowclient.get_status(conn, query_id)"
   ]
  },
  {
   "cell_type": "markdown",
   "metadata": {},
   "source": [
    "### Get query result"
   ]
  },
  {
   "cell_type": "code",
   "execution_count": 16,
   "metadata": {},
   "outputs": [
    {
     "data": {
      "text/html": [
       "<div>\n",
       "<style scoped>\n",
       "    .dataframe tbody tr th:only-of-type {\n",
       "        vertical-align: middle;\n",
       "    }\n",
       "\n",
       "    .dataframe tbody tr th {\n",
       "        vertical-align: top;\n",
       "    }\n",
       "\n",
       "    .dataframe thead th {\n",
       "        text-align: right;\n",
       "    }\n",
       "</style>\n",
       "<table border=\"1\" class=\"dataframe\">\n",
       "  <thead>\n",
       "    <tr style=\"text-align: right;\">\n",
       "      <th></th>\n",
       "      <th>name</th>\n",
       "      <th>total</th>\n",
       "    </tr>\n",
       "  </thead>\n",
       "  <tbody>\n",
       "    <tr>\n",
       "      <th>0</th>\n",
       "      <td>Dolpa</td>\n",
       "      <td>65</td>\n",
       "    </tr>\n",
       "    <tr>\n",
       "      <th>1</th>\n",
       "      <td>Bajhang</td>\n",
       "      <td>13</td>\n",
       "    </tr>\n",
       "    <tr>\n",
       "      <th>2</th>\n",
       "      <td>Kavrepalanchok</td>\n",
       "      <td>27</td>\n",
       "    </tr>\n",
       "    <tr>\n",
       "      <th>3</th>\n",
       "      <td>Rolpa</td>\n",
       "      <td>17</td>\n",
       "    </tr>\n",
       "    <tr>\n",
       "      <th>4</th>\n",
       "      <td>Rukum</td>\n",
       "      <td>12</td>\n",
       "    </tr>\n",
       "  </tbody>\n",
       "</table>\n",
       "</div>"
      ],
      "text/plain": [
       "             name  total\n",
       "0           Dolpa     65\n",
       "1         Bajhang     13\n",
       "2  Kavrepalanchok     27\n",
       "3           Rolpa     17\n",
       "4           Rukum     12"
      ]
     },
     "execution_count": 16,
     "metadata": {},
     "output_type": "execute_result"
    }
   ],
   "source": [
    "df = flowclient.get_result_by_query_id(conn, query_id)\n",
    "df.head()"
   ]
  },
  {
   "cell_type": "markdown",
   "metadata": {},
   "source": [
    "Alternative:"
   ]
  },
  {
   "cell_type": "code",
   "execution_count": 17,
   "metadata": {},
   "outputs": [
    {
     "data": {
      "text/html": [
       "<div>\n",
       "<style scoped>\n",
       "    .dataframe tbody tr th:only-of-type {\n",
       "        vertical-align: middle;\n",
       "    }\n",
       "\n",
       "    .dataframe tbody tr th {\n",
       "        vertical-align: top;\n",
       "    }\n",
       "\n",
       "    .dataframe thead th {\n",
       "        text-align: right;\n",
       "    }\n",
       "</style>\n",
       "<table border=\"1\" class=\"dataframe\">\n",
       "  <thead>\n",
       "    <tr style=\"text-align: right;\">\n",
       "      <th></th>\n",
       "      <th>name</th>\n",
       "      <th>total</th>\n",
       "    </tr>\n",
       "  </thead>\n",
       "  <tbody>\n",
       "    <tr>\n",
       "      <th>0</th>\n",
       "      <td>Dolpa</td>\n",
       "      <td>65</td>\n",
       "    </tr>\n",
       "    <tr>\n",
       "      <th>1</th>\n",
       "      <td>Bajhang</td>\n",
       "      <td>13</td>\n",
       "    </tr>\n",
       "    <tr>\n",
       "      <th>2</th>\n",
       "      <td>Kavrepalanchok</td>\n",
       "      <td>27</td>\n",
       "    </tr>\n",
       "    <tr>\n",
       "      <th>3</th>\n",
       "      <td>Rolpa</td>\n",
       "      <td>17</td>\n",
       "    </tr>\n",
       "    <tr>\n",
       "      <th>4</th>\n",
       "      <td>Rukum</td>\n",
       "      <td>12</td>\n",
       "    </tr>\n",
       "  </tbody>\n",
       "</table>\n",
       "</div>"
      ],
      "text/plain": [
       "             name  total\n",
       "0           Dolpa     65\n",
       "1         Bajhang     13\n",
       "2  Kavrepalanchok     27\n",
       "3           Rolpa     17\n",
       "4           Rukum     12"
      ]
     },
     "execution_count": 17,
     "metadata": {},
     "output_type": "execute_result"
    }
   ],
   "source": [
    "df = flowclient.get_result(conn, ml)\n",
    "df.head()"
   ]
  },
  {
   "cell_type": "markdown",
   "metadata": {},
   "source": [
    "## Flow\n",
    "### Specify query parameters\n",
    "Specify parameters for two location queries:"
   ]
  },
  {
   "cell_type": "code",
   "execution_count": 18,
   "metadata": {},
   "outputs": [],
   "source": [
    "aggregation_unit = \"admin1\"\n",
    "dl_past = flowclient.daily_location(\n",
    "    \"2016-01-01\",\n",
    "    aggregation_unit=aggregation_unit,\n",
    "    daily_location_method=\"last\",\n",
    "    subscriber_subset=None,\n",
    ")\n",
    "dl_present = flowclient.daily_location(\n",
    "    \"2016-01-07\",\n",
    "    aggregation_unit=aggregation_unit,\n",
    "    daily_location_method=\"last\",\n",
    "    subscriber_subset=None,\n",
    ")"
   ]
  },
  {
   "cell_type": "markdown",
   "metadata": {},
   "source": [
    "Specify parameters for flow query:"
   ]
  },
  {
   "cell_type": "code",
   "execution_count": 19,
   "metadata": {},
   "outputs": [
    {
     "data": {
      "text/plain": [
       "{'query_kind': 'flows',\n",
       " 'params': {'from_location': {'query_kind': 'daily_location',\n",
       "   'params': {'date': '2016-01-01',\n",
       "    'aggregation_unit': 'admin1',\n",
       "    'daily_location_method': 'last',\n",
       "    'subscriber_subset': 'all'}},\n",
       "  'to_location': {'query_kind': 'daily_location',\n",
       "   'params': {'date': '2016-01-07',\n",
       "    'aggregation_unit': 'admin1',\n",
       "    'daily_location_method': 'last',\n",
       "    'subscriber_subset': 'all'}},\n",
       "  'aggregation_unit': 'admin1'}}"
      ]
     },
     "execution_count": 19,
     "metadata": {},
     "output_type": "execute_result"
    }
   ],
   "source": [
    "flow = flowclient.flows(dl_past, dl_present, aggregation_unit=aggregation_unit)\n",
    "flow"
   ]
  },
  {
   "cell_type": "markdown",
   "metadata": {},
   "source": [
    "### Set query running"
   ]
  },
  {
   "cell_type": "code",
   "execution_count": 20,
   "metadata": {},
   "outputs": [
    {
     "name": "stdout",
     "output_type": "stream",
     "text": [
      "75c50eec9c84952bb1f578fc67ca8630\n"
     ]
    }
   ],
   "source": [
    "query_id = flowclient.run_query(conn, flow)\n",
    "query_id"
   ]
  },
  {
   "cell_type": "markdown",
   "metadata": {},
   "source": [
    "### Check status of query"
   ]
  },
  {
   "cell_type": "code",
   "execution_count": 21,
   "metadata": {
    "scrolled": true
   },
   "outputs": [
    {
     "data": {
      "text/plain": [
       "(True, <Response [303]>)"
      ]
     },
     "execution_count": 21,
     "metadata": {},
     "output_type": "execute_result"
    }
   ],
   "source": [
    "flowclient.get_status(conn, query_id)"
   ]
  },
  {
   "cell_type": "markdown",
   "metadata": {},
   "source": [
    "### Get query result"
   ]
  },
  {
   "cell_type": "code",
   "execution_count": 22,
   "metadata": {},
   "outputs": [
    {
     "data": {
      "text/html": [
       "<div>\n",
       "<style scoped>\n",
       "    .dataframe tbody tr th:only-of-type {\n",
       "        vertical-align: middle;\n",
       "    }\n",
       "\n",
       "    .dataframe tbody tr th {\n",
       "        vertical-align: top;\n",
       "    }\n",
       "\n",
       "    .dataframe thead th {\n",
       "        text-align: right;\n",
       "    }\n",
       "</style>\n",
       "<table border=\"1\" class=\"dataframe\">\n",
       "  <thead>\n",
       "    <tr style=\"text-align: right;\">\n",
       "      <th></th>\n",
       "      <th>count</th>\n",
       "      <th>name_from</th>\n",
       "      <th>name_to</th>\n",
       "    </tr>\n",
       "  </thead>\n",
       "  <tbody>\n",
       "    <tr>\n",
       "      <th>0</th>\n",
       "      <td>12</td>\n",
       "      <td>Central Development Region</td>\n",
       "      <td>Western Development Region</td>\n",
       "    </tr>\n",
       "    <tr>\n",
       "      <th>1</th>\n",
       "      <td>16</td>\n",
       "      <td>Central Development Region</td>\n",
       "      <td>Mid-Western Development Region</td>\n",
       "    </tr>\n",
       "    <tr>\n",
       "      <th>2</th>\n",
       "      <td>2</td>\n",
       "      <td>Central Development Region</td>\n",
       "      <td>Far-Western Development Region</td>\n",
       "    </tr>\n",
       "    <tr>\n",
       "      <th>3</th>\n",
       "      <td>4</td>\n",
       "      <td>Central Development Region</td>\n",
       "      <td>Eastern Development Region</td>\n",
       "    </tr>\n",
       "    <tr>\n",
       "      <th>4</th>\n",
       "      <td>5</td>\n",
       "      <td>Central Development Region</td>\n",
       "      <td>Central Development Region</td>\n",
       "    </tr>\n",
       "  </tbody>\n",
       "</table>\n",
       "</div>"
      ],
      "text/plain": [
       "   count                   name_from                         name_to\n",
       "0     12  Central Development Region      Western Development Region\n",
       "1     16  Central Development Region  Mid-Western Development Region\n",
       "2      2  Central Development Region  Far-Western Development Region\n",
       "3      4  Central Development Region      Eastern Development Region\n",
       "4      5  Central Development Region      Central Development Region"
      ]
     },
     "execution_count": 22,
     "metadata": {},
     "output_type": "execute_result"
    }
   ],
   "source": [
    "df = flowclient.get_result_by_query_id(conn, query_id)\n",
    "df.head()"
   ]
  },
  {
   "cell_type": "code",
   "execution_count": null,
   "metadata": {},
   "outputs": [],
   "source": []
  }
 ],
 "metadata": {
  "kernelspec": {
   "display_name": "Python 3",
   "language": "python",
   "name": "python3"
  },
  "language_info": {
   "codemirror_mode": {
    "name": "ipython",
    "version": 3
   },
   "file_extension": ".py",
   "mimetype": "text/x-python",
   "name": "python",
   "nbconvert_exporter": "python",
   "pygments_lexer": "ipython3",
   "version": "3.7.0"
  }
 },
 "nbformat": 4,
 "nbformat_minor": 2
}
