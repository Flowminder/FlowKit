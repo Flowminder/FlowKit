{
 "cells": [
  {
   "cell_type": "markdown",
   "metadata": {
    "pycharm": {}
   },
   "source": [
    "Example usage of FlowClient to run daily location, modal location and flow queries."
   ]
  },
  {
   "cell_type": "code",
   "execution_count": null,
   "metadata": {
    "pycharm": {}
   },
   "outputs": [],
   "source": [
    "import flowclient"
   ]
  },
  {
   "cell_type": "markdown",
   "metadata": {
    "pycharm": {}
   },
   "source": [
    "## Create an access token\n",
    "[Generate an API access token](../index.md#flowauth) using FlowAuth."
   ]
  },
  {
   "cell_type": "markdown",
   "metadata": {
    "pycharm": {}
   },
   "source": [
    "## Create an API connection\n",
    "Paste the access token from FlowAuth here as `TOKEN`"
   ]
  },
  {
   "cell_type": "code",
   "execution_count": null,
   "metadata": {
    "pycharm": {}
   },
   "outputs": [],
   "source": [
    "conn = flowclient.connect(\n",
    "    url=os.getenv(\"FLOWAPI_URL\", \"http://localhost:9090\"),\n",
    "    token=TOKEN,\n",
    "    ssl_certificate=os.getenv(\"SSL_CERTIFICATE_FILE\"),\n",
    ")"
   ]
  },
  {
   "cell_type": "markdown",
   "metadata": {
    "pycharm": {}
   },
   "source": [
    "## Daily location"
   ]
  },
  {
   "cell_type": "markdown",
   "metadata": {
    "pycharm": {}
   },
   "source": [
    "### Specify query parameters"
   ]
  },
  {
   "cell_type": "code",
   "execution_count": null,
   "metadata": {
    "pycharm": {}
   },
   "outputs": [],
   "source": [
    "query_spec = flowclient.spatial_aggregate(\n",
    "    locations=flowclient.daily_location(\n",
    "        date=\"2016-01-01\",\n",
    "        aggregation_unit=\"admin3\",\n",
    "        method=\"last\",\n",
    "        subscriber_subset=None,\n",
    "    )\n",
    ")\n",
    "\n",
    "query_spec"
   ]
  },
  {
   "cell_type": "markdown",
   "metadata": {
    "pycharm": {}
   },
   "source": [
    "### Set query running"
   ]
  },
  {
   "cell_type": "code",
   "execution_count": null,
   "metadata": {
    "pycharm": {}
   },
   "outputs": [],
   "source": [
    "query_id = flowclient.run_query(connection=conn, query=query_spec)\n",
    "query_id"
   ]
  },
  {
   "cell_type": "markdown",
   "metadata": {
    "pycharm": {}
   },
   "source": [
    "### Check status of query"
   ]
  },
  {
   "cell_type": "code",
   "execution_count": null,
   "metadata": {
    "pycharm": {}
   },
   "outputs": [],
   "source": [
    "flowclient.get_status(connection=conn, query_id=query_id)"
   ]
  },
  {
   "cell_type": "markdown",
   "metadata": {
    "pycharm": {}
   },
   "source": [
    "### Get query result"
   ]
  },
  {
   "cell_type": "code",
   "execution_count": null,
   "metadata": {
    "pycharm": {}
   },
   "outputs": [],
   "source": [
    "df = flowclient.get_result_by_query_id(connection=conn, query_id=query_id)\n",
    "df.head()"
   ]
  },
  {
   "cell_type": "markdown",
   "metadata": {
    "pycharm": {}
   },
   "source": [
    "Alternative (run query, wait for it to finish, and get result, in one function call):"
   ]
  },
  {
   "cell_type": "code",
   "execution_count": null,
   "metadata": {
    "pycharm": {}
   },
   "outputs": [],
   "source": [
    "df = flowclient.get_result(connection=conn, query=query_spec)\n",
    "df.head()"
   ]
  },
  {
   "cell_type": "markdown",
   "metadata": {
    "pycharm": {}
   },
   "source": [
    "## Modal location\n",
    "### Specify query parameters\n",
    "Either explicitly from a set of daily locations:"
   ]
  },
  {
   "cell_type": "code",
   "execution_count": null,
   "metadata": {
    "pycharm": {}
   },
   "outputs": [],
   "source": [
    "dl1 = flowclient.daily_location(\n",
    "    date=\"2016-01-01\",\n",
    "    aggregation_unit=\"admin3\",\n",
    "    method=\"last\",\n",
    "    subscriber_subset=None,\n",
    ")\n",
    "dl2 = flowclient.daily_location(\n",
    "    date=\"2016-01-02\",\n",
    "    aggregation_unit=\"admin3\",\n",
    "    method=\"last\",\n",
    "    subscriber_subset=None,\n",
    ")\n",
    "ml = flowclient.modal_location(locations=[dl1, dl2])\n",
    "\n",
    "ml"
   ]
  },
  {
   "cell_type": "markdown",
   "metadata": {
    "pycharm": {}
   },
   "source": [
    "Or from a date range:"
   ]
  },
  {
   "cell_type": "code",
   "execution_count": null,
   "metadata": {
    "pycharm": {}
   },
   "outputs": [],
   "source": [
    "ml = flowclient.modal_location_from_dates(\n",
    "    start_date=\"2016-01-01\",\n",
    "    end_date=\"2016-01-03\",\n",
    "    aggregation_unit=\"admin3\",\n",
    "    method=\"last\",\n",
    "    subscriber_subset=None,\n",
    ")\n",
    "\n",
    "ml"
   ]
  },
  {
   "cell_type": "markdown",
   "metadata": {
    "pycharm": {}
   },
   "source": [
    "### Set query running"
   ]
  },
  {
   "cell_type": "code",
   "execution_count": null,
   "metadata": {
    "pycharm": {}
   },
   "outputs": [],
   "source": [
    "query_id = flowclient.run_query(\n",
    "    connection=conn, query=flowclient.spatial_aggregate(locations=ml)\n",
    ")\n",
    "query_id"
   ]
  },
  {
   "cell_type": "markdown",
   "metadata": {
    "pycharm": {}
   },
   "source": [
    "### Check status of query"
   ]
  },
  {
   "cell_type": "code",
   "execution_count": null,
   "metadata": {
    "pycharm": {}
   },
   "outputs": [],
   "source": [
    "flowclient.get_status(connection=conn, query_id=query_id)"
   ]
  },
  {
   "cell_type": "markdown",
   "metadata": {
    "pycharm": {}
   },
   "source": [
    "### Get query result"
   ]
  },
  {
   "cell_type": "code",
   "execution_count": null,
   "metadata": {
    "pycharm": {}
   },
   "outputs": [],
   "source": [
    "df = flowclient.get_result_by_query_id(connection=conn, query_id=query_id)\n",
    "df.head()"
   ]
  },
  {
   "cell_type": "markdown",
   "metadata": {
    "pycharm": {}
   },
   "source": [
    "Alternative:"
   ]
  },
  {
   "cell_type": "code",
   "execution_count": null,
   "metadata": {
    "pycharm": {}
   },
   "outputs": [],
   "source": [
    "df = flowclient.get_result(\n",
    "    connection=conn, query=flowclient.spatial_aggregate(locations=ml)\n",
    ")\n",
    "df.head()"
   ]
  },
  {
   "cell_type": "markdown",
   "metadata": {
    "pycharm": {}
   },
   "source": [
    "## Flow\n",
    "### Specify query parameters\n",
    "Specify parameters for two location queries:"
   ]
  },
  {
   "cell_type": "code",
   "execution_count": null,
   "metadata": {
    "pycharm": {}
   },
   "outputs": [],
   "source": [
    "aggregation_unit = \"admin1\"\n",
    "dl_past = flowclient.daily_location(\n",
    "    date=\"2016-01-01\",\n",
    "    aggregation_unit=aggregation_unit,\n",
    "    method=\"last\",\n",
    "    subscriber_subset=None,\n",
    ")\n",
    "dl_present = flowclient.daily_location(\n",
    "    date=\"2016-01-07\",\n",
    "    aggregation_unit=aggregation_unit,\n",
    "    method=\"last\",\n",
    "    subscriber_subset=None,\n",
    ")"
   ]
  },
  {
   "cell_type": "markdown",
   "metadata": {
    "pycharm": {}
   },
   "source": [
    "Specify parameters for flow query:"
   ]
  },
  {
   "cell_type": "code",
   "execution_count": null,
   "metadata": {
    "pycharm": {}
   },
   "outputs": [],
   "source": [
    "flow = flowclient.flows(\n",
    "    from_location=dl_past,\n",
    "    to_location=dl_present,\n",
    ")\n",
    "flow"
   ]
  },
  {
   "cell_type": "markdown",
   "metadata": {
    "pycharm": {}
   },
   "source": [
    "### Set query running"
   ]
  },
  {
   "cell_type": "code",
   "execution_count": null,
   "metadata": {
    "pycharm": {}
   },
   "outputs": [],
   "source": [
    "query_id = flowclient.run_query(connection=conn, query=flow)\n",
    "query_id"
   ]
  },
  {
   "cell_type": "markdown",
   "metadata": {
    "pycharm": {}
   },
   "source": [
    "### Check status of query"
   ]
  },
  {
   "cell_type": "code",
   "execution_count": null,
   "metadata": {
    "pycharm": {},
    "scrolled": true
   },
   "outputs": [],
   "source": [
    "flowclient.get_status(connection=conn, query_id=query_id)"
   ]
  },
  {
   "cell_type": "markdown",
   "metadata": {
    "pycharm": {}
   },
   "source": [
    "### Get query result"
   ]
  },
  {
   "cell_type": "code",
   "execution_count": null,
   "metadata": {
    "pycharm": {}
   },
   "outputs": [],
   "source": [
    "df = flowclient.get_result_by_query_id(connection=conn, query_id=query_id)\n",
    "df.head()"
   ]
  },
  {
   "cell_type": "markdown",
   "metadata": {
    "pycharm": {}
   },
   "source": [
    "## Counts of Events by Location"
   ]
  },
  {
   "cell_type": "code",
   "execution_count": null,
   "metadata": {
    "pycharm": {}
   },
   "outputs": [],
   "source": [
    "df = flowclient.get_result(\n",
    "    connection=conn,\n",
    "    query=flowclient.location_event_counts(\n",
    "        start_date=\"2016-01-01\",\n",
    "        end_date=\"2016-01-08\",\n",
    "        aggregation_unit=\"admin3\",\n",
    "        count_interval=\"hour\",\n",
    "    ),\n",
    ")\n",
    "df.head()"
   ]
  }
 ],
 "metadata": {
  "kernelspec": {
   "display_name": "Python 3",
   "language": "python",
   "name": "python3"
  },
  "language_info": {
   "codemirror_mode": {
    "name": "ipython",
    "version": 3
   },
   "file_extension": ".py",
   "mimetype": "text/x-python",
   "name": "python",
   "nbconvert_exporter": "python",
   "pygments_lexer": "ipython3",
   "version": "3.7.0"
  },
  "pycharm": {
   "stem_cell": {
    "cell_type": "raw",
    "metadata": {
     "collapsed": false
    },
    "source": []
   }
  }
 },
 "nbformat": 4,
 "nbformat_minor": 4
}
