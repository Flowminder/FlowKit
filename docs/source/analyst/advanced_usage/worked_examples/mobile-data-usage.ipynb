{
 "cells": [
  {
   "cell_type": "markdown",
   "metadata": {
    "pycharm": {}
   },
   "source": [
    "# Mobile Data Usage\n",
    "\n",
    "## Analysis using FlowMachine directly\n",
    "\n",
    "In this worked example we assume the role of an analyst within the MNO who has been granted access to use FlowMachine directly without going through FlowAPI. Our aim is to investigate how the number of mobile data session (MDS) events varies with the time of day.\n",
    "\n",
    "The Jupyter notebook for this worked example can be downloaded [here](https://github.com/Flowminder/FlowKit/raw/master/docs/source/analyst/advanced_usage/worked_examples/mobile-data-usage.ipynb), or can be run using the [quick start setup](../../../install.md#quickinstall).\n",
    "\n",
    "### Load FlowMachine and connect to FlowDB\n",
    "\n",
    "We start by importing the FlowMachine library. We also import [geopandas](http://geopandas.org/) and [mapboxgl](https://mapbox-mapboxgl-jupyter.readthedocs-hosted.com/en/latest/), which we will use later to to visualise the data."
   ]
  },
  {
   "cell_type": "code",
   "execution_count": null,
   "metadata": {
    "pycharm": {}
   },
   "outputs": [],
   "source": [
    "import flowmachine\n",
    "from flowmachine.core import make_spatial_unit\n",
    "import os\n",
    "import numpy as np\n",
    "import geopandas as gpd\n",
    "import mapboxgl\n",
    "from mapboxgl.utils import (\n",
    "    create_color_stops,\n",
    "    create_weight_stops,\n",
    "    df_to_geojson,\n",
    ")"
   ]
  },
  {
   "cell_type": "markdown",
   "metadata": {
    "pycharm": {}
   },
   "source": [
    "Next, we connect FlowMachine to FlowDB. The following configuration options should either be set as environment variables or passed as arguments to `flowmachine.connect()`:\n",
    "\n",
    "| Variable name | Argument name | Purpose |\n",
    "| ------------- | ------------- | ------- |\n",
    "| FLOWMACHINE_FLOWDB_USER | flowdb_user | Your username for connectiong to FlowDB |\n",
    "| FLOWMACHINE_FLOWDB_PASSWORD | flowdb_password | Your password for connectiong to FlowDB |\n",
    "| REDIS_PASSWORD | redis_password | The password for the Redis instance |\n",
    "| FLOWDB_PORT | flowdb_port | Port on which FlowDB is accessible |\n",
    "| REDIS_PORT | redis_port | Port on which Redis is accessible |\n",
    "\n",
    "Other configuration options can also be set; see the [FlowMachine documentation](../../../../flowmachine/flowmachine/core/init/#connect) for more details."
   ]
  },
  {
   "cell_type": "code",
   "execution_count": null,
   "metadata": {
    "pycharm": {}
   },
   "outputs": [],
   "source": [
    "flowmachine.connect()"
   ]
  },
  {
   "cell_type": "markdown",
   "metadata": {
    "pycharm": {}
   },
   "source": [
    "### Get MDS event counts\n",
    "\n",
    "We create a `TotalLocationEvents` query to calculate the number of MDS events per cell tower, at hourly intervals over the first 7 days of 2016."
   ]
  },
  {
   "cell_type": "code",
   "execution_count": null,
   "metadata": {
    "pycharm": {}
   },
   "outputs": [],
   "source": [
    "data_events_query = flowmachine.features.TotalLocationEvents(\n",
    "    start=\"2016-01-01\",\n",
    "    stop=\"2016-01-08\",\n",
    "    table=\"mds\",\n",
    "    spatial_unit=make_spatial_unit(\"versioned-cell\"),\n",
    "    interval=\"hour\",\n",
    ")"
   ]
  },
  {
   "cell_type": "markdown",
   "metadata": {
    "pycharm": {}
   },
   "source": [
    "Then we call the `get_dataframe` method to run this query and get the result as a `pandas` DataFrame."
   ]
  },
  {
   "cell_type": "code",
   "execution_count": null,
   "metadata": {
    "pycharm": {}
   },
   "outputs": [],
   "source": [
    "data_events = data_events_query.get_dataframe()"
   ]
  },
  {
   "cell_type": "markdown",
   "metadata": {
    "pycharm": {}
   },
   "source": [
    "Next, we sum over the seven days to get total hourly counts per cell tower location."
   ]
  },
  {
   "cell_type": "code",
   "execution_count": null,
   "metadata": {
    "pycharm": {}
   },
   "outputs": [],
   "source": [
    "events_per_hour = data_events.groupby([\"lon\", \"lat\", \"hour\"]).sum().reset_index()"
   ]
  },
  {
   "cell_type": "markdown",
   "metadata": {},
   "source": [
    "### Visualise data events on a heatmap\n",
    "\n",
    "We can easily view the total MDS event count per hour using the `plot` method of `events_per_hour`."
   ]
  },
  {
   "cell_type": "code",
   "execution_count": null,
   "metadata": {},
   "outputs": [],
   "source": [
    "%matplotlib inline\n",
    "\n",
    "events_per_hour.groupby(\"hour\").sum().plot(y=\"value\")"
   ]
  },
  {
   "cell_type": "markdown",
   "metadata": {},
   "source": [
    "We can use the `Mapbox GL` library to display a heatmap of our MDS event counts for a particular hour.\n",
    "\n",
    "**Note:** Mapbox requires an [access token](https://www.mapbox.com/account/), which should be set as the environment variable `MAPBOX_ACCESS_TOKEN`. Note that this is only required for producing the Mapbox visualisations, which is completely separate from FlowKit."
   ]
  },
  {
   "cell_type": "code",
   "execution_count": null,
   "metadata": {},
   "outputs": [],
   "source": [
    "hour_to_show = 0\n",
    "\n",
    "mapbox_token = os.environ[\"MAPBOX_ACCESS_TOKEN\"]\n",
    "\n",
    "events_per_hour_geodataframe = gpd.GeoDataFrame(\n",
    "    events_per_hour,\n",
    "    geometry=gpd.points_from_xy(events_per_hour.lon, events_per_hour.lat),\n",
    ")\n",
    "\n",
    "heatmap_viz = mapboxgl.HeatmapViz(\n",
    "    events_per_hour_geodataframe[\n",
    "        events_per_hour_geodataframe.hour == hour_to_show\n",
    "    ].__geo_interface__,\n",
    "    access_token=mapbox_token,\n",
    "    weight_property=\"value\",\n",
    "    weight_stops=create_weight_stops(np.geomspace(0.01, 1000, 9)),\n",
    "    color_stops=create_color_stops(np.linspace(0.01, 1, 9), colors=\"RdPu\"),\n",
    "    radius_stops=[[0, 0], [5.5, 25], [15, 300]],  # increase radius with zoom\n",
    "    opacity=0.8,\n",
    "    below_layer=\"waterway-label\",\n",
    "    center=(84.1, 28.4),\n",
    "    zoom=5.5,\n",
    ")\n",
    "\n",
    "heatmap_viz.show()"
   ]
  }
 ],
 "metadata": {
  "kernelspec": {
   "display_name": "Python 3",
   "language": "python",
   "name": "python3"
  },
  "language_info": {
   "codemirror_mode": {
    "name": "ipython",
    "version": 3
   },
   "file_extension": ".py",
   "mimetype": "text/x-python",
   "name": "python",
   "nbconvert_exporter": "python",
   "pygments_lexer": "ipython3",
   "version": "3.7.0"
  },
  "pycharm": {
   "stem_cell": {
    "cell_type": "raw",
    "metadata": {
     "collapsed": false
    },
    "source": []
   }
  }
 },
 "nbformat": 4,
 "nbformat_minor": 4
}
