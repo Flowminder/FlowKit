{
 "cells": [
  {
   "cell_type": "code",
   "execution_count": null,
   "metadata": {},
   "outputs": [],
   "source": [
    "from datetime import datetime, timedelta\n",
    "import scrapbook as sb\n",
    "from get_secret_or_env_var import environ, getenv\n",
    "from flowclient import (\n",
    "    daily_location,\n",
    "    modal_location_from_dates,\n",
    "    flows,\n",
    "    connect,\n",
    "    run_query,\n",
    "    get_result_by_query_id,\n",
    ")"
   ]
  },
  {
   "cell_type": "code",
   "execution_count": null,
   "metadata": {
    "tags": [
     "parameters"
    ]
   },
   "outputs": [],
   "source": [
    "# Default parameter values\n",
    "flowapi_url = \"http://localhost:9090\"\n",
    "aggregation_unit = \"admin2\"\n",
    "date_ranges = [\n",
    "    [\"2016-01-01\", \"2016-01-03\"],\n",
    "    [\"2016-01-03\", \"2016-01-04\"],\n",
    "    [\"2016-01-04\", \"2016-01-05\"],\n",
    "]"
   ]
  },
  {
   "cell_type": "code",
   "execution_count": null,
   "metadata": {},
   "outputs": [],
   "source": [
    "# Connect to FlowAPI\n",
    "conn = connect(\n",
    "    url=flowapi_url,\n",
    "    token=environ[\"FLOWAPI_TOKEN\"],\n",
    "    ssl_certificate=getenv(\"SSL_CERTIFICATE_FILE\"),\n",
    ")"
   ]
  },
  {
   "cell_type": "code",
   "execution_count": null,
   "metadata": {},
   "outputs": [],
   "source": [
    "# Define date periods of interest\n",
    "periods_of_interest = dict(\n",
    "    benchmark=date_ranges[0], comparison=date_ranges[1], focal=date_ranges[2]\n",
    ")"
   ]
  },
  {
   "cell_type": "code",
   "execution_count": null,
   "metadata": {},
   "outputs": [],
   "source": [
    "# Modal location query specifications\n",
    "locations = {}\n",
    "for key, period in periods_of_interest.items():\n",
    "    query_spec = modal_location_from_dates(\n",
    "        start_date=period[0],\n",
    "        end_date=period[1],\n",
    "        method=\"last\",\n",
    "        aggregation_unit=aggregation_unit,\n",
    "    )\n",
    "    locations[key] = query_spec"
   ]
  },
  {
   "cell_type": "code",
   "execution_count": null,
   "metadata": {},
   "outputs": [],
   "source": [
    "# Flow specifications\n",
    "flownormal = flows(\n",
    "    from_location=locations[\"benchmark\"],\n",
    "    to_location=locations[\"comparison\"],\n",
    ")\n",
    "flowabnormal = flows(\n",
    "    from_location=locations[\"benchmark\"],\n",
    "    to_location=locations[\"focal\"],\n",
    ")"
   ]
  },
  {
   "cell_type": "code",
   "execution_count": null,
   "metadata": {},
   "outputs": [],
   "source": [
    "# Run flows\n",
    "res_id_flownormal = run_query(connection=conn, query=flownormal)\n",
    "res_id_flowabnormal = run_query(connection=conn, query=flowabnormal)"
   ]
  },
  {
   "cell_type": "code",
   "execution_count": null,
   "metadata": {},
   "outputs": [],
   "source": [
    "# Get results\n",
    "get_result_by_query_id(connection=conn, query_id=res_id_flownormal)"
   ]
  },
  {
   "cell_type": "code",
   "execution_count": null,
   "metadata": {},
   "outputs": [],
   "source": [
    "get_result_by_query_id(connection=conn, query_id=res_id_flowabnormal)"
   ]
  },
  {
   "cell_type": "code",
   "execution_count": null,
   "metadata": {},
   "outputs": [],
   "source": [
    "# Glue query IDs and date periods so that they can be accessed in other notebooks\n",
    "sb.glue(\"query_ids\", {\"flownormal\": res_id_flownormal, \"flowabnormal\": res_id_flowabnormal})\n",
    "sb.glue(\"date_periods\", periods_of_interest)"
   ]
  }
 ],
 "metadata": {
  "kernelspec": {
   "display_name": "Python 3",
   "language": "python",
   "name": "python3"
  },
  "language_info": {
   "codemirror_mode": {
    "name": "ipython",
    "version": 3
   },
   "file_extension": ".py",
   "mimetype": "text/x-python",
   "name": "python",
   "nbconvert_exporter": "python",
   "pygments_lexer": "ipython3",
   "version": "3.8.0"
  },
  "pycharm": {
   "stem_cell": {
    "cell_type": "raw",
    "metadata": {
     "collapsed": false
    },
    "source": []
   }
  }
 },
 "nbformat": 4,
 "nbformat_minor": 4
}
