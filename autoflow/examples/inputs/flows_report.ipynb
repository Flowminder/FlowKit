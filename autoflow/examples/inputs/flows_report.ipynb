{
 "cells": [
  {
   "cell_type": "code",
   "execution_count": null,
   "metadata": {},
   "outputs": [],
   "source": [
    "import geopandas as gpd\n",
    "import pandas as pd\n",
    "import scrapbook as sb\n",
    "import matplotlib.pyplot as plt\n",
    "from IPython.display import display, Markdown\n",
    "from get_secret_or_env_var import environ, getenv\n",
    "\n",
    "from flowclient import connect, get_result_by_query_id, get_geography\n",
    "\n",
    "%matplotlib inline"
   ]
  },
  {
   "cell_type": "code",
   "execution_count": null,
   "metadata": {
    "tags": [
     "parameters"
    ]
   },
   "outputs": [],
   "source": [
    "# Default parameter values\n",
    "flowapi_url = \"http://localhost:9090\"\n",
    "aggregation_unit = \"admin2\"\n",
    "reference_date = \"2016-01-04\"\n",
    "previous_notebook = \"run_flows.ipynb\""
   ]
  },
  {
   "cell_type": "code",
   "execution_count": null,
   "metadata": {},
   "outputs": [],
   "source": [
    "# Connect to FlowAPI\n",
    "conn = connect(\n",
    "    url=flowapi_url,\n",
    "    token=environ[\"FLOWAPI_TOKEN\"],\n",
    "    ssl_certificate=getenv(\"SSL_CERTIFICATE_FILE\", None),\n",
    ")"
   ]
  },
  {
   "cell_type": "code",
   "execution_count": null,
   "metadata": {},
   "outputs": [],
   "source": [
    "# Read glued data from run_flows notebook\n",
    "nb = sb.read_notebook(previous_notebook)\n",
    "query_ids = nb.scraps[\"query_ids\"].data\n",
    "date_periods = nb.scraps[\"date_periods\"].data"
   ]
  },
  {
   "cell_type": "code",
   "execution_count": null,
   "metadata": {},
   "outputs": [],
   "source": [
    "# Get cached results\n",
    "cache_results = {\n",
    "    key: get_result_by_query_id(connection=conn, query_id=val)\n",
    "    for key, val in query_ids.items()\n",
    "}"
   ]
  },
  {
   "cell_type": "code",
   "execution_count": null,
   "metadata": {},
   "outputs": [],
   "source": [
    "# Get geography data\n",
    "agg_unit_geodata = gpd.GeoDataFrame().from_features(\n",
    "    get_geography(connection=conn, aggregation_unit=aggregation_unit)\n",
    ")"
   ]
  },
  {
   "cell_type": "code",
   "execution_count": null,
   "metadata": {},
   "outputs": [],
   "source": [
    "# Display title and date periods\n",
    "date_periods_string = \"\\n\".join(\n",
    "    [f\"- **{key}**: [{dates[0]}, {dates[1]})  \" for key, dates in date_periods.items()]\n",
    ")\n",
    "display(\n",
    "    Markdown(\n",
    "        f\"\"\"\n",
    "# Above-normal {aggregation_unit} flows: {reference_date}\n",
    "## Date periods\n",
    "{date_periods_string} \n",
    "\"\"\"\n",
    "    )\n",
    ")"
   ]
  },
  {
   "cell_type": "code",
   "execution_count": null,
   "metadata": {},
   "outputs": [],
   "source": [
    "# Calculate in/outflows above normal\n",
    "flowabnormal = cache_results['flowabnormal'].set_index([\"pcod_from\", \"pcod_to\"])\n",
    "flownormal = cache_results['flownormal'].set_index([\"pcod_from\", \"pcod_to\"])\n",
    "flows_above_normal = (\n",
    "    flowabnormal - flownormal\n",
    ").dropna().reset_index()\n",
    "\n",
    "inflow_above_normal = (\n",
    "    flows_above_normal[\n",
    "        flows_above_normal.pcod_from != flows_above_normal.pcod_to\n",
    "    ]\n",
    "    .groupby(\"pcod_to\")\n",
    "    .sum()\n",
    "    .reset_index()\n",
    ")\n",
    "outflow_above_normal = (\n",
    "    flows_above_normal[\n",
    "        flows_above_normal.pcod_from != flows_above_normal.pcod_to\n",
    "    ]\n",
    "    .groupby(\"pcod_from\")\n",
    "    .sum()\n",
    "    .reset_index()\n",
    ")"
   ]
  },
  {
   "cell_type": "code",
   "execution_count": null,
   "metadata": {},
   "outputs": [],
   "source": [
    "# Join with geo data\n",
    "\n",
    "inflow_above_normal = gpd.GeoDataFrame(\n",
    "    pd.merge(\n",
    "        inflow_above_normal, agg_unit_geodata, left_on='pcod_to', right_on='pcod'\n",
    "    )\n",
    ")\n",
    "outflow_above_normal = gpd.GeoDataFrame(\n",
    "    pd.merge(\n",
    "        outflow_above_normal, agg_unit_geodata, left_on='pcod_from', right_on='pcod'\n",
    "    )\n",
    ")"
   ]
  },
  {
   "cell_type": "markdown",
   "metadata": {},
   "source": [
    "## Inflows above normal"
   ]
  },
  {
   "cell_type": "code",
   "execution_count": null,
   "metadata": {},
   "outputs": [],
   "source": [
    "# Plot inflows above normal\n",
    "fig, ax = plt.subplots(nrows=1, ncols=1, figsize=(35, 7))\n",
    "agg_unit_geodata.plot(ax=ax, color='grey')\n",
    "inflows_plot = inflow_above_normal.plot(ax=ax, column='value', legend=True)\n",
    "plt.axis(\"off\")\n",
    "fig.show()"
   ]
  },
  {
   "cell_type": "code",
   "execution_count": null,
   "metadata": {},
   "outputs": [],
   "source": [
    "# Display table\n",
    "inflow_above_normal[['value', 'pcod']].style.hide_index()"
   ]
  },
  {
   "cell_type": "markdown",
   "metadata": {},
   "source": [
    "## Outflows above normal"
   ]
  },
  {
   "cell_type": "code",
   "execution_count": null,
   "metadata": {},
   "outputs": [],
   "source": [
    "# Plot outflows above normal\n",
    "fig, ax = plt.subplots(nrows=1, ncols=1, figsize=(35,7))\n",
    "agg_unit_geodata.plot(ax=ax, color='grey')\n",
    "outflow_above_normal.plot(ax=ax, column='value', legend=True)\n",
    "plt.axis(\"off\")\n",
    "fig.show()"
   ]
  },
  {
   "cell_type": "code",
   "execution_count": null,
   "metadata": {},
   "outputs": [],
   "source": [
    "# Display table\n",
    "outflow_above_normal[['value', 'pcod']].style.hide_index()"
   ]
  }
 ],
 "metadata": {
  "kernelspec": {
   "display_name": "Python 3",
   "language": "python",
   "name": "python3"
  },
  "language_info": {
   "codemirror_mode": {
    "name": "ipython",
    "version": 3
   },
   "file_extension": ".py",
   "mimetype": "text/x-python",
   "name": "python",
   "nbconvert_exporter": "python",
   "pygments_lexer": "ipython3",
   "version": "3.8.0"
  },
  "pycharm": {
   "stem_cell": {
    "cell_type": "raw",
    "metadata": {
     "collapsed": false
    },
    "source": []
   }
  }
 },
 "nbformat": 4,
 "nbformat_minor": 4
}
