{
 "cells": [
  {
   "cell_type": "code",
   "execution_count": 1,
   "metadata": {},
   "outputs": [],
   "source": [
    "import flowclient\n",
    "import os\n",
    "from datetime import timedelta\n",
    "import flowkit_jwt_generator"
   ]
  },
  {
   "cell_type": "code",
   "execution_count": 2,
   "metadata": {},
   "outputs": [],
   "source": [
    "token = flowkit_jwt_generator.generate_token(\n",
    "    flowapi_identifier=os.environ[\"FLOWAPI_IDENTIFIER\"],\n",
    "    username=\"test\",\n",
    "    private_key=flowkit_jwt_generator.load_private_key(os.environ[\"PRIVATE_JWT_SIGNING_KEY\"]),\n",
    "    lifetime=timedelta(seconds=600),\n",
    "    claims=flowkit_jwt_generator.get_all_claims_from_flowapi(flowapi_url=\"http://localhost:9090\"),\n",
    ")\n",
    "# expired_token = flowkit_jwt_generator.generate_token(\n",
    "#     flowapi_identifier=os.environ[\"FLOWAPI_IDENTIFIER\"],\n",
    "#     username=\"test\",\n",
    "#     private_key=flowkit_jwt_generator.load_private_key(os.environ[\"PRIVATE_JWT_SIGNING_KEY\"]),\n",
    "#     lifetime=timedelta(seconds=1),\n",
    "#     claims=flowkit_jwt_generator.get_all_claims_from_flowapi(flowapi_url=\"http://localhost:9090\"),\n",
    "# )"
   ]
  },
  {
   "cell_type": "code",
   "execution_count": 3,
   "metadata": {},
   "outputs": [
    {
     "name": "stderr",
     "output_type": "stream",
     "text": [
      "/Users/jamesharrison/Repositories/FlowKit/flowclient/flowclient/client.py:227: UserWarning: Communications with this server are NOT SECURE.\n",
      "  url=url, token=token, api_version=api_version, ssl_certificate=ssl_certificate\n"
     ]
    }
   ],
   "source": [
    "conn = flowclient.connect(url=\"http://localhost:9090\", token=token)\n",
    "#expired_conn = flowclient.connect(url=\"http://localhost:9090\", token=expired_token)"
   ]
  },
  {
   "cell_type": "code",
   "execution_count": 5,
   "metadata": {},
   "outputs": [],
   "source": [
    "q1 = flowclient.spatial_aggregate(\n",
    "    locations=flowclient.daily_location(\n",
    "        date=\"2016-01-01\", aggregation_unit=\"admin3\", method=\"last\"\n",
    "    )\n",
    ")\n",
    "q2 = flowclient.meaningful_locations_between_dates_od_matrix(\n",
    "    start_date_a = \"2016-01-01\",\n",
    "    end_date_a = \"2016-01-02\",\n",
    "    start_date_b = \"2016-01-01\",\n",
    "    end_date_b = \"2016-01-05\",\n",
    "    aggregation_unit = \"admin1\",\n",
    "    tower_hour_of_day_scores = [\n",
    "        -1, -1, -1, -1, -1, -1, -1, 0, 0, 1, 1, 1, 1, 1, 1, 1, 1, 0, 0, 0, 0, -1, -1, -1,\n",
    "    ],\n",
    "    tower_day_of_week_scores = {\n",
    "        \"monday\": 1,\n",
    "        \"tuesday\": 1,\n",
    "        \"wednesday\": 1,\n",
    "        \"thursday\": 0,\n",
    "        \"friday\": -1,\n",
    "        \"saturday\": -1,\n",
    "        \"sunday\": -1,\n",
    "    },\n",
    "    label = \"unknown\",\n",
    "    labels = {\n",
    "        \"evening\": {\n",
    "            \"type\": \"Polygon\",\n",
    "            \"coordinates\": [\n",
    "                [[1e-06, -0.5], [1e-06, -1.1], [1.1, -1.1], [1.1, -0.5]]\n",
    "            ],\n",
    "        },\n",
    "        \"day\": {\n",
    "            \"type\": \"Polygon\",\n",
    "            \"coordinates\": [\n",
    "                [[-1.1, -0.5], [-1.1, 0.5], [-1e-06, 0.5], [0, -0.5]]\n",
    "            ],\n",
    "        },\n",
    "    },\n",
    ")"
   ]
  },
  {
   "cell_type": "code",
   "execution_count": 6,
   "metadata": {},
   "outputs": [],
   "source": [
    "qr1 = flowclient.get_result(connection=conn, query=q1)"
   ]
  },
  {
   "cell_type": "code",
   "execution_count": 16,
   "metadata": {},
   "outputs": [
    {
     "ename": "FlowclientConnectionError",
     "evalue": "Token has expired",
     "output_type": "error",
     "traceback": [
      "\u001b[0;31m---------------------------------------------------------------------------\u001b[0m",
      "\u001b[0;31mFlowclientConnectionError\u001b[0m                 Traceback (most recent call last)",
      "\u001b[0;32m<ipython-input-16-b02e2c489228>\u001b[0m in \u001b[0;36m<module>\u001b[0;34m\u001b[0m\n\u001b[0;32m----> 1\u001b[0;31m \u001b[0mqid2\u001b[0m \u001b[0;34m=\u001b[0m \u001b[0mflowclient\u001b[0m\u001b[0;34m.\u001b[0m\u001b[0mrun_query\u001b[0m\u001b[0;34m(\u001b[0m\u001b[0mconnection\u001b[0m\u001b[0;34m=\u001b[0m\u001b[0mexpired_conn\u001b[0m\u001b[0;34m,\u001b[0m \u001b[0mquery\u001b[0m\u001b[0;34m=\u001b[0m\u001b[0mq2\u001b[0m\u001b[0;34m)\u001b[0m\u001b[0;34m\u001b[0m\u001b[0m\n\u001b[0m",
      "\u001b[0;32m~/Repositories/FlowKit/flowclient/flowclient/client.py\u001b[0m in \u001b[0;36mrun_query\u001b[0;34m(connection, query)\u001b[0m\n\u001b[1;32m    545\u001b[0m         \u001b[0;34mf\"Requesting run of {query} at {connection.url}/api/{connection.api_version}\"\u001b[0m\u001b[0;34m\u001b[0m\u001b[0m\n\u001b[1;32m    546\u001b[0m     )\n\u001b[0;32m--> 547\u001b[0;31m     \u001b[0mr\u001b[0m \u001b[0;34m=\u001b[0m \u001b[0mconnection\u001b[0m\u001b[0;34m.\u001b[0m\u001b[0mpost_json\u001b[0m\u001b[0;34m(\u001b[0m\u001b[0mroute\u001b[0m\u001b[0;34m=\u001b[0m\u001b[0;34m\"run\"\u001b[0m\u001b[0;34m,\u001b[0m \u001b[0mdata\u001b[0m\u001b[0;34m=\u001b[0m\u001b[0mquery\u001b[0m\u001b[0;34m)\u001b[0m\u001b[0;34m\u001b[0m\u001b[0m\n\u001b[0m\u001b[1;32m    548\u001b[0m     \u001b[0;32mif\u001b[0m \u001b[0mr\u001b[0m\u001b[0;34m.\u001b[0m\u001b[0mstatus_code\u001b[0m \u001b[0;34m==\u001b[0m \u001b[0;36m202\u001b[0m\u001b[0;34m:\u001b[0m\u001b[0;34m\u001b[0m\u001b[0m\n\u001b[1;32m    549\u001b[0m         \u001b[0mquery_id\u001b[0m \u001b[0;34m=\u001b[0m \u001b[0mr\u001b[0m\u001b[0;34m.\u001b[0m\u001b[0mheaders\u001b[0m\u001b[0;34m[\u001b[0m\u001b[0;34m\"Location\"\u001b[0m\u001b[0;34m]\u001b[0m\u001b[0;34m.\u001b[0m\u001b[0msplit\u001b[0m\u001b[0;34m(\u001b[0m\u001b[0;34m\"/\"\u001b[0m\u001b[0;34m)\u001b[0m\u001b[0;34m.\u001b[0m\u001b[0mpop\u001b[0m\u001b[0;34m(\u001b[0m\u001b[0;34m)\u001b[0m\u001b[0;34m\u001b[0m\u001b[0m\n",
      "\u001b[0;32m~/Repositories/FlowKit/flowclient/flowclient/client.py\u001b[0m in \u001b[0;36mpost_json\u001b[0;34m(self, route, data)\u001b[0m\n\u001b[1;32m    177\u001b[0m             \u001b[0;32mexcept\u001b[0m \u001b[0mValueError\u001b[0m\u001b[0;34m:\u001b[0m\u001b[0;34m\u001b[0m\u001b[0m\n\u001b[1;32m    178\u001b[0m                 \u001b[0merror_msg\u001b[0m \u001b[0;34m=\u001b[0m \u001b[0;34m\"Unknown access denied error\"\u001b[0m\u001b[0;34m\u001b[0m\u001b[0m\n\u001b[0;32m--> 179\u001b[0;31m             \u001b[0;32mraise\u001b[0m \u001b[0mFlowclientConnectionError\u001b[0m\u001b[0;34m(\u001b[0m\u001b[0merror_msg\u001b[0m\u001b[0;34m)\u001b[0m\u001b[0;34m\u001b[0m\u001b[0m\n\u001b[0m\u001b[1;32m    180\u001b[0m         \u001b[0;32melse\u001b[0m\u001b[0;34m:\u001b[0m\u001b[0;34m\u001b[0m\u001b[0m\n\u001b[1;32m    181\u001b[0m             \u001b[0;32mtry\u001b[0m\u001b[0;34m:\u001b[0m\u001b[0;34m\u001b[0m\u001b[0m\n",
      "\u001b[0;31mFlowclientConnectionError\u001b[0m: Token has expired"
     ]
    }
   ],
   "source": [
    "qid2 = flowclient.run_query(connection=expired_conn, query=q2)"
   ]
  },
  {
   "cell_type": "code",
   "execution_count": 21,
   "metadata": {},
   "outputs": [
    {
     "ename": "FlowclientConnectionError",
     "evalue": "Token has expired",
     "output_type": "error",
     "traceback": [
      "\u001b[0;31m---------------------------------------------------------------------------\u001b[0m",
      "\u001b[0;31mFlowclientConnectionError\u001b[0m                 Traceback (most recent call last)",
      "\u001b[0;32m<ipython-input-21-6c77bfba6c2e>\u001b[0m in \u001b[0;36m<module>\u001b[0;34m\u001b[0m\n\u001b[0;32m----> 1\u001b[0;31m \u001b[0mflowclient\u001b[0m\u001b[0;34m.\u001b[0m\u001b[0mget_status\u001b[0m\u001b[0;34m(\u001b[0m\u001b[0mconnection\u001b[0m\u001b[0;34m=\u001b[0m\u001b[0mexpired_conn\u001b[0m\u001b[0;34m,\u001b[0m \u001b[0mquery_id\u001b[0m\u001b[0;34m=\u001b[0m\u001b[0mqid1\u001b[0m\u001b[0;34m)\u001b[0m\u001b[0;34m\u001b[0m\u001b[0m\n\u001b[0m",
      "\u001b[0;32m~/Repositories/FlowKit/flowclient/flowclient/client.py\u001b[0m in \u001b[0;36mget_status\u001b[0;34m(connection, query_id)\u001b[0m\n\u001b[1;32m    283\u001b[0m \u001b[0;34m\u001b[0m\u001b[0m\n\u001b[1;32m    284\u001b[0m     \"\"\"\n\u001b[0;32m--> 285\u001b[0;31m     \u001b[0mready\u001b[0m\u001b[0;34m,\u001b[0m \u001b[0mreply\u001b[0m \u001b[0;34m=\u001b[0m \u001b[0mquery_is_ready\u001b[0m\u001b[0;34m(\u001b[0m\u001b[0mconnection\u001b[0m\u001b[0;34m=\u001b[0m\u001b[0mconnection\u001b[0m\u001b[0;34m,\u001b[0m \u001b[0mquery_id\u001b[0m\u001b[0;34m=\u001b[0m\u001b[0mquery_id\u001b[0m\u001b[0;34m)\u001b[0m\u001b[0;34m\u001b[0m\u001b[0m\n\u001b[0m\u001b[1;32m    286\u001b[0m     \u001b[0;32mif\u001b[0m \u001b[0mready\u001b[0m\u001b[0;34m:\u001b[0m\u001b[0;34m\u001b[0m\u001b[0m\n\u001b[1;32m    287\u001b[0m         \u001b[0;32mreturn\u001b[0m \u001b[0;34m\"Finished\"\u001b[0m\u001b[0;34m\u001b[0m\u001b[0m\n",
      "\u001b[0;32m~/Repositories/FlowKit/flowclient/flowclient/client.py\u001b[0m in \u001b[0;36mquery_is_ready\u001b[0;34m(connection, query_id)\u001b[0m\n\u001b[1;32m    251\u001b[0m         \u001b[0;34mf\"Polling server on {connection.url}/api/{connection.api_version}/poll/{query_id}\"\u001b[0m\u001b[0;34m\u001b[0m\u001b[0m\n\u001b[1;32m    252\u001b[0m     )\n\u001b[0;32m--> 253\u001b[0;31m     \u001b[0mreply\u001b[0m \u001b[0;34m=\u001b[0m \u001b[0mconnection\u001b[0m\u001b[0;34m.\u001b[0m\u001b[0mget_url\u001b[0m\u001b[0;34m(\u001b[0m\u001b[0mroute\u001b[0m\u001b[0;34m=\u001b[0m\u001b[0;34mf\"poll/{query_id}\"\u001b[0m\u001b[0;34m)\u001b[0m\u001b[0;34m\u001b[0m\u001b[0m\n\u001b[0m\u001b[1;32m    254\u001b[0m \u001b[0;34m\u001b[0m\u001b[0m\n\u001b[1;32m    255\u001b[0m     \u001b[0;32mif\u001b[0m \u001b[0mreply\u001b[0m\u001b[0;34m.\u001b[0m\u001b[0mstatus_code\u001b[0m \u001b[0;34m==\u001b[0m \u001b[0;36m303\u001b[0m\u001b[0;34m:\u001b[0m\u001b[0;34m\u001b[0m\u001b[0m\n",
      "\u001b[0;32m~/Repositories/FlowKit/flowclient/flowclient/client.py\u001b[0m in \u001b[0;36mget_url\u001b[0;34m(self, route, data)\u001b[0m\n\u001b[1;32m    125\u001b[0m             \u001b[0;32mexcept\u001b[0m \u001b[0;34m(\u001b[0m\u001b[0mValueError\u001b[0m\u001b[0;34m,\u001b[0m \u001b[0mKeyError\u001b[0m\u001b[0;34m)\u001b[0m\u001b[0;34m:\u001b[0m\u001b[0;34m\u001b[0m\u001b[0m\n\u001b[1;32m    126\u001b[0m                 \u001b[0merror\u001b[0m \u001b[0;34m=\u001b[0m \u001b[0;34m\"Unknown access denied error\"\u001b[0m\u001b[0;34m\u001b[0m\u001b[0m\n\u001b[0;32m--> 127\u001b[0;31m             \u001b[0;32mraise\u001b[0m \u001b[0mFlowclientConnectionError\u001b[0m\u001b[0;34m(\u001b[0m\u001b[0merror\u001b[0m\u001b[0;34m)\u001b[0m\u001b[0;34m\u001b[0m\u001b[0m\n\u001b[0m\u001b[1;32m    128\u001b[0m         \u001b[0;32melse\u001b[0m\u001b[0;34m:\u001b[0m\u001b[0;34m\u001b[0m\u001b[0m\n\u001b[1;32m    129\u001b[0m             \u001b[0;32mtry\u001b[0m\u001b[0;34m:\u001b[0m\u001b[0;34m\u001b[0m\u001b[0m\n",
      "\u001b[0;31mFlowclientConnectionError\u001b[0m: Token has expired"
     ]
    }
   ],
   "source": [
    "flowclient.get_status(connection=expired_conn, query_id=qid1)"
   ]
  },
  {
   "cell_type": "code",
   "execution_count": 19,
   "metadata": {},
   "outputs": [],
   "source": [
    "flowclient.get_status?"
   ]
  },
  {
   "cell_type": "code",
   "execution_count": null,
   "metadata": {},
   "outputs": [],
   "source": []
  }
 ],
 "metadata": {
  "kernelspec": {
   "display_name": "Python 3",
   "language": "python",
   "name": "python3"
  }
 },
 "nbformat": 4,
 "nbformat_minor": 2
}
