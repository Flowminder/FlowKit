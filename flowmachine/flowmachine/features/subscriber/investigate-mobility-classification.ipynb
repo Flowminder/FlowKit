{
 "cells": [
  {
   "cell_type": "markdown",
   "metadata": {
    "pycharm": {}
   },
   "source": [
    "# Investigate MobilityClassification\n",
    "\n",
    "James Harrison, 2021-12-02\n",
    "\n",
    "In the process of addressing FlowKit issue #4615, I'll use this notebook to try out some possible implementations to see what is most efficient.\n",
    "\n",
    "Of course, findings here from a smallish synthetic dataset may not carry over to a real CDR dataset."
   ]
  },
  {
   "cell_type": "code",
   "execution_count": 1,
   "metadata": {
    "pycharm": {}
   },
   "outputs": [],
   "source": [
    "import flowmachine\n",
    "from flowmachine.core import make_spatial_unit\n",
    "from flowmachine.core.custom_query import CustomQuery\n",
    "from flowmachine.features.subscriber.majority_location import MajorityLocation\n",
    "from flowmachine.features.subscriber.location_visits import LocationVisits\n",
    "from flowmachine.features.subscriber.day_trajectories import DayTrajectories\n",
    "from flowmachine.features.subscriber.modal_location import ModalLocation\n",
    "from flowmachine.features.subscriber.daily_location import daily_location\n",
    "import os\n",
    "import numpy as np\n",
    "import pandas as pd"
   ]
  },
  {
   "cell_type": "code",
   "execution_count": 2,
   "metadata": {
    "pycharm": {}
   },
   "outputs": [
    {
     "name": "stdout",
     "output_type": "stream",
     "text": [
      "FlowMachine version: 0+unknown\n",
      "Flowdb running on: flowdb:5432/flowdb (connecting user: flowmachine)\n"
     ]
    },
    {
     "name": "stderr",
     "output_type": "stream",
     "text": [
      "/opt/conda/lib/python3.9/site-packages/flowmachine/core/connection.py:106: UserWarning: Maximum number of connections (pool size + overflow = 6) is greater than the available cpu cores (4).\n",
      "  warnings.warn(\n"
     ]
    }
   ],
   "source": [
    "flowmachine.connect()"
   ]
  },
  {
   "cell_type": "code",
   "execution_count": 3,
   "metadata": {},
   "outputs": [],
   "source": [
    "flowmachine.core.cache.resync_redis_with_cache(\n",
    "    flowmachine.core.context.get_db(),\n",
    "    flowmachine.core.context.get_redis(),\n",
    ")"
   ]
  },
  {
   "cell_type": "markdown",
   "metadata": {},
   "source": [
    "## Define and store sub-queries"
   ]
  },
  {
   "cell_type": "code",
   "execution_count": 4,
   "metadata": {
    "collapsed": true,
    "jupyter": {
     "outputs_hidden": true
    },
    "tags": []
   },
   "outputs": [
    {
     "data": {
      "text/plain": [
       "defaultdict(list,\n",
       "            {'calls': [datetime.date(2016, 1, 1),\n",
       "              datetime.date(2016, 1, 2),\n",
       "              datetime.date(2016, 1, 3),\n",
       "              datetime.date(2016, 1, 4),\n",
       "              datetime.date(2016, 1, 5),\n",
       "              datetime.date(2016, 1, 6),\n",
       "              datetime.date(2016, 1, 7),\n",
       "              datetime.date(2016, 1, 8),\n",
       "              datetime.date(2016, 1, 9),\n",
       "              datetime.date(2016, 1, 10),\n",
       "              datetime.date(2016, 1, 11),\n",
       "              datetime.date(2016, 1, 12),\n",
       "              datetime.date(2016, 1, 13),\n",
       "              datetime.date(2016, 1, 14),\n",
       "              datetime.date(2016, 1, 15),\n",
       "              datetime.date(2016, 1, 16),\n",
       "              datetime.date(2016, 1, 17),\n",
       "              datetime.date(2016, 1, 18),\n",
       "              datetime.date(2016, 1, 19),\n",
       "              datetime.date(2016, 1, 20),\n",
       "              datetime.date(2016, 1, 21),\n",
       "              datetime.date(2016, 1, 22),\n",
       "              datetime.date(2016, 1, 23),\n",
       "              datetime.date(2016, 1, 24),\n",
       "              datetime.date(2016, 1, 25),\n",
       "              datetime.date(2016, 1, 26),\n",
       "              datetime.date(2016, 1, 27),\n",
       "              datetime.date(2016, 1, 28),\n",
       "              datetime.date(2016, 1, 29),\n",
       "              datetime.date(2016, 1, 30),\n",
       "              datetime.date(2016, 1, 31),\n",
       "              datetime.date(2016, 2, 1),\n",
       "              datetime.date(2016, 2, 2),\n",
       "              datetime.date(2016, 2, 3),\n",
       "              datetime.date(2016, 2, 4),\n",
       "              datetime.date(2016, 2, 5),\n",
       "              datetime.date(2016, 2, 6),\n",
       "              datetime.date(2016, 2, 7),\n",
       "              datetime.date(2016, 2, 8),\n",
       "              datetime.date(2016, 2, 9),\n",
       "              datetime.date(2016, 2, 10),\n",
       "              datetime.date(2016, 2, 11),\n",
       "              datetime.date(2016, 2, 12),\n",
       "              datetime.date(2016, 2, 13),\n",
       "              datetime.date(2016, 2, 14),\n",
       "              datetime.date(2016, 2, 15),\n",
       "              datetime.date(2016, 2, 16),\n",
       "              datetime.date(2016, 2, 17),\n",
       "              datetime.date(2016, 2, 18),\n",
       "              datetime.date(2016, 2, 19),\n",
       "              datetime.date(2016, 2, 20),\n",
       "              datetime.date(2016, 2, 21),\n",
       "              datetime.date(2016, 2, 22),\n",
       "              datetime.date(2016, 2, 23),\n",
       "              datetime.date(2016, 2, 24),\n",
       "              datetime.date(2016, 2, 25),\n",
       "              datetime.date(2016, 2, 26),\n",
       "              datetime.date(2016, 2, 27),\n",
       "              datetime.date(2016, 2, 28),\n",
       "              datetime.date(2016, 2, 29)],\n",
       "             'mds': [datetime.date(2016, 1, 1),\n",
       "              datetime.date(2016, 1, 2),\n",
       "              datetime.date(2016, 1, 3),\n",
       "              datetime.date(2016, 1, 4),\n",
       "              datetime.date(2016, 1, 5),\n",
       "              datetime.date(2016, 1, 6),\n",
       "              datetime.date(2016, 1, 7),\n",
       "              datetime.date(2016, 1, 8),\n",
       "              datetime.date(2016, 1, 9),\n",
       "              datetime.date(2016, 1, 10),\n",
       "              datetime.date(2016, 1, 11),\n",
       "              datetime.date(2016, 1, 12),\n",
       "              datetime.date(2016, 1, 13),\n",
       "              datetime.date(2016, 1, 14),\n",
       "              datetime.date(2016, 1, 15),\n",
       "              datetime.date(2016, 1, 16),\n",
       "              datetime.date(2016, 1, 17),\n",
       "              datetime.date(2016, 1, 18),\n",
       "              datetime.date(2016, 1, 19),\n",
       "              datetime.date(2016, 1, 20),\n",
       "              datetime.date(2016, 1, 21),\n",
       "              datetime.date(2016, 1, 22),\n",
       "              datetime.date(2016, 1, 23),\n",
       "              datetime.date(2016, 1, 24),\n",
       "              datetime.date(2016, 1, 25),\n",
       "              datetime.date(2016, 1, 26),\n",
       "              datetime.date(2016, 1, 27),\n",
       "              datetime.date(2016, 1, 28),\n",
       "              datetime.date(2016, 1, 29),\n",
       "              datetime.date(2016, 1, 30),\n",
       "              datetime.date(2016, 1, 31),\n",
       "              datetime.date(2016, 2, 1),\n",
       "              datetime.date(2016, 2, 2),\n",
       "              datetime.date(2016, 2, 3),\n",
       "              datetime.date(2016, 2, 4),\n",
       "              datetime.date(2016, 2, 5),\n",
       "              datetime.date(2016, 2, 6),\n",
       "              datetime.date(2016, 2, 7),\n",
       "              datetime.date(2016, 2, 8),\n",
       "              datetime.date(2016, 2, 9),\n",
       "              datetime.date(2016, 2, 10),\n",
       "              datetime.date(2016, 2, 11),\n",
       "              datetime.date(2016, 2, 12),\n",
       "              datetime.date(2016, 2, 13),\n",
       "              datetime.date(2016, 2, 14),\n",
       "              datetime.date(2016, 2, 15),\n",
       "              datetime.date(2016, 2, 16),\n",
       "              datetime.date(2016, 2, 17),\n",
       "              datetime.date(2016, 2, 18),\n",
       "              datetime.date(2016, 2, 19),\n",
       "              datetime.date(2016, 2, 20),\n",
       "              datetime.date(2016, 2, 21),\n",
       "              datetime.date(2016, 2, 22),\n",
       "              datetime.date(2016, 2, 23),\n",
       "              datetime.date(2016, 2, 24),\n",
       "              datetime.date(2016, 2, 25),\n",
       "              datetime.date(2016, 2, 26),\n",
       "              datetime.date(2016, 2, 27),\n",
       "              datetime.date(2016, 2, 28),\n",
       "              datetime.date(2016, 2, 29)],\n",
       "             'sms': [datetime.date(2016, 1, 1),\n",
       "              datetime.date(2016, 1, 2),\n",
       "              datetime.date(2016, 1, 3),\n",
       "              datetime.date(2016, 1, 4),\n",
       "              datetime.date(2016, 1, 5),\n",
       "              datetime.date(2016, 1, 6),\n",
       "              datetime.date(2016, 1, 7),\n",
       "              datetime.date(2016, 1, 8),\n",
       "              datetime.date(2016, 1, 9),\n",
       "              datetime.date(2016, 1, 10),\n",
       "              datetime.date(2016, 1, 11),\n",
       "              datetime.date(2016, 1, 12),\n",
       "              datetime.date(2016, 1, 13),\n",
       "              datetime.date(2016, 1, 14),\n",
       "              datetime.date(2016, 1, 15),\n",
       "              datetime.date(2016, 1, 16),\n",
       "              datetime.date(2016, 1, 17),\n",
       "              datetime.date(2016, 1, 18),\n",
       "              datetime.date(2016, 1, 19),\n",
       "              datetime.date(2016, 1, 20),\n",
       "              datetime.date(2016, 1, 21),\n",
       "              datetime.date(2016, 1, 22),\n",
       "              datetime.date(2016, 1, 23),\n",
       "              datetime.date(2016, 1, 24),\n",
       "              datetime.date(2016, 1, 25),\n",
       "              datetime.date(2016, 1, 26),\n",
       "              datetime.date(2016, 1, 27),\n",
       "              datetime.date(2016, 1, 28),\n",
       "              datetime.date(2016, 1, 29),\n",
       "              datetime.date(2016, 1, 30),\n",
       "              datetime.date(2016, 1, 31),\n",
       "              datetime.date(2016, 2, 1),\n",
       "              datetime.date(2016, 2, 2),\n",
       "              datetime.date(2016, 2, 3),\n",
       "              datetime.date(2016, 2, 4),\n",
       "              datetime.date(2016, 2, 5),\n",
       "              datetime.date(2016, 2, 6),\n",
       "              datetime.date(2016, 2, 7),\n",
       "              datetime.date(2016, 2, 8),\n",
       "              datetime.date(2016, 2, 9),\n",
       "              datetime.date(2016, 2, 10),\n",
       "              datetime.date(2016, 2, 11),\n",
       "              datetime.date(2016, 2, 12),\n",
       "              datetime.date(2016, 2, 13),\n",
       "              datetime.date(2016, 2, 14),\n",
       "              datetime.date(2016, 2, 15),\n",
       "              datetime.date(2016, 2, 16),\n",
       "              datetime.date(2016, 2, 17),\n",
       "              datetime.date(2016, 2, 18),\n",
       "              datetime.date(2016, 2, 19),\n",
       "              datetime.date(2016, 2, 20),\n",
       "              datetime.date(2016, 2, 21),\n",
       "              datetime.date(2016, 2, 22),\n",
       "              datetime.date(2016, 2, 23),\n",
       "              datetime.date(2016, 2, 24),\n",
       "              datetime.date(2016, 2, 25),\n",
       "              datetime.date(2016, 2, 26),\n",
       "              datetime.date(2016, 2, 27),\n",
       "              datetime.date(2016, 2, 28),\n",
       "              datetime.date(2016, 2, 29)]})"
      ]
     },
     "execution_count": 4,
     "metadata": {},
     "output_type": "execute_result"
    }
   ],
   "source": [
    "flowmachine.core.context.get_db().available_dates"
   ]
  },
  {
   "cell_type": "code",
   "execution_count": 5,
   "metadata": {},
   "outputs": [],
   "source": [
    "periods = [\n",
    "    pd.date_range(\"2016-01-01\", \"2016-01-07\"),\n",
    "    pd.date_range(\"2016-01-08\", \"2016-01-14\"),\n",
    "    pd.date_range(\"2016-01-15\", \"2016-01-21\"),\n",
    "    pd.date_range(\"2016-01-22\", \"2016-01-28\"),\n",
    "    pd.date_range(\"2016-01-29\", \"2016-02-04\"),\n",
    "    pd.date_range(\"2016-02-05\", \"2016-02-11\"),\n",
    "]\n",
    "modal_window_length = 19"
   ]
  },
  {
   "cell_type": "code",
   "execution_count": 6,
   "metadata": {},
   "outputs": [],
   "source": [
    "majority_locations = [\n",
    "    MajorityLocation(\n",
    "        subscriber_location_weights=LocationVisits(\n",
    "            day_trajectories=DayTrajectories(\n",
    "                *(\n",
    "                    ModalLocation(\n",
    "                        *(\n",
    "                            daily_location(\n",
    "                                daily_date.date().isoformat(),\n",
    "                                spatial_unit=make_spatial_unit(\"admin\", level=2),\n",
    "                                method=\"last\",\n",
    "                                table=[\"events.calls\", \"events.sms\", \"events.mds\"]\n",
    "                            )\n",
    "                            for daily_date in pd.date_range(modal_start_date, periods=modal_window_length)\n",
    "                        )\n",
    "                    )\n",
    "                    for modal_start_date in period\n",
    "                )\n",
    "            )\n",
    "        ),\n",
    "        weight_column=\"value\",\n",
    "        include_unlocatable=True,\n",
    "    )\n",
    "    for period in periods\n",
    "]"
   ]
  },
  {
   "cell_type": "code",
   "execution_count": 7,
   "metadata": {
    "collapsed": true,
    "jupyter": {
     "outputs_hidden": true
    },
    "tags": []
   },
   "outputs": [
    {
     "name": "stdout",
     "output_type": "stream",
     "text": [
      "Storing 2016-01-01 00:00:00\n",
      "Storing 2016-01-08 00:00:00\n",
      "Storing 2016-01-15 00:00:00\n",
      "Storing 2016-01-22 00:00:00\n",
      "Storing 2016-01-29 00:00:00\n",
      "Storing 2016-02-05 00:00:00\n"
     ]
    },
    {
     "name": "stderr",
     "output_type": "stream",
     "text": [
      "{\"submodule\":\"flowmachine.core.query\",\"event\":\"Error executing SQL: 'CREATE INDEX ON cache.xe201ebcfff28eea05775a393baa6cb09 (pcod)'. Error was (psycopg2.errors.DiskFull) could not extend file \\\"base/16384/28059\\\": wrote only 4096 of 8192 bytes at block 45\\nHINT:  Check free disk space.\\n\\n[SQL: CREATE INDEX ON cache.xe201ebcfff28eea05775a393baa6cb09 (pcod)]\\n(Background on this error at: http://sqlalche.me/e/13/e3q8)\",\"logger\":\"flowmachine.debug\",\"level\":\"error\",\"timestamp\":\"2021-12-03T13:58:57.561866Z\"}\n",
      "{\"submodule\":\"flowmachine.core.cache\",\"event\":\"Error executing SQL. Error was (psycopg2.errors.DiskFull) could not extend file \\\"base/16384/28059\\\": wrote only 4096 of 8192 bytes at block 45\\nHINT:  Check free disk space.\\n\\n[SQL: CREATE INDEX ON cache.xe201ebcfff28eea05775a393baa6cb09 (pcod)]\\n(Background on this error at: http://sqlalche.me/e/13/e3q8)\",\"logger\":\"flowmachine.debug\",\"level\":\"error\",\"timestamp\":\"2021-12-03T13:58:57.569859Z\"}\n",
      "{\"submodule\":\"flowmachine.core.query\",\"event\":\"Error executing SQL: 'EXPLAIN (ANALYZE TRUE, TIMING FALSE, FORMAT JSON) CREATE TABLE cache.x5ccb0ba0c6f7434935a4ed1f71a658ae AS \\n        (SELECT subscriber, pcod FROM (\\n        SELECT ranked.subscriber, pcod\\n        FROM\\n             (SELECT times_visited.subscriber, pcod,\\n             row_number() OVER (PARTITION BY times_visited.subscriber\\n                 ORDER BY total DESC, times_visited.date DESC) AS rank\\n             FROM (\\n        SELECT all_locs.subscriber, pcod, count(*) AS total, max(all_locs.date) as date\\n        FROM (((((((((((((((((((SELECT *,\\n       to_date('2016-02-06 00:00:00', 'YYYY-MM-DD') AS date\\nFROM (SELECT *\\n      FROM cache.xa104d376c7d53b1b092d318b3b14216c) AS dl) UNION ALL (SELECT *,\\n       to_date('2016-02-07 00:00:00', 'YYYY-MM-DD') AS date\\nFROM (SELECT *\\n      FROM cache.x63ffcb6b1d3c0ea7aeb3f0b569f508f1) AS dl)) UNION ALL (SELECT *,\\n       to_date('2016-02-08 00:00:00', 'YYYY-MM-DD') AS date\\nFROM (SELECT *\\n      FROM cache.x71ce60134342b71f6dfa532ced8642cd) AS dl)) UNION ALL (SELECT *,\\n       to_date('2016-02-09 00:00:00', 'YYYY-MM-DD') AS date\\nFROM (SELECT *\\n      FROM cache.xff3d85f3ea7f885e471ca7c5816b6aab) AS dl)) UNION ALL (SELECT *,\\n       to_date('2016-02-10 00:00:00', 'YYYY-MM-DD') AS date\\nFROM (SELECT *\\n      FROM cache.x07237dc61635165204ab24a929271768) AS dl)) UNION ALL (SELECT *,\\n       to_date('2016-02-11 00:00:00', 'YYYY-MM-DD') AS date\\nFROM (SELECT *\\n      FROM cache.xffc9c4147a621ede0cdf89cf42166c37) AS dl)) UNION ALL (SELECT *,\\n       to_date('2016-02-12 00:00:00', 'YYYY-MM-DD') AS date\\nFROM (SELECT *\\n      FROM cache.x28baca238306ee5ce9066ac057095dcd) AS dl)) UNION ALL (SELECT *,\\n       to_date('2016-02-13 00:00:00', 'YYYY-MM-DD') AS date\\nFROM (SELECT *\\n      FROM cache.xcbb4d7341548bbf13b2fb5c8ea7ebc9b) AS dl)) UNION ALL (SELECT *,\\n       to_date('2016-02-14 00:00:00', 'YYYY-MM-DD') AS date\\nFROM (SELECT *\\n      FROM cache.x71f98ffbc2867e63eef5bdb73a8f7368) AS dl)) UNION ALL (SELECT *,\\n       to_date('2016-02-15 00:00:00', 'YYYY-MM-DD') AS date\\nFROM (SELECT *\\n      FROM cache.x8a2e685cd576bcbe8f65d21d12e44a31) AS dl)) UNION ALL (SELECT *,\\n       to_date('2016-02-16 00:00:00', 'YYYY-MM-DD') AS date\\nFROM (SELECT *\\n      FROM cache.x16a9db7fb597455bfe8c6eeaacfa8970) AS dl)) UNION ALL (SELECT *,\\n       to_date('2016-02-17 00:00:00', 'YYYY-MM-DD') AS date\\nFROM (SELECT *\\n      FROM cache.xed625075c26ae4c4dd9124f67f894baa) AS dl)) UNION ALL (SELECT *,\\n       to_date('2016-02-18 00:00:00', 'YYYY-MM-DD') AS date\\nFROM (SELECT *\\n      FROM cache.x45b6598a9e3dad547870a65902c83553) AS dl)) UNION ALL (SELECT *,\\n       to_date('2016-02-19 00:00:00', 'YYYY-MM-DD') AS date\\nFROM (SELECT *\\n      FROM cache.xe07ecf68a04f446cbdc511e8a87ba318) AS dl)) UNION ALL (SELECT *,\\n       to_date('2016-02-20 00:00:00', 'YYYY-MM-DD') AS date\\nFROM (SELECT *\\n      FROM cache.x89805a9c835a34f060c42c9b77d7faac) AS dl)) UNION ALL (SELECT *,\\n       to_date('2016-02-21 00:00:00', 'YYYY-MM-DD') AS date\\nFROM (SELECT *\\n      FROM cache.x82fc7767605516687897dbe226364dce) AS dl)) UNION ALL (SELECT *,\\n       to_date('2016-02-22 00:00:00', 'YYYY-MM-DD') AS date\\nFROM (SELECT *\\n      FROM cache.x793bc3da403df74d8f3fa6a83a0eeb50) AS dl)) UNION ALL (SELECT *,\\n       to_date('2016-02-23 00:00:00', 'YYYY-MM-DD') AS date\\nFROM (SELECT *\\n      FROM cache.xd7a3b916c322c7c845881bdc90453d8d) AS dl)) UNION ALL (SELECT *,\\n       to_date('2016-02-24 00:00:00', 'YYYY-MM-DD') AS date\\nFROM (SELECT *\\n      FROM cache.xec97e74212c55708e49970633062fa26) AS dl)) AS all_locs\\n        GROUP BY all_locs.subscriber, pcod\\n        ) AS times_visited) AS ranked\\n        WHERE rank = 1\\n        ) _)'. Error was (psycopg2.errors.DiskFull) could not extend file \\\"base/16384/28044\\\": wrote only 4096 of 8192 bytes at block 653\\nHINT:  Check free disk space.\\n\\n[SQL: EXPLAIN (ANALYZE TRUE, TIMING FALSE, FORMAT JSON) CREATE TABLE cache.x5ccb0ba0c6f7434935a4ed1f71a658ae AS \\n        (SELECT subscriber, pcod FROM (\\n        SELECT ranked.subscriber, pcod\\n        FROM\\n             (SELECT times_visited.subscriber, pcod,\\n             row_number() OVER (PARTITION BY times_visited.subscriber\\n                 ORDER BY total DESC, times_visited.date DESC) AS rank\\n             FROM (\\n        SELECT all_locs.subscriber, pcod, count(*) AS total, max(all_locs.date) as date\\n        FROM (((((((((((((((((((SELECT *,\\n       to_date('2016-02-06 00:00:00', 'YYYY-MM-DD') AS date\\nFROM (SELECT *\\n      FROM cache.xa104d376c7d53b1b092d318b3b14216c) AS dl) UNION ALL (SELECT *,\\n       to_date('2016-02-07 00:00:00', 'YYYY-MM-DD') AS date\\nFROM (SELECT *\\n      FROM cache.x63ffcb6b1d3c0ea7aeb3f0b569f508f1) AS dl)) UNION ALL (SELECT *,\\n       to_date('2016-02-08 00:00:00', 'YYYY-MM-DD') AS date\\nFROM (SELECT *\\n      FROM cache.x71ce60134342b71f6dfa532ced8642cd) AS dl)) UNION ALL (SELECT *,\\n       to_date('2016-02-09 00:00:00', 'YYYY-MM-DD') AS date\\nFROM (SELECT *\\n      FROM cache.xff3d85f3ea7f885e471ca7c5816b6aab) AS dl)) UNION ALL (SELECT *,\\n       to_date('2016-02-10 00:00:00', 'YYYY-MM-DD') AS date\\nFROM (SELECT *\\n      FROM cache.x07237dc61635165204ab24a929271768) AS dl)) UNION ALL (SELECT *,\\n       to_date('2016-02-11 00:00:00', 'YYYY-MM-DD') AS date\\nFROM (SELECT *\\n      FROM cache.xffc9c4147a621ede0cdf89cf42166c37) AS dl)) UNION ALL (SELECT *,\\n       to_date('2016-02-12 00:00:00', 'YYYY-MM-DD') AS date\\nFROM (SELECT *\\n      FROM cache.x28baca238306ee5ce9066ac057095dcd) AS dl)) UNION ALL (SELECT *,\\n       to_date('2016-02-13 00:00:00', 'YYYY-MM-DD') AS date\\nFROM (SELECT *\\n      FROM cache.xcbb4d7341548bbf13b2fb5c8ea7ebc9b) AS dl)) UNION ALL (SELECT *,\\n       to_date('2016-02-14 00:00:00', 'YYYY-MM-DD') AS date\\nFROM (SELECT *\\n      FROM cache.x71f98ffbc2867e63eef5bdb73a8f7368) AS dl)) UNION ALL (SELECT *,\\n       to_date('2016-02-15 00:00:00', 'YYYY-MM-DD') AS date\\nFROM (SELECT *\\n      FROM cache.x8a2e685cd576bcbe8f65d21d12e44a31) AS dl)) UNION ALL (SELECT *,\\n       to_date('2016-02-16 00:00:00', 'YYYY-MM-DD') AS date\\nFROM (SELECT *\\n      FROM cache.x16a9db7fb597455bfe8c6eeaacfa8970) AS dl)) UNION ALL (SELECT *,\\n       to_date('2016-02-17 00:00:00', 'YYYY-MM-DD') AS date\\nFROM (SELECT *\\n      FROM cache.xed625075c26ae4c4dd9124f67f894baa) AS dl)) UNION ALL (SELECT *,\\n       to_date('2016-02-18 00:00:00', 'YYYY-MM-DD') AS date\\nFROM (SELECT *\\n      FROM cache.x45b6598a9e3dad547870a65902c83553) AS dl)) UNION ALL (SELECT *,\\n       to_date('2016-02-19 00:00:00', 'YYYY-MM-DD') AS date\\nFROM (SELECT *\\n      FROM cache.xe07ecf68a04f446cbdc511e8a87ba318) AS dl)) UNION ALL (SELECT *,\\n       to_date('2016-02-20 00:00:00', 'YYYY-MM-DD') AS date\\nFROM (SELECT *\\n      FROM cache.x89805a9c835a34f060c42c9b77d7faac) AS dl)) UNION ALL (SELECT *,\\n       to_date('2016-02-21 00:00:00', 'YYYY-MM-DD') AS date\\nFROM (SELECT *\\n      FROM cache.x82fc7767605516687897dbe226364dce) AS dl)) UNION ALL (SELECT *,\\n       to_date('2016-02-22 00:00:00', 'YYYY-MM-DD') AS date\\nFROM (SELECT *\\n      FROM cache.x793bc3da403df74d8f3fa6a83a0eeb50) AS dl)) UNION ALL (SELECT *,\\n       to_date('2016-02-23 00:00:00', 'YYYY-MM-DD') AS date\\nFROM (SELECT *\\n      FROM cache.xd7a3b916c322c7c845881bdc90453d8d) AS dl)) UNION ALL (SELECT *,\\n       to_date('2016-02-24 00:00:00', 'YYYY-MM-DD') AS date\\nFROM (SELECT *\\n      FROM cache.xec97e74212c55708e49970633062fa26) AS dl)) AS all_locs\\n        GROUP BY all_locs.subscriber, pcod\\n        ) AS times_visited) AS ranked\\n        WHERE rank = 1\\n        ) _)]\\n(Background on this error at: http://sqlalche.me/e/13/e3q8)\",\"logger\":\"flowmachine.debug\",\"level\":\"error\",\"timestamp\":\"2021-12-03T13:58:59.253499Z\"}\n",
      "{\"submodule\":\"flowmachine.core.cache\",\"event\":\"Error executing SQL. Error was (psycopg2.errors.DiskFull) could not extend file \\\"base/16384/28044\\\": wrote only 4096 of 8192 bytes at block 653\\nHINT:  Check free disk space.\\n\\n[SQL: EXPLAIN (ANALYZE TRUE, TIMING FALSE, FORMAT JSON) CREATE TABLE cache.x5ccb0ba0c6f7434935a4ed1f71a658ae AS \\n        (SELECT subscriber, pcod FROM (\\n        SELECT ranked.subscriber, pcod\\n        FROM\\n             (SELECT times_visited.subscriber, pcod,\\n             row_number() OVER (PARTITION BY times_visited.subscriber\\n                 ORDER BY total DESC, times_visited.date DESC) AS rank\\n             FROM (\\n        SELECT all_locs.subscriber, pcod, count(*) AS total, max(all_locs.date) as date\\n        FROM (((((((((((((((((((SELECT *,\\n       to_date('2016-02-06 00:00:00', 'YYYY-MM-DD') AS date\\nFROM (SELECT *\\n      FROM cache.xa104d376c7d53b1b092d318b3b14216c) AS dl) UNION ALL (SELECT *,\\n       to_date('2016-02-07 00:00:00', 'YYYY-MM-DD') AS date\\nFROM (SELECT *\\n      FROM cache.x63ffcb6b1d3c0ea7aeb3f0b569f508f1) AS dl)) UNION ALL (SELECT *,\\n       to_date('2016-02-08 00:00:00', 'YYYY-MM-DD') AS date\\nFROM (SELECT *\\n      FROM cache.x71ce60134342b71f6dfa532ced8642cd) AS dl)) UNION ALL (SELECT *,\\n       to_date('2016-02-09 00:00:00', 'YYYY-MM-DD') AS date\\nFROM (SELECT *\\n      FROM cache.xff3d85f3ea7f885e471ca7c5816b6aab) AS dl)) UNION ALL (SELECT *,\\n       to_date('2016-02-10 00:00:00', 'YYYY-MM-DD') AS date\\nFROM (SELECT *\\n      FROM cache.x07237dc61635165204ab24a929271768) AS dl)) UNION ALL (SELECT *,\\n       to_date('2016-02-11 00:00:00', 'YYYY-MM-DD') AS date\\nFROM (SELECT *\\n      FROM cache.xffc9c4147a621ede0cdf89cf42166c37) AS dl)) UNION ALL (SELECT *,\\n       to_date('2016-02-12 00:00:00', 'YYYY-MM-DD') AS date\\nFROM (SELECT *\\n      FROM cache.x28baca238306ee5ce9066ac057095dcd) AS dl)) UNION ALL (SELECT *,\\n       to_date('2016-02-13 00:00:00', 'YYYY-MM-DD') AS date\\nFROM (SELECT *\\n      FROM cache.xcbb4d7341548bbf13b2fb5c8ea7ebc9b) AS dl)) UNION ALL (SELECT *,\\n       to_date('2016-02-14 00:00:00', 'YYYY-MM-DD') AS date\\nFROM (SELECT *\\n      FROM cache.x71f98ffbc2867e63eef5bdb73a8f7368) AS dl)) UNION ALL (SELECT *,\\n       to_date('2016-02-15 00:00:00', 'YYYY-MM-DD') AS date\\nFROM (SELECT *\\n      FROM cache.x8a2e685cd576bcbe8f65d21d12e44a31) AS dl)) UNION ALL (SELECT *,\\n       to_date('2016-02-16 00:00:00', 'YYYY-MM-DD') AS date\\nFROM (SELECT *\\n      FROM cache.x16a9db7fb597455bfe8c6eeaacfa8970) AS dl)) UNION ALL (SELECT *,\\n       to_date('2016-02-17 00:00:00', 'YYYY-MM-DD') AS date\\nFROM (SELECT *\\n      FROM cache.xed625075c26ae4c4dd9124f67f894baa) AS dl)) UNION ALL (SELECT *,\\n       to_date('2016-02-18 00:00:00', 'YYYY-MM-DD') AS date\\nFROM (SELECT *\\n      FROM cache.x45b6598a9e3dad547870a65902c83553) AS dl)) UNION ALL (SELECT *,\\n       to_date('2016-02-19 00:00:00', 'YYYY-MM-DD') AS date\\nFROM (SELECT *\\n      FROM cache.xe07ecf68a04f446cbdc511e8a87ba318) AS dl)) UNION ALL (SELECT *,\\n       to_date('2016-02-20 00:00:00', 'YYYY-MM-DD') AS date\\nFROM (SELECT *\\n      FROM cache.x89805a9c835a34f060c42c9b77d7faac) AS dl)) UNION ALL (SELECT *,\\n       to_date('2016-02-21 00:00:00', 'YYYY-MM-DD') AS date\\nFROM (SELECT *\\n      FROM cache.x82fc7767605516687897dbe226364dce) AS dl)) UNION ALL (SELECT *,\\n       to_date('2016-02-22 00:00:00', 'YYYY-MM-DD') AS date\\nFROM (SELECT *\\n      FROM cache.x793bc3da403df74d8f3fa6a83a0eeb50) AS dl)) UNION ALL (SELECT *,\\n       to_date('2016-02-23 00:00:00', 'YYYY-MM-DD') AS date\\nFROM (SELECT *\\n      FROM cache.xd7a3b916c322c7c845881bdc90453d8d) AS dl)) UNION ALL (SELECT *,\\n       to_date('2016-02-24 00:00:00', 'YYYY-MM-DD') AS date\\nFROM (SELECT *\\n      FROM cache.xec97e74212c55708e49970633062fa26) AS dl)) AS all_locs\\n        GROUP BY all_locs.subscriber, pcod\\n        ) AS times_visited) AS ranked\\n        WHERE rank = 1\\n        ) _)]\\n(Background on this error at: http://sqlalche.me/e/13/e3q8)\",\"logger\":\"flowmachine.debug\",\"level\":\"error\",\"timestamp\":\"2021-12-03T13:58:59.261319Z\"}\n",
      "{\"submodule\":\"flowmachine.core.query\",\"event\":\"Error executing SQL: 'EXPLAIN (ANALYZE TRUE, TIMING FALSE, FORMAT JSON) CREATE TABLE cache.xfab676b50942f7c3da402bae53e44a41 AS \\n        (SELECT subscriber, pcod FROM (\\n        SELECT ranked.subscriber, pcod\\n        FROM\\n             (SELECT times_visited.subscriber, pcod,\\n             row_number() OVER (PARTITION BY times_visited.subscriber\\n                 ORDER BY total DESC, times_visited.date DESC) AS rank\\n             FROM (\\n        SELECT all_locs.subscriber, pcod, count(*) AS total, max(all_locs.date) as date\\n        FROM (((((((((((((((((((SELECT *,\\n       to_date('2016-02-09 00:00:00', 'YYYY-MM-DD') AS date\\nFROM (SELECT *\\n      FROM cache.xff3d85f3ea7f885e471ca7c5816b6aab) AS dl) UNION ALL (SELECT *,\\n       to_date('2016-02-10 00:00:00', 'YYYY-MM-DD') AS date\\nFROM (SELECT *\\n      FROM cache.x07237dc61635165204ab24a929271768) AS dl)) UNION ALL (SELECT *,\\n       to_date('2016-02-11 00:00:00', 'YYYY-MM-DD') AS date\\nFROM (SELECT *\\n      FROM cache.xffc9c4147a621ede0cdf89cf42166c37) AS dl)) UNION ALL (SELECT *,\\n       to_date('2016-02-12 00:00:00', 'YYYY-MM-DD') AS date\\nFROM (SELECT *\\n      FROM cache.x28baca238306ee5ce9066ac057095dcd) AS dl)) UNION ALL (SELECT *,\\n       to_date('2016-02-13 00:00:00', 'YYYY-MM-DD') AS date\\nFROM (SELECT *\\n      FROM cache.xcbb4d7341548bbf13b2fb5c8ea7ebc9b) AS dl)) UNION ALL (SELECT *,\\n       to_date('2016-02-14 00:00:00', 'YYYY-MM-DD') AS date\\nFROM (SELECT *\\n      FROM cache.x71f98ffbc2867e63eef5bdb73a8f7368) AS dl)) UNION ALL (SELECT *,\\n       to_date('2016-02-15 00:00:00', 'YYYY-MM-DD') AS date\\nFROM (SELECT *\\n      FROM cache.x8a2e685cd576bcbe8f65d21d12e44a31) AS dl)) UNION ALL (SELECT *,\\n       to_date('2016-02-16 00:00:00', 'YYYY-MM-DD') AS date\\nFROM (SELECT *\\n      FROM cache.x16a9db7fb597455bfe8c6eeaacfa8970) AS dl)) UNION ALL (SELECT *,\\n       to_date('2016-02-17 00:00:00', 'YYYY-MM-DD') AS date\\nFROM (SELECT *\\n      FROM cache.xed625075c26ae4c4dd9124f67f894baa) AS dl)) UNION ALL (SELECT *,\\n       to_date('2016-02-18 00:00:00', 'YYYY-MM-DD') AS date\\nFROM (SELECT *\\n      FROM cache.x45b6598a9e3dad547870a65902c83553) AS dl)) UNION ALL (SELECT *,\\n       to_date('2016-02-19 00:00:00', 'YYYY-MM-DD') AS date\\nFROM (SELECT *\\n      FROM cache.xe07ecf68a04f446cbdc511e8a87ba318) AS dl)) UNION ALL (SELECT *,\\n       to_date('2016-02-20 00:00:00', 'YYYY-MM-DD') AS date\\nFROM (SELECT *\\n      FROM cache.x89805a9c835a34f060c42c9b77d7faac) AS dl)) UNION ALL (SELECT *,\\n       to_date('2016-02-21 00:00:00', 'YYYY-MM-DD') AS date\\nFROM (SELECT *\\n      FROM cache.x82fc7767605516687897dbe226364dce) AS dl)) UNION ALL (SELECT *,\\n       to_date('2016-02-22 00:00:00', 'YYYY-MM-DD') AS date\\nFROM (SELECT *\\n      FROM cache.x793bc3da403df74d8f3fa6a83a0eeb50) AS dl)) UNION ALL (SELECT *,\\n       to_date('2016-02-23 00:00:00', 'YYYY-MM-DD') AS date\\nFROM (SELECT *\\n      FROM cache.xd7a3b916c322c7c845881bdc90453d8d) AS dl)) UNION ALL (SELECT *,\\n       to_date('2016-02-24 00:00:00', 'YYYY-MM-DD') AS date\\nFROM (SELECT *\\n      FROM cache.xec97e74212c55708e49970633062fa26) AS dl)) UNION ALL (SELECT *,\\n       to_date('2016-02-25 00:00:00', 'YYYY-MM-DD') AS date\\nFROM (SELECT *\\n      FROM cache.x24eafb34d2020d00376d4f7aff024e26) AS dl)) UNION ALL (SELECT *,\\n       to_date('2016-02-26 00:00:00', 'YYYY-MM-DD') AS date\\nFROM (SELECT *\\n      FROM cache.x4ac7ab0cc16234362b8c37a1a1fc2971) AS dl)) UNION ALL (SELECT *,\\n       to_date('2016-02-27 00:00:00', 'YYYY-MM-DD') AS date\\nFROM (SELECT *\\n      FROM cache.x71c2407666a2a3ce902a50517c50b39f) AS dl)) AS all_locs\\n        GROUP BY all_locs.subscriber, pcod\\n        ) AS times_visited) AS ranked\\n        WHERE rank = 1\\n        ) _)'. Error was (psycopg2.errors.DiskFull) could not extend file \\\"base/16384/28061\\\": wrote only 4096 of 8192 bytes at block 426\\nHINT:  Check free disk space.\\n\\n[SQL: EXPLAIN (ANALYZE TRUE, TIMING FALSE, FORMAT JSON) CREATE TABLE cache.xfab676b50942f7c3da402bae53e44a41 AS \\n        (SELECT subscriber, pcod FROM (\\n        SELECT ranked.subscriber, pcod\\n        FROM\\n             (SELECT times_visited.subscriber, pcod,\\n             row_number() OVER (PARTITION BY times_visited.subscriber\\n                 ORDER BY total DESC, times_visited.date DESC) AS rank\\n             FROM (\\n        SELECT all_locs.subscriber, pcod, count(*) AS total, max(all_locs.date) as date\\n        FROM (((((((((((((((((((SELECT *,\\n       to_date('2016-02-09 00:00:00', 'YYYY-MM-DD') AS date\\nFROM (SELECT *\\n      FROM cache.xff3d85f3ea7f885e471ca7c5816b6aab) AS dl) UNION ALL (SELECT *,\\n       to_date('2016-02-10 00:00:00', 'YYYY-MM-DD') AS date\\nFROM (SELECT *\\n      FROM cache.x07237dc61635165204ab24a929271768) AS dl)) UNION ALL (SELECT *,\\n       to_date('2016-02-11 00:00:00', 'YYYY-MM-DD') AS date\\nFROM (SELECT *\\n      FROM cache.xffc9c4147a621ede0cdf89cf42166c37) AS dl)) UNION ALL (SELECT *,\\n       to_date('2016-02-12 00:00:00', 'YYYY-MM-DD') AS date\\nFROM (SELECT *\\n      FROM cache.x28baca238306ee5ce9066ac057095dcd) AS dl)) UNION ALL (SELECT *,\\n       to_date('2016-02-13 00:00:00', 'YYYY-MM-DD') AS date\\nFROM (SELECT *\\n      FROM cache.xcbb4d7341548bbf13b2fb5c8ea7ebc9b) AS dl)) UNION ALL (SELECT *,\\n       to_date('2016-02-14 00:00:00', 'YYYY-MM-DD') AS date\\nFROM (SELECT *\\n      FROM cache.x71f98ffbc2867e63eef5bdb73a8f7368) AS dl)) UNION ALL (SELECT *,\\n       to_date('2016-02-15 00:00:00', 'YYYY-MM-DD') AS date\\nFROM (SELECT *\\n      FROM cache.x8a2e685cd576bcbe8f65d21d12e44a31) AS dl)) UNION ALL (SELECT *,\\n       to_date('2016-02-16 00:00:00', 'YYYY-MM-DD') AS date\\nFROM (SELECT *\\n      FROM cache.x16a9db7fb597455bfe8c6eeaacfa8970) AS dl)) UNION ALL (SELECT *,\\n       to_date('2016-02-17 00:00:00', 'YYYY-MM-DD') AS date\\nFROM (SELECT *\\n      FROM cache.xed625075c26ae4c4dd9124f67f894baa) AS dl)) UNION ALL (SELECT *,\\n       to_date('2016-02-18 00:00:00', 'YYYY-MM-DD') AS date\\nFROM (SELECT *\\n      FROM cache.x45b6598a9e3dad547870a65902c83553) AS dl)) UNION ALL (SELECT *,\\n       to_date('2016-02-19 00:00:00', 'YYYY-MM-DD') AS date\\nFROM (SELECT *\\n      FROM cache.xe07ecf68a04f446cbdc511e8a87ba318) AS dl)) UNION ALL (SELECT *,\\n       to_date('2016-02-20 00:00:00', 'YYYY-MM-DD') AS date\\nFROM (SELECT *\\n      FROM cache.x89805a9c835a34f060c42c9b77d7faac) AS dl)) UNION ALL (SELECT *,\\n       to_date('2016-02-21 00:00:00', 'YYYY-MM-DD') AS date\\nFROM (SELECT *\\n      FROM cache.x82fc7767605516687897dbe226364dce) AS dl)) UNION ALL (SELECT *,\\n       to_date('2016-02-22 00:00:00', 'YYYY-MM-DD') AS date\\nFROM (SELECT *\\n      FROM cache.x793bc3da403df74d8f3fa6a83a0eeb50) AS dl)) UNION ALL (SELECT *,\\n       to_date('2016-02-23 00:00:00', 'YYYY-MM-DD') AS date\\nFROM (SELECT *\\n      FROM cache.xd7a3b916c322c7c845881bdc90453d8d) AS dl)) UNION ALL (SELECT *,\\n       to_date('2016-02-24 00:00:00', 'YYYY-MM-DD') AS date\\nFROM (SELECT *\\n      FROM cache.xec97e74212c55708e49970633062fa26) AS dl)) UNION ALL (SELECT *,\\n       to_date('2016-02-25 00:00:00', 'YYYY-MM-DD') AS date\\nFROM (SELECT *\\n      FROM cache.x24eafb34d2020d00376d4f7aff024e26) AS dl)) UNION ALL (SELECT *,\\n       to_date('2016-02-26 00:00:00', 'YYYY-MM-DD') AS date\\nFROM (SELECT *\\n      FROM cache.x4ac7ab0cc16234362b8c37a1a1fc2971) AS dl)) UNION ALL (SELECT *,\\n       to_date('2016-02-27 00:00:00', 'YYYY-MM-DD') AS date\\nFROM (SELECT *\\n      FROM cache.x71c2407666a2a3ce902a50517c50b39f) AS dl)) AS all_locs\\n        GROUP BY all_locs.subscriber, pcod\\n        ) AS times_visited) AS ranked\\n        WHERE rank = 1\\n        ) _)]\\n(Background on this error at: http://sqlalche.me/e/13/e3q8)\",\"logger\":\"flowmachine.debug\",\"level\":\"error\",\"timestamp\":\"2021-12-03T13:59:00.179652Z\"}\n",
      "{\"submodule\":\"flowmachine.core.cache\",\"event\":\"Error executing SQL. Error was (psycopg2.errors.DiskFull) could not extend file \\\"base/16384/28061\\\": wrote only 4096 of 8192 bytes at block 426\\nHINT:  Check free disk space.\\n\\n[SQL: EXPLAIN (ANALYZE TRUE, TIMING FALSE, FORMAT JSON) CREATE TABLE cache.xfab676b50942f7c3da402bae53e44a41 AS \\n        (SELECT subscriber, pcod FROM (\\n        SELECT ranked.subscriber, pcod\\n        FROM\\n             (SELECT times_visited.subscriber, pcod,\\n             row_number() OVER (PARTITION BY times_visited.subscriber\\n                 ORDER BY total DESC, times_visited.date DESC) AS rank\\n             FROM (\\n        SELECT all_locs.subscriber, pcod, count(*) AS total, max(all_locs.date) as date\\n        FROM (((((((((((((((((((SELECT *,\\n       to_date('2016-02-09 00:00:00', 'YYYY-MM-DD') AS date\\nFROM (SELECT *\\n      FROM cache.xff3d85f3ea7f885e471ca7c5816b6aab) AS dl) UNION ALL (SELECT *,\\n       to_date('2016-02-10 00:00:00', 'YYYY-MM-DD') AS date\\nFROM (SELECT *\\n      FROM cache.x07237dc61635165204ab24a929271768) AS dl)) UNION ALL (SELECT *,\\n       to_date('2016-02-11 00:00:00', 'YYYY-MM-DD') AS date\\nFROM (SELECT *\\n      FROM cache.xffc9c4147a621ede0cdf89cf42166c37) AS dl)) UNION ALL (SELECT *,\\n       to_date('2016-02-12 00:00:00', 'YYYY-MM-DD') AS date\\nFROM (SELECT *\\n      FROM cache.x28baca238306ee5ce9066ac057095dcd) AS dl)) UNION ALL (SELECT *,\\n       to_date('2016-02-13 00:00:00', 'YYYY-MM-DD') AS date\\nFROM (SELECT *\\n      FROM cache.xcbb4d7341548bbf13b2fb5c8ea7ebc9b) AS dl)) UNION ALL (SELECT *,\\n       to_date('2016-02-14 00:00:00', 'YYYY-MM-DD') AS date\\nFROM (SELECT *\\n      FROM cache.x71f98ffbc2867e63eef5bdb73a8f7368) AS dl)) UNION ALL (SELECT *,\\n       to_date('2016-02-15 00:00:00', 'YYYY-MM-DD') AS date\\nFROM (SELECT *\\n      FROM cache.x8a2e685cd576bcbe8f65d21d12e44a31) AS dl)) UNION ALL (SELECT *,\\n       to_date('2016-02-16 00:00:00', 'YYYY-MM-DD') AS date\\nFROM (SELECT *\\n      FROM cache.x16a9db7fb597455bfe8c6eeaacfa8970) AS dl)) UNION ALL (SELECT *,\\n       to_date('2016-02-17 00:00:00', 'YYYY-MM-DD') AS date\\nFROM (SELECT *\\n      FROM cache.xed625075c26ae4c4dd9124f67f894baa) AS dl)) UNION ALL (SELECT *,\\n       to_date('2016-02-18 00:00:00', 'YYYY-MM-DD') AS date\\nFROM (SELECT *\\n      FROM cache.x45b6598a9e3dad547870a65902c83553) AS dl)) UNION ALL (SELECT *,\\n       to_date('2016-02-19 00:00:00', 'YYYY-MM-DD') AS date\\nFROM (SELECT *\\n      FROM cache.xe07ecf68a04f446cbdc511e8a87ba318) AS dl)) UNION ALL (SELECT *,\\n       to_date('2016-02-20 00:00:00', 'YYYY-MM-DD') AS date\\nFROM (SELECT *\\n      FROM cache.x89805a9c835a34f060c42c9b77d7faac) AS dl)) UNION ALL (SELECT *,\\n       to_date('2016-02-21 00:00:00', 'YYYY-MM-DD') AS date\\nFROM (SELECT *\\n      FROM cache.x82fc7767605516687897dbe226364dce) AS dl)) UNION ALL (SELECT *,\\n       to_date('2016-02-22 00:00:00', 'YYYY-MM-DD') AS date\\nFROM (SELECT *\\n      FROM cache.x793bc3da403df74d8f3fa6a83a0eeb50) AS dl)) UNION ALL (SELECT *,\\n       to_date('2016-02-23 00:00:00', 'YYYY-MM-DD') AS date\\nFROM (SELECT *\\n      FROM cache.xd7a3b916c322c7c845881bdc90453d8d) AS dl)) UNION ALL (SELECT *,\\n       to_date('2016-02-24 00:00:00', 'YYYY-MM-DD') AS date\\nFROM (SELECT *\\n      FROM cache.xec97e74212c55708e49970633062fa26) AS dl)) UNION ALL (SELECT *,\\n       to_date('2016-02-25 00:00:00', 'YYYY-MM-DD') AS date\\nFROM (SELECT *\\n      FROM cache.x24eafb34d2020d00376d4f7aff024e26) AS dl)) UNION ALL (SELECT *,\\n       to_date('2016-02-26 00:00:00', 'YYYY-MM-DD') AS date\\nFROM (SELECT *\\n      FROM cache.x4ac7ab0cc16234362b8c37a1a1fc2971) AS dl)) UNION ALL (SELECT *,\\n       to_date('2016-02-27 00:00:00', 'YYYY-MM-DD') AS date\\nFROM (SELECT *\\n      FROM cache.x71c2407666a2a3ce902a50517c50b39f) AS dl)) AS all_locs\\n        GROUP BY all_locs.subscriber, pcod\\n        ) AS times_visited) AS ranked\\n        WHERE rank = 1\\n        ) _)]\\n(Background on this error at: http://sqlalche.me/e/13/e3q8)\",\"logger\":\"flowmachine.debug\",\"level\":\"error\",\"timestamp\":\"2021-12-03T13:59:00.186521Z\"}\n",
      "{\"submodule\":\"flowmachine.core.query\",\"event\":\"Error executing SQL: 'EXPLAIN (ANALYZE TRUE, TIMING FALSE, FORMAT JSON) CREATE TABLE cache.x903bf742e3ffb8c1e9b414dbf204caa6 AS \\n        (SELECT subscriber, pcod, date FROM (\\n        SELECT \\n            all_locs.subscriber, \\n            pcod,\\n            all_locs.date\\n        FROM (((((((SELECT *,\\n       to_date('2016-02-05 00:00:00', 'YYYY-MM-DD') AS date\\nFROM (SELECT *\\n      FROM cache.xed6e5c0812e423db90d98bdd4fdaab67) AS dl) UNION ALL (SELECT *,\\n       to_date('2016-02-06 00:00:00', 'YYYY-MM-DD') AS date\\nFROM (SELECT ranked.subscriber,\\n             pcod\\n      FROM (SELECT times_visited.subscriber,\\n                   pcod,\\n                   row_number() OVER (PARTITION BY times_visited.subscriber\\n                                      ORDER BY total DESC,\\n                                               times_visited.date DESC) AS rank\\n            FROM (SELECT all_locs.subscriber,\\n                         pcod,\\n                         count(*) AS total,\\n                         max(all_locs.date) AS date\\n                  FROM ((((((((((((((((((SELECT *,\\n                                                to_date('2016-02-06 00:00:00', 'YYYY-MM-DD') AS date\\n                                         FROM (SELECT *\\n                                               FROM cache.xa104d376c7d53b1b092d318b3b14216c) AS dl\\n\\n                                         UNION ALL\\n\\n                                         SELECT *,\\n                                                to_date('2016-02-07 00:00:00', 'YYYY-MM-DD') AS date\\n                                         FROM (SELECT *\\n                                               FROM cache.x63ffcb6b1d3c0ea7aeb3f0b569f508f1) AS dl)\\n\\n                                        UNION ALL\\n\\n                                        SELECT *,\\n                                               to_date('2016-02-08 00:00:00', 'YYYY-MM-DD') AS date\\n                                        FROM (SELECT *\\n                                              FROM cache.x71ce60134342b71f6dfa532ced8642cd) AS dl)\\n\\n                                       UNION ALL\\n\\n                                       SELECT *,\\n                                              to_date('2016-02-09 00:00:00', 'YYYY-MM-DD') AS date\\n                                       FROM (SELECT *\\n                                             FROM cache.xff3d85f3ea7f885e471ca7c5816b6aab) AS dl)\\n\\n                                      UNION ALL\\n\\n                                      SELECT *,\\n                                             to_date('2016-02-10 00:00:00', 'YYYY-MM-DD') AS date\\n                                      FROM (SELECT *\\n                                            FROM cache.x07237dc61635165204ab24a929271768) AS dl)\\n\\n                                     UNION ALL\\n\\n                                     SELECT *,\\n                                            to_date('2016-02-11 00:00:00', 'YYYY-MM-DD') AS date\\n                                     FROM (SELECT *\\n                                           FROM cache.xffc9c4147a621ede0cdf89cf42166c37) AS dl)\\n\\n                                    UNION ALL\\n\\n                                    SELECT *,\\n                                           to_date('2016-02-12 00:00:00', 'YYYY-MM-DD') AS date\\n                                    FROM (SELECT *\\n                                          FROM cache.x28baca238306ee5ce9066ac057095dcd) AS dl)\\n\\n                                   UNION ALL\\n\\n                                   SELECT *,\\n                                          to_date('2016-02-13 00:00:00', 'YYYY-MM-DD') AS date\\n                                   FROM (SELECT *\\n                                         FROM cache.xcbb4d7341548bbf13b2fb5c8ea7ebc9b) AS dl)\\n\\n                                  UNION ALL\\n\\n                                  SELECT *,\\n                                         to_date('2016-02-14 00:00:00', 'YYYY-MM-DD') AS date\\n                                  FROM (SELECT *\\n                                        FROM cache.x71f98ffbc2867e63eef5bdb73a8f7368) AS dl)\\n\\n                                 UNION ALL\\n\\n                                 SELECT *,\\n                                        to_date('2016-02-15 00:00:00', 'YYYY-MM-DD') AS date\\n                                 FROM (SELECT *\\n                                       FROM cache.x8a2e685cd576bcbe8f65d21d12e44a31) AS dl)\\n\\n                                UNION ALL\\n\\n                                SELECT *,\\n                                       to_date('2016-02-16 00:00:00', 'YYYY-MM-DD') AS date\\n                                FROM (SELECT *\\n                                      FROM cache.x16a9db7fb597455bfe8c6eeaacfa8970) AS dl)\\n\\n                               UNION ALL\\n\\n                               SELECT *,\\n                                      to_date('2016-02-17 00:00:00', 'YYYY-MM-DD') AS date\\n                               FROM (SELECT *\\n                                     FROM cache.xed625075c26ae4c4dd9124f67f894baa) AS dl)\\n\\n                              UNION ALL\\n\\n                              SELECT *,\\n                                     to_date('2016-02-18 00:00:00', 'YYYY-MM-DD') AS date\\n                              FROM (SELECT *\\n                                    FROM cache.x45b6598a9e3dad547870a65902c83553) AS dl)\\n\\n                             UNION ALL\\n\\n                             SELECT *,\\n                                    to_date('2016-02-19 00:00:00', 'YYYY-MM-DD') AS date\\n                             FROM (SELECT *\\n                                   FROM cache.xe07ecf68a04f446cbdc511e8a87ba318) AS dl)\\n\\n                            UNION ALL\\n\\n                            SELECT *,\\n                                   to_date('2016-02-20 00:00:00', 'YYYY-MM-DD') AS date\\n                            FROM (SELECT *\\n                                  FROM cache.x89805a9c835a34f060c42c9b77d7faac) AS dl)\\n\\n                           UNION ALL\\n\\n                           SELECT *,\\n                                  to_date('2016-02-21 00:00:00', 'YYYY-MM-DD') AS date\\n                           FROM (SELECT *\\n                                 FROM cache.x82fc7767605516687897dbe226364dce) AS dl)\\n\\n                          UNION ALL\\n\\n                          SELECT *,\\n                                 to_date('2016-02-22 00:00:00', 'YYYY-MM-DD') AS date\\n                          FROM (SELECT *\\n                                FROM cache.x793bc3da403df74d8f3fa6a83a0eeb50) AS dl)\\n\\n                         UNION ALL\\n\\n                         SELECT *,\\n                                to_date('2016-02-23 00:00:00', 'YYYY-MM-DD') AS date\\n                         FROM (SELECT *\\n                               FROM cache.xd7a3b916c322c7c845881bdc90453d8d) AS dl)\\n\\n                        UNION ALL\\n\\n                        SELECT *,\\n                               to_date('2016-02-24 00:00:00', 'YYYY-MM-DD') AS date\\n                        FROM (SELECT *\\n                              FROM cache.xec97e74212c55708e49970633062fa26) AS dl) AS all_locs\\n                  GROUP BY all_locs.subscriber, pcod) AS times_visited) AS ranked\\n      WHERE rank = 1) AS dl)) UNION ALL (SELECT *,\\n       to_date('2016-02-07 00:00:00', 'YYYY-MM-DD') AS date\\nFROM (SELECT *\\n      FROM cache.xbfc1e8654f0878bda57bb50c14ecc02e) AS dl)) UNION ALL (SELECT *,\\n       to_date('2016-02-08 00:00:00', 'YYYY-MM-DD') AS date\\nFROM (SELECT ranked.subscriber,\\n             pcod\\n      FROM (SELECT times_visited.subscriber,\\n                   pcod,\\n                   row_number() OVER (PARTITION BY times_visited.subscriber\\n                                      ORDER BY total DESC,\\n                                               times_visited.date DESC) AS rank\\n            FROM (SELECT all_locs.subscriber,\\n                         pcod,\\n                         count(*) AS total,\\n                         max(all_locs.date) AS date\\n                  FROM ((((((((((((((((((SELECT *,\\n                                                to_date('2016-02-08 00:00:00', 'YYYY-MM-DD') AS date\\n                                         FROM (SELECT *\\n                                               FROM cache.x71ce60134342b71f6dfa532ced8642cd) AS dl\\n\\n                                         UNION ALL\\n\\n                                         SELECT *,\\n                                                to_date('2016-02-09 00:00:00', 'YYYY-MM-DD') AS date\\n                                         FROM (SELECT *\\n                                               FROM cache.xff3d85f3ea7f885e471ca7c5816b6aab) AS dl)\\n\\n                                        UNION ALL\\n\\n                                        SELECT *,\\n                                               to_date('2016-02-10 00:00:00', 'YYYY-MM-DD') AS date\\n                                        FROM (SELECT *\\n                                              FROM cache.x07237dc61635165204ab24a929271768) AS dl)\\n\\n                                       UNION ALL\\n\\n                                       SELECT *,\\n                                              to_date('2016-02-11 00:00:00', 'YYYY-MM-DD') AS date\\n                                       FROM (SELECT *\\n                                             FROM cache.xffc9c4147a621ede0cdf89cf42166c37) AS dl)\\n\\n                                      UNION ALL\\n\\n                                      SELECT *,\\n                                             to_date('2016-02-12 00:00:00', 'YYYY-MM-DD') AS date\\n                                      FROM (SELECT *\\n                                            FROM cache.x28baca238306ee5ce9066ac057095dcd) AS dl)\\n\\n                                     UNION ALL\\n\\n                                     SELECT *,\\n                                            to_date('2016-02-13 00:00:00', 'YYYY-MM-DD') AS date\\n                                     FROM (SELECT *\\n                                           FROM cache.xcbb4d7341548bbf13b2fb5c8ea7ebc9b) AS dl)\\n\\n                                    UNION ALL\\n\\n                                    SELECT *,\\n                                           to_date('2016-02-14 00:00:00', 'YYYY-MM-DD') AS date\\n                                    FROM (SELECT *\\n                                          FROM cache.x71f98ffbc2867e63eef5bdb73a8f7368) AS dl)\\n\\n                                   UNION ALL\\n\\n                                   SELECT *,\\n                                          to_date('2016-02-15 00:00:00', 'YYYY-MM-DD') AS date\\n                                   FROM (SELECT *\\n                                         FROM cache.x8a2e685cd576bcbe8f65d21d12e44a31) AS dl)\\n\\n                                  UNION ALL\\n\\n                                  SELECT *,\\n                                         to_date('2016-02-16 00:00:00', 'YYYY-MM-DD') AS date\\n                                  FROM (SELECT *\\n                                        FROM cache.x16a9db7fb597455bfe8c6eeaacfa8970) AS dl)\\n\\n                                 UNION ALL\\n\\n                                 SELECT *,\\n                                        to_date('2016-02-17 00:00:00', 'YYYY-MM-DD') AS date\\n                                 FROM (SELECT *\\n                                       FROM cache.xed625075c26ae4c4dd9124f67f894baa) AS dl)\\n\\n                                UNION ALL\\n\\n                                SELECT *,\\n                                       to_date('2016-02-18 00:00:00', 'YYYY-MM-DD') AS date\\n                                FROM (SELECT *\\n                                      FROM cache.x45b6598a9e3dad547870a65902c83553) AS dl)\\n\\n                               UNION ALL\\n\\n                               SELECT *,\\n                                      to_date('2016-02-19 00:00:00', 'YYYY-MM-DD') AS date\\n                               FROM (SELECT *\\n                                     FROM cache.xe07ecf68a04f446cbdc511e8a87ba318) AS dl)\\n\\n                              UNION ALL\\n\\n                              SELECT *,\\n                                     to_date('2016-02-20 00:00:00', 'YYYY-MM-DD') AS date\\n                              FROM (SELECT *\\n                                    FROM cache.x89805a9c835a34f060c42c9b77d7faac) AS dl)\\n\\n                             UNION ALL\\n\\n                             SELECT *,\\n                                    to_date('2016-02-21 00:00:00', 'YYYY-MM-DD') AS date\\n                             FROM (SELECT *\\n                                   FROM cache.x82fc7767605516687897dbe226364dce) AS dl)\\n\\n                            UNION ALL\\n\\n                            SELECT *,\\n                                   to_date('2016-02-22 00:00:00', 'YYYY-MM-DD') AS date\\n                            FROM (SELECT *\\n                                  FROM cache.x793bc3da403df74d8f3fa6a83a0eeb50) AS dl)\\n\\n                           UNION ALL\\n\\n                           SELECT *,\\n                                  to_date('2016-02-23 00:00:00', 'YYYY-MM-DD') AS date\\n                           FROM (SELECT *\\n                                 FROM cache.xd7a3b916c322c7c845881bdc90453d8d) AS dl)\\n\\n                          UNION ALL\\n\\n                          SELECT *,\\n                                 to_date('2016-02-24 00:00:00', 'YYYY-MM-DD') AS date\\n                          FROM (SELECT *\\n                                FROM cache.xec97e74212c55708e49970633062fa26) AS dl)\\n\\n                         UNION ALL\\n\\n                         SELECT *,\\n                                to_date('2016-02-25 00:00:00', 'YYYY-MM-DD') AS date\\n                         FROM (SELECT *\\n                               FROM cache.x24eafb34d2020d00376d4f7aff024e26) AS dl)\\n\\n                        UNION ALL\\n\\n                        SELECT *,\\n                               to_date('2016-02-26 00:00:00', 'YYYY-MM-DD') AS date\\n                        FROM (SELECT *\\n                              FROM cache.x4ac7ab0cc16234362b8c37a1a1fc2971) AS dl) AS all_locs\\n                  GROUP BY all_locs.subscriber, pcod) AS times_visited) AS ranked\\n      WHERE rank = 1) AS dl)) UNION ALL (SELECT *,\\n       to_date('2016-02-09 00:00:00', 'YYYY-MM-DD') AS date\\nFROM (SELECT ranked.subscriber,\\n             pcod\\n      FROM (SELECT times_visited.subscriber,\\n                   pcod,\\n                   row_number() OVER (PARTITION BY times_visited.subscriber\\n                                      ORDER BY total DESC,\\n                                               times_visited.date DESC) AS rank\\n            FROM (SELECT all_locs.subscriber,\\n                         pcod,\\n                         count(*) AS total,\\n                         max(all_locs.date) AS date\\n                  FROM ((((((((((((((((((SELECT *,\\n                                                to_date('2016-02-09 00:00:00', 'YYYY-MM-DD') AS date\\n                                         FROM (SELECT *\\n                                               FROM cache.xff3d85f3ea7f885e471ca7c5816b6aab) AS dl\\n\\n                                         UNION ALL\\n\\n                                         SELECT *,\\n                                                to_date('2016-02-10 00:00:00', 'YYYY-MM-DD') AS date\\n                                         FROM (SELECT *\\n                                               FROM cache.x07237dc61635165204ab24a929271768) AS dl)\\n\\n                                        UNION ALL\\n\\n                                        SELECT *,\\n                                               to_date('2016-02-11 00:00:00', 'YYYY-MM-DD') AS date\\n                                        FROM (SELECT *\\n                                              FROM cache.xffc9c4147a621ede0cdf89cf42166c37) AS dl)\\n\\n                                       UNION ALL\\n\\n                                       SELECT *,\\n                                              to_date('2016-02-12 00:00:00', 'YYYY-MM-DD') AS date\\n                                       FROM (SELECT *\\n                                             FROM cache.x28baca238306ee5ce9066ac057095dcd) AS dl)\\n\\n                                      UNION ALL\\n\\n                                      SELECT *,\\n                                             to_date('2016-02-13 00:00:00', 'YYYY-MM-DD') AS date\\n                                      FROM (SELECT *\\n                                            FROM cache.xcbb4d7341548bbf13b2fb5c8ea7ebc9b) AS dl)\\n\\n                                     UNION ALL\\n\\n                                     SELECT *,\\n                                            to_date('2016-02-14 00:00:00', 'YYYY-MM-DD') AS date\\n                                     FROM (SELECT *\\n                                           FROM cache.x71f98ffbc2867e63eef5bdb73a8f7368) AS dl)\\n\\n                                    UNION ALL\\n\\n                                    SELECT *,\\n                                           to_date('2016-02-15 00:00:00', 'YYYY-MM-DD') AS date\\n                                    FROM (SELECT *\\n                                          FROM cache.x8a2e685cd576bcbe8f65d21d12e44a31) AS dl)\\n\\n                                   UNION ALL\\n\\n                                   SELECT *,\\n                                          to_date('2016-02-16 00:00:00', 'YYYY-MM-DD') AS date\\n                                   FROM (SELECT *\\n                                         FROM cache.x16a9db7fb597455bfe8c6eeaacfa8970) AS dl)\\n\\n                                  UNION ALL\\n\\n                                  SELECT *,\\n                                         to_date('2016-02-17 00:00:00', 'YYYY-MM-DD') AS date\\n                                  FROM (SELECT *\\n                                        FROM cache.xed625075c26ae4c4dd9124f67f894baa) AS dl)\\n\\n                                 UNION ALL\\n\\n                                 SELECT *,\\n                                        to_date('2016-02-18 00:00:00', 'YYYY-MM-DD') AS date\\n                                 FROM (SELECT *\\n                                       FROM cache.x45b6598a9e3dad547870a65902c83553) AS dl)\\n\\n                                UNION ALL\\n\\n                                SELECT *,\\n                                       to_date('2016-02-19 00:00:00', 'YYYY-MM-DD') AS date\\n                                FROM (SELECT *\\n                                      FROM cache.xe07ecf68a04f446cbdc511e8a87ba318) AS dl)\\n\\n                               UNION ALL\\n\\n                               SELECT *,\\n                                      to_date('2016-02-20 00:00:00', 'YYYY-MM-DD') AS date\\n                               FROM (SELECT *\\n                                     FROM cache.x89805a9c835a34f060c42c9b77d7faac) AS dl)\\n\\n                              UNION ALL\\n\\n                              SELECT *,\\n                                     to_date('2016-02-21 00:00:00', 'YYYY-MM-DD') AS date\\n                              FROM (SELECT *\\n                                    FROM cache.x82fc7767605516687897dbe226364dce) AS dl)\\n\\n                             UNION ALL\\n\\n                             SELECT *,\\n                                    to_date('2016-02-22 00:00:00', 'YYYY-MM-DD') AS date\\n                             FROM (SELECT *\\n                                   FROM cache.x793bc3da403df74d8f3fa6a83a0eeb50) AS dl)\\n\\n                            UNION ALL\\n\\n                            SELECT *,\\n                                   to_date('2016-02-23 00:00:00', 'YYYY-MM-DD') AS date\\n                            FROM (SELECT *\\n                                  FROM cache.xd7a3b916c322c7c845881bdc90453d8d) AS dl)\\n\\n                           UNION ALL\\n\\n                           SELECT *,\\n                                  to_date('2016-02-24 00:00:00', 'YYYY-MM-DD') AS date\\n                           FROM (SELECT *\\n                                 FROM cache.xec97e74212c55708e49970633062fa26) AS dl)\\n\\n                          UNION ALL\\n\\n                          SELECT *,\\n                                 to_date('2016-02-25 00:00:00', 'YYYY-MM-DD') AS date\\n                          FROM (SELECT *\\n                                FROM cache.x24eafb34d2020d00376d4f7aff024e26) AS dl)\\n\\n                         UNION ALL\\n\\n                         SELECT *,\\n                                to_date('2016-02-26 00:00:00', 'YYYY-MM-DD') AS date\\n                         FROM (SELECT *\\n                               FROM cache.x4ac7ab0cc16234362b8c37a1a1fc2971) AS dl)\\n\\n                        UNION ALL\\n\\n                        SELECT *,\\n                               to_date('2016-02-27 00:00:00', 'YYYY-MM-DD') AS date\\n                        FROM (SELECT *\\n                              FROM cache.x71c2407666a2a3ce902a50517c50b39f) AS dl) AS all_locs\\n                  GROUP BY all_locs.subscriber, pcod) AS times_visited) AS ranked\\n      WHERE rank = 1) AS dl)) UNION ALL (SELECT *,\\n       to_date('2016-02-10 00:00:00', 'YYYY-MM-DD') AS date\\nFROM (SELECT *\\n      FROM cache.x511cbb9af1ac3c1c7d419156fb72d2c7) AS dl)) UNION ALL (SELECT *,\\n       to_date('2016-02-11 00:00:00', 'YYYY-MM-DD') AS date\\nFROM (SELECT *\\n      FROM cache.x904ca0b5af77c527d778d10d91aa46b3) AS dl)) AS all_locs\\n        ORDER BY all_locs.subscriber, all_locs.date\\n        ) _)'. Error was (psycopg2.errors.DiskFull) could not write to file \\\"base/pgsql_tmp/pgsql_tmp1110.0\\\": No space left on device\\n\\n[SQL: EXPLAIN (ANALYZE TRUE, TIMING FALSE, FORMAT JSON) CREATE TABLE cache.x903bf742e3ffb8c1e9b414dbf204caa6 AS \\n        (SELECT subscriber, pcod, date FROM (\\n        SELECT \\n            all_locs.subscriber, \\n            pcod,\\n            all_locs.date\\n        FROM (((((((SELECT *,\\n       to_date('2016-02-05 00:00:00', 'YYYY-MM-DD') AS date\\nFROM (SELECT *\\n      FROM cache.xed6e5c0812e423db90d98bdd4fdaab67) AS dl) UNION ALL (SELECT *,\\n       to_date('2016-02-06 00:00:00', 'YYYY-MM-DD') AS date\\nFROM (SELECT ranked.subscriber,\\n             pcod\\n      FROM (SELECT times_visited.subscriber,\\n                   pcod,\\n                   row_number() OVER (PARTITION BY times_visited.subscriber\\n                                      ORDER BY total DESC,\\n                                               times_visited.date DESC) AS rank\\n            FROM (SELECT all_locs.subscriber,\\n                         pcod,\\n                         count(*) AS total,\\n                         max(all_locs.date) AS date\\n                  FROM ((((((((((((((((((SELECT *,\\n                                                to_date('2016-02-06 00:00:00', 'YYYY-MM-DD') AS date\\n                                         FROM (SELECT *\\n                                               FROM cache.xa104d376c7d53b1b092d318b3b14216c) AS dl\\n\\n                                         UNION ALL\\n\\n                                         SELECT *,\\n                                                to_date('2016-02-07 00:00:00', 'YYYY-MM-DD') AS date\\n                                         FROM (SELECT *\\n                                               FROM cache.x63ffcb6b1d3c0ea7aeb3f0b569f508f1) AS dl)\\n\\n                                        UNION ALL\\n\\n                                        SELECT *,\\n                                               to_date('2016-02-08 00:00:00', 'YYYY-MM-DD') AS date\\n                                        FROM (SELECT *\\n                                              FROM cache.x71ce60134342b71f6dfa532ced8642cd) AS dl)\\n\\n                                       UNION ALL\\n\\n                                       SELECT *,\\n                                              to_date('2016-02-09 00:00:00', 'YYYY-MM-DD') AS date\\n                                       FROM (SELECT *\\n                                             FROM cache.xff3d85f3ea7f885e471ca7c5816b6aab) AS dl)\\n\\n                                      UNION ALL\\n\\n                                      SELECT *,\\n                                             to_date('2016-02-10 00:00:00', 'YYYY-MM-DD') AS date\\n                                      FROM (SELECT *\\n                                            FROM cache.x07237dc61635165204ab24a929271768) AS dl)\\n\\n                                     UNION ALL\\n\\n                                     SELECT *,\\n                                            to_date('2016-02-11 00:00:00', 'YYYY-MM-DD') AS date\\n                                     FROM (SELECT *\\n                                           FROM cache.xffc9c4147a621ede0cdf89cf42166c37) AS dl)\\n\\n                                    UNION ALL\\n\\n                                    SELECT *,\\n                                           to_date('2016-02-12 00:00:00', 'YYYY-MM-DD') AS date\\n                                    FROM (SELECT *\\n                                          FROM cache.x28baca238306ee5ce9066ac057095dcd) AS dl)\\n\\n                                   UNION ALL\\n\\n                                   SELECT *,\\n                                          to_date('2016-02-13 00:00:00', 'YYYY-MM-DD') AS date\\n                                   FROM (SELECT *\\n                                         FROM cache.xcbb4d7341548bbf13b2fb5c8ea7ebc9b) AS dl)\\n\\n                                  UNION ALL\\n\\n                                  SELECT *,\\n                                         to_date('2016-02-14 00:00:00', 'YYYY-MM-DD') AS date\\n                                  FROM (SELECT *\\n                                        FROM cache.x71f98ffbc2867e63eef5bdb73a8f7368) AS dl)\\n\\n                                 UNION ALL\\n\\n                                 SELECT *,\\n                                        to_date('2016-02-15 00:00:00', 'YYYY-MM-DD') AS date\\n                                 FROM (SELECT *\\n                                       FROM cache.x8a2e685cd576bcbe8f65d21d12e44a31) AS dl)\\n\\n                                UNION ALL\\n\\n                                SELECT *,\\n                                       to_date('2016-02-16 00:00:00', 'YYYY-MM-DD') AS date\\n                                FROM (SELECT *\\n                                      FROM cache.x16a9db7fb597455bfe8c6eeaacfa8970) AS dl)\\n\\n                               UNION ALL\\n\\n                               SELECT *,\\n                                      to_date('2016-02-17 00:00:00', 'YYYY-MM-DD') AS date\\n                               FROM (SELECT *\\n                                     FROM cache.xed625075c26ae4c4dd9124f67f894baa) AS dl)\\n\\n                              UNION ALL\\n\\n                              SELECT *,\\n                                     to_date('2016-02-18 00:00:00', 'YYYY-MM-DD') AS date\\n                              FROM (SELECT *\\n                                    FROM cache.x45b6598a9e3dad547870a65902c83553) AS dl)\\n\\n                             UNION ALL\\n\\n                             SELECT *,\\n                                    to_date('2016-02-19 00:00:00', 'YYYY-MM-DD') AS date\\n                             FROM (SELECT *\\n                                   FROM cache.xe07ecf68a04f446cbdc511e8a87ba318) AS dl)\\n\\n                            UNION ALL\\n\\n                            SELECT *,\\n                                   to_date('2016-02-20 00:00:00', 'YYYY-MM-DD') AS date\\n                            FROM (SELECT *\\n                                  FROM cache.x89805a9c835a34f060c42c9b77d7faac) AS dl)\\n\\n                           UNION ALL\\n\\n                           SELECT *,\\n                                  to_date('2016-02-21 00:00:00', 'YYYY-MM-DD') AS date\\n                           FROM (SELECT *\\n                                 FROM cache.x82fc7767605516687897dbe226364dce) AS dl)\\n\\n                          UNION ALL\\n\\n                          SELECT *,\\n                                 to_date('2016-02-22 00:00:00', 'YYYY-MM-DD') AS date\\n                          FROM (SELECT *\\n                                FROM cache.x793bc3da403df74d8f3fa6a83a0eeb50) AS dl)\\n\\n                         UNION ALL\\n\\n                         SELECT *,\\n                                to_date('2016-02-23 00:00:00', 'YYYY-MM-DD') AS date\\n                         FROM (SELECT *\\n                               FROM cache.xd7a3b916c322c7c845881bdc90453d8d) AS dl)\\n\\n                        UNION ALL\\n\\n                        SELECT *,\\n                               to_date('2016-02-24 00:00:00', 'YYYY-MM-DD') AS date\\n                        FROM (SELECT *\\n                              FROM cache.xec97e74212c55708e49970633062fa26) AS dl) AS all_locs\\n                  GROUP BY all_locs.subscriber, pcod) AS times_visited) AS ranked\\n      WHERE rank = 1) AS dl)) UNION ALL (SELECT *,\\n       to_date('2016-02-07 00:00:00', 'YYYY-MM-DD') AS date\\nFROM (SELECT *\\n      FROM cache.xbfc1e8654f0878bda57bb50c14ecc02e) AS dl)) UNION ALL (SELECT *,\\n       to_date('2016-02-08 00:00:00', 'YYYY-MM-DD') AS date\\nFROM (SELECT ranked.subscriber,\\n             pcod\\n      FROM (SELECT times_visited.subscriber,\\n                   pcod,\\n                   row_number() OVER (PARTITION BY times_visited.subscriber\\n                                      ORDER BY total DESC,\\n                                               times_visited.date DESC) AS rank\\n            FROM (SELECT all_locs.subscriber,\\n                         pcod,\\n                         count(*) AS total,\\n                         max(all_locs.date) AS date\\n                  FROM ((((((((((((((((((SELECT *,\\n                                                to_date('2016-02-08 00:00:00', 'YYYY-MM-DD') AS date\\n                                         FROM (SELECT *\\n                                               FROM cache.x71ce60134342b71f6dfa532ced8642cd) AS dl\\n\\n                                         UNION ALL\\n\\n                                         SELECT *,\\n                                                to_date('2016-02-09 00:00:00', 'YYYY-MM-DD') AS date\\n                                         FROM (SELECT *\\n                                               FROM cache.xff3d85f3ea7f885e471ca7c5816b6aab) AS dl)\\n\\n                                        UNION ALL\\n\\n                                        SELECT *,\\n                                               to_date('2016-02-10 00:00:00', 'YYYY-MM-DD') AS date\\n                                        FROM (SELECT *\\n                                              FROM cache.x07237dc61635165204ab24a929271768) AS dl)\\n\\n                                       UNION ALL\\n\\n                                       SELECT *,\\n                                              to_date('2016-02-11 00:00:00', 'YYYY-MM-DD') AS date\\n                                       FROM (SELECT *\\n                                             FROM cache.xffc9c4147a621ede0cdf89cf42166c37) AS dl)\\n\\n                                      UNION ALL\\n\\n                                      SELECT *,\\n                                             to_date('2016-02-12 00:00:00', 'YYYY-MM-DD') AS date\\n                                      FROM (SELECT *\\n                                            FROM cache.x28baca238306ee5ce9066ac057095dcd) AS dl)\\n\\n                                     UNION ALL\\n\\n                                     SELECT *,\\n                                            to_date('2016-02-13 00:00:00', 'YYYY-MM-DD') AS date\\n                                     FROM (SELECT *\\n                                           FROM cache.xcbb4d7341548bbf13b2fb5c8ea7ebc9b) AS dl)\\n\\n                                    UNION ALL\\n\\n                                    SELECT *,\\n                                           to_date('2016-02-14 00:00:00', 'YYYY-MM-DD') AS date\\n                                    FROM (SELECT *\\n                                          FROM cache.x71f98ffbc2867e63eef5bdb73a8f7368) AS dl)\\n\\n                                   UNION ALL\\n\\n                                   SELECT *,\\n                                          to_date('2016-02-15 00:00:00', 'YYYY-MM-DD') AS date\\n                                   FROM (SELECT *\\n                                         FROM cache.x8a2e685cd576bcbe8f65d21d12e44a31) AS dl)\\n\\n                                  UNION ALL\\n\\n                                  SELECT *,\\n                                         to_date('2016-02-16 00:00:00', 'YYYY-MM-DD') AS date\\n                                  FROM (SELECT *\\n                                        FROM cache.x16a9db7fb597455bfe8c6eeaacfa8970) AS dl)\\n\\n                                 UNION ALL\\n\\n                                 SELECT *,\\n                                        to_date('2016-02-17 00:00:00', 'YYYY-MM-DD') AS date\\n                                 FROM (SELECT *\\n                                       FROM cache.xed625075c26ae4c4dd9124f67f894baa) AS dl)\\n\\n                                UNION ALL\\n\\n                                SELECT *,\\n                                       to_date('2016-02-18 00:00:00', 'YYYY-MM-DD') AS date\\n                                FROM (SELECT *\\n                                      FROM cache.x45b6598a9e3dad547870a65902c83553) AS dl)\\n\\n                               UNION ALL\\n\\n                               SELECT *,\\n                                      to_date('2016-02-19 00:00:00', 'YYYY-MM-DD') AS date\\n                               FROM (SELECT *\\n                                     FROM cache.xe07ecf68a04f446cbdc511e8a87ba318) AS dl)\\n\\n                              UNION ALL\\n\\n                              SELECT *,\\n                                     to_date('2016-02-20 00:00:00', 'YYYY-MM-DD') AS date\\n                              FROM (SELECT *\\n                                    FROM cache.x89805a9c835a34f060c42c9b77d7faac) AS dl)\\n\\n                             UNION ALL\\n\\n                             SELECT *,\\n                                    to_date('2016-02-21 00:00:00', 'YYYY-MM-DD') AS date\\n                             FROM (SELECT *\\n                                   FROM cache.x82fc7767605516687897dbe226364dce) AS dl)\\n\\n                            UNION ALL\\n\\n                            SELECT *,\\n                                   to_date('2016-02-22 00:00:00', 'YYYY-MM-DD') AS date\\n                            FROM (SELECT *\\n                                  FROM cache.x793bc3da403df74d8f3fa6a83a0eeb50) AS dl)\\n\\n                           UNION ALL\\n\\n                           SELECT *,\\n                                  to_date('2016-02-23 00:00:00', 'YYYY-MM-DD') AS date\\n                           FROM (SELECT *\\n                                 FROM cache.xd7a3b916c322c7c845881bdc90453d8d) AS dl)\\n\\n                          UNION ALL\\n\\n                          SELECT *,\\n                                 to_date('2016-02-24 00:00:00', 'YYYY-MM-DD') AS date\\n                          FROM (SELECT *\\n                                FROM cache.xec97e74212c55708e49970633062fa26) AS dl)\\n\\n                         UNION ALL\\n\\n                         SELECT *,\\n                                to_date('2016-02-25 00:00:00', 'YYYY-MM-DD') AS date\\n                         FROM (SELECT *\\n                               FROM cache.x24eafb34d2020d00376d4f7aff024e26) AS dl)\\n\\n                        UNION ALL\\n\\n                        SELECT *,\\n                               to_date('2016-02-26 00:00:00', 'YYYY-MM-DD') AS date\\n                        FROM (SELECT *\\n                              FROM cache.x4ac7ab0cc16234362b8c37a1a1fc2971) AS dl) AS all_locs\\n                  GROUP BY all_locs.subscriber, pcod) AS times_visited) AS ranked\\n      WHERE rank = 1) AS dl)) UNION ALL (SELECT *,\\n       to_date('2016-02-09 00:00:00', 'YYYY-MM-DD') AS date\\nFROM (SELECT ranked.subscriber,\\n             pcod\\n      FROM (SELECT times_visited.subscriber,\\n                   pcod,\\n                   row_number() OVER (PARTITION BY times_visited.subscriber\\n                                      ORDER BY total DESC,\\n                                               times_visited.date DESC) AS rank\\n            FROM (SELECT all_locs.subscriber,\\n                         pcod,\\n                         count(*) AS total,\\n                         max(all_locs.date) AS date\\n                  FROM ((((((((((((((((((SELECT *,\\n                                                to_date('2016-02-09 00:00:00', 'YYYY-MM-DD') AS date\\n                                         FROM (SELECT *\\n                                               FROM cache.xff3d85f3ea7f885e471ca7c5816b6aab) AS dl\\n\\n                                         UNION ALL\\n\\n                                         SELECT *,\\n                                                to_date('2016-02-10 00:00:00', 'YYYY-MM-DD') AS date\\n                                         FROM (SELECT *\\n                                               FROM cache.x07237dc61635165204ab24a929271768) AS dl)\\n\\n                                        UNION ALL\\n\\n                                        SELECT *,\\n                                               to_date('2016-02-11 00:00:00', 'YYYY-MM-DD') AS date\\n                                        FROM (SELECT *\\n                                              FROM cache.xffc9c4147a621ede0cdf89cf42166c37) AS dl)\\n\\n                                       UNION ALL\\n\\n                                       SELECT *,\\n                                              to_date('2016-02-12 00:00:00', 'YYYY-MM-DD') AS date\\n                                       FROM (SELECT *\\n                                             FROM cache.x28baca238306ee5ce9066ac057095dcd) AS dl)\\n\\n                                      UNION ALL\\n\\n                                      SELECT *,\\n                                             to_date('2016-02-13 00:00:00', 'YYYY-MM-DD') AS date\\n                                      FROM (SELECT *\\n                                            FROM cache.xcbb4d7341548bbf13b2fb5c8ea7ebc9b) AS dl)\\n\\n                                     UNION ALL\\n\\n                                     SELECT *,\\n                                            to_date('2016-02-14 00:00:00', 'YYYY-MM-DD') AS date\\n                                     FROM (SELECT *\\n                                           FROM cache.x71f98ffbc2867e63eef5bdb73a8f7368) AS dl)\\n\\n                                    UNION ALL\\n\\n                                    SELECT *,\\n                                           to_date('2016-02-15 00:00:00', 'YYYY-MM-DD') AS date\\n                                    FROM (SELECT *\\n                                          FROM cache.x8a2e685cd576bcbe8f65d21d12e44a31) AS dl)\\n\\n                                   UNION ALL\\n\\n                                   SELECT *,\\n                                          to_date('2016-02-16 00:00:00', 'YYYY-MM-DD') AS date\\n                                   FROM (SELECT *\\n                                         FROM cache.x16a9db7fb597455bfe8c6eeaacfa8970) AS dl)\\n\\n                                  UNION ALL\\n\\n                                  SELECT *,\\n                                         to_date('2016-02-17 00:00:00', 'YYYY-MM-DD') AS date\\n                                  FROM (SELECT *\\n                                        FROM cache.xed625075c26ae4c4dd9124f67f894baa) AS dl)\\n\\n                                 UNION ALL\\n\\n                                 SELECT *,\\n                                        to_date('2016-02-18 00:00:00', 'YYYY-MM-DD') AS date\\n                                 FROM (SELECT *\\n                                       FROM cache.x45b6598a9e3dad547870a65902c83553) AS dl)\\n\\n                                UNION ALL\\n\\n                                SELECT *,\\n                                       to_date('2016-02-19 00:00:00', 'YYYY-MM-DD') AS date\\n                                FROM (SELECT *\\n                                      FROM cache.xe07ecf68a04f446cbdc511e8a87ba318) AS dl)\\n\\n                               UNION ALL\\n\\n                               SELECT *,\\n                                      to_date('2016-02-20 00:00:00', 'YYYY-MM-DD') AS date\\n                               FROM (SELECT *\\n                                     FROM cache.x89805a9c835a34f060c42c9b77d7faac) AS dl)\\n\\n                              UNION ALL\\n\\n                              SELECT *,\\n                                     to_date('2016-02-21 00:00:00', 'YYYY-MM-DD') AS date\\n                              FROM (SELECT *\\n                                    FROM cache.x82fc7767605516687897dbe226364dce) AS dl)\\n\\n                             UNION ALL\\n\\n                             SELECT *,\\n                                    to_date('2016-02-22 00:00:00', 'YYYY-MM-DD') AS date\\n                             FROM (SELECT *\\n                                   FROM cache.x793bc3da403df74d8f3fa6a83a0eeb50) AS dl)\\n\\n                            UNION ALL\\n\\n                            SELECT *,\\n                                   to_date('2016-02-23 00:00:00', 'YYYY-MM-DD') AS date\\n                            FROM (SELECT *\\n                                  FROM cache.xd7a3b916c322c7c845881bdc90453d8d) AS dl)\\n\\n                           UNION ALL\\n\\n                           SELECT *,\\n                                  to_date('2016-02-24 00:00:00', 'YYYY-MM-DD') AS date\\n                           FROM (SELECT *\\n                                 FROM cache.xec97e74212c55708e49970633062fa26) AS dl)\\n\\n                          UNION ALL\\n\\n                          SELECT *,\\n                                 to_date('2016-02-25 00:00:00', 'YYYY-MM-DD') AS date\\n                          FROM (SELECT *\\n                                FROM cache.x24eafb34d2020d00376d4f7aff024e26) AS dl)\\n\\n                         UNION ALL\\n\\n                         SELECT *,\\n                                to_date('2016-02-26 00:00:00', 'YYYY-MM-DD') AS date\\n                         FROM (SELECT *\\n                               FROM cache.x4ac7ab0cc16234362b8c37a1a1fc2971) AS dl)\\n\\n                        UNION ALL\\n\\n                        SELECT *,\\n                               to_date('2016-02-27 00:00:00', 'YYYY-MM-DD') AS date\\n                        FROM (SELECT *\\n                              FROM cache.x71c2407666a2a3ce902a50517c50b39f) AS dl) AS all_locs\\n                  GROUP BY all_locs.subscriber, pcod) AS times_visited) AS ranked\\n      WHERE rank = 1) AS dl)) UNION ALL (SELECT *,\\n       to_date('2016-02-10 00:00:00', 'YYYY-MM-DD') AS date\\nFROM (SELECT *\\n      FROM cache.x511cbb9af1ac3c1c7d419156fb72d2c7) AS dl)) UNION ALL (SELECT *,\\n       to_date('2016-02-11 00:00:00', 'YYYY-MM-DD') AS date\\nFROM (SELECT *\\n      FROM cache.x904ca0b5af77c527d778d10d91aa46b3) AS dl)) AS all_locs\\n        ORDER BY all_locs.subscriber, all_locs.date\\n        ) _)]\\n(Background on this error at: http://sqlalche.me/e/13/e3q8)\",\"logger\":\"flowmachine.debug\",\"level\":\"error\",\"timestamp\":\"2021-12-03T13:59:11.244528Z\"}\n",
      "{\"submodule\":\"flowmachine.core.cache\",\"event\":\"Error executing SQL. Error was (psycopg2.errors.DiskFull) could not write to file \\\"base/pgsql_tmp/pgsql_tmp1110.0\\\": No space left on device\\n\\n[SQL: EXPLAIN (ANALYZE TRUE, TIMING FALSE, FORMAT JSON) CREATE TABLE cache.x903bf742e3ffb8c1e9b414dbf204caa6 AS \\n        (SELECT subscriber, pcod, date FROM (\\n        SELECT \\n            all_locs.subscriber, \\n            pcod,\\n            all_locs.date\\n        FROM (((((((SELECT *,\\n       to_date('2016-02-05 00:00:00', 'YYYY-MM-DD') AS date\\nFROM (SELECT *\\n      FROM cache.xed6e5c0812e423db90d98bdd4fdaab67) AS dl) UNION ALL (SELECT *,\\n       to_date('2016-02-06 00:00:00', 'YYYY-MM-DD') AS date\\nFROM (SELECT ranked.subscriber,\\n             pcod\\n      FROM (SELECT times_visited.subscriber,\\n                   pcod,\\n                   row_number() OVER (PARTITION BY times_visited.subscriber\\n                                      ORDER BY total DESC,\\n                                               times_visited.date DESC) AS rank\\n            FROM (SELECT all_locs.subscriber,\\n                         pcod,\\n                         count(*) AS total,\\n                         max(all_locs.date) AS date\\n                  FROM ((((((((((((((((((SELECT *,\\n                                                to_date('2016-02-06 00:00:00', 'YYYY-MM-DD') AS date\\n                                         FROM (SELECT *\\n                                               FROM cache.xa104d376c7d53b1b092d318b3b14216c) AS dl\\n\\n                                         UNION ALL\\n\\n                                         SELECT *,\\n                                                to_date('2016-02-07 00:00:00', 'YYYY-MM-DD') AS date\\n                                         FROM (SELECT *\\n                                               FROM cache.x63ffcb6b1d3c0ea7aeb3f0b569f508f1) AS dl)\\n\\n                                        UNION ALL\\n\\n                                        SELECT *,\\n                                               to_date('2016-02-08 00:00:00', 'YYYY-MM-DD') AS date\\n                                        FROM (SELECT *\\n                                              FROM cache.x71ce60134342b71f6dfa532ced8642cd) AS dl)\\n\\n                                       UNION ALL\\n\\n                                       SELECT *,\\n                                              to_date('2016-02-09 00:00:00', 'YYYY-MM-DD') AS date\\n                                       FROM (SELECT *\\n                                             FROM cache.xff3d85f3ea7f885e471ca7c5816b6aab) AS dl)\\n\\n                                      UNION ALL\\n\\n                                      SELECT *,\\n                                             to_date('2016-02-10 00:00:00', 'YYYY-MM-DD') AS date\\n                                      FROM (SELECT *\\n                                            FROM cache.x07237dc61635165204ab24a929271768) AS dl)\\n\\n                                     UNION ALL\\n\\n                                     SELECT *,\\n                                            to_date('2016-02-11 00:00:00', 'YYYY-MM-DD') AS date\\n                                     FROM (SELECT *\\n                                           FROM cache.xffc9c4147a621ede0cdf89cf42166c37) AS dl)\\n\\n                                    UNION ALL\\n\\n                                    SELECT *,\\n                                           to_date('2016-02-12 00:00:00', 'YYYY-MM-DD') AS date\\n                                    FROM (SELECT *\\n                                          FROM cache.x28baca238306ee5ce9066ac057095dcd) AS dl)\\n\\n                                   UNION ALL\\n\\n                                   SELECT *,\\n                                          to_date('2016-02-13 00:00:00', 'YYYY-MM-DD') AS date\\n                                   FROM (SELECT *\\n                                         FROM cache.xcbb4d7341548bbf13b2fb5c8ea7ebc9b) AS dl)\\n\\n                                  UNION ALL\\n\\n                                  SELECT *,\\n                                         to_date('2016-02-14 00:00:00', 'YYYY-MM-DD') AS date\\n                                  FROM (SELECT *\\n                                        FROM cache.x71f98ffbc2867e63eef5bdb73a8f7368) AS dl)\\n\\n                                 UNION ALL\\n\\n                                 SELECT *,\\n                                        to_date('2016-02-15 00:00:00', 'YYYY-MM-DD') AS date\\n                                 FROM (SELECT *\\n                                       FROM cache.x8a2e685cd576bcbe8f65d21d12e44a31) AS dl)\\n\\n                                UNION ALL\\n\\n                                SELECT *,\\n                                       to_date('2016-02-16 00:00:00', 'YYYY-MM-DD') AS date\\n                                FROM (SELECT *\\n                                      FROM cache.x16a9db7fb597455bfe8c6eeaacfa8970) AS dl)\\n\\n                               UNION ALL\\n\\n                               SELECT *,\\n                                      to_date('2016-02-17 00:00:00', 'YYYY-MM-DD') AS date\\n                               FROM (SELECT *\\n                                     FROM cache.xed625075c26ae4c4dd9124f67f894baa) AS dl)\\n\\n                              UNION ALL\\n\\n                              SELECT *,\\n                                     to_date('2016-02-18 00:00:00', 'YYYY-MM-DD') AS date\\n                              FROM (SELECT *\\n                                    FROM cache.x45b6598a9e3dad547870a65902c83553) AS dl)\\n\\n                             UNION ALL\\n\\n                             SELECT *,\\n                                    to_date('2016-02-19 00:00:00', 'YYYY-MM-DD') AS date\\n                             FROM (SELECT *\\n                                   FROM cache.xe07ecf68a04f446cbdc511e8a87ba318) AS dl)\\n\\n                            UNION ALL\\n\\n                            SELECT *,\\n                                   to_date('2016-02-20 00:00:00', 'YYYY-MM-DD') AS date\\n                            FROM (SELECT *\\n                                  FROM cache.x89805a9c835a34f060c42c9b77d7faac) AS dl)\\n\\n                           UNION ALL\\n\\n                           SELECT *,\\n                                  to_date('2016-02-21 00:00:00', 'YYYY-MM-DD') AS date\\n                           FROM (SELECT *\\n                                 FROM cache.x82fc7767605516687897dbe226364dce) AS dl)\\n\\n                          UNION ALL\\n\\n                          SELECT *,\\n                                 to_date('2016-02-22 00:00:00', 'YYYY-MM-DD') AS date\\n                          FROM (SELECT *\\n                                FROM cache.x793bc3da403df74d8f3fa6a83a0eeb50) AS dl)\\n\\n                         UNION ALL\\n\\n                         SELECT *,\\n                                to_date('2016-02-23 00:00:00', 'YYYY-MM-DD') AS date\\n                         FROM (SELECT *\\n                               FROM cache.xd7a3b916c322c7c845881bdc90453d8d) AS dl)\\n\\n                        UNION ALL\\n\\n                        SELECT *,\\n                               to_date('2016-02-24 00:00:00', 'YYYY-MM-DD') AS date\\n                        FROM (SELECT *\\n                              FROM cache.xec97e74212c55708e49970633062fa26) AS dl) AS all_locs\\n                  GROUP BY all_locs.subscriber, pcod) AS times_visited) AS ranked\\n      WHERE rank = 1) AS dl)) UNION ALL (SELECT *,\\n       to_date('2016-02-07 00:00:00', 'YYYY-MM-DD') AS date\\nFROM (SELECT *\\n      FROM cache.xbfc1e8654f0878bda57bb50c14ecc02e) AS dl)) UNION ALL (SELECT *,\\n       to_date('2016-02-08 00:00:00', 'YYYY-MM-DD') AS date\\nFROM (SELECT ranked.subscriber,\\n             pcod\\n      FROM (SELECT times_visited.subscriber,\\n                   pcod,\\n                   row_number() OVER (PARTITION BY times_visited.subscriber\\n                                      ORDER BY total DESC,\\n                                               times_visited.date DESC) AS rank\\n            FROM (SELECT all_locs.subscriber,\\n                         pcod,\\n                         count(*) AS total,\\n                         max(all_locs.date) AS date\\n                  FROM ((((((((((((((((((SELECT *,\\n                                                to_date('2016-02-08 00:00:00', 'YYYY-MM-DD') AS date\\n                                         FROM (SELECT *\\n                                               FROM cache.x71ce60134342b71f6dfa532ced8642cd) AS dl\\n\\n                                         UNION ALL\\n\\n                                         SELECT *,\\n                                                to_date('2016-02-09 00:00:00', 'YYYY-MM-DD') AS date\\n                                         FROM (SELECT *\\n                                               FROM cache.xff3d85f3ea7f885e471ca7c5816b6aab) AS dl)\\n\\n                                        UNION ALL\\n\\n                                        SELECT *,\\n                                               to_date('2016-02-10 00:00:00', 'YYYY-MM-DD') AS date\\n                                        FROM (SELECT *\\n                                              FROM cache.x07237dc61635165204ab24a929271768) AS dl)\\n\\n                                       UNION ALL\\n\\n                                       SELECT *,\\n                                              to_date('2016-02-11 00:00:00', 'YYYY-MM-DD') AS date\\n                                       FROM (SELECT *\\n                                             FROM cache.xffc9c4147a621ede0cdf89cf42166c37) AS dl)\\n\\n                                      UNION ALL\\n\\n                                      SELECT *,\\n                                             to_date('2016-02-12 00:00:00', 'YYYY-MM-DD') AS date\\n                                      FROM (SELECT *\\n                                            FROM cache.x28baca238306ee5ce9066ac057095dcd) AS dl)\\n\\n                                     UNION ALL\\n\\n                                     SELECT *,\\n                                            to_date('2016-02-13 00:00:00', 'YYYY-MM-DD') AS date\\n                                     FROM (SELECT *\\n                                           FROM cache.xcbb4d7341548bbf13b2fb5c8ea7ebc9b) AS dl)\\n\\n                                    UNION ALL\\n\\n                                    SELECT *,\\n                                           to_date('2016-02-14 00:00:00', 'YYYY-MM-DD') AS date\\n                                    FROM (SELECT *\\n                                          FROM cache.x71f98ffbc2867e63eef5bdb73a8f7368) AS dl)\\n\\n                                   UNION ALL\\n\\n                                   SELECT *,\\n                                          to_date('2016-02-15 00:00:00', 'YYYY-MM-DD') AS date\\n                                   FROM (SELECT *\\n                                         FROM cache.x8a2e685cd576bcbe8f65d21d12e44a31) AS dl)\\n\\n                                  UNION ALL\\n\\n                                  SELECT *,\\n                                         to_date('2016-02-16 00:00:00', 'YYYY-MM-DD') AS date\\n                                  FROM (SELECT *\\n                                        FROM cache.x16a9db7fb597455bfe8c6eeaacfa8970) AS dl)\\n\\n                                 UNION ALL\\n\\n                                 SELECT *,\\n                                        to_date('2016-02-17 00:00:00', 'YYYY-MM-DD') AS date\\n                                 FROM (SELECT *\\n                                       FROM cache.xed625075c26ae4c4dd9124f67f894baa) AS dl)\\n\\n                                UNION ALL\\n\\n                                SELECT *,\\n                                       to_date('2016-02-18 00:00:00', 'YYYY-MM-DD') AS date\\n                                FROM (SELECT *\\n                                      FROM cache.x45b6598a9e3dad547870a65902c83553) AS dl)\\n\\n                               UNION ALL\\n\\n                               SELECT *,\\n                                      to_date('2016-02-19 00:00:00', 'YYYY-MM-DD') AS date\\n                               FROM (SELECT *\\n                                     FROM cache.xe07ecf68a04f446cbdc511e8a87ba318) AS dl)\\n\\n                              UNION ALL\\n\\n                              SELECT *,\\n                                     to_date('2016-02-20 00:00:00', 'YYYY-MM-DD') AS date\\n                              FROM (SELECT *\\n                                    FROM cache.x89805a9c835a34f060c42c9b77d7faac) AS dl)\\n\\n                             UNION ALL\\n\\n                             SELECT *,\\n                                    to_date('2016-02-21 00:00:00', 'YYYY-MM-DD') AS date\\n                             FROM (SELECT *\\n                                   FROM cache.x82fc7767605516687897dbe226364dce) AS dl)\\n\\n                            UNION ALL\\n\\n                            SELECT *,\\n                                   to_date('2016-02-22 00:00:00', 'YYYY-MM-DD') AS date\\n                            FROM (SELECT *\\n                                  FROM cache.x793bc3da403df74d8f3fa6a83a0eeb50) AS dl)\\n\\n                           UNION ALL\\n\\n                           SELECT *,\\n                                  to_date('2016-02-23 00:00:00', 'YYYY-MM-DD') AS date\\n                           FROM (SELECT *\\n                                 FROM cache.xd7a3b916c322c7c845881bdc90453d8d) AS dl)\\n\\n                          UNION ALL\\n\\n                          SELECT *,\\n                                 to_date('2016-02-24 00:00:00', 'YYYY-MM-DD') AS date\\n                          FROM (SELECT *\\n                                FROM cache.xec97e74212c55708e49970633062fa26) AS dl)\\n\\n                         UNION ALL\\n\\n                         SELECT *,\\n                                to_date('2016-02-25 00:00:00', 'YYYY-MM-DD') AS date\\n                         FROM (SELECT *\\n                               FROM cache.x24eafb34d2020d00376d4f7aff024e26) AS dl)\\n\\n                        UNION ALL\\n\\n                        SELECT *,\\n                               to_date('2016-02-26 00:00:00', 'YYYY-MM-DD') AS date\\n                        FROM (SELECT *\\n                              FROM cache.x4ac7ab0cc16234362b8c37a1a1fc2971) AS dl) AS all_locs\\n                  GROUP BY all_locs.subscriber, pcod) AS times_visited) AS ranked\\n      WHERE rank = 1) AS dl)) UNION ALL (SELECT *,\\n       to_date('2016-02-09 00:00:00', 'YYYY-MM-DD') AS date\\nFROM (SELECT ranked.subscriber,\\n             pcod\\n      FROM (SELECT times_visited.subscriber,\\n                   pcod,\\n                   row_number() OVER (PARTITION BY times_visited.subscriber\\n                                      ORDER BY total DESC,\\n                                               times_visited.date DESC) AS rank\\n            FROM (SELECT all_locs.subscriber,\\n                         pcod,\\n                         count(*) AS total,\\n                         max(all_locs.date) AS date\\n                  FROM ((((((((((((((((((SELECT *,\\n                                                to_date('2016-02-09 00:00:00', 'YYYY-MM-DD') AS date\\n                                         FROM (SELECT *\\n                                               FROM cache.xff3d85f3ea7f885e471ca7c5816b6aab) AS dl\\n\\n                                         UNION ALL\\n\\n                                         SELECT *,\\n                                                to_date('2016-02-10 00:00:00', 'YYYY-MM-DD') AS date\\n                                         FROM (SELECT *\\n                                               FROM cache.x07237dc61635165204ab24a929271768) AS dl)\\n\\n                                        UNION ALL\\n\\n                                        SELECT *,\\n                                               to_date('2016-02-11 00:00:00', 'YYYY-MM-DD') AS date\\n                                        FROM (SELECT *\\n                                              FROM cache.xffc9c4147a621ede0cdf89cf42166c37) AS dl)\\n\\n                                       UNION ALL\\n\\n                                       SELECT *,\\n                                              to_date('2016-02-12 00:00:00', 'YYYY-MM-DD') AS date\\n                                       FROM (SELECT *\\n                                             FROM cache.x28baca238306ee5ce9066ac057095dcd) AS dl)\\n\\n                                      UNION ALL\\n\\n                                      SELECT *,\\n                                             to_date('2016-02-13 00:00:00', 'YYYY-MM-DD') AS date\\n                                      FROM (SELECT *\\n                                            FROM cache.xcbb4d7341548bbf13b2fb5c8ea7ebc9b) AS dl)\\n\\n                                     UNION ALL\\n\\n                                     SELECT *,\\n                                            to_date('2016-02-14 00:00:00', 'YYYY-MM-DD') AS date\\n                                     FROM (SELECT *\\n                                           FROM cache.x71f98ffbc2867e63eef5bdb73a8f7368) AS dl)\\n\\n                                    UNION ALL\\n\\n                                    SELECT *,\\n                                           to_date('2016-02-15 00:00:00', 'YYYY-MM-DD') AS date\\n                                    FROM (SELECT *\\n                                          FROM cache.x8a2e685cd576bcbe8f65d21d12e44a31) AS dl)\\n\\n                                   UNION ALL\\n\\n                                   SELECT *,\\n                                          to_date('2016-02-16 00:00:00', 'YYYY-MM-DD') AS date\\n                                   FROM (SELECT *\\n                                         FROM cache.x16a9db7fb597455bfe8c6eeaacfa8970) AS dl)\\n\\n                                  UNION ALL\\n\\n                                  SELECT *,\\n                                         to_date('2016-02-17 00:00:00', 'YYYY-MM-DD') AS date\\n                                  FROM (SELECT *\\n                                        FROM cache.xed625075c26ae4c4dd9124f67f894baa) AS dl)\\n\\n                                 UNION ALL\\n\\n                                 SELECT *,\\n                                        to_date('2016-02-18 00:00:00', 'YYYY-MM-DD') AS date\\n                                 FROM (SELECT *\\n                                       FROM cache.x45b6598a9e3dad547870a65902c83553) AS dl)\\n\\n                                UNION ALL\\n\\n                                SELECT *,\\n                                       to_date('2016-02-19 00:00:00', 'YYYY-MM-DD') AS date\\n                                FROM (SELECT *\\n                                      FROM cache.xe07ecf68a04f446cbdc511e8a87ba318) AS dl)\\n\\n                               UNION ALL\\n\\n                               SELECT *,\\n                                      to_date('2016-02-20 00:00:00', 'YYYY-MM-DD') AS date\\n                               FROM (SELECT *\\n                                     FROM cache.x89805a9c835a34f060c42c9b77d7faac) AS dl)\\n\\n                              UNION ALL\\n\\n                              SELECT *,\\n                                     to_date('2016-02-21 00:00:00', 'YYYY-MM-DD') AS date\\n                              FROM (SELECT *\\n                                    FROM cache.x82fc7767605516687897dbe226364dce) AS dl)\\n\\n                             UNION ALL\\n\\n                             SELECT *,\\n                                    to_date('2016-02-22 00:00:00', 'YYYY-MM-DD') AS date\\n                             FROM (SELECT *\\n                                   FROM cache.x793bc3da403df74d8f3fa6a83a0eeb50) AS dl)\\n\\n                            UNION ALL\\n\\n                            SELECT *,\\n                                   to_date('2016-02-23 00:00:00', 'YYYY-MM-DD') AS date\\n                            FROM (SELECT *\\n                                  FROM cache.xd7a3b916c322c7c845881bdc90453d8d) AS dl)\\n\\n                           UNION ALL\\n\\n                           SELECT *,\\n                                  to_date('2016-02-24 00:00:00', 'YYYY-MM-DD') AS date\\n                           FROM (SELECT *\\n                                 FROM cache.xec97e74212c55708e49970633062fa26) AS dl)\\n\\n                          UNION ALL\\n\\n                          SELECT *,\\n                                 to_date('2016-02-25 00:00:00', 'YYYY-MM-DD') AS date\\n                          FROM (SELECT *\\n                                FROM cache.x24eafb34d2020d00376d4f7aff024e26) AS dl)\\n\\n                         UNION ALL\\n\\n                         SELECT *,\\n                                to_date('2016-02-26 00:00:00', 'YYYY-MM-DD') AS date\\n                         FROM (SELECT *\\n                               FROM cache.x4ac7ab0cc16234362b8c37a1a1fc2971) AS dl)\\n\\n                        UNION ALL\\n\\n                        SELECT *,\\n                               to_date('2016-02-27 00:00:00', 'YYYY-MM-DD') AS date\\n                        FROM (SELECT *\\n                              FROM cache.x71c2407666a2a3ce902a50517c50b39f) AS dl) AS all_locs\\n                  GROUP BY all_locs.subscriber, pcod) AS times_visited) AS ranked\\n      WHERE rank = 1) AS dl)) UNION ALL (SELECT *,\\n       to_date('2016-02-10 00:00:00', 'YYYY-MM-DD') AS date\\nFROM (SELECT *\\n      FROM cache.x511cbb9af1ac3c1c7d419156fb72d2c7) AS dl)) UNION ALL (SELECT *,\\n       to_date('2016-02-11 00:00:00', 'YYYY-MM-DD') AS date\\nFROM (SELECT *\\n      FROM cache.x904ca0b5af77c527d778d10d91aa46b3) AS dl)) AS all_locs\\n        ORDER BY all_locs.subscriber, all_locs.date\\n        ) _)]\\n(Background on this error at: http://sqlalche.me/e/13/e3q8)\",\"logger\":\"flowmachine.debug\",\"level\":\"error\",\"timestamp\":\"2021-12-03T13:59:11.249045Z\"}\n",
      "{\"submodule\":\"flowmachine.core.query\",\"event\":\"Error executing SQL: 'EXPLAIN (ANALYZE TRUE, TIMING FALSE, FORMAT JSON) CREATE TABLE cache.x89cd71490689c5d15dd81dec27e62aa3 AS \\n        (SELECT subscriber, pcod, value FROM (\\n        SELECT\\n            day_trajectories.subscriber,\\n            day_trajectories.pcod,\\n            COUNT(*) AS value\\n        FROM\\n            (\\n        SELECT \\n            all_locs.subscriber, \\n            pcod,\\n            all_locs.date\\n        FROM (((((((SELECT *,\\n       to_date('2016-02-05 00:00:00', 'YYYY-MM-DD') AS date\\nFROM (SELECT *\\n      FROM cache.xed6e5c0812e423db90d98bdd4fdaab67) AS dl) UNION ALL (SELECT *,\\n       to_date('2016-02-06 00:00:00', 'YYYY-MM-DD') AS date\\nFROM (SELECT ranked.subscriber,\\n             pcod\\n      FROM (SELECT times_visited.subscriber,\\n                   pcod,\\n                   row_number() OVER (PARTITION BY times_visited.subscriber\\n                                      ORDER BY total DESC,\\n                                               times_visited.date DESC) AS rank\\n            FROM (SELECT all_locs.subscriber,\\n                         pcod,\\n                         count(*) AS total,\\n                         max(all_locs.date) AS date\\n                  FROM ((((((((((((((((((SELECT *,\\n                                                to_date('2016-02-06 00:00:00', 'YYYY-MM-DD') AS date\\n                                         FROM (SELECT *\\n                                               FROM cache.xa104d376c7d53b1b092d318b3b14216c) AS dl\\n\\n                                         UNION ALL\\n\\n                                         SELECT *,\\n                                                to_date('2016-02-07 00:00:00', 'YYYY-MM-DD') AS date\\n                                         FROM (SELECT *\\n                                               FROM cache.x63ffcb6b1d3c0ea7aeb3f0b569f508f1) AS dl)\\n\\n                                        UNION ALL\\n\\n                                        SELECT *,\\n                                               to_date('2016-02-08 00:00:00', 'YYYY-MM-DD') AS date\\n                                        FROM (SELECT *\\n                                              FROM cache.x71ce60134342b71f6dfa532ced8642cd) AS dl)\\n\\n                                       UNION ALL\\n\\n                                       SELECT *,\\n                                              to_date('2016-02-09 00:00:00', 'YYYY-MM-DD') AS date\\n                                       FROM (SELECT *\\n                                             FROM cache.xff3d85f3ea7f885e471ca7c5816b6aab) AS dl)\\n\\n                                      UNION ALL\\n\\n                                      SELECT *,\\n                                             to_date('2016-02-10 00:00:00', 'YYYY-MM-DD') AS date\\n                                      FROM (SELECT *\\n                                            FROM cache.x07237dc61635165204ab24a929271768) AS dl)\\n\\n                                     UNION ALL\\n\\n                                     SELECT *,\\n                                            to_date('2016-02-11 00:00:00', 'YYYY-MM-DD') AS date\\n                                     FROM (SELECT *\\n                                           FROM cache.xffc9c4147a621ede0cdf89cf42166c37) AS dl)\\n\\n                                    UNION ALL\\n\\n                                    SELECT *,\\n                                           to_date('2016-02-12 00:00:00', 'YYYY-MM-DD') AS date\\n                                    FROM (SELECT *\\n                                          FROM cache.x28baca238306ee5ce9066ac057095dcd) AS dl)\\n\\n                                   UNION ALL\\n\\n                                   SELECT *,\\n                                          to_date('2016-02-13 00:00:00', 'YYYY-MM-DD') AS date\\n                                   FROM (SELECT *\\n                                         FROM cache.xcbb4d7341548bbf13b2fb5c8ea7ebc9b) AS dl)\\n\\n                                  UNION ALL\\n\\n                                  SELECT *,\\n                                         to_date('2016-02-14 00:00:00', 'YYYY-MM-DD') AS date\\n                                  FROM (SELECT *\\n                                        FROM cache.x71f98ffbc2867e63eef5bdb73a8f7368) AS dl)\\n\\n                                 UNION ALL\\n\\n                                 SELECT *,\\n                                        to_date('2016-02-15 00:00:00', 'YYYY-MM-DD') AS date\\n                                 FROM (SELECT *\\n                                       FROM cache.x8a2e685cd576bcbe8f65d21d12e44a31) AS dl)\\n\\n                                UNION ALL\\n\\n                                SELECT *,\\n                                       to_date('2016-02-16 00:00:00', 'YYYY-MM-DD') AS date\\n                                FROM (SELECT *\\n                                      FROM cache.x16a9db7fb597455bfe8c6eeaacfa8970) AS dl)\\n\\n                               UNION ALL\\n\\n                               SELECT *,\\n                                      to_date('2016-02-17 00:00:00', 'YYYY-MM-DD') AS date\\n                               FROM (SELECT *\\n                                     FROM cache.xed625075c26ae4c4dd9124f67f894baa) AS dl)\\n\\n                              UNION ALL\\n\\n                              SELECT *,\\n                                     to_date('2016-02-18 00:00:00', 'YYYY-MM-DD') AS date\\n                              FROM (SELECT *\\n                                    FROM cache.x45b6598a9e3dad547870a65902c83553) AS dl)\\n\\n                             UNION ALL\\n\\n                             SELECT *,\\n                                    to_date('2016-02-19 00:00:00', 'YYYY-MM-DD') AS date\\n                             FROM (SELECT *\\n                                   FROM cache.xe07ecf68a04f446cbdc511e8a87ba318) AS dl)\\n\\n                            UNION ALL\\n\\n                            SELECT *,\\n                                   to_date('2016-02-20 00:00:00', 'YYYY-MM-DD') AS date\\n                            FROM (SELECT *\\n                                  FROM cache.x89805a9c835a34f060c42c9b77d7faac) AS dl)\\n\\n                           UNION ALL\\n\\n                           SELECT *,\\n                                  to_date('2016-02-21 00:00:00', 'YYYY-MM-DD') AS date\\n                           FROM (SELECT *\\n                                 FROM cache.x82fc7767605516687897dbe226364dce) AS dl)\\n\\n                          UNION ALL\\n\\n                          SELECT *,\\n                                 to_date('2016-02-22 00:00:00', 'YYYY-MM-DD') AS date\\n                          FROM (SELECT *\\n                                FROM cache.x793bc3da403df74d8f3fa6a83a0eeb50) AS dl)\\n\\n                         UNION ALL\\n\\n                         SELECT *,\\n                                to_date('2016-02-23 00:00:00', 'YYYY-MM-DD') AS date\\n                         FROM (SELECT *\\n                               FROM cache.xd7a3b916c322c7c845881bdc90453d8d) AS dl)\\n\\n                        UNION ALL\\n\\n                        SELECT *,\\n                               to_date('2016-02-24 00:00:00', 'YYYY-MM-DD') AS date\\n                        FROM (SELECT *\\n                              FROM cache.xec97e74212c55708e49970633062fa26) AS dl) AS all_locs\\n                  GROUP BY all_locs.subscriber, pcod) AS times_visited) AS ranked\\n      WHERE rank = 1) AS dl)) UNION ALL (SELECT *,\\n       to_date('2016-02-07 00:00:00', 'YYYY-MM-DD') AS date\\nFROM (SELECT *\\n      FROM cache.xbfc1e8654f0878bda57bb50c14ecc02e) AS dl)) UNION ALL (SELECT *,\\n       to_date('2016-02-08 00:00:00', 'YYYY-MM-DD') AS date\\nFROM (SELECT ranked.subscriber,\\n             pcod\\n      FROM (SELECT times_visited.subscriber,\\n                   pcod,\\n                   row_number() OVER (PARTITION BY times_visited.subscriber\\n                                      ORDER BY total DESC,\\n                                               times_visited.date DESC) AS rank\\n            FROM (SELECT all_locs.subscriber,\\n                         pcod,\\n                         count(*) AS total,\\n                         max(all_locs.date) AS date\\n                  FROM ((((((((((((((((((SELECT *,\\n                                                to_date('2016-02-08 00:00:00', 'YYYY-MM-DD') AS date\\n                                         FROM (SELECT *\\n                                               FROM cache.x71ce60134342b71f6dfa532ced8642cd) AS dl\\n\\n                                         UNION ALL\\n\\n                                         SELECT *,\\n                                                to_date('2016-02-09 00:00:00', 'YYYY-MM-DD') AS date\\n                                         FROM (SELECT *\\n                                               FROM cache.xff3d85f3ea7f885e471ca7c5816b6aab) AS dl)\\n\\n                                        UNION ALL\\n\\n                                        SELECT *,\\n                                               to_date('2016-02-10 00:00:00', 'YYYY-MM-DD') AS date\\n                                        FROM (SELECT *\\n                                              FROM cache.x07237dc61635165204ab24a929271768) AS dl)\\n\\n                                       UNION ALL\\n\\n                                       SELECT *,\\n                                              to_date('2016-02-11 00:00:00', 'YYYY-MM-DD') AS date\\n                                       FROM (SELECT *\\n                                             FROM cache.xffc9c4147a621ede0cdf89cf42166c37) AS dl)\\n\\n                                      UNION ALL\\n\\n                                      SELECT *,\\n                                             to_date('2016-02-12 00:00:00', 'YYYY-MM-DD') AS date\\n                                      FROM (SELECT *\\n                                            FROM cache.x28baca238306ee5ce9066ac057095dcd) AS dl)\\n\\n                                     UNION ALL\\n\\n                                     SELECT *,\\n                                            to_date('2016-02-13 00:00:00', 'YYYY-MM-DD') AS date\\n                                     FROM (SELECT *\\n                                           FROM cache.xcbb4d7341548bbf13b2fb5c8ea7ebc9b) AS dl)\\n\\n                                    UNION ALL\\n\\n                                    SELECT *,\\n                                           to_date('2016-02-14 00:00:00', 'YYYY-MM-DD') AS date\\n                                    FROM (SELECT *\\n                                          FROM cache.x71f98ffbc2867e63eef5bdb73a8f7368) AS dl)\\n\\n                                   UNION ALL\\n\\n                                   SELECT *,\\n                                          to_date('2016-02-15 00:00:00', 'YYYY-MM-DD') AS date\\n                                   FROM (SELECT *\\n                                         FROM cache.x8a2e685cd576bcbe8f65d21d12e44a31) AS dl)\\n\\n                                  UNION ALL\\n\\n                                  SELECT *,\\n                                         to_date('2016-02-16 00:00:00', 'YYYY-MM-DD') AS date\\n                                  FROM (SELECT *\\n                                        FROM cache.x16a9db7fb597455bfe8c6eeaacfa8970) AS dl)\\n\\n                                 UNION ALL\\n\\n                                 SELECT *,\\n                                        to_date('2016-02-17 00:00:00', 'YYYY-MM-DD') AS date\\n                                 FROM (SELECT *\\n                                       FROM cache.xed625075c26ae4c4dd9124f67f894baa) AS dl)\\n\\n                                UNION ALL\\n\\n                                SELECT *,\\n                                       to_date('2016-02-18 00:00:00', 'YYYY-MM-DD') AS date\\n                                FROM (SELECT *\\n                                      FROM cache.x45b6598a9e3dad547870a65902c83553) AS dl)\\n\\n                               UNION ALL\\n\\n                               SELECT *,\\n                                      to_date('2016-02-19 00:00:00', 'YYYY-MM-DD') AS date\\n                               FROM (SELECT *\\n                                     FROM cache.xe07ecf68a04f446cbdc511e8a87ba318) AS dl)\\n\\n                              UNION ALL\\n\\n                              SELECT *,\\n                                     to_date('2016-02-20 00:00:00', 'YYYY-MM-DD') AS date\\n                              FROM (SELECT *\\n                                    FROM cache.x89805a9c835a34f060c42c9b77d7faac) AS dl)\\n\\n                             UNION ALL\\n\\n                             SELECT *,\\n                                    to_date('2016-02-21 00:00:00', 'YYYY-MM-DD') AS date\\n                             FROM (SELECT *\\n                                   FROM cache.x82fc7767605516687897dbe226364dce) AS dl)\\n\\n                            UNION ALL\\n\\n                            SELECT *,\\n                                   to_date('2016-02-22 00:00:00', 'YYYY-MM-DD') AS date\\n                            FROM (SELECT *\\n                                  FROM cache.x793bc3da403df74d8f3fa6a83a0eeb50) AS dl)\\n\\n                           UNION ALL\\n\\n                           SELECT *,\\n                                  to_date('2016-02-23 00:00:00', 'YYYY-MM-DD') AS date\\n                           FROM (SELECT *\\n                                 FROM cache.xd7a3b916c322c7c845881bdc90453d8d) AS dl)\\n\\n                          UNION ALL\\n\\n                          SELECT *,\\n                                 to_date('2016-02-24 00:00:00', 'YYYY-MM-DD') AS date\\n                          FROM (SELECT *\\n                                FROM cache.xec97e74212c55708e49970633062fa26) AS dl)\\n\\n                         UNION ALL\\n\\n                         SELECT *,\\n                                to_date('2016-02-25 00:00:00', 'YYYY-MM-DD') AS date\\n                         FROM (SELECT *\\n                               FROM cache.x24eafb34d2020d00376d4f7aff024e26) AS dl)\\n\\n                        UNION ALL\\n\\n                        SELECT *,\\n                               to_date('2016-02-26 00:00:00', 'YYYY-MM-DD') AS date\\n                        FROM (SELECT *\\n                              FROM cache.x4ac7ab0cc16234362b8c37a1a1fc2971) AS dl) AS all_locs\\n                  GROUP BY all_locs.subscriber, pcod) AS times_visited) AS ranked\\n      WHERE rank = 1) AS dl)) UNION ALL (SELECT *,\\n       to_date('2016-02-09 00:00:00', 'YYYY-MM-DD') AS date\\nFROM (SELECT ranked.subscriber,\\n             pcod\\n      FROM (SELECT times_visited.subscriber,\\n                   pcod,\\n                   row_number() OVER (PARTITION BY times_visited.subscriber\\n                                      ORDER BY total DESC,\\n                                               times_visited.date DESC) AS rank\\n            FROM (SELECT all_locs.subscriber,\\n                         pcod,\\n                         count(*) AS total,\\n                         max(all_locs.date) AS date\\n                  FROM ((((((((((((((((((SELECT *,\\n                                                to_date('2016-02-09 00:00:00', 'YYYY-MM-DD') AS date\\n                                         FROM (SELECT *\\n                                               FROM cache.xff3d85f3ea7f885e471ca7c5816b6aab) AS dl\\n\\n                                         UNION ALL\\n\\n                                         SELECT *,\\n                                                to_date('2016-02-10 00:00:00', 'YYYY-MM-DD') AS date\\n                                         FROM (SELECT *\\n                                               FROM cache.x07237dc61635165204ab24a929271768) AS dl)\\n\\n                                        UNION ALL\\n\\n                                        SELECT *,\\n                                               to_date('2016-02-11 00:00:00', 'YYYY-MM-DD') AS date\\n                                        FROM (SELECT *\\n                                              FROM cache.xffc9c4147a621ede0cdf89cf42166c37) AS dl)\\n\\n                                       UNION ALL\\n\\n                                       SELECT *,\\n                                              to_date('2016-02-12 00:00:00', 'YYYY-MM-DD') AS date\\n                                       FROM (SELECT *\\n                                             FROM cache.x28baca238306ee5ce9066ac057095dcd) AS dl)\\n\\n                                      UNION ALL\\n\\n                                      SELECT *,\\n                                             to_date('2016-02-13 00:00:00', 'YYYY-MM-DD') AS date\\n                                      FROM (SELECT *\\n                                            FROM cache.xcbb4d7341548bbf13b2fb5c8ea7ebc9b) AS dl)\\n\\n                                     UNION ALL\\n\\n                                     SELECT *,\\n                                            to_date('2016-02-14 00:00:00', 'YYYY-MM-DD') AS date\\n                                     FROM (SELECT *\\n                                           FROM cache.x71f98ffbc2867e63eef5bdb73a8f7368) AS dl)\\n\\n                                    UNION ALL\\n\\n                                    SELECT *,\\n                                           to_date('2016-02-15 00:00:00', 'YYYY-MM-DD') AS date\\n                                    FROM (SELECT *\\n                                          FROM cache.x8a2e685cd576bcbe8f65d21d12e44a31) AS dl)\\n\\n                                   UNION ALL\\n\\n                                   SELECT *,\\n                                          to_date('2016-02-16 00:00:00', 'YYYY-MM-DD') AS date\\n                                   FROM (SELECT *\\n                                         FROM cache.x16a9db7fb597455bfe8c6eeaacfa8970) AS dl)\\n\\n                                  UNION ALL\\n\\n                                  SELECT *,\\n                                         to_date('2016-02-17 00:00:00', 'YYYY-MM-DD') AS date\\n                                  FROM (SELECT *\\n                                        FROM cache.xed625075c26ae4c4dd9124f67f894baa) AS dl)\\n\\n                                 UNION ALL\\n\\n                                 SELECT *,\\n                                        to_date('2016-02-18 00:00:00', 'YYYY-MM-DD') AS date\\n                                 FROM (SELECT *\\n                                       FROM cache.x45b6598a9e3dad547870a65902c83553) AS dl)\\n\\n                                UNION ALL\\n\\n                                SELECT *,\\n                                       to_date('2016-02-19 00:00:00', 'YYYY-MM-DD') AS date\\n                                FROM (SELECT *\\n                                      FROM cache.xe07ecf68a04f446cbdc511e8a87ba318) AS dl)\\n\\n                               UNION ALL\\n\\n                               SELECT *,\\n                                      to_date('2016-02-20 00:00:00', 'YYYY-MM-DD') AS date\\n                               FROM (SELECT *\\n                                     FROM cache.x89805a9c835a34f060c42c9b77d7faac) AS dl)\\n\\n                              UNION ALL\\n\\n                              SELECT *,\\n                                     to_date('2016-02-21 00:00:00', 'YYYY-MM-DD') AS date\\n                              FROM (SELECT *\\n                                    FROM cache.x82fc7767605516687897dbe226364dce) AS dl)\\n\\n                             UNION ALL\\n\\n                             SELECT *,\\n                                    to_date('2016-02-22 00:00:00', 'YYYY-MM-DD') AS date\\n                             FROM (SELECT *\\n                                   FROM cache.x793bc3da403df74d8f3fa6a83a0eeb50) AS dl)\\n\\n                            UNION ALL\\n\\n                            SELECT *,\\n                                   to_date('2016-02-23 00:00:00', 'YYYY-MM-DD') AS date\\n                            FROM (SELECT *\\n                                  FROM cache.xd7a3b916c322c7c845881bdc90453d8d) AS dl)\\n\\n                           UNION ALL\\n\\n                           SELECT *,\\n                                  to_date('2016-02-24 00:00:00', 'YYYY-MM-DD') AS date\\n                           FROM (SELECT *\\n                                 FROM cache.xec97e74212c55708e49970633062fa26) AS dl)\\n\\n                          UNION ALL\\n\\n                          SELECT *,\\n                                 to_date('2016-02-25 00:00:00', 'YYYY-MM-DD') AS date\\n                          FROM (SELECT *\\n                                FROM cache.x24eafb34d2020d00376d4f7aff024e26) AS dl)\\n\\n                         UNION ALL\\n\\n                         SELECT *,\\n                                to_date('2016-02-26 00:00:00', 'YYYY-MM-DD') AS date\\n                         FROM (SELECT *\\n                               FROM cache.x4ac7ab0cc16234362b8c37a1a1fc2971) AS dl)\\n\\n                        UNION ALL\\n\\n                        SELECT *,\\n                               to_date('2016-02-27 00:00:00', 'YYYY-MM-DD') AS date\\n                        FROM (SELECT *\\n                              FROM cache.x71c2407666a2a3ce902a50517c50b39f) AS dl) AS all_locs\\n                  GROUP BY all_locs.subscriber, pcod) AS times_visited) AS ranked\\n      WHERE rank = 1) AS dl)) UNION ALL (SELECT *,\\n       to_date('2016-02-10 00:00:00', 'YYYY-MM-DD') AS date\\nFROM (SELECT *\\n      FROM cache.x511cbb9af1ac3c1c7d419156fb72d2c7) AS dl)) UNION ALL (SELECT *,\\n       to_date('2016-02-11 00:00:00', 'YYYY-MM-DD') AS date\\nFROM (SELECT *\\n      FROM cache.x904ca0b5af77c527d778d10d91aa46b3) AS dl)) AS all_locs\\n        ORDER BY all_locs.subscriber, all_locs.date\\n        ) AS day_trajectories\\n        GROUP BY \\n            day_trajectories.subscriber,\\n            day_trajectories.pcod\\n        ORDER BY\\n            day_trajectories.subscriber,\\n            COUNT(*) DESC\\n        ) _)'. Error was (psycopg2.errors.DiskFull) could not extend file \\\"base/16384/3455\\\": wrote only 4096 of 8192 bytes at block 11\\nHINT:  Check free disk space.\\n\\n[SQL: EXPLAIN (ANALYZE TRUE, TIMING FALSE, FORMAT JSON) CREATE TABLE cache.x89cd71490689c5d15dd81dec27e62aa3 AS \\n        (SELECT subscriber, pcod, value FROM (\\n        SELECT\\n            day_trajectories.subscriber,\\n            day_trajectories.pcod,\\n            COUNT(*) AS value\\n        FROM\\n            (\\n        SELECT \\n            all_locs.subscriber, \\n            pcod,\\n            all_locs.date\\n        FROM (((((((SELECT *,\\n       to_date('2016-02-05 00:00:00', 'YYYY-MM-DD') AS date\\nFROM (SELECT *\\n      FROM cache.xed6e5c0812e423db90d98bdd4fdaab67) AS dl) UNION ALL (SELECT *,\\n       to_date('2016-02-06 00:00:00', 'YYYY-MM-DD') AS date\\nFROM (SELECT ranked.subscriber,\\n             pcod\\n      FROM (SELECT times_visited.subscriber,\\n                   pcod,\\n                   row_number() OVER (PARTITION BY times_visited.subscriber\\n                                      ORDER BY total DESC,\\n                                               times_visited.date DESC) AS rank\\n            FROM (SELECT all_locs.subscriber,\\n                         pcod,\\n                         count(*) AS total,\\n                         max(all_locs.date) AS date\\n                  FROM ((((((((((((((((((SELECT *,\\n                                                to_date('2016-02-06 00:00:00', 'YYYY-MM-DD') AS date\\n                                         FROM (SELECT *\\n                                               FROM cache.xa104d376c7d53b1b092d318b3b14216c) AS dl\\n\\n                                         UNION ALL\\n\\n                                         SELECT *,\\n                                                to_date('2016-02-07 00:00:00', 'YYYY-MM-DD') AS date\\n                                         FROM (SELECT *\\n                                               FROM cache.x63ffcb6b1d3c0ea7aeb3f0b569f508f1) AS dl)\\n\\n                                        UNION ALL\\n\\n                                        SELECT *,\\n                                               to_date('2016-02-08 00:00:00', 'YYYY-MM-DD') AS date\\n                                        FROM (SELECT *\\n                                              FROM cache.x71ce60134342b71f6dfa532ced8642cd) AS dl)\\n\\n                                       UNION ALL\\n\\n                                       SELECT *,\\n                                              to_date('2016-02-09 00:00:00', 'YYYY-MM-DD') AS date\\n                                       FROM (SELECT *\\n                                             FROM cache.xff3d85f3ea7f885e471ca7c5816b6aab) AS dl)\\n\\n                                      UNION ALL\\n\\n                                      SELECT *,\\n                                             to_date('2016-02-10 00:00:00', 'YYYY-MM-DD') AS date\\n                                      FROM (SELECT *\\n                                            FROM cache.x07237dc61635165204ab24a929271768) AS dl)\\n\\n                                     UNION ALL\\n\\n                                     SELECT *,\\n                                            to_date('2016-02-11 00:00:00', 'YYYY-MM-DD') AS date\\n                                     FROM (SELECT *\\n                                           FROM cache.xffc9c4147a621ede0cdf89cf42166c37) AS dl)\\n\\n                                    UNION ALL\\n\\n                                    SELECT *,\\n                                           to_date('2016-02-12 00:00:00', 'YYYY-MM-DD') AS date\\n                                    FROM (SELECT *\\n                                          FROM cache.x28baca238306ee5ce9066ac057095dcd) AS dl)\\n\\n                                   UNION ALL\\n\\n                                   SELECT *,\\n                                          to_date('2016-02-13 00:00:00', 'YYYY-MM-DD') AS date\\n                                   FROM (SELECT *\\n                                         FROM cache.xcbb4d7341548bbf13b2fb5c8ea7ebc9b) AS dl)\\n\\n                                  UNION ALL\\n\\n                                  SELECT *,\\n                                         to_date('2016-02-14 00:00:00', 'YYYY-MM-DD') AS date\\n                                  FROM (SELECT *\\n                                        FROM cache.x71f98ffbc2867e63eef5bdb73a8f7368) AS dl)\\n\\n                                 UNION ALL\\n\\n                                 SELECT *,\\n                                        to_date('2016-02-15 00:00:00', 'YYYY-MM-DD') AS date\\n                                 FROM (SELECT *\\n                                       FROM cache.x8a2e685cd576bcbe8f65d21d12e44a31) AS dl)\\n\\n                                UNION ALL\\n\\n                                SELECT *,\\n                                       to_date('2016-02-16 00:00:00', 'YYYY-MM-DD') AS date\\n                                FROM (SELECT *\\n                                      FROM cache.x16a9db7fb597455bfe8c6eeaacfa8970) AS dl)\\n\\n                               UNION ALL\\n\\n                               SELECT *,\\n                                      to_date('2016-02-17 00:00:00', 'YYYY-MM-DD') AS date\\n                               FROM (SELECT *\\n                                     FROM cache.xed625075c26ae4c4dd9124f67f894baa) AS dl)\\n\\n                              UNION ALL\\n\\n                              SELECT *,\\n                                     to_date('2016-02-18 00:00:00', 'YYYY-MM-DD') AS date\\n                              FROM (SELECT *\\n                                    FROM cache.x45b6598a9e3dad547870a65902c83553) AS dl)\\n\\n                             UNION ALL\\n\\n                             SELECT *,\\n                                    to_date('2016-02-19 00:00:00', 'YYYY-MM-DD') AS date\\n                             FROM (SELECT *\\n                                   FROM cache.xe07ecf68a04f446cbdc511e8a87ba318) AS dl)\\n\\n                            UNION ALL\\n\\n                            SELECT *,\\n                                   to_date('2016-02-20 00:00:00', 'YYYY-MM-DD') AS date\\n                            FROM (SELECT *\\n                                  FROM cache.x89805a9c835a34f060c42c9b77d7faac) AS dl)\\n\\n                           UNION ALL\\n\\n                           SELECT *,\\n                                  to_date('2016-02-21 00:00:00', 'YYYY-MM-DD') AS date\\n                           FROM (SELECT *\\n                                 FROM cache.x82fc7767605516687897dbe226364dce) AS dl)\\n\\n                          UNION ALL\\n\\n                          SELECT *,\\n                                 to_date('2016-02-22 00:00:00', 'YYYY-MM-DD') AS date\\n                          FROM (SELECT *\\n                                FROM cache.x793bc3da403df74d8f3fa6a83a0eeb50) AS dl)\\n\\n                         UNION ALL\\n\\n                         SELECT *,\\n                                to_date('2016-02-23 00:00:00', 'YYYY-MM-DD') AS date\\n                         FROM (SELECT *\\n                               FROM cache.xd7a3b916c322c7c845881bdc90453d8d) AS dl)\\n\\n                        UNION ALL\\n\\n                        SELECT *,\\n                               to_date('2016-02-24 00:00:00', 'YYYY-MM-DD') AS date\\n                        FROM (SELECT *\\n                              FROM cache.xec97e74212c55708e49970633062fa26) AS dl) AS all_locs\\n                  GROUP BY all_locs.subscriber, pcod) AS times_visited) AS ranked\\n      WHERE rank = 1) AS dl)) UNION ALL (SELECT *,\\n       to_date('2016-02-07 00:00:00', 'YYYY-MM-DD') AS date\\nFROM (SELECT *\\n      FROM cache.xbfc1e8654f0878bda57bb50c14ecc02e) AS dl)) UNION ALL (SELECT *,\\n       to_date('2016-02-08 00:00:00', 'YYYY-MM-DD') AS date\\nFROM (SELECT ranked.subscriber,\\n             pcod\\n      FROM (SELECT times_visited.subscriber,\\n                   pcod,\\n                   row_number() OVER (PARTITION BY times_visited.subscriber\\n                                      ORDER BY total DESC,\\n                                               times_visited.date DESC) AS rank\\n            FROM (SELECT all_locs.subscriber,\\n                         pcod,\\n                         count(*) AS total,\\n                         max(all_locs.date) AS date\\n                  FROM ((((((((((((((((((SELECT *,\\n                                                to_date('2016-02-08 00:00:00', 'YYYY-MM-DD') AS date\\n                                         FROM (SELECT *\\n                                               FROM cache.x71ce60134342b71f6dfa532ced8642cd) AS dl\\n\\n                                         UNION ALL\\n\\n                                         SELECT *,\\n                                                to_date('2016-02-09 00:00:00', 'YYYY-MM-DD') AS date\\n                                         FROM (SELECT *\\n                                               FROM cache.xff3d85f3ea7f885e471ca7c5816b6aab) AS dl)\\n\\n                                        UNION ALL\\n\\n                                        SELECT *,\\n                                               to_date('2016-02-10 00:00:00', 'YYYY-MM-DD') AS date\\n                                        FROM (SELECT *\\n                                              FROM cache.x07237dc61635165204ab24a929271768) AS dl)\\n\\n                                       UNION ALL\\n\\n                                       SELECT *,\\n                                              to_date('2016-02-11 00:00:00', 'YYYY-MM-DD') AS date\\n                                       FROM (SELECT *\\n                                             FROM cache.xffc9c4147a621ede0cdf89cf42166c37) AS dl)\\n\\n                                      UNION ALL\\n\\n                                      SELECT *,\\n                                             to_date('2016-02-12 00:00:00', 'YYYY-MM-DD') AS date\\n                                      FROM (SELECT *\\n                                            FROM cache.x28baca238306ee5ce9066ac057095dcd) AS dl)\\n\\n                                     UNION ALL\\n\\n                                     SELECT *,\\n                                            to_date('2016-02-13 00:00:00', 'YYYY-MM-DD') AS date\\n                                     FROM (SELECT *\\n                                           FROM cache.xcbb4d7341548bbf13b2fb5c8ea7ebc9b) AS dl)\\n\\n                                    UNION ALL\\n\\n                                    SELECT *,\\n                                           to_date('2016-02-14 00:00:00', 'YYYY-MM-DD') AS date\\n                                    FROM (SELECT *\\n                                          FROM cache.x71f98ffbc2867e63eef5bdb73a8f7368) AS dl)\\n\\n                                   UNION ALL\\n\\n                                   SELECT *,\\n                                          to_date('2016-02-15 00:00:00', 'YYYY-MM-DD') AS date\\n                                   FROM (SELECT *\\n                                         FROM cache.x8a2e685cd576bcbe8f65d21d12e44a31) AS dl)\\n\\n                                  UNION ALL\\n\\n                                  SELECT *,\\n                                         to_date('2016-02-16 00:00:00', 'YYYY-MM-DD') AS date\\n                                  FROM (SELECT *\\n                                        FROM cache.x16a9db7fb597455bfe8c6eeaacfa8970) AS dl)\\n\\n                                 UNION ALL\\n\\n                                 SELECT *,\\n                                        to_date('2016-02-17 00:00:00', 'YYYY-MM-DD') AS date\\n                                 FROM (SELECT *\\n                                       FROM cache.xed625075c26ae4c4dd9124f67f894baa) AS dl)\\n\\n                                UNION ALL\\n\\n                                SELECT *,\\n                                       to_date('2016-02-18 00:00:00', 'YYYY-MM-DD') AS date\\n                                FROM (SELECT *\\n                                      FROM cache.x45b6598a9e3dad547870a65902c83553) AS dl)\\n\\n                               UNION ALL\\n\\n                               SELECT *,\\n                                      to_date('2016-02-19 00:00:00', 'YYYY-MM-DD') AS date\\n                               FROM (SELECT *\\n                                     FROM cache.xe07ecf68a04f446cbdc511e8a87ba318) AS dl)\\n\\n                              UNION ALL\\n\\n                              SELECT *,\\n                                     to_date('2016-02-20 00:00:00', 'YYYY-MM-DD') AS date\\n                              FROM (SELECT *\\n                                    FROM cache.x89805a9c835a34f060c42c9b77d7faac) AS dl)\\n\\n                             UNION ALL\\n\\n                             SELECT *,\\n                                    to_date('2016-02-21 00:00:00', 'YYYY-MM-DD') AS date\\n                             FROM (SELECT *\\n                                   FROM cache.x82fc7767605516687897dbe226364dce) AS dl)\\n\\n                            UNION ALL\\n\\n                            SELECT *,\\n                                   to_date('2016-02-22 00:00:00', 'YYYY-MM-DD') AS date\\n                            FROM (SELECT *\\n                                  FROM cache.x793bc3da403df74d8f3fa6a83a0eeb50) AS dl)\\n\\n                           UNION ALL\\n\\n                           SELECT *,\\n                                  to_date('2016-02-23 00:00:00', 'YYYY-MM-DD') AS date\\n                           FROM (SELECT *\\n                                 FROM cache.xd7a3b916c322c7c845881bdc90453d8d) AS dl)\\n\\n                          UNION ALL\\n\\n                          SELECT *,\\n                                 to_date('2016-02-24 00:00:00', 'YYYY-MM-DD') AS date\\n                          FROM (SELECT *\\n                                FROM cache.xec97e74212c55708e49970633062fa26) AS dl)\\n\\n                         UNION ALL\\n\\n                         SELECT *,\\n                                to_date('2016-02-25 00:00:00', 'YYYY-MM-DD') AS date\\n                         FROM (SELECT *\\n                               FROM cache.x24eafb34d2020d00376d4f7aff024e26) AS dl)\\n\\n                        UNION ALL\\n\\n                        SELECT *,\\n                               to_date('2016-02-26 00:00:00', 'YYYY-MM-DD') AS date\\n                        FROM (SELECT *\\n                              FROM cache.x4ac7ab0cc16234362b8c37a1a1fc2971) AS dl) AS all_locs\\n                  GROUP BY all_locs.subscriber, pcod) AS times_visited) AS ranked\\n      WHERE rank = 1) AS dl)) UNION ALL (SELECT *,\\n       to_date('2016-02-09 00:00:00', 'YYYY-MM-DD') AS date\\nFROM (SELECT ranked.subscriber,\\n             pcod\\n      FROM (SELECT times_visited.subscriber,\\n                   pcod,\\n                   row_number() OVER (PARTITION BY times_visited.subscriber\\n                                      ORDER BY total DESC,\\n                                               times_visited.date DESC) AS rank\\n            FROM (SELECT all_locs.subscriber,\\n                         pcod,\\n                         count(*) AS total,\\n                         max(all_locs.date) AS date\\n                  FROM ((((((((((((((((((SELECT *,\\n                                                to_date('2016-02-09 00:00:00', 'YYYY-MM-DD') AS date\\n                                         FROM (SELECT *\\n                                               FROM cache.xff3d85f3ea7f885e471ca7c5816b6aab) AS dl\\n\\n                                         UNION ALL\\n\\n                                         SELECT *,\\n                                                to_date('2016-02-10 00:00:00', 'YYYY-MM-DD') AS date\\n                                         FROM (SELECT *\\n                                               FROM cache.x07237dc61635165204ab24a929271768) AS dl)\\n\\n                                        UNION ALL\\n\\n                                        SELECT *,\\n                                               to_date('2016-02-11 00:00:00', 'YYYY-MM-DD') AS date\\n                                        FROM (SELECT *\\n                                              FROM cache.xffc9c4147a621ede0cdf89cf42166c37) AS dl)\\n\\n                                       UNION ALL\\n\\n                                       SELECT *,\\n                                              to_date('2016-02-12 00:00:00', 'YYYY-MM-DD') AS date\\n                                       FROM (SELECT *\\n                                             FROM cache.x28baca238306ee5ce9066ac057095dcd) AS dl)\\n\\n                                      UNION ALL\\n\\n                                      SELECT *,\\n                                             to_date('2016-02-13 00:00:00', 'YYYY-MM-DD') AS date\\n                                      FROM (SELECT *\\n                                            FROM cache.xcbb4d7341548bbf13b2fb5c8ea7ebc9b) AS dl)\\n\\n                                     UNION ALL\\n\\n                                     SELECT *,\\n                                            to_date('2016-02-14 00:00:00', 'YYYY-MM-DD') AS date\\n                                     FROM (SELECT *\\n                                           FROM cache.x71f98ffbc2867e63eef5bdb73a8f7368) AS dl)\\n\\n                                    UNION ALL\\n\\n                                    SELECT *,\\n                                           to_date('2016-02-15 00:00:00', 'YYYY-MM-DD') AS date\\n                                    FROM (SELECT *\\n                                          FROM cache.x8a2e685cd576bcbe8f65d21d12e44a31) AS dl)\\n\\n                                   UNION ALL\\n\\n                                   SELECT *,\\n                                          to_date('2016-02-16 00:00:00', 'YYYY-MM-DD') AS date\\n                                   FROM (SELECT *\\n                                         FROM cache.x16a9db7fb597455bfe8c6eeaacfa8970) AS dl)\\n\\n                                  UNION ALL\\n\\n                                  SELECT *,\\n                                         to_date('2016-02-17 00:00:00', 'YYYY-MM-DD') AS date\\n                                  FROM (SELECT *\\n                                        FROM cache.xed625075c26ae4c4dd9124f67f894baa) AS dl)\\n\\n                                 UNION ALL\\n\\n                                 SELECT *,\\n                                        to_date('2016-02-18 00:00:00', 'YYYY-MM-DD') AS date\\n                                 FROM (SELECT *\\n                                       FROM cache.x45b6598a9e3dad547870a65902c83553) AS dl)\\n\\n                                UNION ALL\\n\\n                                SELECT *,\\n                                       to_date('2016-02-19 00:00:00', 'YYYY-MM-DD') AS date\\n                                FROM (SELECT *\\n                                      FROM cache.xe07ecf68a04f446cbdc511e8a87ba318) AS dl)\\n\\n                               UNION ALL\\n\\n                               SELECT *,\\n                                      to_date('2016-02-20 00:00:00', 'YYYY-MM-DD') AS date\\n                               FROM (SELECT *\\n                                     FROM cache.x89805a9c835a34f060c42c9b77d7faac) AS dl)\\n\\n                              UNION ALL\\n\\n                              SELECT *,\\n                                     to_date('2016-02-21 00:00:00', 'YYYY-MM-DD') AS date\\n                              FROM (SELECT *\\n                                    FROM cache.x82fc7767605516687897dbe226364dce) AS dl)\\n\\n                             UNION ALL\\n\\n                             SELECT *,\\n                                    to_date('2016-02-22 00:00:00', 'YYYY-MM-DD') AS date\\n                             FROM (SELECT *\\n                                   FROM cache.x793bc3da403df74d8f3fa6a83a0eeb50) AS dl)\\n\\n                            UNION ALL\\n\\n                            SELECT *,\\n                                   to_date('2016-02-23 00:00:00', 'YYYY-MM-DD') AS date\\n                            FROM (SELECT *\\n                                  FROM cache.xd7a3b916c322c7c845881bdc90453d8d) AS dl)\\n\\n                           UNION ALL\\n\\n                           SELECT *,\\n                                  to_date('2016-02-24 00:00:00', 'YYYY-MM-DD') AS date\\n                           FROM (SELECT *\\n                                 FROM cache.xec97e74212c55708e49970633062fa26) AS dl)\\n\\n                          UNION ALL\\n\\n                          SELECT *,\\n                                 to_date('2016-02-25 00:00:00', 'YYYY-MM-DD') AS date\\n                          FROM (SELECT *\\n                                FROM cache.x24eafb34d2020d00376d4f7aff024e26) AS dl)\\n\\n                         UNION ALL\\n\\n                         SELECT *,\\n                                to_date('2016-02-26 00:00:00', 'YYYY-MM-DD') AS date\\n                         FROM (SELECT *\\n                               FROM cache.x4ac7ab0cc16234362b8c37a1a1fc2971) AS dl)\\n\\n                        UNION ALL\\n\\n                        SELECT *,\\n                               to_date('2016-02-27 00:00:00', 'YYYY-MM-DD') AS date\\n                        FROM (SELECT *\\n                              FROM cache.x71c2407666a2a3ce902a50517c50b39f) AS dl) AS all_locs\\n                  GROUP BY all_locs.subscriber, pcod) AS times_visited) AS ranked\\n      WHERE rank = 1) AS dl)) UNION ALL (SELECT *,\\n       to_date('2016-02-10 00:00:00', 'YYYY-MM-DD') AS date\\nFROM (SELECT *\\n      FROM cache.x511cbb9af1ac3c1c7d419156fb72d2c7) AS dl)) UNION ALL (SELECT *,\\n       to_date('2016-02-11 00:00:00', 'YYYY-MM-DD') AS date\\nFROM (SELECT *\\n      FROM cache.x904ca0b5af77c527d778d10d91aa46b3) AS dl)) AS all_locs\\n        ORDER BY all_locs.subscriber, all_locs.date\\n        ) AS day_trajectories\\n        GROUP BY \\n            day_trajectories.subscriber,\\n            day_trajectories.pcod\\n        ORDER BY\\n            day_trajectories.subscriber,\\n            COUNT(*) DESC\\n        ) _)]\\n(Background on this error at: http://sqlalche.me/e/13/e3q8)\",\"logger\":\"flowmachine.debug\",\"level\":\"error\",\"timestamp\":\"2021-12-03T13:59:12.600639Z\"}\n",
      "{\"submodule\":\"flowmachine.core.cache\",\"event\":\"Error executing SQL. Error was (psycopg2.errors.DiskFull) could not extend file \\\"base/16384/3455\\\": wrote only 4096 of 8192 bytes at block 11\\nHINT:  Check free disk space.\\n\\n[SQL: EXPLAIN (ANALYZE TRUE, TIMING FALSE, FORMAT JSON) CREATE TABLE cache.x89cd71490689c5d15dd81dec27e62aa3 AS \\n        (SELECT subscriber, pcod, value FROM (\\n        SELECT\\n            day_trajectories.subscriber,\\n            day_trajectories.pcod,\\n            COUNT(*) AS value\\n        FROM\\n            (\\n        SELECT \\n            all_locs.subscriber, \\n            pcod,\\n            all_locs.date\\n        FROM (((((((SELECT *,\\n       to_date('2016-02-05 00:00:00', 'YYYY-MM-DD') AS date\\nFROM (SELECT *\\n      FROM cache.xed6e5c0812e423db90d98bdd4fdaab67) AS dl) UNION ALL (SELECT *,\\n       to_date('2016-02-06 00:00:00', 'YYYY-MM-DD') AS date\\nFROM (SELECT ranked.subscriber,\\n             pcod\\n      FROM (SELECT times_visited.subscriber,\\n                   pcod,\\n                   row_number() OVER (PARTITION BY times_visited.subscriber\\n                                      ORDER BY total DESC,\\n                                               times_visited.date DESC) AS rank\\n            FROM (SELECT all_locs.subscriber,\\n                         pcod,\\n                         count(*) AS total,\\n                         max(all_locs.date) AS date\\n                  FROM ((((((((((((((((((SELECT *,\\n                                                to_date('2016-02-06 00:00:00', 'YYYY-MM-DD') AS date\\n                                         FROM (SELECT *\\n                                               FROM cache.xa104d376c7d53b1b092d318b3b14216c) AS dl\\n\\n                                         UNION ALL\\n\\n                                         SELECT *,\\n                                                to_date('2016-02-07 00:00:00', 'YYYY-MM-DD') AS date\\n                                         FROM (SELECT *\\n                                               FROM cache.x63ffcb6b1d3c0ea7aeb3f0b569f508f1) AS dl)\\n\\n                                        UNION ALL\\n\\n                                        SELECT *,\\n                                               to_date('2016-02-08 00:00:00', 'YYYY-MM-DD') AS date\\n                                        FROM (SELECT *\\n                                              FROM cache.x71ce60134342b71f6dfa532ced8642cd) AS dl)\\n\\n                                       UNION ALL\\n\\n                                       SELECT *,\\n                                              to_date('2016-02-09 00:00:00', 'YYYY-MM-DD') AS date\\n                                       FROM (SELECT *\\n                                             FROM cache.xff3d85f3ea7f885e471ca7c5816b6aab) AS dl)\\n\\n                                      UNION ALL\\n\\n                                      SELECT *,\\n                                             to_date('2016-02-10 00:00:00', 'YYYY-MM-DD') AS date\\n                                      FROM (SELECT *\\n                                            FROM cache.x07237dc61635165204ab24a929271768) AS dl)\\n\\n                                     UNION ALL\\n\\n                                     SELECT *,\\n                                            to_date('2016-02-11 00:00:00', 'YYYY-MM-DD') AS date\\n                                     FROM (SELECT *\\n                                           FROM cache.xffc9c4147a621ede0cdf89cf42166c37) AS dl)\\n\\n                                    UNION ALL\\n\\n                                    SELECT *,\\n                                           to_date('2016-02-12 00:00:00', 'YYYY-MM-DD') AS date\\n                                    FROM (SELECT *\\n                                          FROM cache.x28baca238306ee5ce9066ac057095dcd) AS dl)\\n\\n                                   UNION ALL\\n\\n                                   SELECT *,\\n                                          to_date('2016-02-13 00:00:00', 'YYYY-MM-DD') AS date\\n                                   FROM (SELECT *\\n                                         FROM cache.xcbb4d7341548bbf13b2fb5c8ea7ebc9b) AS dl)\\n\\n                                  UNION ALL\\n\\n                                  SELECT *,\\n                                         to_date('2016-02-14 00:00:00', 'YYYY-MM-DD') AS date\\n                                  FROM (SELECT *\\n                                        FROM cache.x71f98ffbc2867e63eef5bdb73a8f7368) AS dl)\\n\\n                                 UNION ALL\\n\\n                                 SELECT *,\\n                                        to_date('2016-02-15 00:00:00', 'YYYY-MM-DD') AS date\\n                                 FROM (SELECT *\\n                                       FROM cache.x8a2e685cd576bcbe8f65d21d12e44a31) AS dl)\\n\\n                                UNION ALL\\n\\n                                SELECT *,\\n                                       to_date('2016-02-16 00:00:00', 'YYYY-MM-DD') AS date\\n                                FROM (SELECT *\\n                                      FROM cache.x16a9db7fb597455bfe8c6eeaacfa8970) AS dl)\\n\\n                               UNION ALL\\n\\n                               SELECT *,\\n                                      to_date('2016-02-17 00:00:00', 'YYYY-MM-DD') AS date\\n                               FROM (SELECT *\\n                                     FROM cache.xed625075c26ae4c4dd9124f67f894baa) AS dl)\\n\\n                              UNION ALL\\n\\n                              SELECT *,\\n                                     to_date('2016-02-18 00:00:00', 'YYYY-MM-DD') AS date\\n                              FROM (SELECT *\\n                                    FROM cache.x45b6598a9e3dad547870a65902c83553) AS dl)\\n\\n                             UNION ALL\\n\\n                             SELECT *,\\n                                    to_date('2016-02-19 00:00:00', 'YYYY-MM-DD') AS date\\n                             FROM (SELECT *\\n                                   FROM cache.xe07ecf68a04f446cbdc511e8a87ba318) AS dl)\\n\\n                            UNION ALL\\n\\n                            SELECT *,\\n                                   to_date('2016-02-20 00:00:00', 'YYYY-MM-DD') AS date\\n                            FROM (SELECT *\\n                                  FROM cache.x89805a9c835a34f060c42c9b77d7faac) AS dl)\\n\\n                           UNION ALL\\n\\n                           SELECT *,\\n                                  to_date('2016-02-21 00:00:00', 'YYYY-MM-DD') AS date\\n                           FROM (SELECT *\\n                                 FROM cache.x82fc7767605516687897dbe226364dce) AS dl)\\n\\n                          UNION ALL\\n\\n                          SELECT *,\\n                                 to_date('2016-02-22 00:00:00', 'YYYY-MM-DD') AS date\\n                          FROM (SELECT *\\n                                FROM cache.x793bc3da403df74d8f3fa6a83a0eeb50) AS dl)\\n\\n                         UNION ALL\\n\\n                         SELECT *,\\n                                to_date('2016-02-23 00:00:00', 'YYYY-MM-DD') AS date\\n                         FROM (SELECT *\\n                               FROM cache.xd7a3b916c322c7c845881bdc90453d8d) AS dl)\\n\\n                        UNION ALL\\n\\n                        SELECT *,\\n                               to_date('2016-02-24 00:00:00', 'YYYY-MM-DD') AS date\\n                        FROM (SELECT *\\n                              FROM cache.xec97e74212c55708e49970633062fa26) AS dl) AS all_locs\\n                  GROUP BY all_locs.subscriber, pcod) AS times_visited) AS ranked\\n      WHERE rank = 1) AS dl)) UNION ALL (SELECT *,\\n       to_date('2016-02-07 00:00:00', 'YYYY-MM-DD') AS date\\nFROM (SELECT *\\n      FROM cache.xbfc1e8654f0878bda57bb50c14ecc02e) AS dl)) UNION ALL (SELECT *,\\n       to_date('2016-02-08 00:00:00', 'YYYY-MM-DD') AS date\\nFROM (SELECT ranked.subscriber,\\n             pcod\\n      FROM (SELECT times_visited.subscriber,\\n                   pcod,\\n                   row_number() OVER (PARTITION BY times_visited.subscriber\\n                                      ORDER BY total DESC,\\n                                               times_visited.date DESC) AS rank\\n            FROM (SELECT all_locs.subscriber,\\n                         pcod,\\n                         count(*) AS total,\\n                         max(all_locs.date) AS date\\n                  FROM ((((((((((((((((((SELECT *,\\n                                                to_date('2016-02-08 00:00:00', 'YYYY-MM-DD') AS date\\n                                         FROM (SELECT *\\n                                               FROM cache.x71ce60134342b71f6dfa532ced8642cd) AS dl\\n\\n                                         UNION ALL\\n\\n                                         SELECT *,\\n                                                to_date('2016-02-09 00:00:00', 'YYYY-MM-DD') AS date\\n                                         FROM (SELECT *\\n                                               FROM cache.xff3d85f3ea7f885e471ca7c5816b6aab) AS dl)\\n\\n                                        UNION ALL\\n\\n                                        SELECT *,\\n                                               to_date('2016-02-10 00:00:00', 'YYYY-MM-DD') AS date\\n                                        FROM (SELECT *\\n                                              FROM cache.x07237dc61635165204ab24a929271768) AS dl)\\n\\n                                       UNION ALL\\n\\n                                       SELECT *,\\n                                              to_date('2016-02-11 00:00:00', 'YYYY-MM-DD') AS date\\n                                       FROM (SELECT *\\n                                             FROM cache.xffc9c4147a621ede0cdf89cf42166c37) AS dl)\\n\\n                                      UNION ALL\\n\\n                                      SELECT *,\\n                                             to_date('2016-02-12 00:00:00', 'YYYY-MM-DD') AS date\\n                                      FROM (SELECT *\\n                                            FROM cache.x28baca238306ee5ce9066ac057095dcd) AS dl)\\n\\n                                     UNION ALL\\n\\n                                     SELECT *,\\n                                            to_date('2016-02-13 00:00:00', 'YYYY-MM-DD') AS date\\n                                     FROM (SELECT *\\n                                           FROM cache.xcbb4d7341548bbf13b2fb5c8ea7ebc9b) AS dl)\\n\\n                                    UNION ALL\\n\\n                                    SELECT *,\\n                                           to_date('2016-02-14 00:00:00', 'YYYY-MM-DD') AS date\\n                                    FROM (SELECT *\\n                                          FROM cache.x71f98ffbc2867e63eef5bdb73a8f7368) AS dl)\\n\\n                                   UNION ALL\\n\\n                                   SELECT *,\\n                                          to_date('2016-02-15 00:00:00', 'YYYY-MM-DD') AS date\\n                                   FROM (SELECT *\\n                                         FROM cache.x8a2e685cd576bcbe8f65d21d12e44a31) AS dl)\\n\\n                                  UNION ALL\\n\\n                                  SELECT *,\\n                                         to_date('2016-02-16 00:00:00', 'YYYY-MM-DD') AS date\\n                                  FROM (SELECT *\\n                                        FROM cache.x16a9db7fb597455bfe8c6eeaacfa8970) AS dl)\\n\\n                                 UNION ALL\\n\\n                                 SELECT *,\\n                                        to_date('2016-02-17 00:00:00', 'YYYY-MM-DD') AS date\\n                                 FROM (SELECT *\\n                                       FROM cache.xed625075c26ae4c4dd9124f67f894baa) AS dl)\\n\\n                                UNION ALL\\n\\n                                SELECT *,\\n                                       to_date('2016-02-18 00:00:00', 'YYYY-MM-DD') AS date\\n                                FROM (SELECT *\\n                                      FROM cache.x45b6598a9e3dad547870a65902c83553) AS dl)\\n\\n                               UNION ALL\\n\\n                               SELECT *,\\n                                      to_date('2016-02-19 00:00:00', 'YYYY-MM-DD') AS date\\n                               FROM (SELECT *\\n                                     FROM cache.xe07ecf68a04f446cbdc511e8a87ba318) AS dl)\\n\\n                              UNION ALL\\n\\n                              SELECT *,\\n                                     to_date('2016-02-20 00:00:00', 'YYYY-MM-DD') AS date\\n                              FROM (SELECT *\\n                                    FROM cache.x89805a9c835a34f060c42c9b77d7faac) AS dl)\\n\\n                             UNION ALL\\n\\n                             SELECT *,\\n                                    to_date('2016-02-21 00:00:00', 'YYYY-MM-DD') AS date\\n                             FROM (SELECT *\\n                                   FROM cache.x82fc7767605516687897dbe226364dce) AS dl)\\n\\n                            UNION ALL\\n\\n                            SELECT *,\\n                                   to_date('2016-02-22 00:00:00', 'YYYY-MM-DD') AS date\\n                            FROM (SELECT *\\n                                  FROM cache.x793bc3da403df74d8f3fa6a83a0eeb50) AS dl)\\n\\n                           UNION ALL\\n\\n                           SELECT *,\\n                                  to_date('2016-02-23 00:00:00', 'YYYY-MM-DD') AS date\\n                           FROM (SELECT *\\n                                 FROM cache.xd7a3b916c322c7c845881bdc90453d8d) AS dl)\\n\\n                          UNION ALL\\n\\n                          SELECT *,\\n                                 to_date('2016-02-24 00:00:00', 'YYYY-MM-DD') AS date\\n                          FROM (SELECT *\\n                                FROM cache.xec97e74212c55708e49970633062fa26) AS dl)\\n\\n                         UNION ALL\\n\\n                         SELECT *,\\n                                to_date('2016-02-25 00:00:00', 'YYYY-MM-DD') AS date\\n                         FROM (SELECT *\\n                               FROM cache.x24eafb34d2020d00376d4f7aff024e26) AS dl)\\n\\n                        UNION ALL\\n\\n                        SELECT *,\\n                               to_date('2016-02-26 00:00:00', 'YYYY-MM-DD') AS date\\n                        FROM (SELECT *\\n                              FROM cache.x4ac7ab0cc16234362b8c37a1a1fc2971) AS dl) AS all_locs\\n                  GROUP BY all_locs.subscriber, pcod) AS times_visited) AS ranked\\n      WHERE rank = 1) AS dl)) UNION ALL (SELECT *,\\n       to_date('2016-02-09 00:00:00', 'YYYY-MM-DD') AS date\\nFROM (SELECT ranked.subscriber,\\n             pcod\\n      FROM (SELECT times_visited.subscriber,\\n                   pcod,\\n                   row_number() OVER (PARTITION BY times_visited.subscriber\\n                                      ORDER BY total DESC,\\n                                               times_visited.date DESC) AS rank\\n            FROM (SELECT all_locs.subscriber,\\n                         pcod,\\n                         count(*) AS total,\\n                         max(all_locs.date) AS date\\n                  FROM ((((((((((((((((((SELECT *,\\n                                                to_date('2016-02-09 00:00:00', 'YYYY-MM-DD') AS date\\n                                         FROM (SELECT *\\n                                               FROM cache.xff3d85f3ea7f885e471ca7c5816b6aab) AS dl\\n\\n                                         UNION ALL\\n\\n                                         SELECT *,\\n                                                to_date('2016-02-10 00:00:00', 'YYYY-MM-DD') AS date\\n                                         FROM (SELECT *\\n                                               FROM cache.x07237dc61635165204ab24a929271768) AS dl)\\n\\n                                        UNION ALL\\n\\n                                        SELECT *,\\n                                               to_date('2016-02-11 00:00:00', 'YYYY-MM-DD') AS date\\n                                        FROM (SELECT *\\n                                              FROM cache.xffc9c4147a621ede0cdf89cf42166c37) AS dl)\\n\\n                                       UNION ALL\\n\\n                                       SELECT *,\\n                                              to_date('2016-02-12 00:00:00', 'YYYY-MM-DD') AS date\\n                                       FROM (SELECT *\\n                                             FROM cache.x28baca238306ee5ce9066ac057095dcd) AS dl)\\n\\n                                      UNION ALL\\n\\n                                      SELECT *,\\n                                             to_date('2016-02-13 00:00:00', 'YYYY-MM-DD') AS date\\n                                      FROM (SELECT *\\n                                            FROM cache.xcbb4d7341548bbf13b2fb5c8ea7ebc9b) AS dl)\\n\\n                                     UNION ALL\\n\\n                                     SELECT *,\\n                                            to_date('2016-02-14 00:00:00', 'YYYY-MM-DD') AS date\\n                                     FROM (SELECT *\\n                                           FROM cache.x71f98ffbc2867e63eef5bdb73a8f7368) AS dl)\\n\\n                                    UNION ALL\\n\\n                                    SELECT *,\\n                                           to_date('2016-02-15 00:00:00', 'YYYY-MM-DD') AS date\\n                                    FROM (SELECT *\\n                                          FROM cache.x8a2e685cd576bcbe8f65d21d12e44a31) AS dl)\\n\\n                                   UNION ALL\\n\\n                                   SELECT *,\\n                                          to_date('2016-02-16 00:00:00', 'YYYY-MM-DD') AS date\\n                                   FROM (SELECT *\\n                                         FROM cache.x16a9db7fb597455bfe8c6eeaacfa8970) AS dl)\\n\\n                                  UNION ALL\\n\\n                                  SELECT *,\\n                                         to_date('2016-02-17 00:00:00', 'YYYY-MM-DD') AS date\\n                                  FROM (SELECT *\\n                                        FROM cache.xed625075c26ae4c4dd9124f67f894baa) AS dl)\\n\\n                                 UNION ALL\\n\\n                                 SELECT *,\\n                                        to_date('2016-02-18 00:00:00', 'YYYY-MM-DD') AS date\\n                                 FROM (SELECT *\\n                                       FROM cache.x45b6598a9e3dad547870a65902c83553) AS dl)\\n\\n                                UNION ALL\\n\\n                                SELECT *,\\n                                       to_date('2016-02-19 00:00:00', 'YYYY-MM-DD') AS date\\n                                FROM (SELECT *\\n                                      FROM cache.xe07ecf68a04f446cbdc511e8a87ba318) AS dl)\\n\\n                               UNION ALL\\n\\n                               SELECT *,\\n                                      to_date('2016-02-20 00:00:00', 'YYYY-MM-DD') AS date\\n                               FROM (SELECT *\\n                                     FROM cache.x89805a9c835a34f060c42c9b77d7faac) AS dl)\\n\\n                              UNION ALL\\n\\n                              SELECT *,\\n                                     to_date('2016-02-21 00:00:00', 'YYYY-MM-DD') AS date\\n                              FROM (SELECT *\\n                                    FROM cache.x82fc7767605516687897dbe226364dce) AS dl)\\n\\n                             UNION ALL\\n\\n                             SELECT *,\\n                                    to_date('2016-02-22 00:00:00', 'YYYY-MM-DD') AS date\\n                             FROM (SELECT *\\n                                   FROM cache.x793bc3da403df74d8f3fa6a83a0eeb50) AS dl)\\n\\n                            UNION ALL\\n\\n                            SELECT *,\\n                                   to_date('2016-02-23 00:00:00', 'YYYY-MM-DD') AS date\\n                            FROM (SELECT *\\n                                  FROM cache.xd7a3b916c322c7c845881bdc90453d8d) AS dl)\\n\\n                           UNION ALL\\n\\n                           SELECT *,\\n                                  to_date('2016-02-24 00:00:00', 'YYYY-MM-DD') AS date\\n                           FROM (SELECT *\\n                                 FROM cache.xec97e74212c55708e49970633062fa26) AS dl)\\n\\n                          UNION ALL\\n\\n                          SELECT *,\\n                                 to_date('2016-02-25 00:00:00', 'YYYY-MM-DD') AS date\\n                          FROM (SELECT *\\n                                FROM cache.x24eafb34d2020d00376d4f7aff024e26) AS dl)\\n\\n                         UNION ALL\\n\\n                         SELECT *,\\n                                to_date('2016-02-26 00:00:00', 'YYYY-MM-DD') AS date\\n                         FROM (SELECT *\\n                               FROM cache.x4ac7ab0cc16234362b8c37a1a1fc2971) AS dl)\\n\\n                        UNION ALL\\n\\n                        SELECT *,\\n                               to_date('2016-02-27 00:00:00', 'YYYY-MM-DD') AS date\\n                        FROM (SELECT *\\n                              FROM cache.x71c2407666a2a3ce902a50517c50b39f) AS dl) AS all_locs\\n                  GROUP BY all_locs.subscriber, pcod) AS times_visited) AS ranked\\n      WHERE rank = 1) AS dl)) UNION ALL (SELECT *,\\n       to_date('2016-02-10 00:00:00', 'YYYY-MM-DD') AS date\\nFROM (SELECT *\\n      FROM cache.x511cbb9af1ac3c1c7d419156fb72d2c7) AS dl)) UNION ALL (SELECT *,\\n       to_date('2016-02-11 00:00:00', 'YYYY-MM-DD') AS date\\nFROM (SELECT *\\n      FROM cache.x904ca0b5af77c527d778d10d91aa46b3) AS dl)) AS all_locs\\n        ORDER BY all_locs.subscriber, all_locs.date\\n        ) AS day_trajectories\\n        GROUP BY \\n            day_trajectories.subscriber,\\n            day_trajectories.pcod\\n        ORDER BY\\n            day_trajectories.subscriber,\\n            COUNT(*) DESC\\n        ) _)]\\n(Background on this error at: http://sqlalche.me/e/13/e3q8)\",\"logger\":\"flowmachine.debug\",\"level\":\"error\",\"timestamp\":\"2021-12-03T13:59:12.603502Z\"}\n",
      "{\"submodule\":\"flowmachine.core.query\",\"event\":\"Error executing SQL: 'EXPLAIN (ANALYZE TRUE, TIMING FALSE, FORMAT JSON) CREATE TABLE cache.xd42cc81f0d4bdcecfcba23513c65dd6f AS \\n        (SELECT subscriber, pcod FROM (\\nWITH subscriber_subset AS (\\n    \\n        SELECT\\n            day_trajectories.subscriber,\\n            day_trajectories.pcod,\\n            COUNT(*) AS value\\n        FROM\\n            (\\n        SELECT \\n            all_locs.subscriber, \\n            pcod,\\n            all_locs.date\\n        FROM (((((((SELECT *,\\n       to_date('2016-02-05 00:00:00', 'YYYY-MM-DD') AS date\\nFROM (SELECT *\\n      FROM cache.xed6e5c0812e423db90d98bdd4fdaab67) AS dl) UNION ALL (SELECT *,\\n       to_date('2016-02-06 00:00:00', 'YYYY-MM-DD') AS date\\nFROM (SELECT ranked.subscriber,\\n             pcod\\n      FROM (SELECT times_visited.subscriber,\\n                   pcod,\\n                   row_number() OVER (PARTITION BY times_visited.subscriber\\n                                      ORDER BY total DESC,\\n                                               times_visited.date DESC) AS rank\\n            FROM (SELECT all_locs.subscriber,\\n                         pcod,\\n                         count(*) AS total,\\n                         max(all_locs.date) AS date\\n                  FROM ((((((((((((((((((SELECT *,\\n                                                to_date('2016-02-06 00:00:00', 'YYYY-MM-DD') AS date\\n                                         FROM (SELECT *\\n                                               FROM cache.xa104d376c7d53b1b092d318b3b14216c) AS dl\\n\\n                                         UNION ALL\\n\\n                                         SELECT *,\\n                                                to_date('2016-02-07 00:00:00', 'YYYY-MM-DD') AS date\\n                                         FROM (SELECT *\\n                                               FROM cache.x63ffcb6b1d3c0ea7aeb3f0b569f508f1) AS dl)\\n\\n                                        UNION ALL\\n\\n                                        SELECT *,\\n                                               to_date('2016-02-08 00:00:00', 'YYYY-MM-DD') AS date\\n                                        FROM (SELECT *\\n                                              FROM cache.x71ce60134342b71f6dfa532ced8642cd) AS dl)\\n\\n                                       UNION ALL\\n\\n                                       SELECT *,\\n                                              to_date('2016-02-09 00:00:00', 'YYYY-MM-DD') AS date\\n                                       FROM (SELECT *\\n                                             FROM cache.xff3d85f3ea7f885e471ca7c5816b6aab) AS dl)\\n\\n                                      UNION ALL\\n\\n                                      SELECT *,\\n                                             to_date('2016-02-10 00:00:00', 'YYYY-MM-DD') AS date\\n                                      FROM (SELECT *\\n                                            FROM cache.x07237dc61635165204ab24a929271768) AS dl)\\n\\n                                     UNION ALL\\n\\n                                     SELECT *,\\n                                            to_date('2016-02-11 00:00:00', 'YYYY-MM-DD') AS date\\n                                     FROM (SELECT *\\n                                           FROM cache.xffc9c4147a621ede0cdf89cf42166c37) AS dl)\\n\\n                                    UNION ALL\\n\\n                                    SELECT *,\\n                                           to_date('2016-02-12 00:00:00', 'YYYY-MM-DD') AS date\\n                                    FROM (SELECT *\\n                                          FROM cache.x28baca238306ee5ce9066ac057095dcd) AS dl)\\n\\n                                   UNION ALL\\n\\n                                   SELECT *,\\n                                          to_date('2016-02-13 00:00:00', 'YYYY-MM-DD') AS date\\n                                   FROM (SELECT *\\n                                         FROM cache.xcbb4d7341548bbf13b2fb5c8ea7ebc9b) AS dl)\\n\\n                                  UNION ALL\\n\\n                                  SELECT *,\\n                                         to_date('2016-02-14 00:00:00', 'YYYY-MM-DD') AS date\\n                                  FROM (SELECT *\\n                                        FROM cache.x71f98ffbc2867e63eef5bdb73a8f7368) AS dl)\\n\\n                                 UNION ALL\\n\\n                                 SELECT *,\\n                                        to_date('2016-02-15 00:00:00', 'YYYY-MM-DD') AS date\\n                                 FROM (SELECT *\\n                                       FROM cache.x8a2e685cd576bcbe8f65d21d12e44a31) AS dl)\\n\\n                                UNION ALL\\n\\n                                SELECT *,\\n                                       to_date('2016-02-16 00:00:00', 'YYYY-MM-DD') AS date\\n                                FROM (SELECT *\\n                                      FROM cache.x16a9db7fb597455bfe8c6eeaacfa8970) AS dl)\\n\\n                               UNION ALL\\n\\n                               SELECT *,\\n                                      to_date('2016-02-17 00:00:00', 'YYYY-MM-DD') AS date\\n                               FROM (SELECT *\\n                                     FROM cache.xed625075c26ae4c4dd9124f67f894baa) AS dl)\\n\\n                              UNION ALL\\n\\n                              SELECT *,\\n                                     to_date('2016-02-18 00:00:00', 'YYYY-MM-DD') AS date\\n                              FROM (SELECT *\\n                                    FROM cache.x45b6598a9e3dad547870a65902c83553) AS dl)\\n\\n                             UNION ALL\\n\\n                             SELECT *,\\n                                    to_date('2016-02-19 00:00:00', 'YYYY-MM-DD') AS date\\n                             FROM (SELECT *\\n                                   FROM cache.xe07ecf68a04f446cbdc511e8a87ba318) AS dl)\\n\\n                            UNION ALL\\n\\n                            SELECT *,\\n                                   to_date('2016-02-20 00:00:00', 'YYYY-MM-DD') AS date\\n                            FROM (SELECT *\\n                                  FROM cache.x89805a9c835a34f060c42c9b77d7faac) AS dl)\\n\\n                           UNION ALL\\n\\n                           SELECT *,\\n                                  to_date('2016-02-21 00:00:00', 'YYYY-MM-DD') AS date\\n                           FROM (SELECT *\\n                                 FROM cache.x82fc7767605516687897dbe226364dce) AS dl)\\n\\n                          UNION ALL\\n\\n                          SELECT *,\\n                                 to_date('2016-02-22 00:00:00', 'YYYY-MM-DD') AS date\\n                          FROM (SELECT *\\n                                FROM cache.x793bc3da403df74d8f3fa6a83a0eeb50) AS dl)\\n\\n                         UNION ALL\\n\\n                         SELECT *,\\n                                to_date('2016-02-23 00:00:00', 'YYYY-MM-DD') AS date\\n                         FROM (SELECT *\\n                               FROM cache.xd7a3b916c322c7c845881bdc90453d8d) AS dl)\\n\\n                        UNION ALL\\n\\n                        SELECT *,\\n                               to_date('2016-02-24 00:00:00', 'YYYY-MM-DD') AS date\\n                        FROM (SELECT *\\n                              FROM cache.xec97e74212c55708e49970633062fa26) AS dl) AS all_locs\\n                  GROUP BY all_locs.subscriber, pcod) AS times_visited) AS ranked\\n      WHERE rank = 1) AS dl)) UNION ALL (SELECT *,\\n       to_date('2016-02-07 00:00:00', 'YYYY-MM-DD') AS date\\nFROM (SELECT *\\n      FROM cache.xbfc1e8654f0878bda57bb50c14ecc02e) AS dl)) UNION ALL (SELECT *,\\n       to_date('2016-02-08 00:00:00', 'YYYY-MM-DD') AS date\\nFROM (SELECT ranked.subscriber,\\n             pcod\\n      FROM (SELECT times_visited.subscriber,\\n                   pcod,\\n                   row_number() OVER (PARTITION BY times_visited.subscriber\\n                                      ORDER BY total DESC,\\n                                               times_visited.date DESC) AS rank\\n            FROM (SELECT all_locs.subscriber,\\n                         pcod,\\n                         count(*) AS total,\\n                         max(all_locs.date) AS date\\n                  FROM ((((((((((((((((((SELECT *,\\n                                                to_date('2016-02-08 00:00:00', 'YYYY-MM-DD') AS date\\n                                         FROM (SELECT *\\n                                               FROM cache.x71ce60134342b71f6dfa532ced8642cd) AS dl\\n\\n                                         UNION ALL\\n\\n                                         SELECT *,\\n                                                to_date('2016-02-09 00:00:00', 'YYYY-MM-DD') AS date\\n                                         FROM (SELECT *\\n                                               FROM cache.xff3d85f3ea7f885e471ca7c5816b6aab) AS dl)\\n\\n                                        UNION ALL\\n\\n                                        SELECT *,\\n                                               to_date('2016-02-10 00:00:00', 'YYYY-MM-DD') AS date\\n                                        FROM (SELECT *\\n                                              FROM cache.x07237dc61635165204ab24a929271768) AS dl)\\n\\n                                       UNION ALL\\n\\n                                       SELECT *,\\n                                              to_date('2016-02-11 00:00:00', 'YYYY-MM-DD') AS date\\n                                       FROM (SELECT *\\n                                             FROM cache.xffc9c4147a621ede0cdf89cf42166c37) AS dl)\\n\\n                                      UNION ALL\\n\\n                                      SELECT *,\\n                                             to_date('2016-02-12 00:00:00', 'YYYY-MM-DD') AS date\\n                                      FROM (SELECT *\\n                                            FROM cache.x28baca238306ee5ce9066ac057095dcd) AS dl)\\n\\n                                     UNION ALL\\n\\n                                     SELECT *,\\n                                            to_date('2016-02-13 00:00:00', 'YYYY-MM-DD') AS date\\n                                     FROM (SELECT *\\n                                           FROM cache.xcbb4d7341548bbf13b2fb5c8ea7ebc9b) AS dl)\\n\\n                                    UNION ALL\\n\\n                                    SELECT *,\\n                                           to_date('2016-02-14 00:00:00', 'YYYY-MM-DD') AS date\\n                                    FROM (SELECT *\\n                                          FROM cache.x71f98ffbc2867e63eef5bdb73a8f7368) AS dl)\\n\\n                                   UNION ALL\\n\\n                                   SELECT *,\\n                                          to_date('2016-02-15 00:00:00', 'YYYY-MM-DD') AS date\\n                                   FROM (SELECT *\\n                                         FROM cache.x8a2e685cd576bcbe8f65d21d12e44a31) AS dl)\\n\\n                                  UNION ALL\\n\\n                                  SELECT *,\\n                                         to_date('2016-02-16 00:00:00', 'YYYY-MM-DD') AS date\\n                                  FROM (SELECT *\\n                                        FROM cache.x16a9db7fb597455bfe8c6eeaacfa8970) AS dl)\\n\\n                                 UNION ALL\\n\\n                                 SELECT *,\\n                                        to_date('2016-02-17 00:00:00', 'YYYY-MM-DD') AS date\\n                                 FROM (SELECT *\\n                                       FROM cache.xed625075c26ae4c4dd9124f67f894baa) AS dl)\\n\\n                                UNION ALL\\n\\n                                SELECT *,\\n                                       to_date('2016-02-18 00:00:00', 'YYYY-MM-DD') AS date\\n                                FROM (SELECT *\\n                                      FROM cache.x45b6598a9e3dad547870a65902c83553) AS dl)\\n\\n                               UNION ALL\\n\\n                               SELECT *,\\n                                      to_date('2016-02-19 00:00:00', 'YYYY-MM-DD') AS date\\n                               FROM (SELECT *\\n                                     FROM cache.xe07ecf68a04f446cbdc511e8a87ba318) AS dl)\\n\\n                              UNION ALL\\n\\n                              SELECT *,\\n                                     to_date('2016-02-20 00:00:00', 'YYYY-MM-DD') AS date\\n                              FROM (SELECT *\\n                                    FROM cache.x89805a9c835a34f060c42c9b77d7faac) AS dl)\\n\\n                             UNION ALL\\n\\n                             SELECT *,\\n                                    to_date('2016-02-21 00:00:00', 'YYYY-MM-DD') AS date\\n                             FROM (SELECT *\\n                                   FROM cache.x82fc7767605516687897dbe226364dce) AS dl)\\n\\n                            UNION ALL\\n\\n                            SELECT *,\\n                                   to_date('2016-02-22 00:00:00', 'YYYY-MM-DD') AS date\\n                            FROM (SELECT *\\n                                  FROM cache.x793bc3da403df74d8f3fa6a83a0eeb50) AS dl)\\n\\n                           UNION ALL\\n\\n                           SELECT *,\\n                                  to_date('2016-02-23 00:00:00', 'YYYY-MM-DD') AS date\\n                           FROM (SELECT *\\n                                 FROM cache.xd7a3b916c322c7c845881bdc90453d8d) AS dl)\\n\\n                          UNION ALL\\n\\n                          SELECT *,\\n                                 to_date('2016-02-24 00:00:00', 'YYYY-MM-DD') AS date\\n                          FROM (SELECT *\\n                                FROM cache.xec97e74212c55708e49970633062fa26) AS dl)\\n\\n                         UNION ALL\\n\\n                         SELECT *,\\n                                to_date('2016-02-25 00:00:00', 'YYYY-MM-DD') AS date\\n                         FROM (SELECT *\\n                               FROM cache.x24eafb34d2020d00376d4f7aff024e26) AS dl)\\n\\n                        UNION ALL\\n\\n                        SELECT *,\\n                               to_date('2016-02-26 00:00:00', 'YYYY-MM-DD') AS date\\n                        FROM (SELECT *\\n                              FROM cache.x4ac7ab0cc16234362b8c37a1a1fc2971) AS dl) AS all_locs\\n                  GROUP BY all_locs.subscriber, pcod) AS times_visited) AS ranked\\n      WHERE rank = 1) AS dl)) UNION ALL (SELECT *,\\n       to_date('2016-02-09 00:00:00', 'YYYY-MM-DD') AS date\\nFROM (SELECT ranked.subscriber,\\n             pcod\\n      FROM (SELECT times_visited.subscriber,\\n                   pcod,\\n                   row_number() OVER (PARTITION BY times_visited.subscriber\\n                                      ORDER BY total DESC,\\n                                               times_visited.date DESC) AS rank\\n            FROM (SELECT all_locs.subscriber,\\n                         pcod,\\n                         count(*) AS total,\\n                         max(all_locs.date) AS date\\n                  FROM ((((((((((((((((((SELECT *,\\n                                                to_date('2016-02-09 00:00:00', 'YYYY-MM-DD') AS date\\n                                         FROM (SELECT *\\n                                               FROM cache.xff3d85f3ea7f885e471ca7c5816b6aab) AS dl\\n\\n                                         UNION ALL\\n\\n                                         SELECT *,\\n                                                to_date('2016-02-10 00:00:00', 'YYYY-MM-DD') AS date\\n                                         FROM (SELECT *\\n                                               FROM cache.x07237dc61635165204ab24a929271768) AS dl)\\n\\n                                        UNION ALL\\n\\n                                        SELECT *,\\n                                               to_date('2016-02-11 00:00:00', 'YYYY-MM-DD') AS date\\n                                        FROM (SELECT *\\n                                              FROM cache.xffc9c4147a621ede0cdf89cf42166c37) AS dl)\\n\\n                                       UNION ALL\\n\\n                                       SELECT *,\\n                                              to_date('2016-02-12 00:00:00', 'YYYY-MM-DD') AS date\\n                                       FROM (SELECT *\\n                                             FROM cache.x28baca238306ee5ce9066ac057095dcd) AS dl)\\n\\n                                      UNION ALL\\n\\n                                      SELECT *,\\n                                             to_date('2016-02-13 00:00:00', 'YYYY-MM-DD') AS date\\n                                      FROM (SELECT *\\n                                            FROM cache.xcbb4d7341548bbf13b2fb5c8ea7ebc9b) AS dl)\\n\\n                                     UNION ALL\\n\\n                                     SELECT *,\\n                                            to_date('2016-02-14 00:00:00', 'YYYY-MM-DD') AS date\\n                                     FROM (SELECT *\\n                                           FROM cache.x71f98ffbc2867e63eef5bdb73a8f7368) AS dl)\\n\\n                                    UNION ALL\\n\\n                                    SELECT *,\\n                                           to_date('2016-02-15 00:00:00', 'YYYY-MM-DD') AS date\\n                                    FROM (SELECT *\\n                                          FROM cache.x8a2e685cd576bcbe8f65d21d12e44a31) AS dl)\\n\\n                                   UNION ALL\\n\\n                                   SELECT *,\\n                                          to_date('2016-02-16 00:00:00', 'YYYY-MM-DD') AS date\\n                                   FROM (SELECT *\\n                                         FROM cache.x16a9db7fb597455bfe8c6eeaacfa8970) AS dl)\\n\\n                                  UNION ALL\\n\\n                                  SELECT *,\\n                                         to_date('2016-02-17 00:00:00', 'YYYY-MM-DD') AS date\\n                                  FROM (SELECT *\\n                                        FROM cache.xed625075c26ae4c4dd9124f67f894baa) AS dl)\\n\\n                                 UNION ALL\\n\\n                                 SELECT *,\\n                                        to_date('2016-02-18 00:00:00', 'YYYY-MM-DD') AS date\\n                                 FROM (SELECT *\\n                                       FROM cache.x45b6598a9e3dad547870a65902c83553) AS dl)\\n\\n                                UNION ALL\\n\\n                                SELECT *,\\n                                       to_date('2016-02-19 00:00:00', 'YYYY-MM-DD') AS date\\n                                FROM (SELECT *\\n                                      FROM cache.xe07ecf68a04f446cbdc511e8a87ba318) AS dl)\\n\\n                               UNION ALL\\n\\n                               SELECT *,\\n                                      to_date('2016-02-20 00:00:00', 'YYYY-MM-DD') AS date\\n                               FROM (SELECT *\\n                                     FROM cache.x89805a9c835a34f060c42c9b77d7faac) AS dl)\\n\\n                              UNION ALL\\n\\n                              SELECT *,\\n                                     to_date('2016-02-21 00:00:00', 'YYYY-MM-DD') AS date\\n                              FROM (SELECT *\\n                                    FROM cache.x82fc7767605516687897dbe226364dce) AS dl)\\n\\n                             UNION ALL\\n\\n                             SELECT *,\\n                                    to_date('2016-02-22 00:00:00', 'YYYY-MM-DD') AS date\\n                             FROM (SELECT *\\n                                   FROM cache.x793bc3da403df74d8f3fa6a83a0eeb50) AS dl)\\n\\n                            UNION ALL\\n\\n                            SELECT *,\\n                                   to_date('2016-02-23 00:00:00', 'YYYY-MM-DD') AS date\\n                            FROM (SELECT *\\n                                  FROM cache.xd7a3b916c322c7c845881bdc90453d8d) AS dl)\\n\\n                           UNION ALL\\n\\n                           SELECT *,\\n                                  to_date('2016-02-24 00:00:00', 'YYYY-MM-DD') AS date\\n                           FROM (SELECT *\\n                                 FROM cache.xec97e74212c55708e49970633062fa26) AS dl)\\n\\n                          UNION ALL\\n\\n                          SELECT *,\\n                                 to_date('2016-02-25 00:00:00', 'YYYY-MM-DD') AS date\\n                          FROM (SELECT *\\n                                FROM cache.x24eafb34d2020d00376d4f7aff024e26) AS dl)\\n\\n                         UNION ALL\\n\\n                         SELECT *,\\n                                to_date('2016-02-26 00:00:00', 'YYYY-MM-DD') AS date\\n                         FROM (SELECT *\\n                               FROM cache.x4ac7ab0cc16234362b8c37a1a1fc2971) AS dl)\\n\\n                        UNION ALL\\n\\n                        SELECT *,\\n                               to_date('2016-02-27 00:00:00', 'YYYY-MM-DD') AS date\\n                        FROM (SELECT *\\n                              FROM cache.x71c2407666a2a3ce902a50517c50b39f) AS dl) AS all_locs\\n                  GROUP BY all_locs.subscriber, pcod) AS times_visited) AS ranked\\n      WHERE rank = 1) AS dl)) UNION ALL (SELECT *,\\n       to_date('2016-02-10 00:00:00', 'YYYY-MM-DD') AS date\\nFROM (SELECT *\\n      FROM cache.x511cbb9af1ac3c1c7d419156fb72d2c7) AS dl)) UNION ALL (SELECT *,\\n       to_date('2016-02-11 00:00:00', 'YYYY-MM-DD') AS date\\nFROM (SELECT *\\n      FROM cache.x904ca0b5af77c527d778d10d91aa46b3) AS dl)) AS all_locs\\n        ORDER BY all_locs.subscriber, all_locs.date\\n        ) AS day_trajectories\\n        GROUP BY \\n            day_trajectories.subscriber,\\n            day_trajectories.pcod\\n        ORDER BY\\n            day_trajectories.subscriber,\\n            COUNT(*) DESC\\n        \\n), summed_weights AS (\\n    SELECT subscriber, sum(value) AS total_weight\\n    FROM subscriber_subset\\n    WHERE value >= 0\\n    GROUP BY subscriber\\n), seen_subs AS (\\n    SELECT subscriber, pcod\\n    FROM summed_weights JOIN subscriber_subset USING(subscriber)\\n    WHERE value > total_weight/2.0\\n)\\n\\nSELECT subscriber, seen_subs.pcod\\nFROM seen_subs RIGHT OUTER JOIN summed_weights USING(subscriber)\\n            ) _)'. Error was (psycopg2.errors.DiskFull) could not extend file \\\"base/16384/3455\\\": wrote only 4096 of 8192 bytes at block 11\\nHINT:  Check free disk space.\\n\\n[SQL: EXPLAIN (ANALYZE TRUE, TIMING FALSE, FORMAT JSON) CREATE TABLE cache.xd42cc81f0d4bdcecfcba23513c65dd6f AS \\n        (SELECT subscriber, pcod FROM (\\nWITH subscriber_subset AS (\\n    \\n        SELECT\\n            day_trajectories.subscriber,\\n            day_trajectories.pcod,\\n            COUNT(*) AS value\\n        FROM\\n            (\\n        SELECT \\n            all_locs.subscriber, \\n            pcod,\\n            all_locs.date\\n        FROM (((((((SELECT *,\\n       to_date('2016-02-05 00:00:00', 'YYYY-MM-DD') AS date\\nFROM (SELECT *\\n      FROM cache.xed6e5c0812e423db90d98bdd4fdaab67) AS dl) UNION ALL (SELECT *,\\n       to_date('2016-02-06 00:00:00', 'YYYY-MM-DD') AS date\\nFROM (SELECT ranked.subscriber,\\n             pcod\\n      FROM (SELECT times_visited.subscriber,\\n                   pcod,\\n                   row_number() OVER (PARTITION BY times_visited.subscriber\\n                                      ORDER BY total DESC,\\n                                               times_visited.date DESC) AS rank\\n            FROM (SELECT all_locs.subscriber,\\n                         pcod,\\n                         count(*) AS total,\\n                         max(all_locs.date) AS date\\n                  FROM ((((((((((((((((((SELECT *,\\n                                                to_date('2016-02-06 00:00:00', 'YYYY-MM-DD') AS date\\n                                         FROM (SELECT *\\n                                               FROM cache.xa104d376c7d53b1b092d318b3b14216c) AS dl\\n\\n                                         UNION ALL\\n\\n                                         SELECT *,\\n                                                to_date('2016-02-07 00:00:00', 'YYYY-MM-DD') AS date\\n                                         FROM (SELECT *\\n                                               FROM cache.x63ffcb6b1d3c0ea7aeb3f0b569f508f1) AS dl)\\n\\n                                        UNION ALL\\n\\n                                        SELECT *,\\n                                               to_date('2016-02-08 00:00:00', 'YYYY-MM-DD') AS date\\n                                        FROM (SELECT *\\n                                              FROM cache.x71ce60134342b71f6dfa532ced8642cd) AS dl)\\n\\n                                       UNION ALL\\n\\n                                       SELECT *,\\n                                              to_date('2016-02-09 00:00:00', 'YYYY-MM-DD') AS date\\n                                       FROM (SELECT *\\n                                             FROM cache.xff3d85f3ea7f885e471ca7c5816b6aab) AS dl)\\n\\n                                      UNION ALL\\n\\n                                      SELECT *,\\n                                             to_date('2016-02-10 00:00:00', 'YYYY-MM-DD') AS date\\n                                      FROM (SELECT *\\n                                            FROM cache.x07237dc61635165204ab24a929271768) AS dl)\\n\\n                                     UNION ALL\\n\\n                                     SELECT *,\\n                                            to_date('2016-02-11 00:00:00', 'YYYY-MM-DD') AS date\\n                                     FROM (SELECT *\\n                                           FROM cache.xffc9c4147a621ede0cdf89cf42166c37) AS dl)\\n\\n                                    UNION ALL\\n\\n                                    SELECT *,\\n                                           to_date('2016-02-12 00:00:00', 'YYYY-MM-DD') AS date\\n                                    FROM (SELECT *\\n                                          FROM cache.x28baca238306ee5ce9066ac057095dcd) AS dl)\\n\\n                                   UNION ALL\\n\\n                                   SELECT *,\\n                                          to_date('2016-02-13 00:00:00', 'YYYY-MM-DD') AS date\\n                                   FROM (SELECT *\\n                                         FROM cache.xcbb4d7341548bbf13b2fb5c8ea7ebc9b) AS dl)\\n\\n                                  UNION ALL\\n\\n                                  SELECT *,\\n                                         to_date('2016-02-14 00:00:00', 'YYYY-MM-DD') AS date\\n                                  FROM (SELECT *\\n                                        FROM cache.x71f98ffbc2867e63eef5bdb73a8f7368) AS dl)\\n\\n                                 UNION ALL\\n\\n                                 SELECT *,\\n                                        to_date('2016-02-15 00:00:00', 'YYYY-MM-DD') AS date\\n                                 FROM (SELECT *\\n                                       FROM cache.x8a2e685cd576bcbe8f65d21d12e44a31) AS dl)\\n\\n                                UNION ALL\\n\\n                                SELECT *,\\n                                       to_date('2016-02-16 00:00:00', 'YYYY-MM-DD') AS date\\n                                FROM (SELECT *\\n                                      FROM cache.x16a9db7fb597455bfe8c6eeaacfa8970) AS dl)\\n\\n                               UNION ALL\\n\\n                               SELECT *,\\n                                      to_date('2016-02-17 00:00:00', 'YYYY-MM-DD') AS date\\n                               FROM (SELECT *\\n                                     FROM cache.xed625075c26ae4c4dd9124f67f894baa) AS dl)\\n\\n                              UNION ALL\\n\\n                              SELECT *,\\n                                     to_date('2016-02-18 00:00:00', 'YYYY-MM-DD') AS date\\n                              FROM (SELECT *\\n                                    FROM cache.x45b6598a9e3dad547870a65902c83553) AS dl)\\n\\n                             UNION ALL\\n\\n                             SELECT *,\\n                                    to_date('2016-02-19 00:00:00', 'YYYY-MM-DD') AS date\\n                             FROM (SELECT *\\n                                   FROM cache.xe07ecf68a04f446cbdc511e8a87ba318) AS dl)\\n\\n                            UNION ALL\\n\\n                            SELECT *,\\n                                   to_date('2016-02-20 00:00:00', 'YYYY-MM-DD') AS date\\n                            FROM (SELECT *\\n                                  FROM cache.x89805a9c835a34f060c42c9b77d7faac) AS dl)\\n\\n                           UNION ALL\\n\\n                           SELECT *,\\n                                  to_date('2016-02-21 00:00:00', 'YYYY-MM-DD') AS date\\n                           FROM (SELECT *\\n                                 FROM cache.x82fc7767605516687897dbe226364dce) AS dl)\\n\\n                          UNION ALL\\n\\n                          SELECT *,\\n                                 to_date('2016-02-22 00:00:00', 'YYYY-MM-DD') AS date\\n                          FROM (SELECT *\\n                                FROM cache.x793bc3da403df74d8f3fa6a83a0eeb50) AS dl)\\n\\n                         UNION ALL\\n\\n                         SELECT *,\\n                                to_date('2016-02-23 00:00:00', 'YYYY-MM-DD') AS date\\n                         FROM (SELECT *\\n                               FROM cache.xd7a3b916c322c7c845881bdc90453d8d) AS dl)\\n\\n                        UNION ALL\\n\\n                        SELECT *,\\n                               to_date('2016-02-24 00:00:00', 'YYYY-MM-DD') AS date\\n                        FROM (SELECT *\\n                              FROM cache.xec97e74212c55708e49970633062fa26) AS dl) AS all_locs\\n                  GROUP BY all_locs.subscriber, pcod) AS times_visited) AS ranked\\n      WHERE rank = 1) AS dl)) UNION ALL (SELECT *,\\n       to_date('2016-02-07 00:00:00', 'YYYY-MM-DD') AS date\\nFROM (SELECT *\\n      FROM cache.xbfc1e8654f0878bda57bb50c14ecc02e) AS dl)) UNION ALL (SELECT *,\\n       to_date('2016-02-08 00:00:00', 'YYYY-MM-DD') AS date\\nFROM (SELECT ranked.subscriber,\\n             pcod\\n      FROM (SELECT times_visited.subscriber,\\n                   pcod,\\n                   row_number() OVER (PARTITION BY times_visited.subscriber\\n                                      ORDER BY total DESC,\\n                                               times_visited.date DESC) AS rank\\n            FROM (SELECT all_locs.subscriber,\\n                         pcod,\\n                         count(*) AS total,\\n                         max(all_locs.date) AS date\\n                  FROM ((((((((((((((((((SELECT *,\\n                                                to_date('2016-02-08 00:00:00', 'YYYY-MM-DD') AS date\\n                                         FROM (SELECT *\\n                                               FROM cache.x71ce60134342b71f6dfa532ced8642cd) AS dl\\n\\n                                         UNION ALL\\n\\n                                         SELECT *,\\n                                                to_date('2016-02-09 00:00:00', 'YYYY-MM-DD') AS date\\n                                         FROM (SELECT *\\n                                               FROM cache.xff3d85f3ea7f885e471ca7c5816b6aab) AS dl)\\n\\n                                        UNION ALL\\n\\n                                        SELECT *,\\n                                               to_date('2016-02-10 00:00:00', 'YYYY-MM-DD') AS date\\n                                        FROM (SELECT *\\n                                              FROM cache.x07237dc61635165204ab24a929271768) AS dl)\\n\\n                                       UNION ALL\\n\\n                                       SELECT *,\\n                                              to_date('2016-02-11 00:00:00', 'YYYY-MM-DD') AS date\\n                                       FROM (SELECT *\\n                                             FROM cache.xffc9c4147a621ede0cdf89cf42166c37) AS dl)\\n\\n                                      UNION ALL\\n\\n                                      SELECT *,\\n                                             to_date('2016-02-12 00:00:00', 'YYYY-MM-DD') AS date\\n                                      FROM (SELECT *\\n                                            FROM cache.x28baca238306ee5ce9066ac057095dcd) AS dl)\\n\\n                                     UNION ALL\\n\\n                                     SELECT *,\\n                                            to_date('2016-02-13 00:00:00', 'YYYY-MM-DD') AS date\\n                                     FROM (SELECT *\\n                                           FROM cache.xcbb4d7341548bbf13b2fb5c8ea7ebc9b) AS dl)\\n\\n                                    UNION ALL\\n\\n                                    SELECT *,\\n                                           to_date('2016-02-14 00:00:00', 'YYYY-MM-DD') AS date\\n                                    FROM (SELECT *\\n                                          FROM cache.x71f98ffbc2867e63eef5bdb73a8f7368) AS dl)\\n\\n                                   UNION ALL\\n\\n                                   SELECT *,\\n                                          to_date('2016-02-15 00:00:00', 'YYYY-MM-DD') AS date\\n                                   FROM (SELECT *\\n                                         FROM cache.x8a2e685cd576bcbe8f65d21d12e44a31) AS dl)\\n\\n                                  UNION ALL\\n\\n                                  SELECT *,\\n                                         to_date('2016-02-16 00:00:00', 'YYYY-MM-DD') AS date\\n                                  FROM (SELECT *\\n                                        FROM cache.x16a9db7fb597455bfe8c6eeaacfa8970) AS dl)\\n\\n                                 UNION ALL\\n\\n                                 SELECT *,\\n                                        to_date('2016-02-17 00:00:00', 'YYYY-MM-DD') AS date\\n                                 FROM (SELECT *\\n                                       FROM cache.xed625075c26ae4c4dd9124f67f894baa) AS dl)\\n\\n                                UNION ALL\\n\\n                                SELECT *,\\n                                       to_date('2016-02-18 00:00:00', 'YYYY-MM-DD') AS date\\n                                FROM (SELECT *\\n                                      FROM cache.x45b6598a9e3dad547870a65902c83553) AS dl)\\n\\n                               UNION ALL\\n\\n                               SELECT *,\\n                                      to_date('2016-02-19 00:00:00', 'YYYY-MM-DD') AS date\\n                               FROM (SELECT *\\n                                     FROM cache.xe07ecf68a04f446cbdc511e8a87ba318) AS dl)\\n\\n                              UNION ALL\\n\\n                              SELECT *,\\n                                     to_date('2016-02-20 00:00:00', 'YYYY-MM-DD') AS date\\n                              FROM (SELECT *\\n                                    FROM cache.x89805a9c835a34f060c42c9b77d7faac) AS dl)\\n\\n                             UNION ALL\\n\\n                             SELECT *,\\n                                    to_date('2016-02-21 00:00:00', 'YYYY-MM-DD') AS date\\n                             FROM (SELECT *\\n                                   FROM cache.x82fc7767605516687897dbe226364dce) AS dl)\\n\\n                            UNION ALL\\n\\n                            SELECT *,\\n                                   to_date('2016-02-22 00:00:00', 'YYYY-MM-DD') AS date\\n                            FROM (SELECT *\\n                                  FROM cache.x793bc3da403df74d8f3fa6a83a0eeb50) AS dl)\\n\\n                           UNION ALL\\n\\n                           SELECT *,\\n                                  to_date('2016-02-23 00:00:00', 'YYYY-MM-DD') AS date\\n                           FROM (SELECT *\\n                                 FROM cache.xd7a3b916c322c7c845881bdc90453d8d) AS dl)\\n\\n                          UNION ALL\\n\\n                          SELECT *,\\n                                 to_date('2016-02-24 00:00:00', 'YYYY-MM-DD') AS date\\n                          FROM (SELECT *\\n                                FROM cache.xec97e74212c55708e49970633062fa26) AS dl)\\n\\n                         UNION ALL\\n\\n                         SELECT *,\\n                                to_date('2016-02-25 00:00:00', 'YYYY-MM-DD') AS date\\n                         FROM (SELECT *\\n                               FROM cache.x24eafb34d2020d00376d4f7aff024e26) AS dl)\\n\\n                        UNION ALL\\n\\n                        SELECT *,\\n                               to_date('2016-02-26 00:00:00', 'YYYY-MM-DD') AS date\\n                        FROM (SELECT *\\n                              FROM cache.x4ac7ab0cc16234362b8c37a1a1fc2971) AS dl) AS all_locs\\n                  GROUP BY all_locs.subscriber, pcod) AS times_visited) AS ranked\\n      WHERE rank = 1) AS dl)) UNION ALL (SELECT *,\\n       to_date('2016-02-09 00:00:00', 'YYYY-MM-DD') AS date\\nFROM (SELECT ranked.subscriber,\\n             pcod\\n      FROM (SELECT times_visited.subscriber,\\n                   pcod,\\n                   row_number() OVER (PARTITION BY times_visited.subscriber\\n                                      ORDER BY total DESC,\\n                                               times_visited.date DESC) AS rank\\n            FROM (SELECT all_locs.subscriber,\\n                         pcod,\\n                         count(*) AS total,\\n                         max(all_locs.date) AS date\\n                  FROM ((((((((((((((((((SELECT *,\\n                                                to_date('2016-02-09 00:00:00', 'YYYY-MM-DD') AS date\\n                                         FROM (SELECT *\\n                                               FROM cache.xff3d85f3ea7f885e471ca7c5816b6aab) AS dl\\n\\n                                         UNION ALL\\n\\n                                         SELECT *,\\n                                                to_date('2016-02-10 00:00:00', 'YYYY-MM-DD') AS date\\n                                         FROM (SELECT *\\n                                               FROM cache.x07237dc61635165204ab24a929271768) AS dl)\\n\\n                                        UNION ALL\\n\\n                                        SELECT *,\\n                                               to_date('2016-02-11 00:00:00', 'YYYY-MM-DD') AS date\\n                                        FROM (SELECT *\\n                                              FROM cache.xffc9c4147a621ede0cdf89cf42166c37) AS dl)\\n\\n                                       UNION ALL\\n\\n                                       SELECT *,\\n                                              to_date('2016-02-12 00:00:00', 'YYYY-MM-DD') AS date\\n                                       FROM (SELECT *\\n                                             FROM cache.x28baca238306ee5ce9066ac057095dcd) AS dl)\\n\\n                                      UNION ALL\\n\\n                                      SELECT *,\\n                                             to_date('2016-02-13 00:00:00', 'YYYY-MM-DD') AS date\\n                                      FROM (SELECT *\\n                                            FROM cache.xcbb4d7341548bbf13b2fb5c8ea7ebc9b) AS dl)\\n\\n                                     UNION ALL\\n\\n                                     SELECT *,\\n                                            to_date('2016-02-14 00:00:00', 'YYYY-MM-DD') AS date\\n                                     FROM (SELECT *\\n                                           FROM cache.x71f98ffbc2867e63eef5bdb73a8f7368) AS dl)\\n\\n                                    UNION ALL\\n\\n                                    SELECT *,\\n                                           to_date('2016-02-15 00:00:00', 'YYYY-MM-DD') AS date\\n                                    FROM (SELECT *\\n                                          FROM cache.x8a2e685cd576bcbe8f65d21d12e44a31) AS dl)\\n\\n                                   UNION ALL\\n\\n                                   SELECT *,\\n                                          to_date('2016-02-16 00:00:00', 'YYYY-MM-DD') AS date\\n                                   FROM (SELECT *\\n                                         FROM cache.x16a9db7fb597455bfe8c6eeaacfa8970) AS dl)\\n\\n                                  UNION ALL\\n\\n                                  SELECT *,\\n                                         to_date('2016-02-17 00:00:00', 'YYYY-MM-DD') AS date\\n                                  FROM (SELECT *\\n                                        FROM cache.xed625075c26ae4c4dd9124f67f894baa) AS dl)\\n\\n                                 UNION ALL\\n\\n                                 SELECT *,\\n                                        to_date('2016-02-18 00:00:00', 'YYYY-MM-DD') AS date\\n                                 FROM (SELECT *\\n                                       FROM cache.x45b6598a9e3dad547870a65902c83553) AS dl)\\n\\n                                UNION ALL\\n\\n                                SELECT *,\\n                                       to_date('2016-02-19 00:00:00', 'YYYY-MM-DD') AS date\\n                                FROM (SELECT *\\n                                      FROM cache.xe07ecf68a04f446cbdc511e8a87ba318) AS dl)\\n\\n                               UNION ALL\\n\\n                               SELECT *,\\n                                      to_date('2016-02-20 00:00:00', 'YYYY-MM-DD') AS date\\n                               FROM (SELECT *\\n                                     FROM cache.x89805a9c835a34f060c42c9b77d7faac) AS dl)\\n\\n                              UNION ALL\\n\\n                              SELECT *,\\n                                     to_date('2016-02-21 00:00:00', 'YYYY-MM-DD') AS date\\n                              FROM (SELECT *\\n                                    FROM cache.x82fc7767605516687897dbe226364dce) AS dl)\\n\\n                             UNION ALL\\n\\n                             SELECT *,\\n                                    to_date('2016-02-22 00:00:00', 'YYYY-MM-DD') AS date\\n                             FROM (SELECT *\\n                                   FROM cache.x793bc3da403df74d8f3fa6a83a0eeb50) AS dl)\\n\\n                            UNION ALL\\n\\n                            SELECT *,\\n                                   to_date('2016-02-23 00:00:00', 'YYYY-MM-DD') AS date\\n                            FROM (SELECT *\\n                                  FROM cache.xd7a3b916c322c7c845881bdc90453d8d) AS dl)\\n\\n                           UNION ALL\\n\\n                           SELECT *,\\n                                  to_date('2016-02-24 00:00:00', 'YYYY-MM-DD') AS date\\n                           FROM (SELECT *\\n                                 FROM cache.xec97e74212c55708e49970633062fa26) AS dl)\\n\\n                          UNION ALL\\n\\n                          SELECT *,\\n                                 to_date('2016-02-25 00:00:00', 'YYYY-MM-DD') AS date\\n                          FROM (SELECT *\\n                                FROM cache.x24eafb34d2020d00376d4f7aff024e26) AS dl)\\n\\n                         UNION ALL\\n\\n                         SELECT *,\\n                                to_date('2016-02-26 00:00:00', 'YYYY-MM-DD') AS date\\n                         FROM (SELECT *\\n                               FROM cache.x4ac7ab0cc16234362b8c37a1a1fc2971) AS dl)\\n\\n                        UNION ALL\\n\\n                        SELECT *,\\n                               to_date('2016-02-27 00:00:00', 'YYYY-MM-DD') AS date\\n                        FROM (SELECT *\\n                              FROM cache.x71c2407666a2a3ce902a50517c50b39f) AS dl) AS all_locs\\n                  GROUP BY all_locs.subscriber, pcod) AS times_visited) AS ranked\\n      WHERE rank = 1) AS dl)) UNION ALL (SELECT *,\\n       to_date('2016-02-10 00:00:00', 'YYYY-MM-DD') AS date\\nFROM (SELECT *\\n      FROM cache.x511cbb9af1ac3c1c7d419156fb72d2c7) AS dl)) UNION ALL (SELECT *,\\n       to_date('2016-02-11 00:00:00', 'YYYY-MM-DD') AS date\\nFROM (SELECT *\\n      FROM cache.x904ca0b5af77c527d778d10d91aa46b3) AS dl)) AS all_locs\\n        ORDER BY all_locs.subscriber, all_locs.date\\n        ) AS day_trajectories\\n        GROUP BY \\n            day_trajectories.subscriber,\\n            day_trajectories.pcod\\n        ORDER BY\\n            day_trajectories.subscriber,\\n            COUNT(*) DESC\\n        \\n), summed_weights AS (\\n    SELECT subscriber, sum(value) AS total_weight\\n    FROM subscriber_subset\\n    WHERE value >= 0\\n    GROUP BY subscriber\\n), seen_subs AS (\\n    SELECT subscriber, pcod\\n    FROM summed_weights JOIN subscriber_subset USING(subscriber)\\n    WHERE value > total_weight/2.0\\n)\\n\\nSELECT subscriber, seen_subs.pcod\\nFROM seen_subs RIGHT OUTER JOIN summed_weights USING(subscriber)\\n            ) _)]\\n(Background on this error at: http://sqlalche.me/e/13/e3q8)\",\"logger\":\"flowmachine.debug\",\"level\":\"error\",\"timestamp\":\"2021-12-03T13:59:14.029998Z\"}\n",
      "{\"submodule\":\"flowmachine.core.cache\",\"event\":\"Error executing SQL. Error was (psycopg2.errors.DiskFull) could not extend file \\\"base/16384/3455\\\": wrote only 4096 of 8192 bytes at block 11\\nHINT:  Check free disk space.\\n\\n[SQL: EXPLAIN (ANALYZE TRUE, TIMING FALSE, FORMAT JSON) CREATE TABLE cache.xd42cc81f0d4bdcecfcba23513c65dd6f AS \\n        (SELECT subscriber, pcod FROM (\\nWITH subscriber_subset AS (\\n    \\n        SELECT\\n            day_trajectories.subscriber,\\n            day_trajectories.pcod,\\n            COUNT(*) AS value\\n        FROM\\n            (\\n        SELECT \\n            all_locs.subscriber, \\n            pcod,\\n            all_locs.date\\n        FROM (((((((SELECT *,\\n       to_date('2016-02-05 00:00:00', 'YYYY-MM-DD') AS date\\nFROM (SELECT *\\n      FROM cache.xed6e5c0812e423db90d98bdd4fdaab67) AS dl) UNION ALL (SELECT *,\\n       to_date('2016-02-06 00:00:00', 'YYYY-MM-DD') AS date\\nFROM (SELECT ranked.subscriber,\\n             pcod\\n      FROM (SELECT times_visited.subscriber,\\n                   pcod,\\n                   row_number() OVER (PARTITION BY times_visited.subscriber\\n                                      ORDER BY total DESC,\\n                                               times_visited.date DESC) AS rank\\n            FROM (SELECT all_locs.subscriber,\\n                         pcod,\\n                         count(*) AS total,\\n                         max(all_locs.date) AS date\\n                  FROM ((((((((((((((((((SELECT *,\\n                                                to_date('2016-02-06 00:00:00', 'YYYY-MM-DD') AS date\\n                                         FROM (SELECT *\\n                                               FROM cache.xa104d376c7d53b1b092d318b3b14216c) AS dl\\n\\n                                         UNION ALL\\n\\n                                         SELECT *,\\n                                                to_date('2016-02-07 00:00:00', 'YYYY-MM-DD') AS date\\n                                         FROM (SELECT *\\n                                               FROM cache.x63ffcb6b1d3c0ea7aeb3f0b569f508f1) AS dl)\\n\\n                                        UNION ALL\\n\\n                                        SELECT *,\\n                                               to_date('2016-02-08 00:00:00', 'YYYY-MM-DD') AS date\\n                                        FROM (SELECT *\\n                                              FROM cache.x71ce60134342b71f6dfa532ced8642cd) AS dl)\\n\\n                                       UNION ALL\\n\\n                                       SELECT *,\\n                                              to_date('2016-02-09 00:00:00', 'YYYY-MM-DD') AS date\\n                                       FROM (SELECT *\\n                                             FROM cache.xff3d85f3ea7f885e471ca7c5816b6aab) AS dl)\\n\\n                                      UNION ALL\\n\\n                                      SELECT *,\\n                                             to_date('2016-02-10 00:00:00', 'YYYY-MM-DD') AS date\\n                                      FROM (SELECT *\\n                                            FROM cache.x07237dc61635165204ab24a929271768) AS dl)\\n\\n                                     UNION ALL\\n\\n                                     SELECT *,\\n                                            to_date('2016-02-11 00:00:00', 'YYYY-MM-DD') AS date\\n                                     FROM (SELECT *\\n                                           FROM cache.xffc9c4147a621ede0cdf89cf42166c37) AS dl)\\n\\n                                    UNION ALL\\n\\n                                    SELECT *,\\n                                           to_date('2016-02-12 00:00:00', 'YYYY-MM-DD') AS date\\n                                    FROM (SELECT *\\n                                          FROM cache.x28baca238306ee5ce9066ac057095dcd) AS dl)\\n\\n                                   UNION ALL\\n\\n                                   SELECT *,\\n                                          to_date('2016-02-13 00:00:00', 'YYYY-MM-DD') AS date\\n                                   FROM (SELECT *\\n                                         FROM cache.xcbb4d7341548bbf13b2fb5c8ea7ebc9b) AS dl)\\n\\n                                  UNION ALL\\n\\n                                  SELECT *,\\n                                         to_date('2016-02-14 00:00:00', 'YYYY-MM-DD') AS date\\n                                  FROM (SELECT *\\n                                        FROM cache.x71f98ffbc2867e63eef5bdb73a8f7368) AS dl)\\n\\n                                 UNION ALL\\n\\n                                 SELECT *,\\n                                        to_date('2016-02-15 00:00:00', 'YYYY-MM-DD') AS date\\n                                 FROM (SELECT *\\n                                       FROM cache.x8a2e685cd576bcbe8f65d21d12e44a31) AS dl)\\n\\n                                UNION ALL\\n\\n                                SELECT *,\\n                                       to_date('2016-02-16 00:00:00', 'YYYY-MM-DD') AS date\\n                                FROM (SELECT *\\n                                      FROM cache.x16a9db7fb597455bfe8c6eeaacfa8970) AS dl)\\n\\n                               UNION ALL\\n\\n                               SELECT *,\\n                                      to_date('2016-02-17 00:00:00', 'YYYY-MM-DD') AS date\\n                               FROM (SELECT *\\n                                     FROM cache.xed625075c26ae4c4dd9124f67f894baa) AS dl)\\n\\n                              UNION ALL\\n\\n                              SELECT *,\\n                                     to_date('2016-02-18 00:00:00', 'YYYY-MM-DD') AS date\\n                              FROM (SELECT *\\n                                    FROM cache.x45b6598a9e3dad547870a65902c83553) AS dl)\\n\\n                             UNION ALL\\n\\n                             SELECT *,\\n                                    to_date('2016-02-19 00:00:00', 'YYYY-MM-DD') AS date\\n                             FROM (SELECT *\\n                                   FROM cache.xe07ecf68a04f446cbdc511e8a87ba318) AS dl)\\n\\n                            UNION ALL\\n\\n                            SELECT *,\\n                                   to_date('2016-02-20 00:00:00', 'YYYY-MM-DD') AS date\\n                            FROM (SELECT *\\n                                  FROM cache.x89805a9c835a34f060c42c9b77d7faac) AS dl)\\n\\n                           UNION ALL\\n\\n                           SELECT *,\\n                                  to_date('2016-02-21 00:00:00', 'YYYY-MM-DD') AS date\\n                           FROM (SELECT *\\n                                 FROM cache.x82fc7767605516687897dbe226364dce) AS dl)\\n\\n                          UNION ALL\\n\\n                          SELECT *,\\n                                 to_date('2016-02-22 00:00:00', 'YYYY-MM-DD') AS date\\n                          FROM (SELECT *\\n                                FROM cache.x793bc3da403df74d8f3fa6a83a0eeb50) AS dl)\\n\\n                         UNION ALL\\n\\n                         SELECT *,\\n                                to_date('2016-02-23 00:00:00', 'YYYY-MM-DD') AS date\\n                         FROM (SELECT *\\n                               FROM cache.xd7a3b916c322c7c845881bdc90453d8d) AS dl)\\n\\n                        UNION ALL\\n\\n                        SELECT *,\\n                               to_date('2016-02-24 00:00:00', 'YYYY-MM-DD') AS date\\n                        FROM (SELECT *\\n                              FROM cache.xec97e74212c55708e49970633062fa26) AS dl) AS all_locs\\n                  GROUP BY all_locs.subscriber, pcod) AS times_visited) AS ranked\\n      WHERE rank = 1) AS dl)) UNION ALL (SELECT *,\\n       to_date('2016-02-07 00:00:00', 'YYYY-MM-DD') AS date\\nFROM (SELECT *\\n      FROM cache.xbfc1e8654f0878bda57bb50c14ecc02e) AS dl)) UNION ALL (SELECT *,\\n       to_date('2016-02-08 00:00:00', 'YYYY-MM-DD') AS date\\nFROM (SELECT ranked.subscriber,\\n             pcod\\n      FROM (SELECT times_visited.subscriber,\\n                   pcod,\\n                   row_number() OVER (PARTITION BY times_visited.subscriber\\n                                      ORDER BY total DESC,\\n                                               times_visited.date DESC) AS rank\\n            FROM (SELECT all_locs.subscriber,\\n                         pcod,\\n                         count(*) AS total,\\n                         max(all_locs.date) AS date\\n                  FROM ((((((((((((((((((SELECT *,\\n                                                to_date('2016-02-08 00:00:00', 'YYYY-MM-DD') AS date\\n                                         FROM (SELECT *\\n                                               FROM cache.x71ce60134342b71f6dfa532ced8642cd) AS dl\\n\\n                                         UNION ALL\\n\\n                                         SELECT *,\\n                                                to_date('2016-02-09 00:00:00', 'YYYY-MM-DD') AS date\\n                                         FROM (SELECT *\\n                                               FROM cache.xff3d85f3ea7f885e471ca7c5816b6aab) AS dl)\\n\\n                                        UNION ALL\\n\\n                                        SELECT *,\\n                                               to_date('2016-02-10 00:00:00', 'YYYY-MM-DD') AS date\\n                                        FROM (SELECT *\\n                                              FROM cache.x07237dc61635165204ab24a929271768) AS dl)\\n\\n                                       UNION ALL\\n\\n                                       SELECT *,\\n                                              to_date('2016-02-11 00:00:00', 'YYYY-MM-DD') AS date\\n                                       FROM (SELECT *\\n                                             FROM cache.xffc9c4147a621ede0cdf89cf42166c37) AS dl)\\n\\n                                      UNION ALL\\n\\n                                      SELECT *,\\n                                             to_date('2016-02-12 00:00:00', 'YYYY-MM-DD') AS date\\n                                      FROM (SELECT *\\n                                            FROM cache.x28baca238306ee5ce9066ac057095dcd) AS dl)\\n\\n                                     UNION ALL\\n\\n                                     SELECT *,\\n                                            to_date('2016-02-13 00:00:00', 'YYYY-MM-DD') AS date\\n                                     FROM (SELECT *\\n                                           FROM cache.xcbb4d7341548bbf13b2fb5c8ea7ebc9b) AS dl)\\n\\n                                    UNION ALL\\n\\n                                    SELECT *,\\n                                           to_date('2016-02-14 00:00:00', 'YYYY-MM-DD') AS date\\n                                    FROM (SELECT *\\n                                          FROM cache.x71f98ffbc2867e63eef5bdb73a8f7368) AS dl)\\n\\n                                   UNION ALL\\n\\n                                   SELECT *,\\n                                          to_date('2016-02-15 00:00:00', 'YYYY-MM-DD') AS date\\n                                   FROM (SELECT *\\n                                         FROM cache.x8a2e685cd576bcbe8f65d21d12e44a31) AS dl)\\n\\n                                  UNION ALL\\n\\n                                  SELECT *,\\n                                         to_date('2016-02-16 00:00:00', 'YYYY-MM-DD') AS date\\n                                  FROM (SELECT *\\n                                        FROM cache.x16a9db7fb597455bfe8c6eeaacfa8970) AS dl)\\n\\n                                 UNION ALL\\n\\n                                 SELECT *,\\n                                        to_date('2016-02-17 00:00:00', 'YYYY-MM-DD') AS date\\n                                 FROM (SELECT *\\n                                       FROM cache.xed625075c26ae4c4dd9124f67f894baa) AS dl)\\n\\n                                UNION ALL\\n\\n                                SELECT *,\\n                                       to_date('2016-02-18 00:00:00', 'YYYY-MM-DD') AS date\\n                                FROM (SELECT *\\n                                      FROM cache.x45b6598a9e3dad547870a65902c83553) AS dl)\\n\\n                               UNION ALL\\n\\n                               SELECT *,\\n                                      to_date('2016-02-19 00:00:00', 'YYYY-MM-DD') AS date\\n                               FROM (SELECT *\\n                                     FROM cache.xe07ecf68a04f446cbdc511e8a87ba318) AS dl)\\n\\n                              UNION ALL\\n\\n                              SELECT *,\\n                                     to_date('2016-02-20 00:00:00', 'YYYY-MM-DD') AS date\\n                              FROM (SELECT *\\n                                    FROM cache.x89805a9c835a34f060c42c9b77d7faac) AS dl)\\n\\n                             UNION ALL\\n\\n                             SELECT *,\\n                                    to_date('2016-02-21 00:00:00', 'YYYY-MM-DD') AS date\\n                             FROM (SELECT *\\n                                   FROM cache.x82fc7767605516687897dbe226364dce) AS dl)\\n\\n                            UNION ALL\\n\\n                            SELECT *,\\n                                   to_date('2016-02-22 00:00:00', 'YYYY-MM-DD') AS date\\n                            FROM (SELECT *\\n                                  FROM cache.x793bc3da403df74d8f3fa6a83a0eeb50) AS dl)\\n\\n                           UNION ALL\\n\\n                           SELECT *,\\n                                  to_date('2016-02-23 00:00:00', 'YYYY-MM-DD') AS date\\n                           FROM (SELECT *\\n                                 FROM cache.xd7a3b916c322c7c845881bdc90453d8d) AS dl)\\n\\n                          UNION ALL\\n\\n                          SELECT *,\\n                                 to_date('2016-02-24 00:00:00', 'YYYY-MM-DD') AS date\\n                          FROM (SELECT *\\n                                FROM cache.xec97e74212c55708e49970633062fa26) AS dl)\\n\\n                         UNION ALL\\n\\n                         SELECT *,\\n                                to_date('2016-02-25 00:00:00', 'YYYY-MM-DD') AS date\\n                         FROM (SELECT *\\n                               FROM cache.x24eafb34d2020d00376d4f7aff024e26) AS dl)\\n\\n                        UNION ALL\\n\\n                        SELECT *,\\n                               to_date('2016-02-26 00:00:00', 'YYYY-MM-DD') AS date\\n                        FROM (SELECT *\\n                              FROM cache.x4ac7ab0cc16234362b8c37a1a1fc2971) AS dl) AS all_locs\\n                  GROUP BY all_locs.subscriber, pcod) AS times_visited) AS ranked\\n      WHERE rank = 1) AS dl)) UNION ALL (SELECT *,\\n       to_date('2016-02-09 00:00:00', 'YYYY-MM-DD') AS date\\nFROM (SELECT ranked.subscriber,\\n             pcod\\n      FROM (SELECT times_visited.subscriber,\\n                   pcod,\\n                   row_number() OVER (PARTITION BY times_visited.subscriber\\n                                      ORDER BY total DESC,\\n                                               times_visited.date DESC) AS rank\\n            FROM (SELECT all_locs.subscriber,\\n                         pcod,\\n                         count(*) AS total,\\n                         max(all_locs.date) AS date\\n                  FROM ((((((((((((((((((SELECT *,\\n                                                to_date('2016-02-09 00:00:00', 'YYYY-MM-DD') AS date\\n                                         FROM (SELECT *\\n                                               FROM cache.xff3d85f3ea7f885e471ca7c5816b6aab) AS dl\\n\\n                                         UNION ALL\\n\\n                                         SELECT *,\\n                                                to_date('2016-02-10 00:00:00', 'YYYY-MM-DD') AS date\\n                                         FROM (SELECT *\\n                                               FROM cache.x07237dc61635165204ab24a929271768) AS dl)\\n\\n                                        UNION ALL\\n\\n                                        SELECT *,\\n                                               to_date('2016-02-11 00:00:00', 'YYYY-MM-DD') AS date\\n                                        FROM (SELECT *\\n                                              FROM cache.xffc9c4147a621ede0cdf89cf42166c37) AS dl)\\n\\n                                       UNION ALL\\n\\n                                       SELECT *,\\n                                              to_date('2016-02-12 00:00:00', 'YYYY-MM-DD') AS date\\n                                       FROM (SELECT *\\n                                             FROM cache.x28baca238306ee5ce9066ac057095dcd) AS dl)\\n\\n                                      UNION ALL\\n\\n                                      SELECT *,\\n                                             to_date('2016-02-13 00:00:00', 'YYYY-MM-DD') AS date\\n                                      FROM (SELECT *\\n                                            FROM cache.xcbb4d7341548bbf13b2fb5c8ea7ebc9b) AS dl)\\n\\n                                     UNION ALL\\n\\n                                     SELECT *,\\n                                            to_date('2016-02-14 00:00:00', 'YYYY-MM-DD') AS date\\n                                     FROM (SELECT *\\n                                           FROM cache.x71f98ffbc2867e63eef5bdb73a8f7368) AS dl)\\n\\n                                    UNION ALL\\n\\n                                    SELECT *,\\n                                           to_date('2016-02-15 00:00:00', 'YYYY-MM-DD') AS date\\n                                    FROM (SELECT *\\n                                          FROM cache.x8a2e685cd576bcbe8f65d21d12e44a31) AS dl)\\n\\n                                   UNION ALL\\n\\n                                   SELECT *,\\n                                          to_date('2016-02-16 00:00:00', 'YYYY-MM-DD') AS date\\n                                   FROM (SELECT *\\n                                         FROM cache.x16a9db7fb597455bfe8c6eeaacfa8970) AS dl)\\n\\n                                  UNION ALL\\n\\n                                  SELECT *,\\n                                         to_date('2016-02-17 00:00:00', 'YYYY-MM-DD') AS date\\n                                  FROM (SELECT *\\n                                        FROM cache.xed625075c26ae4c4dd9124f67f894baa) AS dl)\\n\\n                                 UNION ALL\\n\\n                                 SELECT *,\\n                                        to_date('2016-02-18 00:00:00', 'YYYY-MM-DD') AS date\\n                                 FROM (SELECT *\\n                                       FROM cache.x45b6598a9e3dad547870a65902c83553) AS dl)\\n\\n                                UNION ALL\\n\\n                                SELECT *,\\n                                       to_date('2016-02-19 00:00:00', 'YYYY-MM-DD') AS date\\n                                FROM (SELECT *\\n                                      FROM cache.xe07ecf68a04f446cbdc511e8a87ba318) AS dl)\\n\\n                               UNION ALL\\n\\n                               SELECT *,\\n                                      to_date('2016-02-20 00:00:00', 'YYYY-MM-DD') AS date\\n                               FROM (SELECT *\\n                                     FROM cache.x89805a9c835a34f060c42c9b77d7faac) AS dl)\\n\\n                              UNION ALL\\n\\n                              SELECT *,\\n                                     to_date('2016-02-21 00:00:00', 'YYYY-MM-DD') AS date\\n                              FROM (SELECT *\\n                                    FROM cache.x82fc7767605516687897dbe226364dce) AS dl)\\n\\n                             UNION ALL\\n\\n                             SELECT *,\\n                                    to_date('2016-02-22 00:00:00', 'YYYY-MM-DD') AS date\\n                             FROM (SELECT *\\n                                   FROM cache.x793bc3da403df74d8f3fa6a83a0eeb50) AS dl)\\n\\n                            UNION ALL\\n\\n                            SELECT *,\\n                                   to_date('2016-02-23 00:00:00', 'YYYY-MM-DD') AS date\\n                            FROM (SELECT *\\n                                  FROM cache.xd7a3b916c322c7c845881bdc90453d8d) AS dl)\\n\\n                           UNION ALL\\n\\n                           SELECT *,\\n                                  to_date('2016-02-24 00:00:00', 'YYYY-MM-DD') AS date\\n                           FROM (SELECT *\\n                                 FROM cache.xec97e74212c55708e49970633062fa26) AS dl)\\n\\n                          UNION ALL\\n\\n                          SELECT *,\\n                                 to_date('2016-02-25 00:00:00', 'YYYY-MM-DD') AS date\\n                          FROM (SELECT *\\n                                FROM cache.x24eafb34d2020d00376d4f7aff024e26) AS dl)\\n\\n                         UNION ALL\\n\\n                         SELECT *,\\n                                to_date('2016-02-26 00:00:00', 'YYYY-MM-DD') AS date\\n                         FROM (SELECT *\\n                               FROM cache.x4ac7ab0cc16234362b8c37a1a1fc2971) AS dl)\\n\\n                        UNION ALL\\n\\n                        SELECT *,\\n                               to_date('2016-02-27 00:00:00', 'YYYY-MM-DD') AS date\\n                        FROM (SELECT *\\n                              FROM cache.x71c2407666a2a3ce902a50517c50b39f) AS dl) AS all_locs\\n                  GROUP BY all_locs.subscriber, pcod) AS times_visited) AS ranked\\n      WHERE rank = 1) AS dl)) UNION ALL (SELECT *,\\n       to_date('2016-02-10 00:00:00', 'YYYY-MM-DD') AS date\\nFROM (SELECT *\\n      FROM cache.x511cbb9af1ac3c1c7d419156fb72d2c7) AS dl)) UNION ALL (SELECT *,\\n       to_date('2016-02-11 00:00:00', 'YYYY-MM-DD') AS date\\nFROM (SELECT *\\n      FROM cache.x904ca0b5af77c527d778d10d91aa46b3) AS dl)) AS all_locs\\n        ORDER BY all_locs.subscriber, all_locs.date\\n        ) AS day_trajectories\\n        GROUP BY \\n            day_trajectories.subscriber,\\n            day_trajectories.pcod\\n        ORDER BY\\n            day_trajectories.subscriber,\\n            COUNT(*) DESC\\n        \\n), summed_weights AS (\\n    SELECT subscriber, sum(value) AS total_weight\\n    FROM subscriber_subset\\n    WHERE value >= 0\\n    GROUP BY subscriber\\n), seen_subs AS (\\n    SELECT subscriber, pcod\\n    FROM summed_weights JOIN subscriber_subset USING(subscriber)\\n    WHERE value > total_weight/2.0\\n)\\n\\nSELECT subscriber, seen_subs.pcod\\nFROM seen_subs RIGHT OUTER JOIN summed_weights USING(subscriber)\\n            ) _)]\\n(Background on this error at: http://sqlalche.me/e/13/e3q8)\",\"logger\":\"flowmachine.debug\",\"level\":\"error\",\"timestamp\":\"2021-12-03T13:59:14.032415Z\"}\n"
     ]
    }
   ],
   "source": [
    "for ml in majority_locations:\n",
    "    print(f\"Storing {ml.subscriber_location_weights.day_trajectories.start}\")\n",
    "    ml.store(store_dependencies=True)"
   ]
  },
  {
   "cell_type": "code",
   "execution_count": 24,
   "metadata": {},
   "outputs": [],
   "source": [
    "for qid in [\n",
    "    'e201ebcfff28eea05775a393baa6cb09',\n",
    "    '903bf742e3ffb8c1e9b414dbf204caa6',\n",
    "    'fab676b50942f7c3da402bae53e44a41',\n",
    "    '5ccb0ba0c6f7434935a4ed1f71a658ae',\n",
    "    '89cd71490689c5d15dd81dec27e62aa3',\n",
    "]:\n",
    "    qsm = flowmachine.core.query_state.QueryStateMachine(\n",
    "        flowmachine.core.context.get_redis(),\n",
    "        qid,\n",
    "        flowmachine.core.context.get_db().conn_id,\n",
    "    )\n",
    "    qsm.reset()\n",
    "    qsm.finish_resetting()"
   ]
  },
  {
   "cell_type": "code",
   "execution_count": 25,
   "metadata": {},
   "outputs": [
    {
     "data": {
      "text/plain": [
       "<Future at 0x7f388d6f68e0 state=pending>"
      ]
     },
     "execution_count": 25,
     "metadata": {},
     "output_type": "execute_result"
    }
   ],
   "source": [
    "majority_locations[5].store(store_dependencies=True)"
   ]
  },
  {
   "cell_type": "code",
   "execution_count": 32,
   "metadata": {},
   "outputs": [
    {
     "data": {
      "text/plain": [
       "[(99985, 98899)]"
      ]
     },
     "execution_count": 32,
     "metadata": {},
     "output_type": "execute_result"
    }
   ],
   "source": [
    "flowmachine.core.context.get_db().fetch(f\"SELECT count(*), count(pcod) FROM ({majority_locations[5].get_query()}) _\")"
   ]
  },
  {
   "cell_type": "markdown",
   "metadata": {
    "tags": []
   },
   "source": [
    "## Try out some possible implementations of MobilityClassification"
   ]
  },
  {
   "cell_type": "markdown",
   "metadata": {},
   "source": [
    "### Experiment with options for classifying subscribers as long-term locatable/unlocatable and long-term active/inactive"
   ]
  },
  {
   "cell_type": "code",
   "execution_count": 33,
   "metadata": {},
   "outputs": [],
   "source": [
    "loc_cols_string = \", \".join(majority_locations[0].spatial_unit.location_id_columns)\n",
    "locations_union = \" UNION ALL \".join(\n",
    "    f\"SELECT subscriber, {loc_cols_string}, {i} AS ordinal FROM ({loc.get_query()}) _\"\n",
    "    for i, loc in enumerate(majority_locations)\n",
    ")\n",
    "\n",
    "long_term_activity_1 = CustomQuery(\n",
    "    f\"\"\"\n",
    "    SELECT\n",
    "        subscriber,\n",
    "        count(*) < {len(majority_locations)} AS sometimes_inactive,\n",
    "        count(coalesce({loc_cols_string})) < {len(majority_locations)} AS sometimes_unlocatable\n",
    "    FROM ({locations_union}) locations_union\n",
    "    GROUP BY subscriber\n",
    "    \"\"\",\n",
    "    column_names=[\"subscriber\", \"sometimes_inactive\", \"sometimes_unlocatable\"],\n",
    ")\n",
    "\n",
    "long_term_activity_2 = {}\n",
    "for intersect_type in [\"INTERSECT\", \"INTERSECT ALL\"]:\n",
    "    active_subq = f\" {intersect_type} \".join(\n",
    "        f\"SELECT subscriber FROM ({loc.get_query()}) _\" for loc in majority_locations\n",
    "    )\n",
    "    locatable_subq = f\" {intersect_type} \".join(\n",
    "        f\"SELECT subscriber FROM ({loc.get_query()}) _ WHERE coalesce({loc_cols_string}) IS NOT NULL\"\n",
    "        for loc in majority_locations\n",
    "    )\n",
    "    long_term_activity_2[intersect_type] = CustomQuery(\n",
    "        f\"\"\"\n",
    "        SELECT subscriber, TRUE AS always_active, always_locatable\n",
    "        FROM ({active_subq}) long_term_active\n",
    "        LEFT JOIN (\n",
    "            SELECT subscriber, TRUE AS always_locatable\n",
    "            FROM ({locatable_subq}) _\n",
    "        ) long_term_locatable\n",
    "        USING (subscriber)\n",
    "        \"\"\",\n",
    "        column_names=[\"subscriber\", \"always_active\", \"always_locatable\"],\n",
    "    )\n",
    "\n",
    "active_subq_join = f\"\"\"\n",
    "SELECT subscriber\n",
    "FROM ({majority_locations[0].get_query()}) loc0\n",
    "\"\"\" + \"\\n\".join(\n",
    "    f\"INNER JOIN ({loc.get_query()}) loc{i+1} USING (subscriber)\"\n",
    "    for i, loc in enumerate(majority_locations[1:])\n",
    ")\n",
    "locatable_subq_join = f\"\"\"\n",
    "SELECT subscriber\n",
    "FROM (SELECT * FROM ({majority_locations[0].get_query()}) _ WHERE coalesce({loc_cols_string}) IS NOT NULL) loc0\n",
    "\"\"\" + \"\\n\".join(\n",
    "    f\"INNER JOIN (SELECT * FROM ({loc.get_query()}) _ WHERE coalesce({loc_cols_string}) IS NOT NULL) loc{i+1} USING (subscriber)\"\n",
    "    for i, loc in enumerate(majority_locations[1:])\n",
    ")\n",
    "long_term_activity_2[\"INNER JOIN\"] = CustomQuery(\n",
    "    f\"\"\"\n",
    "    SELECT subscriber, TRUE AS always_active, always_locatable\n",
    "    FROM ({active_subq_join}) long_term_active\n",
    "    LEFT JOIN (\n",
    "        SELECT subscriber, TRUE AS always_locatable\n",
    "        FROM ({locatable_subq_join}) _\n",
    "    ) long_term_locatable\n",
    "    USING (subscriber)\n",
    "    \"\"\",\n",
    "    column_names=[\"subscriber\", \"always_active\", \"always_locatable\"],\n",
    ")"
   ]
  },
  {
   "cell_type": "code",
   "execution_count": 34,
   "metadata": {},
   "outputs": [],
   "source": [
    "explain_1 = long_term_activity_1.explain(analyse=True)"
   ]
  },
  {
   "cell_type": "code",
   "execution_count": 35,
   "metadata": {},
   "outputs": [],
   "source": [
    "explain_2 = {\n",
    "    merge_type: query.explain(analyse=True)\n",
    "    for merge_type, query in long_term_activity_2.items()\n",
    "}"
   ]
  },
  {
   "cell_type": "code",
   "execution_count": 36,
   "metadata": {
    "tags": []
   },
   "outputs": [
    {
     "name": "stdout",
     "output_type": "stream",
     "text": [
      "Finalize GroupAggregate  (cost=13267.05..13319.72 rows=200 width=35) (actual time=8861.009..17355.753 rows=100000 loops=1)\n",
      "  Group Key: xb06ca27f33181417112b609b3ff26546.subscriber\n",
      "  ->  Gather Merge  (cost=13267.05..13313.72 rows=400 width=49) (actual time=8860.909..13543.694 rows=299990 loops=1)\n",
      "        Workers Planned: 2\n",
      "        Workers Launched: 2\n",
      "        ->  Sort  (cost=12267.03..12267.53 rows=200 width=49) (actual time=8711.160..9594.104 rows=99997 loops=3)\n",
      "              Sort Key: xb06ca27f33181417112b609b3ff26546.subscriber\n",
      "              Sort Method: quicksort  Memory: 17134kB\n",
      "              Worker 0:  Sort Method: quicksort  Memory: 17135kB\n",
      "              Worker 1:  Sort Method: quicksort  Memory: 17134kB\n",
      "              ->  Partial HashAggregate  (cost=12257.38..12259.38 rows=200 width=49) (actual time=6761.314..7603.160 rows=99997 loops=3)\n",
      "                    Group Key: xb06ca27f33181417112b609b3ff26546.subscriber\n",
      "                    ->  Parallel Append  (cost=0.00..10382.67 rows=249962 width=43) (actual time=0.263..4949.602 rows=199969 loops=3)\n",
      "                          ->  Parallel Seq Scan on xb06ca27f33181417112b609b3ff26546  (cost=0.00..1522.17 rows=58817 width=43) (actual time=0.534..846.964 rows=99989 loops=1)\n",
      "                          ->  Parallel Seq Scan on xa77df7638f260964ecd150ea4bf2dda4  (cost=0.00..1522.15 rows=58815 width=43) (actual time=0.033..843.133 rows=99986 loops=1)\n",
      "                          ->  Parallel Seq Scan on xd42cc81f0d4bdcecfcba23513c65dd6f  (cost=0.00..1522.15 rows=58815 width=43) (actual time=0.056..830.936 rows=99985 loops=1)\n",
      "                          ->  Parallel Seq Scan on x5573b404d543101dd839fb3af497bf61  (cost=0.00..1522.14 rows=58814 width=43) (actual time=0.037..831.103 rows=99983 loops=1)\n",
      "                          ->  Parallel Seq Scan on x22e1a6e2dd32fddb57fa47642c3460ff  (cost=0.00..1522.13 rows=58813 width=43) (actual time=0.045..276.050 rows=33327 loops=3)\n",
      "                          ->  Parallel Seq Scan on xc569af3ede1d4e394fdefb6c742ed587  (cost=0.00..1522.12 rows=58812 width=43) (actual time=0.167..842.958 rows=99981 loops=1)\n",
      "Planning Time: 198.860 ms\n",
      "Execution Time: 18250.934 ms\n"
     ]
    }
   ],
   "source": [
    "print(explain_1)"
   ]
  },
  {
   "cell_type": "code",
   "execution_count": 37,
   "metadata": {
    "collapsed": true,
    "jupyter": {
     "outputs_hidden": true
    },
    "tags": []
   },
   "outputs": [
    {
     "name": "stdout",
     "output_type": "stream",
     "text": [
      "Hash Left Join  (cost=31250.91..61618.82 rows=49731049 width=34) (actual time=114176.458..118732.061 rows=99928 loops=1)\n",
      "  Hash Cond: (long_term_active.subscriber = _.subscriber)\n",
      "  ->  Subquery Scan on long_term_active  (cost=0.00..30099.90 rows=99981 width=32) (actual time=54643.218..57311.459 rows=99928 loops=1)\n",
      "        ->  HashSetOp Intersect  (cost=0.00..29100.08 rows=99981 width=36) (actual time=54643.193..55533.774 rows=99928 loops=1)\n",
      "              ->  Append  (cost=0.00..28600.17 rows=199966 width=36) (actual time=43751.685..52666.479 rows=199923 loops=1)\n",
      "                    ->  Result  (cost=0.00..24666.64 rows=99981 width=36) (actual time=43751.661..46403.664 rows=99938 loops=1)\n",
      "                          ->  HashSetOp Intersect  (cost=0.00..23666.83 rows=99981 width=36) (actual time=43751.625..44630.806 rows=99938 loops=1)\n",
      "                                ->  Append  (cost=0.00..23166.90 rows=199970 width=36) (actual time=33025.001..41809.201 rows=199935 loops=1)\n",
      "                                      ->  Result  (cost=0.00..19233.27 rows=99981 width=36) (actual time=33024.978..35672.021 rows=99946 loops=1)\n",
      "                                            ->  HashSetOp Intersect  (cost=0.00..18233.46 rows=99981 width=36) (actual time=33024.954..33907.317 rows=99946 loops=1)\n",
      "                                                  ->  Append  (cost=0.00..17733.55 rows=199967 width=36) (actual time=22270.230..31083.852 rows=199940 loops=1)\n",
      "                                                        ->  Result  (cost=0.00..13799.99 rows=99981 width=36) (actual time=22270.205..24924.676 rows=99954 loops=1)\n",
      "                                                              ->  HashSetOp Intersect  (cost=0.00..12800.18 rows=99981 width=36) (actual time=22270.180..23158.118 rows=99954 loops=1)\n",
      "                                                                    ->  Append  (cost=0.00..12300.27 rows=199963 width=36) (actual time=11067.296..20245.583 rows=199949 loops=1)\n",
      "                                                                          ->  Result  (cost=0.00..8366.82 rows=99981 width=36) (actual time=11067.272..13737.741 rows=99967 loops=1)\n",
      "                                                                                ->  HashSetOp Intersect  (cost=0.00..7367.01 rows=99981 width=36) (actual time=11067.248..11970.219 rows=99967 loops=1)\n",
      "                                                                                      ->  Append  (cost=0.00..6867.10 rows=199964 width=36) (actual time=0.139..8948.107 rows=199964 loops=1)\n",
      "                                                                                            ->  Subquery Scan on \"*SELECT* 2\"  (cost=0.00..2933.62 rows=99981 width=37) (actual time=0.109..2730.357 rows=99981 loops=1)\n",
      "                                                                                                  ->  Seq Scan on xc569af3ede1d4e394fdefb6c742ed587  (cost=0.00..1933.81 rows=99981 width=33) (actual time=0.076..933.570 rows=99981 loops=1)\n",
      "                                                                                            ->  Subquery Scan on \"*SELECT* 1\"  (cost=0.00..2933.66 rows=99983 width=37) (actual time=0.067..2692.426 rows=99983 loops=1)\n",
      "                                                                                                  ->  Seq Scan on x5573b404d543101dd839fb3af497bf61  (cost=0.00..1933.83 rows=99983 width=33) (actual time=0.050..924.854 rows=99983 loops=1)\n",
      "                                                                          ->  Subquery Scan on \"*SELECT* 3\"  (cost=0.00..2933.64 rows=99982 width=37) (actual time=0.060..2933.343 rows=99982 loops=1)\n",
      "                                                                                ->  Seq Scan on x22e1a6e2dd32fddb57fa47642c3460ff  (cost=0.00..1933.82 rows=99982 width=33) (actual time=0.042..1082.273 rows=99982 loops=1)\n",
      "                                                        ->  Subquery Scan on \"*SELECT* 4\"  (cost=0.00..2933.72 rows=99986 width=37) (actual time=0.044..2679.631 rows=99986 loops=1)\n",
      "                                                              ->  Seq Scan on xa77df7638f260964ecd150ea4bf2dda4  (cost=0.00..1933.86 rows=99986 width=33) (actual time=0.028..915.010 rows=99986 loops=1)\n",
      "                                      ->  Subquery Scan on \"*SELECT* 5\"  (cost=0.00..2933.78 rows=99989 width=37) (actual time=0.054..2674.367 rows=99989 loops=1)\n",
      "                                            ->  Seq Scan on xb06ca27f33181417112b609b3ff26546  (cost=0.00..1933.89 rows=99989 width=33) (actual time=0.037..914.065 rows=99989 loops=1)\n",
      "                    ->  Subquery Scan on \"*SELECT* 6\"  (cost=0.00..2933.70 rows=99985 width=37) (actual time=0.058..2740.932 rows=99985 loops=1)\n",
      "                          ->  Seq Scan on xd42cc81f0d4bdcecfcba23513c65dd6f  (cost=0.00..1933.85 rows=99985 width=33) (actual time=0.042..943.851 rows=99985 loops=1)\n",
      "  ->  Hash  (cost=30007.40..30007.40 rows=99481 width=33) (actual time=59528.437..59528.868 rows=93740 loops=1)\n",
      "        Buckets: 131072  Batches: 1  Memory Usage: 7066kB\n",
      "        ->  Subquery Scan on _  (cost=0.00..30007.40 rows=99481 width=33) (actual time=55835.906..58487.170 rows=93740 loops=1)\n",
      "              ->  HashSetOp Intersect  (cost=0.00..29012.58 rows=99481 width=36) (actual time=55835.886..56742.483 rows=93740 loops=1)\n",
      "                    ->  Append  (cost=0.00..28515.17 rows=198966 width=36) (actual time=44462.548..53771.411 rows=193681 loops=1)\n",
      "                          ->  Result  (cost=0.00..24591.64 rows=99481 width=36) (actual time=44462.529..47011.559 rows=94782 loops=1)\n",
      "                                ->  HashSetOp Intersect  (cost=0.00..23596.83 rows=99481 width=36) (actual time=44462.510..45313.206 rows=94782 loops=1)\n",
      "                                      ->  Append  (cost=0.00..23099.40 rows=198970 width=36) (actual time=33749.217..42519.251 rows=194736 loops=1)\n",
      "                                            ->  Result  (cost=0.00..19175.77 rows=99481 width=36) (actual time=33749.198..36316.313 rows=95856 loops=1)\n",
      "                                                  ->  HashSetOp Intersect  (cost=0.00..18180.96 rows=99481 width=36) (actual time=33749.179..34602.815 rows=95856 loops=1)\n",
      "                                                        ->  Append  (cost=0.00..17683.55 rows=198967 width=36) (actual time=21746.924..31456.863 rows=195822 loops=1)\n",
      "                                                              ->  Result  (cost=0.00..13759.99 rows=99481 width=36) (actual time=21746.896..24862.246 rows=96954 loops=1)\n",
      "                                                                    ->  HashSetOp Intersect  (cost=0.00..12765.18 rows=99481 width=36) (actual time=21746.877..22757.387 rows=96954 loops=1)\n",
      "                                                                          ->  Append  (cost=0.00..12267.77 rows=198963 width=36) (actual time=10971.142..19803.981 rows=196937 loops=1)\n",
      "                                                                                ->  Result  (cost=0.00..8344.32 rows=99481 width=36) (actual time=10971.124..13655.147 rows=97969 loops=1)\n",
      "                                                                                      ->  HashSetOp Intersect  (cost=0.00..7349.51 rows=99481 width=36) (actual time=10971.105..11878.428 rows=97969 loops=1)\n",
      "                                                                                            ->  Append  (cost=0.00..6852.10 rows=198964 width=36) (actual time=0.079..8993.322 rows=197957 loops=1)\n",
      "                                                                                                  ->  Subquery Scan on \"*SELECT* 2_1\"  (cost=0.00..2928.62 rows=99481 width=37) (actual time=0.059..2738.719 rows=98916 loops=1)\n",
      "                                                                                                        ->  Seq Scan on xc569af3ede1d4e394fdefb6c742ed587 xc569af3ede1d4e394fdefb6c742ed587_1  (cost=0.00..1933.81 rows=99481 width=33) (actual time=0.036..952.509 rows=98916 loops=1)\n",
      "                                                                                                              Filter: (COALESCE(pcod) IS NOT NULL)\n",
      "                                                                                                              Rows Removed by Filter: 1065\n",
      "                                                                                                  ->  Subquery Scan on \"*SELECT* 1_1\"  (cost=0.00..2928.66 rows=99483 width=37) (actual time=0.066..2730.112 rows=99041 loops=1)\n",
      "                                                                                                        ->  Seq Scan on x5573b404d543101dd839fb3af497bf61 x5573b404d543101dd839fb3af497bf61_1  (cost=0.00..1933.83 rows=99483 width=33) (actual time=0.049..950.492 rows=99041 loops=1)\n",
      "                                                                                                              Filter: (COALESCE(pcod) IS NOT NULL)\n",
      "                                                                                                              Rows Removed by Filter: 942\n",
      "                                                                                ->  Subquery Scan on \"*SELECT* 3_1\"  (cost=0.00..2928.64 rows=99482 width=37) (actual time=0.053..2670.688 rows=98968 loops=1)\n",
      "                                                                                      ->  Seq Scan on x22e1a6e2dd32fddb57fa47642c3460ff x22e1a6e2dd32fddb57fa47642c3460ff_1  (cost=0.00..1933.82 rows=99482 width=33) (actual time=0.034..922.100 rows=98968 loops=1)\n",
      "                                                                                            Filter: (COALESCE(pcod) IS NOT NULL)\n",
      "                                                                                            Rows Removed by Filter: 1014\n",
      "                                                              ->  Subquery Scan on \"*SELECT* 4_1\"  (cost=0.00..2928.72 rows=99486 width=37) (actual time=0.051..2784.899 rows=98868 loops=1)\n",
      "                                                                    ->  Seq Scan on xa77df7638f260964ecd150ea4bf2dda4 xa77df7638f260964ecd150ea4bf2dda4_1  (cost=0.00..1933.86 rows=99486 width=33) (actual time=0.032..951.419 rows=98868 loops=1)\n",
      "                                                                          Filter: (COALESCE(pcod) IS NOT NULL)\n",
      "                                                                          Rows Removed by Filter: 1118\n",
      "                                            ->  Subquery Scan on \"*SELECT* 5_1\"  (cost=0.00..2928.78 rows=99489 width=37) (actual time=0.047..2735.442 rows=98880 loops=1)\n",
      "                                                  ->  Seq Scan on xb06ca27f33181417112b609b3ff26546 xb06ca27f33181417112b609b3ff26546_1  (cost=0.00..1933.89 rows=99489 width=33) (actual time=0.030..945.691 rows=98880 loops=1)\n",
      "                                                        Filter: (COALESCE(pcod) IS NOT NULL)\n",
      "                                                        Rows Removed by Filter: 1109\n",
      "                          ->  Subquery Scan on \"*SELECT* 6_1\"  (cost=0.00..2928.70 rows=99485 width=37) (actual time=0.116..3051.651 rows=98899 loops=1)\n",
      "                                ->  Seq Scan on xd42cc81f0d4bdcecfcba23513c65dd6f xd42cc81f0d4bdcecfcba23513c65dd6f_1  (cost=0.00..1933.85 rows=99485 width=33) (actual time=0.098..1026.152 rows=98899 loops=1)\n",
      "                                      Filter: (COALESCE(pcod) IS NOT NULL)\n",
      "                                      Rows Removed by Filter: 1086\n",
      "Planning Time: 209.650 ms\n",
      "Execution Time: 120248.084 ms\n"
     ]
    }
   ],
   "source": [
    "print(explain_2[\"INTERSECT\"])"
   ]
  },
  {
   "cell_type": "code",
   "execution_count": 38,
   "metadata": {
    "collapsed": true,
    "jupyter": {
     "outputs_hidden": true
    },
    "tags": []
   },
   "outputs": [
    {
     "name": "stdout",
     "output_type": "stream",
     "text": [
      "Merge Right Join  (cost=76668.38..823131.52 rows=49731049 width=34) (actual time=123111.252..127797.375 rows=99928 loops=1)\n",
      "  Merge Cond: (_.subscriber = long_term_active.subscriber)\n",
      "  ->  Sort  (cost=38265.38..38514.08 rows=99481 width=33) (actual time=59730.623..60608.886 rows=93740 loops=1)\n",
      "        Sort Key: _.subscriber\n",
      "        Sort Method: quicksort  Memory: 10396kB\n",
      "        ->  Subquery Scan on _  (cost=0.00..30007.40 rows=99481 width=33) (actual time=55974.240..58568.961 rows=93740 loops=1)\n",
      "              ->  HashSetOp Intersect All  (cost=0.00..29012.58 rows=99481 width=36) (actual time=55974.191..56838.332 rows=93740 loops=1)\n",
      "                    ->  Append  (cost=0.00..28515.17 rows=198966 width=36) (actual time=44926.318..53967.316 rows=193681 loops=1)\n",
      "                          ->  Result  (cost=0.00..24591.64 rows=99481 width=36) (actual time=44926.155..47579.391 rows=94782 loops=1)\n",
      "                                ->  HashSetOp Intersect All  (cost=0.00..23596.83 rows=99481 width=36) (actual time=44926.112..45822.324 rows=94782 loops=1)\n",
      "                                      ->  Append  (cost=0.00..23099.40 rows=198970 width=36) (actual time=33332.692..42827.695 rows=194736 loops=1)\n",
      "                                            ->  Result  (cost=0.00..19175.77 rows=99481 width=36) (actual time=33332.672..35880.821 rows=95856 loops=1)\n",
      "                                                  ->  HashSetOp Intersect All  (cost=0.00..18180.96 rows=99481 width=36) (actual time=33332.637..34188.105 rows=95856 loops=1)\n",
      "                                                        ->  Append  (cost=0.00..17683.55 rows=198967 width=36) (actual time=22798.890..31432.537 rows=195822 loops=1)\n",
      "                                                              ->  Result  (cost=0.00..13759.99 rows=99481 width=36) (actual time=22798.859..25363.908 rows=96954 loops=1)\n",
      "                                                                    ->  HashSetOp Intersect All  (cost=0.00..12765.18 rows=99481 width=36) (actual time=22798.738..23659.067 rows=96954 loops=1)\n",
      "                                                                          ->  Append  (cost=0.00..12267.77 rows=198963 width=36) (actual time=11973.285..20860.487 rows=196937 loops=1)\n",
      "                                                                                ->  Result  (cost=0.00..8344.32 rows=99481 width=36) (actual time=11973.265..14579.266 rows=97969 loops=1)\n",
      "                                                                                      ->  HashSetOp Intersect All  (cost=0.00..7349.51 rows=99481 width=36) (actual time=11973.230..12857.143 rows=97969 loops=1)\n",
      "                                                                                            ->  Append  (cost=0.00..6852.10 rows=198964 width=36) (actual time=1215.518..10042.620 rows=197957 loops=1)\n",
      "                                                                                                  ->  Subquery Scan on \"*SELECT* 2\"  (cost=0.00..2928.62 rows=99481 width=37) (actual time=1215.498..3893.248 rows=98916 loops=1)\n",
      "                                                                                                        ->  Seq Scan on xc569af3ede1d4e394fdefb6c742ed587  (cost=0.00..1933.81 rows=99481 width=33) (actual time=1215.475..2135.388 rows=98916 loops=1)\n",
      "                                                                                                              Filter: (COALESCE(pcod) IS NOT NULL)\n",
      "                                                                                                              Rows Removed by Filter: 1065\n",
      "                                                                                                  ->  Subquery Scan on \"*SELECT* 1\"  (cost=0.00..2928.66 rows=99483 width=37) (actual time=0.076..2667.196 rows=99041 loops=1)\n",
      "                                                                                                        ->  Seq Scan on x5573b404d543101dd839fb3af497bf61  (cost=0.00..1933.83 rows=99483 width=33) (actual time=0.058..914.407 rows=99041 loops=1)\n",
      "                                                                                                              Filter: (COALESCE(pcod) IS NOT NULL)\n",
      "                                                                                                              Rows Removed by Filter: 942\n",
      "                                                                                ->  Subquery Scan on \"*SELECT* 3\"  (cost=0.00..2928.64 rows=99482 width=37) (actual time=0.058..2775.504 rows=98968 loops=1)\n",
      "                                                                                      ->  Seq Scan on x22e1a6e2dd32fddb57fa47642c3460ff  (cost=0.00..1933.82 rows=99482 width=33) (actual time=0.041..953.963 rows=98968 loops=1)\n",
      "                                                                                            Filter: (COALESCE(pcod) IS NOT NULL)\n",
      "                                                                                            Rows Removed by Filter: 1014\n",
      "                                                              ->  Subquery Scan on \"*SELECT* 4\"  (cost=0.00..2928.72 rows=99486 width=37) (actual time=0.061..2651.026 rows=98868 loops=1)\n",
      "                                                                    ->  Seq Scan on xa77df7638f260964ecd150ea4bf2dda4  (cost=0.00..1933.86 rows=99486 width=33) (actual time=0.042..907.525 rows=98868 loops=1)\n",
      "                                                                          Filter: (COALESCE(pcod) IS NOT NULL)\n",
      "                                                                          Rows Removed by Filter: 1118\n",
      "                                            ->  Subquery Scan on \"*SELECT* 5\"  (cost=0.00..2928.78 rows=99489 width=37) (actual time=0.665..3236.297 rows=98880 loops=1)\n",
      "                                                  ->  Seq Scan on xb06ca27f33181417112b609b3ff26546  (cost=0.00..1933.89 rows=99489 width=33) (actual time=0.644..1142.559 rows=98880 loops=1)\n",
      "                                                        Filter: (COALESCE(pcod) IS NOT NULL)\n",
      "                                                        Rows Removed by Filter: 1109\n",
      "                          ->  Subquery Scan on \"*SELECT* 6\"  (cost=0.00..2928.70 rows=99485 width=37) (actual time=0.082..2813.230 rows=98899 loops=1)\n",
      "                                ->  Seq Scan on xd42cc81f0d4bdcecfcba23513c65dd6f  (cost=0.00..1933.85 rows=99485 width=33) (actual time=0.063..967.093 rows=98899 loops=1)\n",
      "                                      Filter: (COALESCE(pcod) IS NOT NULL)\n",
      "                                      Rows Removed by Filter: 1086\n",
      "  ->  Sort  (cost=38403.00..38652.95 rows=99981 width=32) (actual time=63380.554..64318.567 rows=99928 loops=1)\n",
      "        Sort Key: long_term_active.subscriber\n",
      "        Sort Method: quicksort  Memory: 10879kB\n",
      "        ->  Subquery Scan on long_term_active  (cost=0.00..30099.90 rows=99981 width=32) (actual time=59183.676..62097.717 rows=99928 loops=1)\n",
      "              ->  HashSetOp Intersect All  (cost=0.00..29100.08 rows=99981 width=36) (actual time=59183.647..60157.825 rows=99928 loops=1)\n",
      "                    ->  Append  (cost=0.00..28600.17 rows=199966 width=36) (actual time=47893.933..57135.167 rows=199923 loops=1)\n",
      "                          ->  Result  (cost=0.00..24666.64 rows=99981 width=36) (actual time=47893.916..50719.746 rows=99938 loops=1)\n",
      "                                ->  HashSetOp Intersect All  (cost=0.00..23666.83 rows=99981 width=36) (actual time=47893.886..48841.349 rows=99938 loops=1)\n",
      "                                      ->  Append  (cost=0.00..23166.90 rows=199970 width=36) (actual time=36673.018..45861.082 rows=199935 loops=1)\n",
      "                                            ->  Result  (cost=0.00..19233.27 rows=99981 width=36) (actual time=36673.003..39438.971 rows=99946 loops=1)\n",
      "                                                  ->  HashSetOp Intersect All  (cost=0.00..18233.46 rows=99981 width=36) (actual time=36672.973..37600.158 rows=99946 loops=1)\n",
      "                                                        ->  Append  (cost=0.00..17733.55 rows=199967 width=36) (actual time=25277.728..34598.324 rows=199940 loops=1)\n",
      "                                                              ->  Result  (cost=0.00..13799.99 rows=99981 width=36) (actual time=25277.711..28096.686 rows=99954 loops=1)\n",
      "                                                                    ->  HashSetOp Intersect All  (cost=0.00..12800.18 rows=99981 width=36) (actual time=25277.679..26218.283 rows=99954 loops=1)\n",
      "                                                                          ->  Append  (cost=0.00..12300.27 rows=199963 width=36) (actual time=12624.656..22739.680 rows=199949 loops=1)\n",
      "                                                                                ->  Result  (cost=0.00..8366.82 rows=99981 width=36) (actual time=12624.638..15924.395 rows=99967 loops=1)\n",
      "                                                                                      ->  HashSetOp Intersect All  (cost=0.00..7367.01 rows=99981 width=36) (actual time=12624.605..13728.654 rows=99967 loops=1)\n",
      "                                                                                            ->  Append  (cost=0.00..6867.10 rows=199964 width=36) (actual time=0.066..10268.544 rows=199964 loops=1)\n",
      "                                                                                                  ->  Subquery Scan on \"*SELECT* 2_1\"  (cost=0.00..2933.62 rows=99981 width=37) (actual time=0.051..3319.749 rows=99981 loops=1)\n",
      "                                                                                                        ->  Seq Scan on xc569af3ede1d4e394fdefb6c742ed587 xc569af3ede1d4e394fdefb6c742ed587_1  (cost=0.00..1933.81 rows=99981 width=33) (actual time=0.033..1107.862 rows=99981 loops=1)\n",
      "                                                                                                  ->  Subquery Scan on \"*SELECT* 1_1\"  (cost=0.00..2933.66 rows=99983 width=37) (actual time=0.063..2932.548 rows=99983 loops=1)\n",
      "                                                                                                        ->  Seq Scan on x5573b404d543101dd839fb3af497bf61 x5573b404d543101dd839fb3af497bf61_1  (cost=0.00..1933.83 rows=99983 width=33) (actual time=0.044..996.818 rows=99983 loops=1)\n",
      "                                                                                ->  Subquery Scan on \"*SELECT* 3_1\"  (cost=0.00..2933.64 rows=99982 width=37) (actual time=0.163..2865.717 rows=99982 loops=1)\n",
      "                                                                                      ->  Seq Scan on x22e1a6e2dd32fddb57fa47642c3460ff x22e1a6e2dd32fddb57fa47642c3460ff_1  (cost=0.00..1933.82 rows=99982 width=33) (actual time=0.045..977.535 rows=99982 loops=1)\n",
      "                                                              ->  Subquery Scan on \"*SELECT* 4_1\"  (cost=0.00..2933.72 rows=99986 width=37) (actual time=0.091..2804.821 rows=99986 loops=1)\n",
      "                                                                    ->  Seq Scan on xa77df7638f260964ecd150ea4bf2dda4 xa77df7638f260964ecd150ea4bf2dda4_1  (cost=0.00..1933.86 rows=99986 width=33) (actual time=0.054..958.456 rows=99986 loops=1)\n",
      "                                            ->  Subquery Scan on \"*SELECT* 5_1\"  (cost=0.00..2933.78 rows=99989 width=37) (actual time=0.066..2789.125 rows=99989 loops=1)\n",
      "                                                  ->  Seq Scan on xb06ca27f33181417112b609b3ff26546 xb06ca27f33181417112b609b3ff26546_1  (cost=0.00..1933.89 rows=99989 width=33) (actual time=0.046..949.747 rows=99989 loops=1)\n",
      "                          ->  Subquery Scan on \"*SELECT* 6_1\"  (cost=0.00..2933.70 rows=99985 width=37) (actual time=0.062..2749.474 rows=99985 loops=1)\n",
      "                                ->  Seq Scan on xd42cc81f0d4bdcecfcba23513c65dd6f xd42cc81f0d4bdcecfcba23513c65dd6f_1  (cost=0.00..1933.85 rows=99985 width=33) (actual time=0.044..934.642 rows=99985 loops=1)\n",
      "Planning Time: 214.604 ms\n",
      "JIT:\n",
      "  Functions: 105\n",
      "  Options: Inlining true, Optimization true, Expressions true, Deforming true\n",
      "  Timing: Generation 158.360 ms, Inlining 421.098 ms, Optimization 488.703 ms, Emission 299.527 ms, Total 1367.688 ms\n",
      "Execution Time: 128954.066 ms\n"
     ]
    }
   ],
   "source": [
    "print(explain_2[\"INTERSECT ALL\"])"
   ]
  },
  {
   "cell_type": "code",
   "execution_count": 39,
   "metadata": {
    "collapsed": true,
    "jupyter": {
     "outputs_hidden": true
    },
    "tags": []
   },
   "outputs": [
    {
     "name": "stdout",
     "output_type": "stream",
     "text": [
      "Hash Left Join  (cost=41698.26..51850.90 rows=99980 width=35) (actual time=30121.776..42725.604 rows=99928 loops=1)\n",
      "  Hash Cond: (x5573b404d543101dd839fb3af497bf61.subscriber = x5573b404d543101dd839fb3af497bf61_1.subscriber)\n",
      "  ->  Hash Join  (cost=15918.13..24725.71 rows=99980 width=33) (actual time=9688.366..20358.521 rows=99928 loops=1)\n",
      "        Hash Cond: (x5573b404d543101dd839fb3af497bf61.subscriber = xd42cc81f0d4bdcecfcba23513c65dd6f.subscriber)\n",
      "        ->  Hash Join  (cost=12734.47..20167.32 rows=99980 width=165) (actual time=7653.065..16396.939 rows=99938 loops=1)\n",
      "              Hash Cond: (x5573b404d543101dd839fb3af497bf61.subscriber = xa77df7638f260964ecd150ea4bf2dda4.subscriber)\n",
      "              ->  Hash Join  (cost=9550.78..15608.91 rows=99980 width=132) (actual time=5717.214..12532.227 rows=99944 loops=1)\n",
      "                    Hash Cond: (x5573b404d543101dd839fb3af497bf61.subscriber = x22e1a6e2dd32fddb57fa47642c3460ff.subscriber)\n",
      "                    ->  Hash Join  (cost=6367.19..11050.59 rows=99981 width=99) (actual time=3846.723..8708.767 rows=99957 loops=1)\n",
      "                          Hash Cond: (xc569af3ede1d4e394fdefb6c742ed587.subscriber = x5573b404d543101dd839fb3af497bf61.subscriber)\n",
      "                          ->  Hash Join  (cost=3183.57..6492.23 rows=99981 width=66) (actual time=1886.139..4784.696 rows=99971 loops=1)\n",
      "                                Hash Cond: (xb06ca27f33181417112b609b3ff26546.subscriber = xc569af3ede1d4e394fdefb6c742ed587.subscriber)\n",
      "                                ->  Seq Scan on xb06ca27f33181417112b609b3ff26546  (cost=0.00..1933.89 rows=99989 width=33) (actual time=0.025..943.780 rows=99989 loops=1)\n",
      "                                ->  Hash  (cost=1933.81..1933.81 rows=99981 width=33) (actual time=1885.578..1885.602 rows=99981 loops=1)\n",
      "                                      Buckets: 131072  Batches: 1  Memory Usage: 7371kB\n",
      "                                      ->  Seq Scan on xc569af3ede1d4e394fdefb6c742ed587  (cost=0.00..1933.81 rows=99981 width=33) (actual time=0.020..917.692 rows=99981 loops=1)\n",
      "                          ->  Hash  (cost=1933.83..1933.83 rows=99983 width=33) (actual time=1960.110..1960.134 rows=99983 loops=1)\n",
      "                                Buckets: 131072  Batches: 1  Memory Usage: 7371kB\n",
      "                                ->  Seq Scan on x5573b404d543101dd839fb3af497bf61  (cost=0.00..1933.83 rows=99983 width=33) (actual time=0.028..962.319 rows=99983 loops=1)\n",
      "                    ->  Hash  (cost=1933.82..1933.82 rows=99982 width=33) (actual time=1870.063..1870.097 rows=99982 loops=1)\n",
      "                          Buckets: 131072  Batches: 1  Memory Usage: 7371kB\n",
      "                          ->  Seq Scan on x22e1a6e2dd32fddb57fa47642c3460ff  (cost=0.00..1933.82 rows=99982 width=33) (actual time=0.040..915.258 rows=99982 loops=1)\n",
      "              ->  Hash  (cost=1933.86..1933.86 rows=99986 width=33) (actual time=1935.755..1935.780 rows=99986 loops=1)\n",
      "                    Buckets: 131072  Batches: 1  Memory Usage: 7371kB\n",
      "                    ->  Seq Scan on xa77df7638f260964ecd150ea4bf2dda4  (cost=0.00..1933.86 rows=99986 width=33) (actual time=0.034..952.285 rows=99986 loops=1)\n",
      "        ->  Hash  (cost=1933.85..1933.85 rows=99985 width=33) (actual time=2035.179..2035.212 rows=99985 loops=1)\n",
      "              Buckets: 131072  Batches: 1  Memory Usage: 7371kB\n",
      "              ->  Seq Scan on xd42cc81f0d4bdcecfcba23513c65dd6f  (cost=0.00..1933.85 rows=99985 width=33) (actual time=0.029..997.660 rows=99985 loops=1)\n",
      "  ->  Hash  (cost=24567.42..24567.42 rows=97017 width=34) (actual time=20432.951..20433.368 rows=93740 loops=1)\n",
      "        Buckets: 131072  Batches: 1  Memory Usage: 7066kB\n",
      "        ->  Hash Join  (cost=15886.88..24567.42 rows=97017 width=34) (actual time=9455.471..19509.623 rows=93740 loops=1)\n",
      "              Hash Cond: (x5573b404d543101dd839fb3af497bf61_1.subscriber = xd42cc81f0d4bdcecfcba23513c65dd6f_1.subscriber)\n",
      "              ->  Hash Join  (cost=12709.47..20054.19 rows=97505 width=165) (actual time=7558.221..15830.928 rows=94782 loops=1)\n",
      "                    Hash Cond: (x5573b404d543101dd839fb3af497bf61_1.subscriber = xa77df7638f260964ecd150ea4bf2dda4_1.subscriber)\n",
      "                    ->  Hash Join  (cost=9532.03..15534.21 rows=97996 width=132) (actual time=5691.531..12161.346 rows=95867 loops=1)\n",
      "                          Hash Cond: (x5573b404d543101dd839fb3af497bf61_1.subscriber = x22e1a6e2dd32fddb57fa47642c3460ff_1.subscriber)\n",
      "                          ->  Hash Join  (cost=6354.69..11007.58 rows=98489 width=99) (actual time=3755.137..8401.731 rows=96878 loops=1)\n",
      "                                Hash Cond: (xc569af3ede1d4e394fdefb6c742ed587_1.subscriber = x5573b404d543101dd839fb3af497bf61_1.subscriber)\n",
      "                                ->  Hash Join  (cost=3177.32..6474.14 rows=98984 width=66) (actual time=1863.541..4665.974 rows=97808 loops=1)\n",
      "                                      Hash Cond: (xb06ca27f33181417112b609b3ff26546_1.subscriber = xc569af3ede1d4e394fdefb6c742ed587_1.subscriber)\n",
      "                                      ->  Seq Scan on xb06ca27f33181417112b609b3ff26546 xb06ca27f33181417112b609b3ff26546_1  (cost=0.00..1933.89 rows=99489 width=33) (actual time=0.019..936.702 rows=98880 loops=1)\n",
      "                                            Filter: (COALESCE(pcod) IS NOT NULL)\n",
      "                                            Rows Removed by Filter: 1109\n",
      "                                      ->  Hash  (cost=1933.81..1933.81 rows=99481 width=33) (actual time=1862.952..1862.976 rows=98916 loops=1)\n",
      "                                            Buckets: 131072  Batches: 1  Memory Usage: 7303kB\n",
      "                                            ->  Seq Scan on xc569af3ede1d4e394fdefb6c742ed587 xc569af3ede1d4e394fdefb6c742ed587_1  (cost=0.00..1933.81 rows=99481 width=33) (actual time=0.120..917.604 rows=98916 loops=1)\n",
      "                                                  Filter: (COALESCE(pcod) IS NOT NULL)\n",
      "                                                  Rows Removed by Filter: 1065\n",
      "                                ->  Hash  (cost=1933.83..1933.83 rows=99483 width=33) (actual time=1890.995..1891.019 rows=99041 loops=1)\n",
      "                                      Buckets: 131072  Batches: 1  Memory Usage: 7311kB\n",
      "                                      ->  Seq Scan on x5573b404d543101dd839fb3af497bf61 x5573b404d543101dd839fb3af497bf61_1  (cost=0.00..1933.83 rows=99483 width=33) (actual time=0.026..928.223 rows=99041 loops=1)\n",
      "                                            Filter: (COALESCE(pcod) IS NOT NULL)\n",
      "                                            Rows Removed by Filter: 942\n",
      "                          ->  Hash  (cost=1933.82..1933.82 rows=99482 width=33) (actual time=1935.841..1935.866 rows=98968 loops=1)\n",
      "                                Buckets: 131072  Batches: 1  Memory Usage: 7307kB\n",
      "                                ->  Seq Scan on x22e1a6e2dd32fddb57fa47642c3460ff x22e1a6e2dd32fddb57fa47642c3460ff_1  (cost=0.00..1933.82 rows=99482 width=33) (actual time=0.025..951.029 rows=98968 loops=1)\n",
      "                                      Filter: (COALESCE(pcod) IS NOT NULL)\n",
      "                                      Rows Removed by Filter: 1014\n",
      "                    ->  Hash  (cost=1933.86..1933.86 rows=99486 width=33) (actual time=1866.103..1866.239 rows=98868 loops=1)\n",
      "                          Buckets: 131072  Batches: 1  Memory Usage: 7300kB\n",
      "                          ->  Seq Scan on xa77df7638f260964ecd150ea4bf2dda4 xa77df7638f260964ecd150ea4bf2dda4_1  (cost=0.00..1933.86 rows=99486 width=33) (actual time=0.023..917.255 rows=98868 loops=1)\n",
      "                                Filter: (COALESCE(pcod) IS NOT NULL)\n",
      "                                Rows Removed by Filter: 1118\n",
      "              ->  Hash  (cost=1933.85..1933.85 rows=99485 width=33) (actual time=1896.679..1896.703 rows=98899 loops=1)\n",
      "                    Buckets: 131072  Batches: 1  Memory Usage: 7302kB\n",
      "                    ->  Seq Scan on xd42cc81f0d4bdcecfcba23513c65dd6f xd42cc81f0d4bdcecfcba23513c65dd6f_1  (cost=0.00..1933.85 rows=99485 width=33) (actual time=0.022..934.782 rows=98899 loops=1)\n",
      "                          Filter: (COALESCE(pcod) IS NOT NULL)\n",
      "                          Rows Removed by Filter: 1086\n",
      "Planning Time: 47.785 ms\n",
      "Execution Time: 43633.922 ms\n"
     ]
    }
   ],
   "source": [
    "print(explain_2[\"INNER JOIN\"])"
   ]
  },
  {
   "cell_type": "markdown",
   "metadata": {},
   "source": [
    "With 100000 subscribers (as with 15000 subscribers), the first approach (group by subscriber; count) is most efficient. \"INNER JOIN\" is more efficient than \"INTERSECT\" or \"INTERSECT ALL\" for the second approach."
   ]
  },
  {
   "cell_type": "markdown",
   "metadata": {},
   "source": [
    "### Experiment with options for the full MobilityClassification query"
   ]
  },
  {
   "cell_type": "code",
   "execution_count": 40,
   "metadata": {},
   "outputs": [],
   "source": [
    "stay_length_threshold = 3\n",
    "\n",
    "long_term_mobility = f\"\"\"\n",
    "SELECT subscriber, max(stay_length) AS longest_stay\n",
    "FROM (\n",
    "    SELECT subscriber, count(*) AS stay_length\n",
    "    FROM (\n",
    "        SELECT\n",
    "            subscriber,\n",
    "            {loc_cols_string},\n",
    "            ordinal - dense_rank() OVER (\n",
    "                PARTITION BY subscriber, {loc_cols_string}\n",
    "                ORDER BY ordinal\n",
    "            ) AS stay_id\n",
    "        FROM ({locations_union}) locations_union\n",
    "    ) locations_with_stay_id\n",
    "    GROUP BY subscriber, {loc_cols_string}, stay_id\n",
    ") stay_lengths\n",
    "GROUP BY subscriber\n",
    "\"\"\"\n",
    "\n",
    "long_term_activity_1_using_cte = f\"\"\"\n",
    "SELECT\n",
    "    subscriber,\n",
    "    count(*) < {len(majority_locations)} AS sometimes_inactive,\n",
    "    count(coalesce({loc_cols_string})) < {len(majority_locations)} AS sometimes_unlocatable\n",
    "FROM locations_union\n",
    "GROUP BY subscriber\n",
    "\"\"\"\n",
    "\n",
    "long_term_mobility_using_cte = f\"\"\"\n",
    "SELECT subscriber, max(stay_length) AS longest_stay\n",
    "FROM (\n",
    "    SELECT subscriber, count(*) AS stay_length\n",
    "    FROM (\n",
    "        SELECT\n",
    "            subscriber,\n",
    "            {loc_cols_string},\n",
    "            ordinal - dense_rank() OVER (\n",
    "                PARTITION BY subscriber, {loc_cols_string}\n",
    "                ORDER BY ordinal\n",
    "            ) AS stay_id\n",
    "        FROM locations_union\n",
    "    ) locations_with_stay_id\n",
    "    GROUP BY subscriber, {loc_cols_string}, stay_id\n",
    ") stay_lengths\n",
    "GROUP BY subscriber\n",
    "\"\"\"\n",
    "\n",
    "mobility_classification_1 = CustomQuery(\n",
    "    f\"\"\"\n",
    "    SELECT\n",
    "        subscriber,\n",
    "        CASE\n",
    "            WHEN coalesce({loc_cols_string}) IS NULL THEN 'unlocatable'\n",
    "            WHEN sometimes_inactive THEN 'sometimes_inactive'\n",
    "            WHEN sometimes_unlocatable THEN 'sometimes_unlocatable'\n",
    "            WHEN longest_stay < {stay_length_threshold} THEN 'highly_mobile'\n",
    "            ELSE 'stable'\n",
    "        END AS value\n",
    "    FROM ({majority_locations[-1].get_query()}) AS most_recent_period\n",
    "    LEFT JOIN ({long_term_activity_1.get_query()}) AS long_term_activity\n",
    "    USING (subscriber)\n",
    "    LEFT JOIN ({long_term_mobility}) AS long_term_mobility\n",
    "    USING (subscriber)\n",
    "    \"\"\",\n",
    "    column_names=[\"subscriber\", \"value\"],\n",
    ")\n",
    "\n",
    "mobility_classification_1_cte = CustomQuery(\n",
    "    f\"\"\"\n",
    "    WITH locations_union AS ({locations_union})\n",
    "    SELECT\n",
    "        subscriber,\n",
    "        CASE\n",
    "            WHEN coalesce({loc_cols_string}) IS NULL THEN 'unlocatable'\n",
    "            WHEN sometimes_inactive THEN 'sometimes_inactive'\n",
    "            WHEN sometimes_unlocatable THEN 'sometimes_unlocatable'\n",
    "            WHEN longest_stay < {stay_length_threshold} THEN 'highly_mobile'\n",
    "            ELSE 'stable'\n",
    "        END AS value\n",
    "    FROM ({majority_locations[-1].get_query()}) AS most_recent_period\n",
    "    LEFT JOIN ({long_term_activity_1_using_cte}) AS long_term_activity\n",
    "    USING (subscriber)\n",
    "    LEFT JOIN ({long_term_mobility_using_cte}) AS long_term_mobility\n",
    "    USING (subscriber)\n",
    "    \"\"\",\n",
    "    column_names=[\"subscriber\", \"value\"],\n",
    ")\n",
    "    \n",
    "mobility_classification_2 = CustomQuery(\n",
    "    f\"\"\"\n",
    "    SELECT\n",
    "        subscriber,\n",
    "        CASE\n",
    "            WHEN coalesce({loc_cols_string}) IS NULL THEN 'unlocatable'\n",
    "            WHEN NOT coalesce(always_active, FALSE) THEN 'sometimes_inactive'\n",
    "            WHEN NOT coalesce(always_locatable, FALSE) THEN 'sometimes_unlocatable'\n",
    "            WHEN longest_stay < {stay_length_threshold} THEN 'highly_mobile'\n",
    "            ELSE 'stable'\n",
    "        END AS value\n",
    "    FROM ({majority_locations[-1].get_query()}) AS most_recent_period\n",
    "    LEFT JOIN ({long_term_activity_2['INNER JOIN'].get_query()}) AS alternative_long_term_activity\n",
    "    USING (subscriber)\n",
    "    LEFT JOIN ({long_term_mobility}) AS long_term_mobility\n",
    "    USING (subscriber)\n",
    "    \"\"\",\n",
    "    column_names=[\"subscriber\", \"value\"],\n",
    ")"
   ]
  },
  {
   "cell_type": "code",
   "execution_count": 41,
   "metadata": {},
   "outputs": [],
   "source": [
    "mobility_classification_1_morecte = CustomQuery(\n",
    "    f\"\"\"\n",
    "    WITH locations_union AS ({locations_union}),\n",
    "         most_recent_period AS ({majority_locations[-1].get_query()}),\n",
    "         long_term_activity AS ({long_term_activity_1_using_cte}),\n",
    "         long_term_mobility AS ({long_term_mobility_using_cte})\n",
    "    SELECT\n",
    "        subscriber,\n",
    "        CASE\n",
    "            WHEN coalesce({loc_cols_string}) IS NULL THEN 'unlocatable'\n",
    "            WHEN sometimes_inactive THEN 'sometimes_inactive'\n",
    "            WHEN sometimes_unlocatable THEN 'sometimes_unlocatable'\n",
    "            WHEN longest_stay < {stay_length_threshold} THEN 'highly_mobile'\n",
    "            ELSE 'stable'\n",
    "        END AS value\n",
    "    FROM most_recent_period\n",
    "    LEFT JOIN long_term_activity USING (subscriber)\n",
    "    LEFT JOIN long_term_mobility USING (subscriber)\n",
    "    \"\"\",\n",
    "    column_names=[\"subscriber\", \"value\"],\n",
    ")"
   ]
  },
  {
   "cell_type": "code",
   "execution_count": 42,
   "metadata": {},
   "outputs": [],
   "source": [
    "explain_mobclass_1 = mobility_classification_1.explain(analyse=True)\n",
    "explain_mobclass_1_cte = mobility_classification_1_cte.explain(analyse=True)\n",
    "explain_mobclass_2 = mobility_classification_2.explain(analyse=True)"
   ]
  },
  {
   "cell_type": "code",
   "execution_count": 43,
   "metadata": {},
   "outputs": [],
   "source": [
    "explain_mobclass_1_morecte = mobility_classification_1_morecte.explain(analyse=True)"
   ]
  },
  {
   "cell_type": "code",
   "execution_count": 44,
   "metadata": {
    "collapsed": true,
    "jupyter": {
     "outputs_hidden": true
    },
    "tags": []
   },
   "outputs": [
    {
     "name": "stdout",
     "output_type": "stream",
     "text": [
      "Hash Left Join  (cost=114002.97..116711.72 rows=99985 width=65) (actual time=79246.048..84183.307 rows=99985 loops=1)\n",
      "  Hash Cond: (xd42cc81f0d4bdcecfcba23513c65dd6f.subscriber = long_term_mobility.subscriber)\n",
      "  ->  Hash Left Join  (cost=13324.22..15520.54 rows=99985 width=45) (actual time=20940.835..23882.861 rows=99985 loops=1)\n",
      "        Hash Cond: (xd42cc81f0d4bdcecfcba23513c65dd6f.subscriber = long_term_activity.subscriber)\n",
      "        ->  Seq Scan on xd42cc81f0d4bdcecfcba23513c65dd6f  (cost=0.00..1933.85 rows=99985 width=43) (actual time=0.056..956.117 rows=99985 loops=1)\n",
      "        ->  Hash  (cost=13321.72..13321.72 rows=200 width=35) (actual time=20940.720..20941.009 rows=100000 loops=1)\n",
      "              Buckets: 131072 (originally 1024)  Batches: 1 (originally 1)  Memory Usage: 7567kB\n",
      "              ->  Subquery Scan on long_term_activity  (cost=13267.05..13321.72 rows=200 width=35) (actual time=9158.853..19904.466 rows=100000 loops=1)\n",
      "                    ->  Finalize GroupAggregate  (cost=13267.05..13319.72 rows=200 width=35) (actual time=9158.836..18034.955 rows=100000 loops=1)\n",
      "                          Group Key: xb06ca27f33181417112b609b3ff26546.subscriber\n",
      "                          ->  Gather Merge  (cost=13267.05..13313.72 rows=400 width=49) (actual time=9158.666..14080.902 rows=299990 loops=1)\n",
      "                                Workers Planned: 2\n",
      "                                Workers Launched: 2\n",
      "                                ->  Sort  (cost=12267.03..12267.53 rows=200 width=49) (actual time=9091.965..10027.089 rows=99997 loops=3)\n",
      "                                      Sort Key: xb06ca27f33181417112b609b3ff26546.subscriber\n",
      "                                      Sort Method: quicksort  Memory: 17134kB\n",
      "                                      Worker 0:  Sort Method: quicksort  Memory: 17134kB\n",
      "                                      Worker 1:  Sort Method: quicksort  Memory: 17135kB\n",
      "                                      ->  Partial HashAggregate  (cost=12257.38..12259.38 rows=200 width=49) (actual time=7012.011..7888.765 rows=99997 loops=3)\n",
      "                                            Group Key: xb06ca27f33181417112b609b3ff26546.subscriber\n",
      "                                            ->  Parallel Append  (cost=0.00..10382.67 rows=249962 width=43) (actual time=0.064..5165.548 rows=199969 loops=3)\n",
      "                                                  ->  Parallel Seq Scan on xb06ca27f33181417112b609b3ff26546  (cost=0.00..1522.17 rows=58817 width=43) (actual time=0.056..912.169 rows=99989 loops=1)\n",
      "                                                  ->  Parallel Seq Scan on xa77df7638f260964ecd150ea4bf2dda4  (cost=0.00..1522.15 rows=58815 width=43) (actual time=0.051..930.568 rows=99986 loops=1)\n",
      "                                                  ->  Parallel Seq Scan on xd42cc81f0d4bdcecfcba23513c65dd6f xd42cc81f0d4bdcecfcba23513c65dd6f_1  (cost=0.00..1522.15 rows=58815 width=43) (actual time=0.053..839.282 rows=99985 loops=1)\n",
      "                                                  ->  Parallel Seq Scan on x5573b404d543101dd839fb3af497bf61  (cost=0.00..1522.14 rows=58814 width=43) (actual time=0.021..278.669 rows=33328 loops=3)\n",
      "                                                  ->  Parallel Seq Scan on x22e1a6e2dd32fddb57fa47642c3460ff  (cost=0.00..1522.13 rows=58813 width=43) (actual time=0.008..839.226 rows=99982 loops=1)\n",
      "                                                  ->  Parallel Seq Scan on xc569af3ede1d4e394fdefb6c742ed587  (cost=0.00..1522.12 rows=58812 width=43) (actual time=0.026..901.875 rows=99981 loops=1)\n",
      "  ->  Hash  (cost=100676.24..100676.24 rows=200 width=41) (actual time=58305.139..58305.336 rows=100000 loops=1)\n",
      "        Buckets: 131072 (originally 1024)  Batches: 1 (originally 1)  Memory Usage: 8153kB\n",
      "        ->  Subquery Scan on long_term_mobility  (cost=100672.24..100676.24 rows=200 width=41) (actual time=54376.184..57273.680 rows=100000 loops=1)\n",
      "              ->  HashAggregate  (cost=100672.24..100674.24 rows=200 width=41) (actual time=54376.159..55390.182 rows=100000 loops=1)\n",
      "                    Group Key: x5573b404d543101dd839fb3af497bf61_1.subscriber\n",
      "                    ->  HashAggregate  (cost=99172.47..99772.38 rows=59991 width=59) (actual time=48007.657..51155.390 rows=276601 loops=1)\n",
      "                          Group Key: x5573b404d543101dd839fb3af497bf61_1.subscriber, x5573b404d543101dd839fb3af497bf61_1.pcod, ((0) - dense_rank() OVER (?))\n",
      "                          ->  WindowAgg  (cost=72176.70..87174.35 rows=599906 width=55) (actual time=23725.589..41647.885 rows=599906 loops=1)\n",
      "                                ->  Sort  (cost=72176.70..73676.46 rows=599906 width=47) (actual time=23725.529..29157.623 rows=599906 loops=1)\n",
      "                                      Sort Key: x5573b404d543101dd839fb3af497bf61_1.subscriber, x5573b404d543101dd839fb3af497bf61_1.pcod, (0)\n",
      "                                      Sort Method: quicksort  Memory: 61992kB\n",
      "                                      ->  Append  (cost=0.00..14602.59 rows=599906 width=47) (actual time=0.063..16323.826 rows=599906 loops=1)\n",
      "                                            ->  Seq Scan on x5573b404d543101dd839fb3af497bf61 x5573b404d543101dd839fb3af497bf61_1  (cost=0.00..1933.83 rows=99983 width=47) (actual time=0.024..945.290 rows=99983 loops=1)\n",
      "                                            ->  Seq Scan on xc569af3ede1d4e394fdefb6c742ed587 xc569af3ede1d4e394fdefb6c742ed587_1  (cost=0.00..1933.81 rows=99981 width=47) (actual time=0.125..940.641 rows=99981 loops=1)\n",
      "                                            ->  Seq Scan on x22e1a6e2dd32fddb57fa47642c3460ff x22e1a6e2dd32fddb57fa47642c3460ff_1  (cost=0.00..1933.82 rows=99982 width=47) (actual time=0.032..912.850 rows=99982 loops=1)\n",
      "                                            ->  Seq Scan on xa77df7638f260964ecd150ea4bf2dda4 xa77df7638f260964ecd150ea4bf2dda4_1  (cost=0.00..1933.86 rows=99986 width=47) (actual time=0.034..931.034 rows=99986 loops=1)\n",
      "                                            ->  Seq Scan on xb06ca27f33181417112b609b3ff26546 xb06ca27f33181417112b609b3ff26546_1  (cost=0.00..1933.89 rows=99989 width=47) (actual time=0.032..919.311 rows=99989 loops=1)\n",
      "                                            ->  Seq Scan on xd42cc81f0d4bdcecfcba23513c65dd6f xd42cc81f0d4bdcecfcba23513c65dd6f_2  (cost=0.00..1933.85 rows=99985 width=47) (actual time=0.041..977.842 rows=99985 loops=1)\n",
      "Planning Time: 46.009 ms\n",
      "JIT:\n",
      "  Functions: 61\n",
      "  Options: Inlining false, Optimization false, Expressions true, Deforming true\n",
      "  Timing: Generation 89.524 ms, Inlining 0.000 ms, Optimization 24.172 ms, Emission 76.382 ms, Total 190.078 ms\n",
      "Execution Time: 85239.325 ms\n"
     ]
    }
   ],
   "source": [
    "print(explain_mobclass_1)"
   ]
  },
  {
   "cell_type": "code",
   "execution_count": 45,
   "metadata": {
    "collapsed": true,
    "jupyter": {
     "outputs_hidden": true
    },
    "tags": []
   },
   "outputs": [
    {
     "name": "stdout",
     "output_type": "stream",
     "text": [
      "Hash Left Join  (cost=129181.78..131890.54 rows=99985 width=65) (actual time=86556.478..91536.524 rows=99985 loops=1)\n",
      "  Hash Cond: (xd42cc81f0d4bdcecfcba23513c65dd6f.subscriber = long_term_mobility.subscriber)\n",
      "  CTE locations_union\n",
      "    ->  Append  (cost=0.00..14602.59 rows=599906 width=47) (actual time=133.262..17063.626 rows=599906 loops=1)\n",
      "          ->  Seq Scan on x5573b404d543101dd839fb3af497bf61  (cost=0.00..1933.83 rows=99983 width=47) (actual time=133.242..1082.219 rows=99983 loops=1)\n",
      "          ->  Seq Scan on xc569af3ede1d4e394fdefb6c742ed587  (cost=0.00..1933.81 rows=99981 width=47) (actual time=0.034..954.042 rows=99981 loops=1)\n",
      "          ->  Seq Scan on x22e1a6e2dd32fddb57fa47642c3460ff  (cost=0.00..1933.82 rows=99982 width=47) (actual time=0.033..968.393 rows=99982 loops=1)\n",
      "          ->  Seq Scan on xa77df7638f260964ecd150ea4bf2dda4  (cost=0.00..1933.86 rows=99986 width=47) (actual time=0.039..1015.119 rows=99986 loops=1)\n",
      "          ->  Seq Scan on xb06ca27f33181417112b609b3ff26546  (cost=0.00..1933.89 rows=99989 width=47) (actual time=0.039..1013.628 rows=99989 loops=1)\n",
      "          ->  Seq Scan on xd42cc81f0d4bdcecfcba23513c65dd6f xd42cc81f0d4bdcecfcba23513c65dd6f_1  (cost=0.00..1933.85 rows=99985 width=47) (actual time=0.044..962.497 rows=99985 loops=1)\n",
      "  ->  Hash Left Join  (cost=16504.92..18701.24 rows=99985 width=45) (actual time=39157.401..42118.369 rows=99985 loops=1)\n",
      "        Hash Cond: (xd42cc81f0d4bdcecfcba23513c65dd6f.subscriber = long_term_activity.subscriber)\n",
      "        ->  Seq Scan on xd42cc81f0d4bdcecfcba23513c65dd6f  (cost=0.00..1933.85 rows=99985 width=43) (actual time=0.031..948.704 rows=99985 loops=1)\n",
      "        ->  Hash  (cost=16502.42..16502.42 rows=200 width=34) (actual time=39156.558..39156.613 rows=100000 loops=1)\n",
      "              Buckets: 131072 (originally 1024)  Batches: 1 (originally 1)  Memory Usage: 7567kB\n",
      "              ->  Subquery Scan on long_term_activity  (cost=16497.42..16502.42 rows=200 width=34) (actual time=35364.720..38161.980 rows=100000 loops=1)\n",
      "                    ->  HashAggregate  (cost=16497.42..16500.42 rows=200 width=34) (actual time=35364.698..36345.154 rows=100000 loops=1)\n",
      "                          Group Key: locations_union.subscriber\n",
      "                          ->  CTE Scan on locations_union  (cost=0.00..11998.12 rows=599906 width=64) (actual time=133.293..28935.547 rows=599906 loops=1)\n",
      "  ->  Hash  (cost=98071.77..98071.77 rows=200 width=40) (actual time=47398.978..47399.080 rows=100000 loops=1)\n",
      "        Buckets: 131072 (originally 1024)  Batches: 1 (originally 1)  Memory Usage: 8153kB\n",
      "        ->  Subquery Scan on long_term_mobility  (cost=98067.77..98071.77 rows=200 width=40) (actual time=43199.657..46332.586 rows=100000 loops=1)\n",
      "              ->  HashAggregate  (cost=98067.77..98069.77 rows=200 width=40) (actual time=43199.637..44355.798 rows=100000 loops=1)\n",
      "                    Group Key: locations_union_1.subscriber\n",
      "                    ->  HashAggregate  (cost=96568.00..97167.91 rows=59991 width=80) (actual time=37468.267..40310.212 rows=276601 loops=1)\n",
      "                          Group Key: locations_union_1.subscriber, locations_union_1.pcod, (locations_union_1.ordinal - dense_rank() OVER (?))\n",
      "                          ->  WindowAgg  (cost=69572.23..84569.88 rows=599906 width=76) (actual time=13080.115..31133.723 rows=599906 loops=1)\n",
      "                                ->  Sort  (cost=69572.23..71071.99 rows=599906 width=68) (actual time=13080.051..18582.075 rows=599906 loops=1)\n",
      "                                      Sort Key: locations_union_1.subscriber, locations_union_1.pcod, locations_union_1.ordinal\n",
      "                                      Sort Method: quicksort  Memory: 61992kB\n",
      "                                      ->  CTE Scan on locations_union locations_union_1  (cost=0.00..11998.12 rows=599906 width=68) (actual time=0.010..5632.306 rows=599906 loops=1)\n",
      "Planning Time: 1.986 ms\n",
      "JIT:\n",
      "  Functions: 50\n",
      "  Options: Inlining false, Optimization false, Expressions true, Deforming true\n",
      "  Timing: Generation 39.673 ms, Inlining 0.000 ms, Optimization 28.161 ms, Emission 98.198 ms, Total 166.031 ms\n",
      "Execution Time: 92587.039 ms\n"
     ]
    }
   ],
   "source": [
    "print(explain_mobclass_1_cte)"
   ]
  },
  {
   "cell_type": "code",
   "execution_count": 46,
   "metadata": {
    "collapsed": true,
    "jupyter": {
     "outputs_hidden": true
    },
    "tags": []
   },
   "outputs": [
    {
     "name": "stdout",
     "output_type": "stream",
     "text": [
      "Hash Left Join  (cost=145560.67..157600.47 rows=99985 width=65) (actual time=92275.066..108862.491 rows=99985 loops=1)\n",
      "  Hash Cond: (xd42cc81f0d4bdcecfcba23513c65dd6f.subscriber = long_term_mobility.subscriber)\n",
      "  ->  Hash Right Join  (cost=44881.93..56409.29 rows=99985 width=45) (actual time=33453.105..48061.353 rows=99985 loops=1)\n",
      "        Hash Cond: (x5573b404d543101dd839fb3af497bf61.subscriber = xd42cc81f0d4bdcecfcba23513c65dd6f.subscriber)\n",
      "        ->  Hash Left Join  (cost=41698.26..51850.90 rows=99980 width=35) (actual time=31370.347..44026.401 rows=99928 loops=1)\n",
      "              Hash Cond: (x5573b404d543101dd839fb3af497bf61.subscriber = x5573b404d543101dd839fb3af497bf61_1.subscriber)\n",
      "              ->  Hash Join  (cost=15918.13..24725.71 rows=99980 width=33) (actual time=10107.734..20816.059 rows=99928 loops=1)\n",
      "                    Hash Cond: (x5573b404d543101dd839fb3af497bf61.subscriber = xd42cc81f0d4bdcecfcba23513c65dd6f_1.subscriber)\n",
      "                    ->  Hash Join  (cost=12734.47..20167.32 rows=99980 width=165) (actual time=8140.711..16903.885 rows=99938 loops=1)\n",
      "                          Hash Cond: (x5573b404d543101dd839fb3af497bf61.subscriber = xa77df7638f260964ecd150ea4bf2dda4.subscriber)\n",
      "                          ->  Hash Join  (cost=9550.78..15608.91 rows=99980 width=132) (actual time=5942.948..12763.910 rows=99944 loops=1)\n",
      "                                Hash Cond: (x5573b404d543101dd839fb3af497bf61.subscriber = x22e1a6e2dd32fddb57fa47642c3460ff.subscriber)\n",
      "                                ->  Hash Join  (cost=6367.19..11050.59 rows=99981 width=99) (actual time=3946.567..8817.282 rows=99957 loops=1)\n",
      "                                      Hash Cond: (xc569af3ede1d4e394fdefb6c742ed587.subscriber = x5573b404d543101dd839fb3af497bf61.subscriber)\n",
      "                                      ->  Hash Join  (cost=3183.57..6492.23 rows=99981 width=66) (actual time=1941.196..4863.858 rows=99971 loops=1)\n",
      "                                            Hash Cond: (xb06ca27f33181417112b609b3ff26546.subscriber = xc569af3ede1d4e394fdefb6c742ed587.subscriber)\n",
      "                                            ->  Seq Scan on xb06ca27f33181417112b609b3ff26546  (cost=0.00..1933.89 rows=99989 width=33) (actual time=0.023..951.021 rows=99989 loops=1)\n",
      "                                            ->  Hash  (cost=1933.81..1933.81 rows=99981 width=33) (actual time=1940.639..1940.673 rows=99981 loops=1)\n",
      "                                                  Buckets: 131072  Batches: 1  Memory Usage: 7371kB\n",
      "                                                  ->  Seq Scan on xc569af3ede1d4e394fdefb6c742ed587  (cost=0.00..1933.81 rows=99981 width=33) (actual time=0.032..946.460 rows=99981 loops=1)\n",
      "                                      ->  Hash  (cost=1933.83..1933.83 rows=99983 width=33) (actual time=2004.579..2004.603 rows=99983 loops=1)\n",
      "                                            Buckets: 131072  Batches: 1  Memory Usage: 7371kB\n",
      "                                            ->  Seq Scan on x5573b404d543101dd839fb3af497bf61  (cost=0.00..1933.83 rows=99983 width=33) (actual time=0.040..977.008 rows=99983 loops=1)\n",
      "                                ->  Hash  (cost=1933.82..1933.82 rows=99982 width=33) (actual time=1996.213..1996.249 rows=99982 loops=1)\n",
      "                                      Buckets: 131072  Batches: 1  Memory Usage: 7371kB\n",
      "                                      ->  Seq Scan on x22e1a6e2dd32fddb57fa47642c3460ff  (cost=0.00..1933.82 rows=99982 width=33) (actual time=0.042..974.637 rows=99982 loops=1)\n",
      "                          ->  Hash  (cost=1933.86..1933.86 rows=99986 width=33) (actual time=2197.638..2197.663 rows=99986 loops=1)\n",
      "                                Buckets: 131072  Batches: 1  Memory Usage: 7371kB\n",
      "                                ->  Seq Scan on xa77df7638f260964ecd150ea4bf2dda4  (cost=0.00..1933.86 rows=99986 width=33) (actual time=0.034..1076.483 rows=99986 loops=1)\n",
      "                    ->  Hash  (cost=1933.85..1933.85 rows=99985 width=33) (actual time=1966.894..1966.918 rows=99985 loops=1)\n",
      "                          Buckets: 131072  Batches: 1  Memory Usage: 7371kB\n",
      "                          ->  Seq Scan on xd42cc81f0d4bdcecfcba23513c65dd6f xd42cc81f0d4bdcecfcba23513c65dd6f_1  (cost=0.00..1933.85 rows=99985 width=33) (actual time=0.036..966.417 rows=99985 loops=1)\n",
      "              ->  Hash  (cost=24567.42..24567.42 rows=97017 width=34) (actual time=21262.052..21262.453 rows=93740 loops=1)\n",
      "                    Buckets: 131072  Batches: 1  Memory Usage: 7066kB\n",
      "                    ->  Hash Join  (cost=15886.88..24567.42 rows=97017 width=34) (actual time=10011.572..20303.916 rows=93740 loops=1)\n",
      "                          Hash Cond: (x5573b404d543101dd839fb3af497bf61_1.subscriber = xd42cc81f0d4bdcecfcba23513c65dd6f_2.subscriber)\n",
      "                          ->  Hash Join  (cost=12709.47..20054.19 rows=97505 width=165) (actual time=8041.093..16509.005 rows=94782 loops=1)\n",
      "                                Hash Cond: (x5573b404d543101dd839fb3af497bf61_1.subscriber = xa77df7638f260964ecd150ea4bf2dda4_1.subscriber)\n",
      "                                ->  Hash Join  (cost=9532.03..15534.21 rows=97996 width=132) (actual time=6106.924..12719.275 rows=95867 loops=1)\n",
      "                                      Hash Cond: (x5573b404d543101dd839fb3af497bf61_1.subscriber = x22e1a6e2dd32fddb57fa47642c3460ff_1.subscriber)\n",
      "                                      ->  Hash Join  (cost=6354.69..11007.58 rows=98489 width=99) (actual time=3955.380..8703.204 rows=96878 loops=1)\n",
      "                                            Hash Cond: (xc569af3ede1d4e394fdefb6c742ed587_1.subscriber = x5573b404d543101dd839fb3af497bf61_1.subscriber)\n",
      "                                            ->  Hash Join  (cost=3177.32..6474.14 rows=98984 width=66) (actual time=1961.094..4811.960 rows=97808 loops=1)\n",
      "                                                  Hash Cond: (xb06ca27f33181417112b609b3ff26546_1.subscriber = xc569af3ede1d4e394fdefb6c742ed587_1.subscriber)\n",
      "                                                  ->  Seq Scan on xb06ca27f33181417112b609b3ff26546 xb06ca27f33181417112b609b3ff26546_1  (cost=0.00..1933.89 rows=99489 width=33) (actual time=0.036..942.842 rows=98880 loops=1)\n",
      "                                                        Filter: (COALESCE(pcod) IS NOT NULL)\n",
      "                                                        Rows Removed by Filter: 1109\n",
      "                                                  ->  Hash  (cost=1933.81..1933.81 rows=99481 width=33) (actual time=1960.542..1960.579 rows=98916 loops=1)\n",
      "                                                        Buckets: 131072  Batches: 1  Memory Usage: 7303kB\n",
      "                                                        ->  Seq Scan on xc569af3ede1d4e394fdefb6c742ed587 xc569af3ede1d4e394fdefb6c742ed587_1  (cost=0.00..1933.81 rows=99481 width=33) (actual time=0.025..956.363 rows=98916 loops=1)\n",
      "                                                              Filter: (COALESCE(pcod) IS NOT NULL)\n",
      "                                                              Rows Removed by Filter: 1065\n",
      "                                            ->  Hash  (cost=1933.83..1933.83 rows=99483 width=33) (actual time=1993.779..1993.804 rows=99041 loops=1)\n",
      "                                                  Buckets: 131072  Batches: 1  Memory Usage: 7311kB\n",
      "                                                  ->  Seq Scan on x5573b404d543101dd839fb3af497bf61 x5573b404d543101dd839fb3af497bf61_1  (cost=0.00..1933.83 rows=99483 width=33) (actual time=0.036..970.562 rows=99041 loops=1)\n",
      "                                                        Filter: (COALESCE(pcod) IS NOT NULL)\n",
      "                                                        Rows Removed by Filter: 942\n",
      "                                      ->  Hash  (cost=1933.82..1933.82 rows=99482 width=33) (actual time=2151.036..2151.060 rows=98968 loops=1)\n",
      "                                            Buckets: 131072  Batches: 1  Memory Usage: 7307kB\n",
      "                                            ->  Seq Scan on x22e1a6e2dd32fddb57fa47642c3460ff x22e1a6e2dd32fddb57fa47642c3460ff_1  (cost=0.00..1933.82 rows=99482 width=33) (actual time=0.105..1034.104 rows=98968 loops=1)\n",
      "                                                  Filter: (COALESCE(pcod) IS NOT NULL)\n",
      "                                                  Rows Removed by Filter: 1014\n",
      "                                ->  Hash  (cost=1933.86..1933.86 rows=99486 width=33) (actual time=1933.680..1933.806 rows=98868 loops=1)\n",
      "                                      Buckets: 131072  Batches: 1  Memory Usage: 7300kB\n",
      "                                      ->  Seq Scan on xa77df7638f260964ecd150ea4bf2dda4 xa77df7638f260964ecd150ea4bf2dda4_1  (cost=0.00..1933.86 rows=99486 width=33) (actual time=0.037..940.528 rows=98868 loops=1)\n",
      "                                            Filter: (COALESCE(pcod) IS NOT NULL)\n",
      "                                            Rows Removed by Filter: 1118\n",
      "                          ->  Hash  (cost=1933.85..1933.85 rows=99485 width=33) (actual time=1969.912..1969.936 rows=98899 loops=1)\n",
      "                                Buckets: 131072  Batches: 1  Memory Usage: 7302kB\n",
      "                                ->  Seq Scan on xd42cc81f0d4bdcecfcba23513c65dd6f xd42cc81f0d4bdcecfcba23513c65dd6f_2  (cost=0.00..1933.85 rows=99485 width=33) (actual time=0.029..961.105 rows=98899 loops=1)\n",
      "                                      Filter: (COALESCE(pcod) IS NOT NULL)\n",
      "                                      Rows Removed by Filter: 1086\n",
      "        ->  Hash  (cost=1933.85..1933.85 rows=99985 width=43) (actual time=2082.640..2082.674 rows=99985 loops=1)\n",
      "              Buckets: 131072  Batches: 1  Memory Usage: 8337kB\n",
      "              ->  Seq Scan on xd42cc81f0d4bdcecfcba23513c65dd6f  (cost=0.00..1933.85 rows=99985 width=43) (actual time=0.022..967.273 rows=99985 loops=1)\n",
      "  ->  Hash  (cost=100676.24..100676.24 rows=200 width=41) (actual time=58821.834..58822.081 rows=100000 loops=1)\n",
      "        Buckets: 131072 (originally 1024)  Batches: 1 (originally 1)  Memory Usage: 8153kB\n",
      "        ->  Subquery Scan on long_term_mobility  (cost=100672.24..100676.24 rows=200 width=41) (actual time=54978.581..57817.920 rows=100000 loops=1)\n",
      "              ->  HashAggregate  (cost=100672.24..100674.24 rows=200 width=41) (actual time=54978.563..55970.440 rows=100000 loops=1)\n",
      "                    Group Key: x5573b404d543101dd839fb3af497bf61_2.subscriber\n",
      "                    ->  HashAggregate  (cost=99172.47..99772.38 rows=59991 width=59) (actual time=49288.492..52078.682 rows=276601 loops=1)\n",
      "                          Group Key: x5573b404d543101dd839fb3af497bf61_2.subscriber, x5573b404d543101dd839fb3af497bf61_2.pcod, ((0) - dense_rank() OVER (?))\n",
      "                          ->  WindowAgg  (cost=72176.70..87174.35 rows=599906 width=55) (actual time=24487.131..42821.597 rows=599906 loops=1)\n",
      "                                ->  Sort  (cost=72176.70..73676.46 rows=599906 width=47) (actual time=24487.065..30049.280 rows=599906 loops=1)\n",
      "                                      Sort Key: x5573b404d543101dd839fb3af497bf61_2.subscriber, x5573b404d543101dd839fb3af497bf61_2.pcod, (0)\n",
      "                                      Sort Method: quicksort  Memory: 61992kB\n",
      "                                      ->  Append  (cost=0.00..14602.59 rows=599906 width=47) (actual time=1.847..16762.251 rows=599906 loops=1)\n",
      "                                            ->  Seq Scan on x5573b404d543101dd839fb3af497bf61 x5573b404d543101dd839fb3af497bf61_2  (cost=0.00..1933.83 rows=99983 width=47) (actual time=1.827..955.010 rows=99983 loops=1)\n",
      "                                            ->  Seq Scan on xc569af3ede1d4e394fdefb6c742ed587 xc569af3ede1d4e394fdefb6c742ed587_2  (cost=0.00..1933.81 rows=99981 width=47) (actual time=0.039..959.504 rows=99981 loops=1)\n",
      "                                            ->  Seq Scan on x22e1a6e2dd32fddb57fa47642c3460ff x22e1a6e2dd32fddb57fa47642c3460ff_2  (cost=0.00..1933.82 rows=99982 width=47) (actual time=0.036..965.454 rows=99982 loops=1)\n",
      "                                            ->  Seq Scan on xa77df7638f260964ecd150ea4bf2dda4 xa77df7638f260964ecd150ea4bf2dda4_2  (cost=0.00..1933.86 rows=99986 width=47) (actual time=0.034..983.111 rows=99986 loops=1)\n",
      "                                            ->  Seq Scan on xb06ca27f33181417112b609b3ff26546 xb06ca27f33181417112b609b3ff26546_2  (cost=0.00..1933.89 rows=99989 width=47) (actual time=0.038..972.912 rows=99989 loops=1)\n",
      "                                            ->  Seq Scan on xd42cc81f0d4bdcecfcba23513c65dd6f xd42cc81f0d4bdcecfcba23513c65dd6f_3  (cost=0.00..1933.85 rows=99985 width=47) (actual time=0.041..962.995 rows=99985 loops=1)\n",
      "Planning Time: 27.776 ms\n",
      "JIT:\n",
      "  Functions: 142\n",
      "  Options: Inlining false, Optimization false, Expressions true, Deforming true\n",
      "  Timing: Generation 14.578 ms, Inlining 0.000 ms, Optimization 3.468 ms, Emission 94.293 ms, Total 112.338 ms\n",
      "Execution Time: 109837.305 ms\n"
     ]
    }
   ],
   "source": [
    "print(explain_mobclass_2)"
   ]
  },
  {
   "cell_type": "code",
   "execution_count": 47,
   "metadata": {
    "collapsed": true,
    "jupyter": {
     "outputs_hidden": true
    },
    "tags": []
   },
   "outputs": [
    {
     "name": "stdout",
     "output_type": "stream",
     "text": [
      "Hash Left Join  (cost=129181.78..131890.54 rows=99985 width=65) (actual time=83015.694..87783.800 rows=99985 loops=1)\n",
      "  Hash Cond: (xd42cc81f0d4bdcecfcba23513c65dd6f.subscriber = long_term_mobility.subscriber)\n",
      "  CTE locations_union\n",
      "    ->  Append  (cost=0.00..14602.59 rows=599906 width=47) (actual time=55.137..16213.928 rows=599906 loops=1)\n",
      "          ->  Seq Scan on x5573b404d543101dd839fb3af497bf61  (cost=0.00..1933.83 rows=99983 width=47) (actual time=55.116..991.097 rows=99983 loops=1)\n",
      "          ->  Seq Scan on xc569af3ede1d4e394fdefb6c742ed587  (cost=0.00..1933.81 rows=99981 width=47) (actual time=0.033..933.682 rows=99981 loops=1)\n",
      "          ->  Seq Scan on x22e1a6e2dd32fddb57fa47642c3460ff  (cost=0.00..1933.82 rows=99982 width=47) (actual time=0.031..924.716 rows=99982 loops=1)\n",
      "          ->  Seq Scan on xa77df7638f260964ecd150ea4bf2dda4  (cost=0.00..1933.86 rows=99986 width=47) (actual time=0.036..922.035 rows=99986 loops=1)\n",
      "          ->  Seq Scan on xb06ca27f33181417112b609b3ff26546  (cost=0.00..1933.89 rows=99989 width=47) (actual time=0.034..923.315 rows=99989 loops=1)\n",
      "          ->  Seq Scan on xd42cc81f0d4bdcecfcba23513c65dd6f xd42cc81f0d4bdcecfcba23513c65dd6f_1  (cost=0.00..1933.85 rows=99985 width=47) (actual time=0.037..931.262 rows=99985 loops=1)\n",
      "  ->  Hash Left Join  (cost=16504.92..18701.24 rows=99985 width=45) (actual time=37209.537..40052.721 rows=99985 loops=1)\n",
      "        Hash Cond: (xd42cc81f0d4bdcecfcba23513c65dd6f.subscriber = long_term_activity.subscriber)\n",
      "        ->  Seq Scan on xd42cc81f0d4bdcecfcba23513c65dd6f  (cost=0.00..1933.85 rows=99985 width=43) (actual time=0.042..913.346 rows=99985 loops=1)\n",
      "        ->  Hash  (cost=16502.42..16502.42 rows=200 width=34) (actual time=37209.447..37209.504 rows=100000 loops=1)\n",
      "              Buckets: 131072 (originally 1024)  Batches: 1 (originally 1)  Memory Usage: 7567kB\n",
      "              ->  Subquery Scan on long_term_activity  (cost=16497.42..16502.42 rows=200 width=34) (actual time=33516.410..36240.538 rows=100000 loops=1)\n",
      "                    ->  HashAggregate  (cost=16497.42..16500.42 rows=200 width=34) (actual time=33516.391..34474.566 rows=100000 loops=1)\n",
      "                          Group Key: locations_union.subscriber\n",
      "                          ->  CTE Scan on locations_union  (cost=0.00..11998.12 rows=599906 width=64) (actual time=55.163..27382.151 rows=599906 loops=1)\n",
      "  ->  Hash  (cost=98071.77..98071.77 rows=200 width=40) (actual time=45806.094..45806.199 rows=100000 loops=1)\n",
      "        Buckets: 131072 (originally 1024)  Batches: 1 (originally 1)  Memory Usage: 8153kB\n",
      "        ->  Subquery Scan on long_term_mobility  (cost=98067.77..98071.77 rows=200 width=40) (actual time=42073.475..44826.652 rows=100000 loops=1)\n",
      "              ->  HashAggregate  (cost=98067.77..98069.77 rows=200 width=40) (actual time=42073.457..43041.700 rows=100000 loops=1)\n",
      "                    Group Key: locations_union_1.subscriber\n",
      "                    ->  HashAggregate  (cost=96568.00..97167.91 rows=59991 width=80) (actual time=36558.889..39234.190 rows=276601 loops=1)\n",
      "                          Group Key: locations_union_1.subscriber, locations_union_1.pcod, (locations_union_1.ordinal - dense_rank() OVER (?))\n",
      "                          ->  WindowAgg  (cost=69572.23..84569.88 rows=599906 width=76) (actual time=12659.378..30368.579 rows=599906 loops=1)\n",
      "                                ->  Sort  (cost=69572.23..71071.99 rows=599906 width=68) (actual time=12659.303..18014.818 rows=599906 loops=1)\n",
      "                                      Sort Key: locations_union_1.subscriber, locations_union_1.pcod, locations_union_1.ordinal\n",
      "                                      Sort Method: quicksort  Memory: 61992kB\n",
      "                                      ->  CTE Scan on locations_union locations_union_1  (cost=0.00..11998.12 rows=599906 width=68) (actual time=0.009..5493.635 rows=599906 loops=1)\n",
      "Planning Time: 1.389 ms\n",
      "JIT:\n",
      "  Functions: 50\n",
      "  Options: Inlining false, Optimization false, Expressions true, Deforming true\n",
      "  Timing: Generation 7.781 ms, Inlining 0.000 ms, Optimization 3.368 ms, Emission 50.651 ms, Total 61.801 ms\n",
      "Execution Time: 88726.760 ms\n"
     ]
    }
   ],
   "source": [
    "print(explain_mobclass_1_morecte)"
   ]
  },
  {
   "cell_type": "markdown",
   "metadata": {},
   "source": [
    "For a dataset with 15000 subscribers, approach 1 is the most efficient, and using a CTE for the locations union makes essentially no difference. Using CTEs for all sub-parts of the query results in the same query plan as just using one CTE.\n",
    "\n",
    "For a dataset with 100000 subscribers, approach 1 is still the most efficient but the difference between approach 1 and approach 2 is smaller. In this case, using a CTE for the locations union makes the query slightly slower (again, not much difference), and using CTEs for everything gives the same query plan again."
   ]
  },
  {
   "cell_type": "markdown",
   "metadata": {
    "tags": []
   },
   "source": [
    "### Check approaches give the same results"
   ]
  },
  {
   "cell_type": "code",
   "execution_count": 48,
   "metadata": {},
   "outputs": [],
   "source": [
    "result_1 = mobility_classification_1.get_dataframe()\n",
    "result_1_cte = mobility_classification_1_cte.get_dataframe()\n",
    "result_2 = mobility_classification_2.get_dataframe()"
   ]
  },
  {
   "cell_type": "code",
   "execution_count": 49,
   "metadata": {},
   "outputs": [
    {
     "data": {
      "text/html": [
       "<div>\n",
       "<style scoped>\n",
       "    .dataframe tbody tr th:only-of-type {\n",
       "        vertical-align: middle;\n",
       "    }\n",
       "\n",
       "    .dataframe tbody tr th {\n",
       "        vertical-align: top;\n",
       "    }\n",
       "\n",
       "    .dataframe thead th {\n",
       "        text-align: right;\n",
       "    }\n",
       "</style>\n",
       "<table border=\"1\" class=\"dataframe\">\n",
       "  <thead>\n",
       "    <tr style=\"text-align: right;\">\n",
       "      <th></th>\n",
       "      <th>subscriber</th>\n",
       "    </tr>\n",
       "    <tr>\n",
       "      <th>value</th>\n",
       "      <th></th>\n",
       "    </tr>\n",
       "  </thead>\n",
       "  <tbody>\n",
       "    <tr>\n",
       "      <th>highly_mobile</th>\n",
       "      <td>15995</td>\n",
       "    </tr>\n",
       "    <tr>\n",
       "      <th>sometimes_inactive</th>\n",
       "      <td>57</td>\n",
       "    </tr>\n",
       "    <tr>\n",
       "      <th>sometimes_unlocatable</th>\n",
       "      <td>5102</td>\n",
       "    </tr>\n",
       "    <tr>\n",
       "      <th>stable</th>\n",
       "      <td>77745</td>\n",
       "    </tr>\n",
       "    <tr>\n",
       "      <th>unlocatable</th>\n",
       "      <td>1086</td>\n",
       "    </tr>\n",
       "  </tbody>\n",
       "</table>\n",
       "</div>"
      ],
      "text/plain": [
       "                       subscriber\n",
       "value                            \n",
       "highly_mobile               15995\n",
       "sometimes_inactive             57\n",
       "sometimes_unlocatable        5102\n",
       "stable                      77745\n",
       "unlocatable                  1086"
      ]
     },
     "execution_count": 49,
     "metadata": {},
     "output_type": "execute_result"
    }
   ],
   "source": [
    "result_1.groupby(\"value\").count()"
   ]
  },
  {
   "cell_type": "code",
   "execution_count": 50,
   "metadata": {},
   "outputs": [
    {
     "data": {
      "text/html": [
       "<div>\n",
       "<style scoped>\n",
       "    .dataframe tbody tr th:only-of-type {\n",
       "        vertical-align: middle;\n",
       "    }\n",
       "\n",
       "    .dataframe tbody tr th {\n",
       "        vertical-align: top;\n",
       "    }\n",
       "\n",
       "    .dataframe thead th {\n",
       "        text-align: right;\n",
       "    }\n",
       "</style>\n",
       "<table border=\"1\" class=\"dataframe\">\n",
       "  <thead>\n",
       "    <tr style=\"text-align: right;\">\n",
       "      <th></th>\n",
       "      <th>subscriber</th>\n",
       "    </tr>\n",
       "    <tr>\n",
       "      <th>value</th>\n",
       "      <th></th>\n",
       "    </tr>\n",
       "  </thead>\n",
       "  <tbody>\n",
       "    <tr>\n",
       "      <th>highly_mobile</th>\n",
       "      <td>15995</td>\n",
       "    </tr>\n",
       "    <tr>\n",
       "      <th>sometimes_inactive</th>\n",
       "      <td>57</td>\n",
       "    </tr>\n",
       "    <tr>\n",
       "      <th>sometimes_unlocatable</th>\n",
       "      <td>5102</td>\n",
       "    </tr>\n",
       "    <tr>\n",
       "      <th>stable</th>\n",
       "      <td>77745</td>\n",
       "    </tr>\n",
       "    <tr>\n",
       "      <th>unlocatable</th>\n",
       "      <td>1086</td>\n",
       "    </tr>\n",
       "  </tbody>\n",
       "</table>\n",
       "</div>"
      ],
      "text/plain": [
       "                       subscriber\n",
       "value                            \n",
       "highly_mobile               15995\n",
       "sometimes_inactive             57\n",
       "sometimes_unlocatable        5102\n",
       "stable                      77745\n",
       "unlocatable                  1086"
      ]
     },
     "execution_count": 50,
     "metadata": {},
     "output_type": "execute_result"
    }
   ],
   "source": [
    "result_1_cte.groupby(\"value\").count()"
   ]
  },
  {
   "cell_type": "code",
   "execution_count": 51,
   "metadata": {},
   "outputs": [
    {
     "data": {
      "text/html": [
       "<div>\n",
       "<style scoped>\n",
       "    .dataframe tbody tr th:only-of-type {\n",
       "        vertical-align: middle;\n",
       "    }\n",
       "\n",
       "    .dataframe tbody tr th {\n",
       "        vertical-align: top;\n",
       "    }\n",
       "\n",
       "    .dataframe thead th {\n",
       "        text-align: right;\n",
       "    }\n",
       "</style>\n",
       "<table border=\"1\" class=\"dataframe\">\n",
       "  <thead>\n",
       "    <tr style=\"text-align: right;\">\n",
       "      <th></th>\n",
       "      <th>subscriber</th>\n",
       "    </tr>\n",
       "    <tr>\n",
       "      <th>value</th>\n",
       "      <th></th>\n",
       "    </tr>\n",
       "  </thead>\n",
       "  <tbody>\n",
       "    <tr>\n",
       "      <th>highly_mobile</th>\n",
       "      <td>15995</td>\n",
       "    </tr>\n",
       "    <tr>\n",
       "      <th>sometimes_inactive</th>\n",
       "      <td>57</td>\n",
       "    </tr>\n",
       "    <tr>\n",
       "      <th>sometimes_unlocatable</th>\n",
       "      <td>5102</td>\n",
       "    </tr>\n",
       "    <tr>\n",
       "      <th>stable</th>\n",
       "      <td>77745</td>\n",
       "    </tr>\n",
       "    <tr>\n",
       "      <th>unlocatable</th>\n",
       "      <td>1086</td>\n",
       "    </tr>\n",
       "  </tbody>\n",
       "</table>\n",
       "</div>"
      ],
      "text/plain": [
       "                       subscriber\n",
       "value                            \n",
       "highly_mobile               15995\n",
       "sometimes_inactive             57\n",
       "sometimes_unlocatable        5102\n",
       "stable                      77745\n",
       "unlocatable                  1086"
      ]
     },
     "execution_count": 51,
     "metadata": {},
     "output_type": "execute_result"
    }
   ],
   "source": [
    "result_2.groupby(\"value\").count()"
   ]
  },
  {
   "cell_type": "code",
   "execution_count": 52,
   "metadata": {},
   "outputs": [
    {
     "data": {
      "text/plain": [
       "subscriber    99985\n",
       "dtype: int64"
      ]
     },
     "execution_count": 52,
     "metadata": {},
     "output_type": "execute_result"
    }
   ],
   "source": [
    "result_1.groupby(\"value\").count().sum()"
   ]
  },
  {
   "cell_type": "code",
   "execution_count": null,
   "metadata": {},
   "outputs": [],
   "source": []
  }
 ],
 "metadata": {
  "kernelspec": {
   "display_name": "Python 3 (ipykernel)",
   "language": "python",
   "name": "python3"
  },
  "language_info": {
   "codemirror_mode": {
    "name": "ipython",
    "version": 3
   },
   "file_extension": ".py",
   "mimetype": "text/x-python",
   "name": "python",
   "nbconvert_exporter": "python",
   "pygments_lexer": "ipython3",
   "version": "3.9.7"
  },
  "pycharm": {
   "stem_cell": {
    "cell_type": "raw",
    "metadata": {
     "collapsed": false
    },
    "source": []
   }
  }
 },
 "nbformat": 4,
 "nbformat_minor": 4
}
