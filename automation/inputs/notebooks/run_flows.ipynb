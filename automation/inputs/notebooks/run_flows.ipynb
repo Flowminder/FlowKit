{
 "cells": [
  {
   "cell_type": "code",
   "execution_count": null,
   "metadata": {},
   "outputs": [],
   "source": [
    "import os\n",
    "from datetime import datetime, timedelta\n",
    "import scrapbook as sb\n",
    "from flowclient import daily_location, flows, spatial_aggregate, connect, run_query, get_result_by_query_id"
   ]
  },
  {
   "cell_type": "code",
   "execution_count": null,
   "metadata": {
    "tags": [
     "parameters"
    ]
   },
   "outputs": [],
   "source": [
    "# Default parameter values\n",
    "api_url = \"http://localhost:9090\"\n",
    "aggregation_unit = \"admin2\"\n",
    "anchor_date = \"2016-01-03\"\n",
    "date_stencil = [-2, -1, 0]"
   ]
  },
  {
   "cell_type": "code",
   "execution_count": null,
   "metadata": {},
   "outputs": [],
   "source": [
    "dates = [datetime.fromisoformat(anchor_date).date() + timedelta(offset) for offset in date_stencil]"
   ]
  },
  {
   "cell_type": "code",
   "execution_count": null,
   "metadata": {},
   "outputs": [],
   "source": [
    "# Connect to FlowAPI\n",
    "conn = connect(url=api_url, token=os.environ[\"FLOWCLIENT_TOKEN\"])"
   ]
  },
  {
   "cell_type": "code",
   "execution_count": null,
   "metadata": {},
   "outputs": [],
   "source": [
    "# Daily location query specifications\n",
    "locations = [\n",
    "    daily_location(date=date.isoformat(), method=\"last\", aggregation_unit=aggregation_unit)\n",
    "    for date in dates\n",
    "]\n",
    "\n",
    "# Flow specifications\n",
    "flownormal = flows(from_location=locations[0], to_location=locations[1], aggregation_unit=aggregation_unit)\n",
    "flowabnormal = flows(from_location=locations[1], to_location=locations[2], aggregation_unit=aggregation_unit)"
   ]
  },
  {
   "cell_type": "code",
   "execution_count": null,
   "metadata": {},
   "outputs": [],
   "source": [
    "# Run flows\n",
    "res_id_flownormal = run_query(connection=conn, query=flownormal)\n",
    "res_id_flowabnormal = run_query(connection=conn, query=flowabnormal)"
   ]
  },
  {
   "cell_type": "code",
   "execution_count": null,
   "metadata": {},
   "outputs": [],
   "source": [
    "# Get results\n",
    "get_result_by_query_id(connection=conn, query_id=res_id_flownormal)"
   ]
  },
  {
   "cell_type": "code",
   "execution_count": null,
   "metadata": {},
   "outputs": [],
   "source": [
    "get_result_by_query_id(connection=conn, query_id=res_id_flowabnormal)"
   ]
  },
  {
   "cell_type": "code",
   "execution_count": null,
   "metadata": {},
   "outputs": [],
   "source": [
    "sb.glue(\"query_ids\", {\"flownormal\": res_id_flownormal, \"flowabnormal\": res_id_flowabnormal})"
   ]
  }
 ],
 "metadata": {
  "kernelspec": {
   "display_name": "Python 3",
   "language": "python",
   "name": "python3"
  },
  "language_info": {
   "codemirror_mode": {
    "name": "ipython",
    "version": 3
   },
   "file_extension": ".py",
   "mimetype": "text/x-python",
   "name": "python",
   "nbconvert_exporter": "python",
   "pygments_lexer": "ipython3",
   "version": "3.7.4"
  }
 },
 "nbformat": 4,
 "nbformat_minor": 4
}
