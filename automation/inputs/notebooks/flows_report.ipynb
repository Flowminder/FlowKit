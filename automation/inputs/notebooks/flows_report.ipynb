{
 "cells": [
  {
   "cell_type": "code",
   "execution_count": null,
   "metadata": {},
   "outputs": [],
   "source": [
    "import os\n",
    "import geopandas as gpd\n",
    "import pandas as pd\n",
    "import scrapbook as sb\n",
    "import matplotlib.pyplot as plt\n",
    "from IPython.display import display, Markdown\n",
    "\n",
    "from flowclient import connect, get_result_by_query_id, get_geography\n",
    "\n",
    "%matplotlib inline"
   ]
  },
  {
   "cell_type": "code",
   "execution_count": null,
   "metadata": {
    "tags": [
     "parameters"
    ]
   },
   "outputs": [],
   "source": [
    "# Default parameter values\n",
    "api_url = \"http://localhost:9090\"\n",
    "aggregation_unit = \"admin2\"\n",
    "anchor_date = \"2016-01-03\"\n",
    "previous_notebook = \"inputs/notebooks/run_flows.ipynb\""
   ]
  },
  {
   "cell_type": "code",
   "execution_count": null,
   "metadata": {},
   "outputs": [],
   "source": [
    "conn = connect(url=api_url, token=os.environ[\"FLOWCLIENT_TOKEN\"])"
   ]
  },
  {
   "cell_type": "code",
   "execution_count": null,
   "metadata": {},
   "outputs": [],
   "source": [
    "nb = sb.read_notebook(previous_notebook)\n",
    "query_ids = nb.scraps[\"query_ids\"].data\n",
    "cache_results = {}\n",
    "for key, val in query_ids.items():\n",
    "    cache_results[key] = get_result_by_query_id(connection=conn, query_id=val)"
   ]
  },
  {
   "cell_type": "code",
   "execution_count": null,
   "metadata": {},
   "outputs": [],
   "source": [
    "agg_unit_geodata = gpd.GeoDataFrame().from_features(get_geography(connection=conn, aggregation_unit=aggregation_unit))"
   ]
  },
  {
   "cell_type": "code",
   "execution_count": null,
   "metadata": {},
   "outputs": [],
   "source": [
    "display(Markdown(f\"# Day-to-day {aggregation_unit} flows - {anchor_date}\"))"
   ]
  },
  {
   "cell_type": "code",
   "execution_count": null,
   "metadata": {},
   "outputs": [],
   "source": [
    "flowabnormal = cache_results['flowabnormal'].set_index([\"pcod_from\", \"pcod_to\"])\n",
    "flownormal = cache_results['flownormal'].set_index([\"pcod_from\", \"pcod_to\"])\n",
    "flows_above_normal = (\n",
    "    flowabnormal - flownormal\n",
    ").dropna().reset_index()\n",
    "\n",
    "inflow_above_normal = (\n",
    "    flows_above_normal[\n",
    "        flows_above_normal.pcod_from != flows_above_normal.pcod_to\n",
    "    ]\n",
    "    .groupby(\"pcod_to\")\n",
    "    .sum()\n",
    "    .reset_index()\n",
    ")\n",
    "inflow_above_normal = gpd.GeoDataFrame(\n",
    "    pd.merge(\n",
    "        inflow_above_normal, agg_unit_geodata, left_on='pcod_to', right_on='pcod'\n",
    "    )\n",
    ")\n",
    "\n",
    "outflow_above_normal = (\n",
    "    flows_above_normal[\n",
    "        flows_above_normal.pcod_from != flows_above_normal.pcod_to\n",
    "    ]\n",
    "    .groupby(\"pcod_from\")\n",
    "    .sum()\n",
    "    .reset_index()\n",
    ")\n",
    "outflow_above_normal = gpd.GeoDataFrame(\n",
    "    pd.merge(\n",
    "        outflow_above_normal, agg_unit_geodata, left_on='pcod_from', right_on='pcod'\n",
    "    )\n",
    ")\n"
   ]
  },
  {
   "cell_type": "markdown",
   "metadata": {},
   "source": [
    "## Inflows above normal"
   ]
  },
  {
   "cell_type": "code",
   "execution_count": null,
   "metadata": {},
   "outputs": [],
   "source": [
    "fig, ax = plt.subplots(nrows=1, ncols=1, figsize=(35, 7))\n",
    "agg_unit_geodata.plot(ax=ax, color='grey')\n",
    "inflows_plot = inflow_above_normal.plot(ax=ax, column='count', legend=True)\n",
    "plt.axis(\"off\")\n",
    "fig.show()"
   ]
  },
  {
   "cell_type": "code",
   "execution_count": null,
   "metadata": {},
   "outputs": [],
   "source": [
    "inflow_above_normal[['count', 'pcod']].style.hide_index()"
   ]
  },
  {
   "cell_type": "markdown",
   "metadata": {},
   "source": [
    "## Outflows above normal"
   ]
  },
  {
   "cell_type": "code",
   "execution_count": null,
   "metadata": {},
   "outputs": [],
   "source": [
    "fig, ax = plt.subplots(nrows=1, ncols=1, figsize=(35,7))\n",
    "agg_unit_geodata.plot(ax=ax, color='grey')\n",
    "outflow_above_normal.plot(ax=ax, column='count', legend=True)\n",
    "plt.axis(\"off\")\n",
    "fig.show()"
   ]
  },
  {
   "cell_type": "code",
   "execution_count": null,
   "metadata": {},
   "outputs": [],
   "source": [
    "outflow_above_normal[['count', 'pcod']].style.hide_index()"
   ]
  }
 ],
 "metadata": {
  "kernelspec": {
   "display_name": "Python 3",
   "language": "python",
   "name": "python3"
  },
  "language_info": {
   "codemirror_mode": {
    "name": "ipython",
    "version": 3
   },
   "file_extension": ".py",
   "mimetype": "text/x-python",
   "name": "python",
   "nbconvert_exporter": "python",
   "pygments_lexer": "ipython3",
   "version": "3.7.4"
  }
 },
 "nbformat": 4,
 "nbformat_minor": 4
}
